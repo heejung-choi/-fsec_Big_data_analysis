{
 "cells": [
  {
   "cell_type": "markdown",
   "id": "14287baa-4f9b-4045-b19e-246a53d9ccda",
   "metadata": {},
   "source": [
    "# BeautifulSoup 라이브러리"
   ]
  },
  {
   "cell_type": "code",
   "execution_count": 1,
   "id": "0fbbecc7-20b2-413c-ac39-c43c64025722",
   "metadata": {},
   "outputs": [],
   "source": [
    "import requests\n",
    "from bs4 import BeautifulSoup "
   ]
  },
  {
   "cell_type": "code",
   "execution_count": 2,
   "id": "4cd3ea2d-ede6-466e-9ccf-c969092fe0c0",
   "metadata": {},
   "outputs": [
    {
     "name": "stdout",
     "output_type": "stream",
     "text": [
      "2.28.1\n"
     ]
    }
   ],
   "source": [
    "# requests 설치 확인\n",
    "print(requests.__version__)"
   ]
  },
  {
   "cell_type": "markdown",
   "id": "29603472-e3c9-45c0-9597-d6b175495ed5",
   "metadata": {},
   "source": [
    "## request.get 함수로 서버에 응답 요청"
   ]
  },
  {
   "cell_type": "code",
   "execution_count": 3,
   "id": "fb953fc9-d437-4e2a-bbdf-0a40473e9955",
   "metadata": {},
   "outputs": [
    {
     "name": "stdout",
     "output_type": "stream",
     "text": [
      "<Response [200]>\n"
     ]
    }
   ],
   "source": [
    "url = \"https://www.python.org/\"\n",
    "resp = requests.get(url)\n",
    "print(resp)"
   ]
  },
  {
   "cell_type": "code",
   "execution_count": 4,
   "id": "2e0ba7d7-cdd5-4abc-8a63-e9c409e64d17",
   "metadata": {},
   "outputs": [
    {
     "name": "stdout",
     "output_type": "stream",
     "text": [
      "<Response [404]>\n"
     ]
    }
   ],
   "source": [
    "url2 = \"https://www.python.org/1\"\n",
    "resp2 = requests.get(url2)\n",
    "print(resp2)"
   ]
  },
  {
   "cell_type": "markdown",
   "id": "db1fdfac-2b42-485c-829c-06c834c979aa",
   "metadata": {},
   "source": [
    "# 로봇 배제 표준"
   ]
  },
  {
   "cell_type": "code",
   "execution_count": 5,
   "id": "c24ef935-4554-43b1-88a4-c50add2fd7ed",
   "metadata": {},
   "outputs": [
    {
     "name": "stdout",
     "output_type": "stream",
     "text": [
      "https://www.naver.com/robots.txt\n",
      "User-agent: *\n",
      "Disallow: /\n",
      "Allow : /$ \n",
      "\n",
      "\n",
      "\n",
      "https://www.python.org/robots.txt\n",
      "# Directions for robots.  See this URL:\n",
      "# http://www.robotstxt.org/robotstxt.html\n",
      "# for a description of the file format.\n",
      "\n",
      "User-agent: HTTrack\n",
      "User-agent: puf\n",
      "User-agent: MSIECrawler\n",
      "Disallow: /\n",
      "\n",
      "# The Krugle web crawler (though based on Nutch) is OK.\n",
      "User-agent: Krugle\n",
      "Allow: /\n",
      "Disallow: /~guido/orlijn/\n",
      "Disallow: /webstats/\n",
      "\n",
      "# No one should be crawling us with Nutch.\n",
      "User-agent: Nutch\n",
      "Disallow: /\n",
      "\n",
      "# Hide old versions of the documentation and various large sets of files.\n",
      "User-agent: *\n",
      "Disallow: /~guido/orlijn/\n",
      "Disallow: /webstats/\n",
      "\n",
      "\n",
      "\n"
     ]
    }
   ],
   "source": [
    "urls = [\"https://www.naver.com/\", \"https://www.python.org/\"]\n",
    "filename= \"robots.txt\"\n",
    "\n",
    "for url in urls:\n",
    "    file_path = url + filename\n",
    "    print(file_path)\n",
    "    resp = requests.get(file_path)\n",
    "    print(resp.text)\n",
    "    print(\"\\n\")"
   ]
  },
  {
   "cell_type": "markdown",
   "id": "7cd39c78-7106-4fa1-9219-ef1dfc7c47e6",
   "metadata": {},
   "source": [
    "# 실시간 랭킹 뉴스 서비스에 접속"
   ]
  },
  {
   "cell_type": "code",
   "execution_count": 6,
   "id": "86ee755a-4a07-42ff-bcdd-c46a6e2fd33f",
   "metadata": {},
   "outputs": [
    {
     "name": "stdout",
     "output_type": "stream",
     "text": [
      "<Response [200]>\n"
     ]
    }
   ],
   "source": [
    "# 뉴스 사이트\n",
    "url = \"https://news.daum.net/\"\n",
    "\n",
    "# 에이전트 설정\n",
    "agent = 'Mozila/2.0'\n",
    "\n",
    "# requests.get\n",
    "resp = requests.get(url, headers={'User-agent': agent})\n",
    "print(resp)"
   ]
  },
  {
   "cell_type": "code",
   "execution_count": 7,
   "id": "1379229c-e48d-435f-9bb3-6e6e8edc8198",
   "metadata": {},
   "outputs": [
    {
     "name": "stdout",
     "output_type": "stream",
     "text": [
      "<class 'bs4.BeautifulSoup'>\n"
     ]
    }
   ],
   "source": [
    "soup = BeautifulSoup(resp.text)\n",
    "print(type(soup))"
   ]
  },
  {
   "cell_type": "code",
   "execution_count": 8,
   "id": "a59f42a6-54f1-4f1f-8abc-577e7439f24a",
   "metadata": {},
   "outputs": [
    {
     "name": "stdout",
     "output_type": "stream",
     "text": [
      "<head>\n",
      "<meta charset=\"utf-8\"/>\n",
      "<meta content=\"always\" name=\"referrer\"/>\n",
      "<meta content=\"Daum 뉴스\" property=\"og:author\"/>\n",
      "<meta content=\"다음뉴스\" property=\"og:site_name\"/>\n",
      "<meta content=\"홈\" property=\"og:title\"/>\n",
      "<meta content=\"https://t1.daumcdn.net/media/img-media/mobile/meta/news.png\" property=\"og:image\"/>\n",
      "<meta content=\"다음뉴스\" property=\"og:description\"/>\n",
      "<meta content=\"https://news.daum.net/\" property=\"og:url\"/>\n",
      "<link href=\"https://m2.daumcdn.net/img-media/2010ci/Daum_favicon.ico\" rel=\"shortcut icon\"/>\n",
      "<title>홈 | 다음뉴스</title>\n",
      "<meta content=\"IE=edge\" http-equiv=\"X-UA-Compatible\"/>\n",
      "<link href=\"//t1.daumcdn.net/media/kraken/news/a2fba2b/style.css.merged.css\" rel=\"stylesheet\" type=\"text/css\"/>\n",
      "<link href=\"//t1.daumcdn.net/media/kraken/news/a2fba2b/calendar.css.merged.css\" rel=\"stylesheet\" type=\"text/css\"/>\n",
      "<!--[if lte IE 8]>\n",
      "<script src=\"https://m2.daumcdn.net/svc/original/U0301/cssjs/JSON-js/fc535e9cc8/json2.min.js\"></script>\n",
      "<![endif]-->\n",
      "<!--[if lt IE 9]>\n",
      "<link rel=\"stylesheet\" type=\"text/css\" href=\"//t1.daumcdn.net/media/kraken/news/a2fba2b/ie8.css.merged.css\" />\n",
      "<![endif]-->\n",
      "<script src=\"//t1.daumcdn.net/media/kraken/news/a2fba2b/common.merged.js\"></script>\n",
      "<script src=\"https://t1.daumcdn.net/tiara/js/v1/tiara.min.js\" type=\"text/javascript\"></script>\n",
      "<script>\n",
      "  var ENV = {\n",
      "    Profile: {\n",
      "      isProduction: 'true' || false,\n",
      "      isSandbox: '' || false,\n",
      "      isCbt: '' || false,\n",
      "    }\n",
      "  }\n",
      "</script>\n",
      "<script src=\"//t1.daumcdn.net/media/kraken/news/a2fba2b/homeMain.merged.js\"></script>\n",
      "</head>\n"
     ]
    }
   ],
   "source": [
    "print(soup.head)"
   ]
  },
  {
   "cell_type": "code",
   "execution_count": 11,
   "id": "598f0bd5-fb55-4786-b71d-e2337b93b827",
   "metadata": {},
   "outputs": [],
   "source": [
    "# print(soup.body)"
   ]
  },
  {
   "cell_type": "code",
   "execution_count": 9,
   "id": "ae521ba9-b29d-4a9e-a988-6a1d5099181a",
   "metadata": {},
   "outputs": [
    {
     "name": "stdout",
     "output_type": "stream",
     "text": [
      "title 태그 요소:  <title>홈 | 다음뉴스</title>\n",
      "title 태그 이름:  title\n",
      "title 태그 문자열:  홈 | 다음뉴스\n"
     ]
    }
   ],
   "source": [
    "print('title 태그 요소: ', soup.title)\n",
    "print('title 태그 이름: ', soup.title.name)\n",
    "print('title 태그 문자열: ', soup.title.string)"
   ]
  },
  {
   "cell_type": "code",
   "execution_count": 10,
   "id": "aa25448f-2819-4b51-9009-0c8f73b8d186",
   "metadata": {},
   "outputs": [
    {
     "data": {
      "text/plain": [
       "'홈 | 다음뉴스'"
      ]
     },
     "execution_count": 10,
     "metadata": {},
     "output_type": "execute_result"
    }
   ],
   "source": [
    "soup.title.text"
   ]
  },
  {
   "cell_type": "markdown",
   "id": "4f172f2b-d035-4ec8-b294-0afcbf7be04c",
   "metadata": {},
   "source": [
    "# find 메서드, find_all 메서드"
   ]
  },
  {
   "cell_type": "code",
   "execution_count": null,
   "id": "0b5296b1-b99b-4323-a974-7bba2de42c05",
   "metadata": {},
   "outputs": [],
   "source": [
    "# [Ctrl] + [Shift] + \"i\" \n",
    "# 개발자 도구 열기\n",
    "# <ul class=\"list_newsissue\">"
   ]
  },
  {
   "cell_type": "markdown",
   "id": "4f5738b7-e2c0-492c-8277-0e66dd9b3c32",
   "metadata": {},
   "source": [
    "### ul 태그 "
   ]
  },
  {
   "cell_type": "code",
   "execution_count": 11,
   "id": "dd067df2-f76e-41e9-9e07-d5281df27f34",
   "metadata": {},
   "outputs": [
    {
     "data": {
      "text/plain": [
       "<ul class=\"doc-relate\" data-tiara-layer=\"GNB service\">\n",
       "<li><a class=\"link_services\" data-tiara-layer=\"enter\" href=\"https://entertain.daum.net\">연예</a></li>\n",
       "<li><a class=\"link_services\" data-tiara-layer=\"sports\" href=\"https://sports.daum.net\">스포츠</a></li>\n",
       "</ul>"
      ]
     },
     "execution_count": 11,
     "metadata": {},
     "output_type": "execute_result"
    }
   ],
   "source": [
    "# find - 가장 먼저 나타나는 태그를 찾는다 \n",
    "soup.find(name='ul')"
   ]
  },
  {
   "cell_type": "code",
   "execution_count": 12,
   "id": "1dce029b-fc06-43bc-98c0-eb41b59d81a6",
   "metadata": {},
   "outputs": [
    {
     "data": {
      "text/plain": [
       "6"
      ]
     },
     "execution_count": 12,
     "metadata": {},
     "output_type": "execute_result"
    }
   ],
   "source": [
    "# find_all - 모든 태그를 찾는다 \n",
    "ul_data = soup.find_all(name='ul')\n",
    "len(ul_data)"
   ]
  },
  {
   "cell_type": "code",
   "execution_count": 13,
   "id": "2ccab28d-6975-47a1-960b-c4eb72fae561",
   "metadata": {},
   "outputs": [
    {
     "data": {
      "text/plain": [
       "<ul class=\"list_correct\">\n",
       "<li><a class=\"link_correct\" data-tiara-layer=\"correct\" href=\"/info/correct\">언론사 고침기사<span class=\"ico_news ico_arr\"> 바로가기</span></a></li>\n",
       "<li><a class=\"link_correct\" data-tiara-layer=\"revision\" href=\"/info/revision\">정정・반론・추후보도 기사<span class=\"ico_news ico_arr\"> 바로가기</span></a></li>\n",
       "<li><a class=\"link_correct\" data-tiara-layer=\"unfair\" href=\"/info/unfair\">불공정 선거보도<span class=\"ico_news ico_arr\"> 바로가기</span></a></li>\n",
       "</ul>"
      ]
     },
     "execution_count": 13,
     "metadata": {},
     "output_type": "execute_result"
    }
   ],
   "source": [
    "ul_data[5]"
   ]
  },
  {
   "cell_type": "markdown",
   "id": "9e14fc79-1e91-4cf6-a01c-b2eda7f1128c",
   "metadata": {},
   "source": [
    "### 태그 속성"
   ]
  },
  {
   "cell_type": "code",
   "execution_count": 14,
   "id": "7c7dbbdf-ebd0-41f6-9b34-a02e5f44d8e6",
   "metadata": {},
   "outputs": [
    {
     "data": {
      "text/plain": [
       "1"
      ]
     },
     "execution_count": 14,
     "metadata": {},
     "output_type": "execute_result"
    }
   ],
   "source": [
    "# class 속성이 \"list_newsissue\"인 ul 태그를 모두 찾는다\n",
    "\n",
    "newsissue = soup.find_all(name='ul', attrs={'class':'list_newsissue'})\n",
    "len(newsissue)"
   ]
  },
  {
   "cell_type": "code",
   "execution_count": 15,
   "id": "30c56e30-3e58-462e-8d0f-3e54a7a7fe7d",
   "metadata": {},
   "outputs": [
    {
     "name": "stdout",
     "output_type": "stream",
     "text": [
      "<class 'bs4.element.ResultSet'>\n",
      "<class 'bs4.element.Tag'>\n"
     ]
    }
   ],
   "source": [
    "print(type(newsissue))\n",
    "print(type(newsissue[0]))"
   ]
  },
  {
   "cell_type": "markdown",
   "id": "707a1ebb-5f3e-4853-8e01-f3b1c9f250d0",
   "metadata": {},
   "source": [
    "## [실습 1] "
   ]
  },
  {
   "cell_type": "markdown",
   "id": "b302e207-03aa-4e1a-847f-4cd108d9a5a6",
   "metadata": {},
   "source": [
    "newsissue 데이터에서 모든 li 태그를 찾습니다."
   ]
  },
  {
   "cell_type": "code",
   "execution_count": 20,
   "id": "9a195c73-eca5-4297-a6b9-8181fc121572",
   "metadata": {},
   "outputs": [],
   "source": []
  },
  {
   "cell_type": "code",
   "execution_count": null,
   "id": "e4303dbb-8d63-463a-9d4a-272a6679323a",
   "metadata": {},
   "outputs": [],
   "source": []
  },
  {
   "cell_type": "markdown",
   "id": "4d2fbf6f-c79f-4d27-a6d0-0d83e1cc1287",
   "metadata": {},
   "source": [
    "# select 메서드"
   ]
  },
  {
   "cell_type": "markdown",
   "id": "4a15baaa-3bb5-4650-ad61-86489525b7ef",
   "metadata": {},
   "source": [
    "### ul 태그"
   ]
  },
  {
   "cell_type": "code",
   "execution_count": 16,
   "id": "9a9d1a24-17cf-4667-a668-6e06dc98497b",
   "metadata": {},
   "outputs": [
    {
     "data": {
      "text/plain": [
       "6"
      ]
     },
     "execution_count": 16,
     "metadata": {},
     "output_type": "execute_result"
    }
   ],
   "source": [
    "ul_list = soup.select('ul')\n",
    "len(ul_list)"
   ]
  },
  {
   "cell_type": "markdown",
   "id": "d48489ab-9773-491c-8530-c7b8f08ddbb4",
   "metadata": {},
   "source": [
    "### 클래스 속성자"
   ]
  },
  {
   "cell_type": "code",
   "execution_count": 17,
   "id": "403ffc97-4b8d-4e59-bc5c-ebf3f382575c",
   "metadata": {},
   "outputs": [
    {
     "data": {
      "text/plain": [
       "1"
      ]
     },
     "execution_count": 17,
     "metadata": {},
     "output_type": "execute_result"
    }
   ],
   "source": [
    "# class 속성값이 list_newsissue인 경우\n",
    "class_list = soup.select('.list_newsissue')\n",
    "len(class_list)"
   ]
  },
  {
   "cell_type": "code",
   "execution_count": 18,
   "id": "93be9b05-b255-4664-a5bf-fac99e3b5a1c",
   "metadata": {},
   "outputs": [],
   "source": [
    "# class_list[0]"
   ]
  },
  {
   "cell_type": "code",
   "execution_count": 19,
   "id": "d2abb68f-a8f6-4c06-a97b-e2fe84629102",
   "metadata": {},
   "outputs": [
    {
     "data": {
      "text/plain": [
       "20"
      ]
     },
     "execution_count": 19,
     "metadata": {},
     "output_type": "execute_result"
    }
   ],
   "source": [
    "# class_list[0]안에 들어 있는 li 태그들\n",
    "li_list = soup.select('.list_newsissue > li')\n",
    "len(li_list)"
   ]
  },
  {
   "cell_type": "markdown",
   "id": "2e2831f9-097a-471b-8f77-36df2684666a",
   "metadata": {},
   "source": [
    "### ID 속성자"
   ]
  },
  {
   "cell_type": "code",
   "execution_count": 20,
   "id": "e7d8bf82-1e5f-4af7-9e65-2e293a912c86",
   "metadata": {},
   "outputs": [
    {
     "data": {
      "text/plain": [
       "1"
      ]
     },
     "execution_count": 20,
     "metadata": {},
     "output_type": "execute_result"
    }
   ],
   "source": [
    "# id=\"kakaoServiceLogo\"\n",
    "\n",
    "id_list = soup.select('#kakaoServiceLogo')\n",
    "len(id_list)"
   ]
  },
  {
   "cell_type": "code",
   "execution_count": 21,
   "id": "ee0ee93a-16a0-4ce8-b948-a6f4d877a7f8",
   "metadata": {},
   "outputs": [
    {
     "data": {
      "text/plain": [
       "<a data-tiara-layer=\"GNB service news\" href=\"https://news.daum.net/\" id=\"kakaoServiceLogo\">\n",
       "<span class=\"ir_wa\">뉴스</span>\n",
       "</a>"
      ]
     },
     "execution_count": 21,
     "metadata": {},
     "output_type": "execute_result"
    }
   ],
   "source": [
    "id_list[0]"
   ]
  },
  {
   "cell_type": "markdown",
   "id": "1674bbdc-d49a-4d4b-8c8a-aa78c1b7aac1",
   "metadata": {},
   "source": [
    "## [실습2 ] "
   ]
  },
  {
   "cell_type": "markdown",
   "id": "8106eb18-b12c-4385-87ee-9f9fbf0b9202",
   "metadata": {},
   "source": [
    "li_list에 들어 있는 20개의 뉴스 중에서 하나를 골라서, 뉴스 제목과 언론사 이름을 정리합니다."
   ]
  },
  {
   "cell_type": "code",
   "execution_count": null,
   "id": "0e5e6f59-3ec8-46f5-84e7-e1f88d8a2629",
   "metadata": {},
   "outputs": [],
   "source": []
  },
  {
   "cell_type": "code",
   "execution_count": null,
   "id": "62f6623a-4116-4129-acb3-e638417ade0f",
   "metadata": {},
   "outputs": [],
   "source": []
  },
  {
   "cell_type": "markdown",
   "id": "4c9b678b-8dc8-4d6e-90fd-517e6d8f11fb",
   "metadata": {},
   "source": [
    "## [실습 3] "
   ]
  },
  {
   "cell_type": "markdown",
   "id": "165fa64d-a49e-40c3-97ac-adf776a56d17",
   "metadata": {},
   "source": [
    "li_list에 들어 있는 20개의 뉴스를 반복문을 이용하여 하나의 데이터프레임으로 정리합니다."
   ]
  },
  {
   "cell_type": "code",
   "execution_count": null,
   "id": "25d3d683-f231-465b-8e66-6811271ddc6e",
   "metadata": {},
   "outputs": [],
   "source": []
  },
  {
   "cell_type": "code",
   "execution_count": null,
   "id": "981aba7f-ba9c-4bb8-b719-87dc7e71bbe2",
   "metadata": {},
   "outputs": [],
   "source": []
  }
 ],
 "metadata": {
  "kernelspec": {
   "display_name": "khu",
   "language": "python",
   "name": "khu"
  },
  "language_info": {
   "codemirror_mode": {
    "name": "ipython",
    "version": 3
   },
   "file_extension": ".py",
   "mimetype": "text/x-python",
   "name": "python",
   "nbconvert_exporter": "python",
   "pygments_lexer": "ipython3",
   "version": "3.8.13"
  }
 },
 "nbformat": 4,
 "nbformat_minor": 5
}
