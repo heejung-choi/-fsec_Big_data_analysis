{
 "cells": [
  {
   "cell_type": "markdown",
   "metadata": {},
   "source": [
    "# 데이터 전처리 연습\n",
    "   - 결측값 확인 -> 처리(삭제, 대체)\n",
    "   - 중복 데이터 제거\n",
    "   - 데이터 변환\n",
    "   - 이상값 처리\n",
    "  "
   ]
  },
  {
   "cell_type": "code",
   "execution_count": 1,
   "metadata": {},
   "outputs": [],
   "source": [
    "import pandas as pd\n",
    "import numpy as np\n",
    "import matplotlib.pyplot as plt"
   ]
  },
  {
   "cell_type": "code",
   "execution_count": null,
   "metadata": {},
   "outputs": [],
   "source": [
    "# 모델링 할 때의 재현성\n",
    "# 실제로 재현된 것을 체크하려면 모델의 다양성을 위해 핸덤 함수를 주는데 그 때 seed 값을 주면 동일한 조건 내에서 할 수 있다.\n",
    "# np.random.seed(2)"
   ]
  },
  {
   "cell_type": "markdown",
   "metadata": {},
   "source": [
    "## 1. 결측값 확인 및 처리\n",
    " - pd.isnull, pd.dropna, pd.fillna"
   ]
  },
  {
   "cell_type": "code",
   "execution_count": 5,
   "metadata": {},
   "outputs": [
    {
     "data": {
      "text/html": [
       "<div>\n",
       "<style scoped>\n",
       "    .dataframe tbody tr th:only-of-type {\n",
       "        vertical-align: middle;\n",
       "    }\n",
       "\n",
       "    .dataframe tbody tr th {\n",
       "        vertical-align: top;\n",
       "    }\n",
       "\n",
       "    .dataframe thead th {\n",
       "        text-align: right;\n",
       "    }\n",
       "</style>\n",
       "<table border=\"1\" class=\"dataframe\">\n",
       "  <thead>\n",
       "    <tr style=\"text-align: right;\">\n",
       "      <th></th>\n",
       "      <th>V</th>\n",
       "      <th>W</th>\n",
       "      <th>X</th>\n",
       "      <th>Y</th>\n",
       "      <th>Z</th>\n",
       "    </tr>\n",
       "  </thead>\n",
       "  <tbody>\n",
       "    <tr>\n",
       "      <th>0</th>\n",
       "      <td>2.566472</td>\n",
       "      <td>-0.639021</td>\n",
       "      <td>0.291463</td>\n",
       "      <td>-0.149535</td>\n",
       "      <td>NaN</td>\n",
       "    </tr>\n",
       "    <tr>\n",
       "      <th>1</th>\n",
       "      <td>-0.831451</td>\n",
       "      <td>0.091714</td>\n",
       "      <td>0.048879</td>\n",
       "      <td>1.283991</td>\n",
       "      <td>0.934963</td>\n",
       "    </tr>\n",
       "    <tr>\n",
       "      <th>2</th>\n",
       "      <td>NaN</td>\n",
       "      <td>NaN</td>\n",
       "      <td>0.019557</td>\n",
       "      <td>-0.425704</td>\n",
       "      <td>0.609279</td>\n",
       "    </tr>\n",
       "    <tr>\n",
       "      <th>3</th>\n",
       "      <td>-0.369006</td>\n",
       "      <td>1.167152</td>\n",
       "      <td>0.938575</td>\n",
       "      <td>-0.232916</td>\n",
       "      <td>0.571984</td>\n",
       "    </tr>\n",
       "    <tr>\n",
       "      <th>4</th>\n",
       "      <td>2.125811</td>\n",
       "      <td>1.129864</td>\n",
       "      <td>0.358793</td>\n",
       "      <td>-0.703163</td>\n",
       "      <td>NaN</td>\n",
       "    </tr>\n",
       "  </tbody>\n",
       "</table>\n",
       "</div>"
      ],
      "text/plain": [
       "          V         W         X         Y         Z\n",
       "0  2.566472 -0.639021  0.291463 -0.149535       NaN\n",
       "1 -0.831451  0.091714  0.048879  1.283991  0.934963\n",
       "2       NaN       NaN  0.019557 -0.425704  0.609279\n",
       "3 -0.369006  1.167152  0.938575 -0.232916  0.571984\n",
       "4  2.125811  1.129864  0.358793 -0.703163       NaN"
      ]
     },
     "execution_count": 5,
     "metadata": {},
     "output_type": "execute_result"
    }
   ],
   "source": [
    "# 컬럼이름을 지정해주었다.\n",
    "df = pd.DataFrame(np.random.randn(5,5), columns=['V','W','X','Y','Z'])\n",
    "# 조건식 적용\n",
    "df_nan = df[df>-1]\n",
    "df_nan"
   ]
  },
  {
   "cell_type": "code",
   "execution_count": 7,
   "metadata": {},
   "outputs": [
    {
     "data": {
      "text/html": [
       "<div>\n",
       "<style scoped>\n",
       "    .dataframe tbody tr th:only-of-type {\n",
       "        vertical-align: middle;\n",
       "    }\n",
       "\n",
       "    .dataframe tbody tr th {\n",
       "        vertical-align: top;\n",
       "    }\n",
       "\n",
       "    .dataframe thead th {\n",
       "        text-align: right;\n",
       "    }\n",
       "</style>\n",
       "<table border=\"1\" class=\"dataframe\">\n",
       "  <thead>\n",
       "    <tr style=\"text-align: right;\">\n",
       "      <th></th>\n",
       "      <th>V</th>\n",
       "      <th>W</th>\n",
       "      <th>X</th>\n",
       "      <th>Y</th>\n",
       "      <th>Z</th>\n",
       "    </tr>\n",
       "  </thead>\n",
       "  <tbody>\n",
       "    <tr>\n",
       "      <th>0</th>\n",
       "      <td>False</td>\n",
       "      <td>False</td>\n",
       "      <td>False</td>\n",
       "      <td>False</td>\n",
       "      <td>True</td>\n",
       "    </tr>\n",
       "    <tr>\n",
       "      <th>1</th>\n",
       "      <td>False</td>\n",
       "      <td>False</td>\n",
       "      <td>False</td>\n",
       "      <td>False</td>\n",
       "      <td>False</td>\n",
       "    </tr>\n",
       "    <tr>\n",
       "      <th>2</th>\n",
       "      <td>True</td>\n",
       "      <td>True</td>\n",
       "      <td>False</td>\n",
       "      <td>False</td>\n",
       "      <td>False</td>\n",
       "    </tr>\n",
       "    <tr>\n",
       "      <th>3</th>\n",
       "      <td>False</td>\n",
       "      <td>False</td>\n",
       "      <td>False</td>\n",
       "      <td>False</td>\n",
       "      <td>False</td>\n",
       "    </tr>\n",
       "    <tr>\n",
       "      <th>4</th>\n",
       "      <td>False</td>\n",
       "      <td>False</td>\n",
       "      <td>False</td>\n",
       "      <td>False</td>\n",
       "      <td>True</td>\n",
       "    </tr>\n",
       "  </tbody>\n",
       "</table>\n",
       "</div>"
      ],
      "text/plain": [
       "       V      W      X      Y      Z\n",
       "0  False  False  False  False   True\n",
       "1  False  False  False  False  False\n",
       "2   True   True  False  False  False\n",
       "3  False  False  False  False  False\n",
       "4  False  False  False  False   True"
      ]
     },
     "execution_count": 7,
     "metadata": {},
     "output_type": "execute_result"
    }
   ],
   "source": [
    "# 결측값 존재 유무 확인\n",
    "df_nan.isnull()"
   ]
  },
  {
   "cell_type": "code",
   "execution_count": 8,
   "metadata": {},
   "outputs": [
    {
     "data": {
      "text/html": [
       "<div>\n",
       "<style scoped>\n",
       "    .dataframe tbody tr th:only-of-type {\n",
       "        vertical-align: middle;\n",
       "    }\n",
       "\n",
       "    .dataframe tbody tr th {\n",
       "        vertical-align: top;\n",
       "    }\n",
       "\n",
       "    .dataframe thead th {\n",
       "        text-align: right;\n",
       "    }\n",
       "</style>\n",
       "<table border=\"1\" class=\"dataframe\">\n",
       "  <thead>\n",
       "    <tr style=\"text-align: right;\">\n",
       "      <th></th>\n",
       "      <th>V</th>\n",
       "      <th>W</th>\n",
       "      <th>X</th>\n",
       "      <th>Y</th>\n",
       "      <th>Z</th>\n",
       "    </tr>\n",
       "  </thead>\n",
       "  <tbody>\n",
       "    <tr>\n",
       "      <th>1</th>\n",
       "      <td>-0.831451</td>\n",
       "      <td>0.091714</td>\n",
       "      <td>0.048879</td>\n",
       "      <td>1.283991</td>\n",
       "      <td>0.934963</td>\n",
       "    </tr>\n",
       "    <tr>\n",
       "      <th>3</th>\n",
       "      <td>-0.369006</td>\n",
       "      <td>1.167152</td>\n",
       "      <td>0.938575</td>\n",
       "      <td>-0.232916</td>\n",
       "      <td>0.571984</td>\n",
       "    </tr>\n",
       "  </tbody>\n",
       "</table>\n",
       "</div>"
      ],
      "text/plain": [
       "          V         W         X         Y         Z\n",
       "1 -0.831451  0.091714  0.048879  1.283991  0.934963\n",
       "3 -0.369006  1.167152  0.938575 -0.232916  0.571984"
      ]
     },
     "execution_count": 8,
     "metadata": {},
     "output_type": "execute_result"
    }
   ],
   "source": [
    "# 결측값 제거(row)\n",
    "df_nan.dropna()"
   ]
  },
  {
   "cell_type": "code",
   "execution_count": 9,
   "metadata": {},
   "outputs": [
    {
     "data": {
      "text/html": [
       "<div>\n",
       "<style scoped>\n",
       "    .dataframe tbody tr th:only-of-type {\n",
       "        vertical-align: middle;\n",
       "    }\n",
       "\n",
       "    .dataframe tbody tr th {\n",
       "        vertical-align: top;\n",
       "    }\n",
       "\n",
       "    .dataframe thead th {\n",
       "        text-align: right;\n",
       "    }\n",
       "</style>\n",
       "<table border=\"1\" class=\"dataframe\">\n",
       "  <thead>\n",
       "    <tr style=\"text-align: right;\">\n",
       "      <th></th>\n",
       "      <th>X</th>\n",
       "      <th>Y</th>\n",
       "    </tr>\n",
       "  </thead>\n",
       "  <tbody>\n",
       "    <tr>\n",
       "      <th>0</th>\n",
       "      <td>0.291463</td>\n",
       "      <td>-0.149535</td>\n",
       "    </tr>\n",
       "    <tr>\n",
       "      <th>1</th>\n",
       "      <td>0.048879</td>\n",
       "      <td>1.283991</td>\n",
       "    </tr>\n",
       "    <tr>\n",
       "      <th>2</th>\n",
       "      <td>0.019557</td>\n",
       "      <td>-0.425704</td>\n",
       "    </tr>\n",
       "    <tr>\n",
       "      <th>3</th>\n",
       "      <td>0.938575</td>\n",
       "      <td>-0.232916</td>\n",
       "    </tr>\n",
       "    <tr>\n",
       "      <th>4</th>\n",
       "      <td>0.358793</td>\n",
       "      <td>-0.703163</td>\n",
       "    </tr>\n",
       "  </tbody>\n",
       "</table>\n",
       "</div>"
      ],
      "text/plain": [
       "          X         Y\n",
       "0  0.291463 -0.149535\n",
       "1  0.048879  1.283991\n",
       "2  0.019557 -0.425704\n",
       "3  0.938575 -0.232916\n",
       "4  0.358793 -0.703163"
      ]
     },
     "execution_count": 9,
     "metadata": {},
     "output_type": "execute_result"
    }
   ],
   "source": [
    "df_nan.dropna(axis=1)"
   ]
  },
  {
   "cell_type": "code",
   "execution_count": 13,
   "metadata": {},
   "outputs": [
    {
     "data": {
      "text/html": [
       "<div>\n",
       "<style scoped>\n",
       "    .dataframe tbody tr th:only-of-type {\n",
       "        vertical-align: middle;\n",
       "    }\n",
       "\n",
       "    .dataframe tbody tr th {\n",
       "        vertical-align: top;\n",
       "    }\n",
       "\n",
       "    .dataframe thead th {\n",
       "        text-align: right;\n",
       "    }\n",
       "</style>\n",
       "<table border=\"1\" class=\"dataframe\">\n",
       "  <thead>\n",
       "    <tr style=\"text-align: right;\">\n",
       "      <th></th>\n",
       "      <th>V</th>\n",
       "      <th>W</th>\n",
       "      <th>X</th>\n",
       "      <th>Y</th>\n",
       "      <th>Z</th>\n",
       "    </tr>\n",
       "  </thead>\n",
       "  <tbody>\n",
       "    <tr>\n",
       "      <th>1</th>\n",
       "      <td>-0.831451</td>\n",
       "      <td>0.091714</td>\n",
       "      <td>0.048879</td>\n",
       "      <td>1.283991</td>\n",
       "      <td>0.934963</td>\n",
       "    </tr>\n",
       "    <tr>\n",
       "      <th>3</th>\n",
       "      <td>-0.369006</td>\n",
       "      <td>1.167152</td>\n",
       "      <td>0.938575</td>\n",
       "      <td>-0.232916</td>\n",
       "      <td>0.571984</td>\n",
       "    </tr>\n",
       "  </tbody>\n",
       "</table>\n",
       "</div>"
      ],
      "text/plain": [
       "          V         W         X         Y         Z\n",
       "1 -0.831451  0.091714  0.048879  1.283991  0.934963\n",
       "3 -0.369006  1.167152  0.938575 -0.232916  0.571984"
      ]
     },
     "execution_count": 13,
     "metadata": {},
     "output_type": "execute_result"
    }
   ],
   "source": [
    "# 특정 열의 결측값만 처리\n",
    "df_nan.dropna(axis = 0, subset = ['Z'], inplace=True)\n",
    "# inplace 원본을 대체한다.\n",
    "df_nan"
   ]
  },
  {
   "cell_type": "code",
   "execution_count": 14,
   "metadata": {},
   "outputs": [
    {
     "data": {
      "text/html": [
       "<div>\n",
       "<style scoped>\n",
       "    .dataframe tbody tr th:only-of-type {\n",
       "        vertical-align: middle;\n",
       "    }\n",
       "\n",
       "    .dataframe tbody tr th {\n",
       "        vertical-align: top;\n",
       "    }\n",
       "\n",
       "    .dataframe thead th {\n",
       "        text-align: right;\n",
       "    }\n",
       "</style>\n",
       "<table border=\"1\" class=\"dataframe\">\n",
       "  <thead>\n",
       "    <tr style=\"text-align: right;\">\n",
       "      <th></th>\n",
       "      <th>V</th>\n",
       "      <th>W</th>\n",
       "      <th>X</th>\n",
       "      <th>Y</th>\n",
       "      <th>Z</th>\n",
       "    </tr>\n",
       "  </thead>\n",
       "  <tbody>\n",
       "    <tr>\n",
       "      <th>1</th>\n",
       "      <td>-0.831451</td>\n",
       "      <td>0.091714</td>\n",
       "      <td>0.048879</td>\n",
       "      <td>1.283991</td>\n",
       "      <td>0.934963</td>\n",
       "    </tr>\n",
       "    <tr>\n",
       "      <th>3</th>\n",
       "      <td>-0.369006</td>\n",
       "      <td>1.167152</td>\n",
       "      <td>0.938575</td>\n",
       "      <td>-0.232916</td>\n",
       "      <td>0.571984</td>\n",
       "    </tr>\n",
       "  </tbody>\n",
       "</table>\n",
       "</div>"
      ],
      "text/plain": [
       "          V         W         X         Y         Z\n",
       "1 -0.831451  0.091714  0.048879  1.283991  0.934963\n",
       "3 -0.369006  1.167152  0.938575 -0.232916  0.571984"
      ]
     },
     "execution_count": 14,
     "metadata": {},
     "output_type": "execute_result"
    }
   ],
   "source": [
    "# 결측값을 특정 값으로 대체\n",
    "df_nan.fillna(0)"
   ]
  },
  {
   "cell_type": "code",
   "execution_count": 15,
   "metadata": {},
   "outputs": [
    {
     "data": {
      "text/html": [
       "<div>\n",
       "<style scoped>\n",
       "    .dataframe tbody tr th:only-of-type {\n",
       "        vertical-align: middle;\n",
       "    }\n",
       "\n",
       "    .dataframe tbody tr th {\n",
       "        vertical-align: top;\n",
       "    }\n",
       "\n",
       "    .dataframe thead th {\n",
       "        text-align: right;\n",
       "    }\n",
       "</style>\n",
       "<table border=\"1\" class=\"dataframe\">\n",
       "  <thead>\n",
       "    <tr style=\"text-align: right;\">\n",
       "      <th></th>\n",
       "      <th>V</th>\n",
       "      <th>W</th>\n",
       "      <th>X</th>\n",
       "      <th>Y</th>\n",
       "      <th>Z</th>\n",
       "    </tr>\n",
       "  </thead>\n",
       "  <tbody>\n",
       "    <tr>\n",
       "      <th>1</th>\n",
       "      <td>-0.831451</td>\n",
       "      <td>0.091714</td>\n",
       "      <td>0.048879</td>\n",
       "      <td>1.283991</td>\n",
       "      <td>0.934963</td>\n",
       "    </tr>\n",
       "    <tr>\n",
       "      <th>3</th>\n",
       "      <td>-0.369006</td>\n",
       "      <td>1.167152</td>\n",
       "      <td>0.938575</td>\n",
       "      <td>-0.232916</td>\n",
       "      <td>0.571984</td>\n",
       "    </tr>\n",
       "  </tbody>\n",
       "</table>\n",
       "</div>"
      ],
      "text/plain": [
       "          V         W         X         Y         Z\n",
       "1 -0.831451  0.091714  0.048879  1.283991  0.934963\n",
       "3 -0.369006  1.167152  0.938575 -0.232916  0.571984"
      ]
     },
     "execution_count": 15,
     "metadata": {},
     "output_type": "execute_result"
    }
   ],
   "source": [
    "df_nan.fillna(df_nan.mean())"
   ]
  },
  {
   "cell_type": "code",
   "execution_count": 16,
   "metadata": {},
   "outputs": [
    {
     "data": {
      "text/html": [
       "<div>\n",
       "<style scoped>\n",
       "    .dataframe tbody tr th:only-of-type {\n",
       "        vertical-align: middle;\n",
       "    }\n",
       "\n",
       "    .dataframe tbody tr th {\n",
       "        vertical-align: top;\n",
       "    }\n",
       "\n",
       "    .dataframe thead th {\n",
       "        text-align: right;\n",
       "    }\n",
       "</style>\n",
       "<table border=\"1\" class=\"dataframe\">\n",
       "  <thead>\n",
       "    <tr style=\"text-align: right;\">\n",
       "      <th></th>\n",
       "      <th>V</th>\n",
       "      <th>W</th>\n",
       "      <th>X</th>\n",
       "      <th>Y</th>\n",
       "      <th>Z</th>\n",
       "    </tr>\n",
       "  </thead>\n",
       "  <tbody>\n",
       "    <tr>\n",
       "      <th>1</th>\n",
       "      <td>-0.831451</td>\n",
       "      <td>0.091714</td>\n",
       "      <td>0.048879</td>\n",
       "      <td>1.283991</td>\n",
       "      <td>0.934963</td>\n",
       "    </tr>\n",
       "    <tr>\n",
       "      <th>3</th>\n",
       "      <td>-0.369006</td>\n",
       "      <td>1.167152</td>\n",
       "      <td>0.938575</td>\n",
       "      <td>-0.232916</td>\n",
       "      <td>0.571984</td>\n",
       "    </tr>\n",
       "  </tbody>\n",
       "</table>\n",
       "</div>"
      ],
      "text/plain": [
       "          V         W         X         Y         Z\n",
       "1 -0.831451  0.091714  0.048879  1.283991  0.934963\n",
       "3 -0.369006  1.167152  0.938575 -0.232916  0.571984"
      ]
     },
     "execution_count": 16,
     "metadata": {},
     "output_type": "execute_result"
    }
   ],
   "source": [
    "df_nan"
   ]
  },
  {
   "cell_type": "markdown",
   "metadata": {},
   "source": [
    "## 2. 중복 데이터 제거\n",
    " - df.duplicated\n",
    " - df.drop_duplicates\n",
    " "
   ]
  },
  {
   "cell_type": "code",
   "execution_count": 17,
   "metadata": {},
   "outputs": [
    {
     "data": {
      "text/html": [
       "<div>\n",
       "<style scoped>\n",
       "    .dataframe tbody tr th:only-of-type {\n",
       "        vertical-align: middle;\n",
       "    }\n",
       "\n",
       "    .dataframe tbody tr th {\n",
       "        vertical-align: top;\n",
       "    }\n",
       "\n",
       "    .dataframe thead th {\n",
       "        text-align: right;\n",
       "    }\n",
       "</style>\n",
       "<table border=\"1\" class=\"dataframe\">\n",
       "  <thead>\n",
       "    <tr style=\"text-align: right;\">\n",
       "      <th></th>\n",
       "      <th>A</th>\n",
       "      <th>B</th>\n",
       "    </tr>\n",
       "  </thead>\n",
       "  <tbody>\n",
       "    <tr>\n",
       "      <th>0</th>\n",
       "      <td>1</td>\n",
       "      <td>2</td>\n",
       "    </tr>\n",
       "    <tr>\n",
       "      <th>1</th>\n",
       "      <td>3</td>\n",
       "      <td>3</td>\n",
       "    </tr>\n",
       "    <tr>\n",
       "      <th>2</th>\n",
       "      <td>4</td>\n",
       "      <td>5</td>\n",
       "    </tr>\n",
       "    <tr>\n",
       "      <th>3</th>\n",
       "      <td>7</td>\n",
       "      <td>10</td>\n",
       "    </tr>\n",
       "    <tr>\n",
       "      <th>4</th>\n",
       "      <td>1</td>\n",
       "      <td>2</td>\n",
       "    </tr>\n",
       "  </tbody>\n",
       "</table>\n",
       "</div>"
      ],
      "text/plain": [
       "   A   B\n",
       "0  1   2\n",
       "1  3   3\n",
       "2  4   5\n",
       "3  7  10\n",
       "4  1   2"
      ]
     },
     "execution_count": 17,
     "metadata": {},
     "output_type": "execute_result"
    }
   ],
   "source": [
    "data = { 'A': [1,3,4,7,1], 'B': [2,3,5,10,2]}\n",
    "\n",
    "df = pd.DataFrame(data)\n",
    "df"
   ]
  },
  {
   "cell_type": "code",
   "execution_count": 18,
   "metadata": {},
   "outputs": [
    {
     "data": {
      "text/plain": [
       "0    False\n",
       "1    False\n",
       "2    False\n",
       "3    False\n",
       "4     True\n",
       "dtype: bool"
      ]
     },
     "execution_count": 18,
     "metadata": {},
     "output_type": "execute_result"
    }
   ],
   "source": [
    "# 데이터 중복인가 체크\n",
    "df.duplicated()"
   ]
  },
  {
   "cell_type": "code",
   "execution_count": 19,
   "metadata": {},
   "outputs": [
    {
     "data": {
      "text/html": [
       "<div>\n",
       "<style scoped>\n",
       "    .dataframe tbody tr th:only-of-type {\n",
       "        vertical-align: middle;\n",
       "    }\n",
       "\n",
       "    .dataframe tbody tr th {\n",
       "        vertical-align: top;\n",
       "    }\n",
       "\n",
       "    .dataframe thead th {\n",
       "        text-align: right;\n",
       "    }\n",
       "</style>\n",
       "<table border=\"1\" class=\"dataframe\">\n",
       "  <thead>\n",
       "    <tr style=\"text-align: right;\">\n",
       "      <th></th>\n",
       "      <th>A</th>\n",
       "      <th>B</th>\n",
       "    </tr>\n",
       "  </thead>\n",
       "  <tbody>\n",
       "    <tr>\n",
       "      <th>0</th>\n",
       "      <td>1</td>\n",
       "      <td>2</td>\n",
       "    </tr>\n",
       "    <tr>\n",
       "      <th>1</th>\n",
       "      <td>3</td>\n",
       "      <td>3</td>\n",
       "    </tr>\n",
       "    <tr>\n",
       "      <th>2</th>\n",
       "      <td>4</td>\n",
       "      <td>5</td>\n",
       "    </tr>\n",
       "    <tr>\n",
       "      <th>3</th>\n",
       "      <td>7</td>\n",
       "      <td>10</td>\n",
       "    </tr>\n",
       "  </tbody>\n",
       "</table>\n",
       "</div>"
      ],
      "text/plain": [
       "   A   B\n",
       "0  1   2\n",
       "1  3   3\n",
       "2  4   5\n",
       "3  7  10"
      ]
     },
     "execution_count": 19,
     "metadata": {},
     "output_type": "execute_result"
    }
   ],
   "source": [
    "df.drop_duplicates(inplace = True)\n",
    "df"
   ]
  },
  {
   "cell_type": "markdown",
   "metadata": {},
   "source": [
    "## 3. 데이터 변환\n",
    " - 데이터 자료형을 적절한 형태로 변환\n",
    " - 하나의 열이 여러 개의 정보를 가지고 있을 경우 열을 분리\n",
    " - 특정 데이터의 편향도가 클 경우 데이터 분포를 정규 분포로 변형"
   ]
  },
  {
   "cell_type": "code",
   "execution_count": 13,
   "metadata": {},
   "outputs": [
    {
     "data": {
      "text/plain": [
       "DatetimeIndex(['2018-04-24 00:00:00', '2018-04-24 08:00:00',\n",
       "               '2018-04-24 16:00:00', '2018-04-25 00:00:00',\n",
       "               '2018-04-25 08:00:00', '2018-04-25 16:00:00',\n",
       "               '2018-04-26 00:00:00', '2018-04-26 08:00:00',\n",
       "               '2018-04-26 16:00:00', '2018-04-27 00:00:00'],\n",
       "              dtype='datetime64[ns]', freq=None)"
      ]
     },
     "execution_count": 13,
     "metadata": {},
     "output_type": "execute_result"
    }
   ],
   "source": [
    "date = pd.date_range(start='2018-04-24', end='2018-04-27', periods=10)\n",
    "date"
   ]
  },
  {
   "cell_type": "code",
   "execution_count": 14,
   "metadata": {},
   "outputs": [
    {
     "data": {
      "text/html": [
       "<div>\n",
       "<style scoped>\n",
       "    .dataframe tbody tr th:only-of-type {\n",
       "        vertical-align: middle;\n",
       "    }\n",
       "\n",
       "    .dataframe tbody tr th {\n",
       "        vertical-align: top;\n",
       "    }\n",
       "\n",
       "    .dataframe thead th {\n",
       "        text-align: right;\n",
       "    }\n",
       "</style>\n",
       "<table border=\"1\" class=\"dataframe\">\n",
       "  <thead>\n",
       "    <tr style=\"text-align: right;\">\n",
       "      <th></th>\n",
       "      <th>0</th>\n",
       "      <th>1</th>\n",
       "      <th>2</th>\n",
       "      <th>3</th>\n",
       "      <th>date</th>\n",
       "    </tr>\n",
       "  </thead>\n",
       "  <tbody>\n",
       "    <tr>\n",
       "      <th>0</th>\n",
       "      <td>-2.011093</td>\n",
       "      <td>1.552133</td>\n",
       "      <td>-0.667102</td>\n",
       "      <td>2.058883</td>\n",
       "      <td>2018-04-24 00:00:00</td>\n",
       "    </tr>\n",
       "    <tr>\n",
       "      <th>1</th>\n",
       "      <td>0.403990</td>\n",
       "      <td>-0.410343</td>\n",
       "      <td>1.439478</td>\n",
       "      <td>0.936975</td>\n",
       "      <td>2018-04-24 08:00:00</td>\n",
       "    </tr>\n",
       "    <tr>\n",
       "      <th>2</th>\n",
       "      <td>0.975662</td>\n",
       "      <td>0.517193</td>\n",
       "      <td>-0.532872</td>\n",
       "      <td>-1.025807</td>\n",
       "      <td>2018-04-24 16:00:00</td>\n",
       "    </tr>\n",
       "    <tr>\n",
       "      <th>3</th>\n",
       "      <td>0.253259</td>\n",
       "      <td>0.531992</td>\n",
       "      <td>-0.053123</td>\n",
       "      <td>0.130233</td>\n",
       "      <td>2018-04-25 00:00:00</td>\n",
       "    </tr>\n",
       "    <tr>\n",
       "      <th>4</th>\n",
       "      <td>0.015294</td>\n",
       "      <td>0.189234</td>\n",
       "      <td>-0.397261</td>\n",
       "      <td>-0.861172</td>\n",
       "      <td>2018-04-25 08:00:00</td>\n",
       "    </tr>\n",
       "    <tr>\n",
       "      <th>5</th>\n",
       "      <td>-1.092534</td>\n",
       "      <td>-0.218850</td>\n",
       "      <td>-0.924608</td>\n",
       "      <td>-0.736229</td>\n",
       "      <td>2018-04-25 16:00:00</td>\n",
       "    </tr>\n",
       "    <tr>\n",
       "      <th>6</th>\n",
       "      <td>-1.372317</td>\n",
       "      <td>-0.193076</td>\n",
       "      <td>-1.800819</td>\n",
       "      <td>-1.279504</td>\n",
       "      <td>2018-04-26 00:00:00</td>\n",
       "    </tr>\n",
       "    <tr>\n",
       "      <th>7</th>\n",
       "      <td>0.196717</td>\n",
       "      <td>1.163597</td>\n",
       "      <td>1.524405</td>\n",
       "      <td>0.819077</td>\n",
       "      <td>2018-04-26 08:00:00</td>\n",
       "    </tr>\n",
       "    <tr>\n",
       "      <th>8</th>\n",
       "      <td>-0.663066</td>\n",
       "      <td>0.439446</td>\n",
       "      <td>0.443628</td>\n",
       "      <td>-0.330164</td>\n",
       "      <td>2018-04-26 16:00:00</td>\n",
       "    </tr>\n",
       "    <tr>\n",
       "      <th>9</th>\n",
       "      <td>-0.613737</td>\n",
       "      <td>-1.111782</td>\n",
       "      <td>-0.598953</td>\n",
       "      <td>-0.687462</td>\n",
       "      <td>2018-04-27 00:00:00</td>\n",
       "    </tr>\n",
       "  </tbody>\n",
       "</table>\n",
       "</div>"
      ],
      "text/plain": [
       "          0         1         2         3                date\n",
       "0 -2.011093  1.552133 -0.667102  2.058883 2018-04-24 00:00:00\n",
       "1  0.403990 -0.410343  1.439478  0.936975 2018-04-24 08:00:00\n",
       "2  0.975662  0.517193 -0.532872 -1.025807 2018-04-24 16:00:00\n",
       "3  0.253259  0.531992 -0.053123  0.130233 2018-04-25 00:00:00\n",
       "4  0.015294  0.189234 -0.397261 -0.861172 2018-04-25 08:00:00\n",
       "5 -1.092534 -0.218850 -0.924608 -0.736229 2018-04-25 16:00:00\n",
       "6 -1.372317 -0.193076 -1.800819 -1.279504 2018-04-26 00:00:00\n",
       "7  0.196717  1.163597  1.524405  0.819077 2018-04-26 08:00:00\n",
       "8 -0.663066  0.439446  0.443628 -0.330164 2018-04-26 16:00:00\n",
       "9 -0.613737 -1.111782 -0.598953 -0.687462 2018-04-27 00:00:00"
      ]
     },
     "execution_count": 14,
     "metadata": {},
     "output_type": "execute_result"
    }
   ],
   "source": [
    "df = pd.DataFrame(np.random.randn(10, 4))\n",
    "df['date'] = date\n",
    "df"
   ]
  },
  {
   "cell_type": "code",
   "execution_count": 15,
   "metadata": {},
   "outputs": [
    {
     "data": {
      "text/html": [
       "<div>\n",
       "<style scoped>\n",
       "    .dataframe tbody tr th:only-of-type {\n",
       "        vertical-align: middle;\n",
       "    }\n",
       "\n",
       "    .dataframe tbody tr th {\n",
       "        vertical-align: top;\n",
       "    }\n",
       "\n",
       "    .dataframe thead th {\n",
       "        text-align: right;\n",
       "    }\n",
       "</style>\n",
       "<table border=\"1\" class=\"dataframe\">\n",
       "  <thead>\n",
       "    <tr style=\"text-align: right;\">\n",
       "      <th></th>\n",
       "      <th>0</th>\n",
       "      <th>1</th>\n",
       "      <th>2</th>\n",
       "      <th>3</th>\n",
       "      <th>date</th>\n",
       "      <th>Workhour</th>\n",
       "    </tr>\n",
       "  </thead>\n",
       "  <tbody>\n",
       "    <tr>\n",
       "      <th>0</th>\n",
       "      <td>-2.011093</td>\n",
       "      <td>1.552133</td>\n",
       "      <td>-0.667102</td>\n",
       "      <td>2.058883</td>\n",
       "      <td>2018-04-24 00:00:00</td>\n",
       "      <td>False</td>\n",
       "    </tr>\n",
       "    <tr>\n",
       "      <th>1</th>\n",
       "      <td>0.403990</td>\n",
       "      <td>-0.410343</td>\n",
       "      <td>1.439478</td>\n",
       "      <td>0.936975</td>\n",
       "      <td>2018-04-24 08:00:00</td>\n",
       "      <td>False</td>\n",
       "    </tr>\n",
       "    <tr>\n",
       "      <th>2</th>\n",
       "      <td>0.975662</td>\n",
       "      <td>0.517193</td>\n",
       "      <td>-0.532872</td>\n",
       "      <td>-1.025807</td>\n",
       "      <td>2018-04-24 16:00:00</td>\n",
       "      <td>True</td>\n",
       "    </tr>\n",
       "    <tr>\n",
       "      <th>3</th>\n",
       "      <td>0.253259</td>\n",
       "      <td>0.531992</td>\n",
       "      <td>-0.053123</td>\n",
       "      <td>0.130233</td>\n",
       "      <td>2018-04-25 00:00:00</td>\n",
       "      <td>False</td>\n",
       "    </tr>\n",
       "    <tr>\n",
       "      <th>4</th>\n",
       "      <td>0.015294</td>\n",
       "      <td>0.189234</td>\n",
       "      <td>-0.397261</td>\n",
       "      <td>-0.861172</td>\n",
       "      <td>2018-04-25 08:00:00</td>\n",
       "      <td>False</td>\n",
       "    </tr>\n",
       "    <tr>\n",
       "      <th>5</th>\n",
       "      <td>-1.092534</td>\n",
       "      <td>-0.218850</td>\n",
       "      <td>-0.924608</td>\n",
       "      <td>-0.736229</td>\n",
       "      <td>2018-04-25 16:00:00</td>\n",
       "      <td>True</td>\n",
       "    </tr>\n",
       "    <tr>\n",
       "      <th>6</th>\n",
       "      <td>-1.372317</td>\n",
       "      <td>-0.193076</td>\n",
       "      <td>-1.800819</td>\n",
       "      <td>-1.279504</td>\n",
       "      <td>2018-04-26 00:00:00</td>\n",
       "      <td>False</td>\n",
       "    </tr>\n",
       "    <tr>\n",
       "      <th>7</th>\n",
       "      <td>0.196717</td>\n",
       "      <td>1.163597</td>\n",
       "      <td>1.524405</td>\n",
       "      <td>0.819077</td>\n",
       "      <td>2018-04-26 08:00:00</td>\n",
       "      <td>False</td>\n",
       "    </tr>\n",
       "    <tr>\n",
       "      <th>8</th>\n",
       "      <td>-0.663066</td>\n",
       "      <td>0.439446</td>\n",
       "      <td>0.443628</td>\n",
       "      <td>-0.330164</td>\n",
       "      <td>2018-04-26 16:00:00</td>\n",
       "      <td>True</td>\n",
       "    </tr>\n",
       "    <tr>\n",
       "      <th>9</th>\n",
       "      <td>-0.613737</td>\n",
       "      <td>-1.111782</td>\n",
       "      <td>-0.598953</td>\n",
       "      <td>-0.687462</td>\n",
       "      <td>2018-04-27 00:00:00</td>\n",
       "      <td>False</td>\n",
       "    </tr>\n",
       "  </tbody>\n",
       "</table>\n",
       "</div>"
      ],
      "text/plain": [
       "          0         1         2         3                date  Workhour\n",
       "0 -2.011093  1.552133 -0.667102  2.058883 2018-04-24 00:00:00     False\n",
       "1  0.403990 -0.410343  1.439478  0.936975 2018-04-24 08:00:00     False\n",
       "2  0.975662  0.517193 -0.532872 -1.025807 2018-04-24 16:00:00      True\n",
       "3  0.253259  0.531992 -0.053123  0.130233 2018-04-25 00:00:00     False\n",
       "4  0.015294  0.189234 -0.397261 -0.861172 2018-04-25 08:00:00     False\n",
       "5 -1.092534 -0.218850 -0.924608 -0.736229 2018-04-25 16:00:00      True\n",
       "6 -1.372317 -0.193076 -1.800819 -1.279504 2018-04-26 00:00:00     False\n",
       "7  0.196717  1.163597  1.524405  0.819077 2018-04-26 08:00:00     False\n",
       "8 -0.663066  0.439446  0.443628 -0.330164 2018-04-26 16:00:00      True\n",
       "9 -0.613737 -1.111782 -0.598953 -0.687462 2018-04-27 00:00:00     False"
      ]
     },
     "execution_count": 15,
     "metadata": {},
     "output_type": "execute_result"
    }
   ],
   "source": [
    "# 업무 시간과 비 업무 시간을 구분해 새로운 열로 만들어 봅시다!\n",
    "\n",
    "df['Workhour'] = False\n",
    "\n",
    "for idx, row in df.iterrows():\n",
    "    cond = (row['date'].hour >= 9) &  (row['date'].hour < 18 )\n",
    "    df.loc[idx, 'Workhour'] = cond\n",
    "\n",
    "df"
   ]
  },
  {
   "cell_type": "markdown",
   "metadata": {},
   "source": [
    "## 4. 이상값 처리\n",
    "\n",
    " - 특정 열의 데이터가 정상 분포를 벗어나는 경우, 이상 값으로 간주할 수 있음\n",
    " - 극단적으로 크거나 작은 값은 제거"
   ]
  },
  {
   "cell_type": "code",
   "execution_count": 16,
   "metadata": {},
   "outputs": [
    {
     "data": {
      "text/html": [
       "<div>\n",
       "<style scoped>\n",
       "    .dataframe tbody tr th:only-of-type {\n",
       "        vertical-align: middle;\n",
       "    }\n",
       "\n",
       "    .dataframe tbody tr th {\n",
       "        vertical-align: top;\n",
       "    }\n",
       "\n",
       "    .dataframe thead th {\n",
       "        text-align: right;\n",
       "    }\n",
       "</style>\n",
       "<table border=\"1\" class=\"dataframe\">\n",
       "  <thead>\n",
       "    <tr style=\"text-align: right;\">\n",
       "      <th></th>\n",
       "      <th>A</th>\n",
       "      <th>B</th>\n",
       "      <th>C</th>\n",
       "      <th>D</th>\n",
       "      <th>E</th>\n",
       "    </tr>\n",
       "  </thead>\n",
       "  <tbody>\n",
       "    <tr>\n",
       "      <th>0</th>\n",
       "      <td>0.178689</td>\n",
       "      <td>0.515405</td>\n",
       "      <td>0.956313</td>\n",
       "      <td>0.785897</td>\n",
       "      <td>0.823991</td>\n",
       "    </tr>\n",
       "    <tr>\n",
       "      <th>1</th>\n",
       "      <td>0.835134</td>\n",
       "      <td>0.897185</td>\n",
       "      <td>0.769351</td>\n",
       "      <td>0.298717</td>\n",
       "      <td>0.561883</td>\n",
       "    </tr>\n",
       "    <tr>\n",
       "      <th>2</th>\n",
       "      <td>0.190426</td>\n",
       "      <td>0.414187</td>\n",
       "      <td>0.357027</td>\n",
       "      <td>0.982673</td>\n",
       "      <td>0.017059</td>\n",
       "    </tr>\n",
       "    <tr>\n",
       "      <th>3</th>\n",
       "      <td>0.853988</td>\n",
       "      <td>0.313819</td>\n",
       "      <td>0.098383</td>\n",
       "      <td>0.309383</td>\n",
       "      <td>0.758227</td>\n",
       "    </tr>\n",
       "    <tr>\n",
       "      <th>4</th>\n",
       "      <td>0.099931</td>\n",
       "      <td>0.559339</td>\n",
       "      <td>0.806097</td>\n",
       "      <td>0.161104</td>\n",
       "      <td>0.812525</td>\n",
       "    </tr>\n",
       "    <tr>\n",
       "      <th>5</th>\n",
       "      <td>0.522162</td>\n",
       "      <td>0.780905</td>\n",
       "      <td>0.581297</td>\n",
       "      <td>0.697015</td>\n",
       "      <td>0.026441</td>\n",
       "    </tr>\n",
       "    <tr>\n",
       "      <th>6</th>\n",
       "      <td>0.828861</td>\n",
       "      <td>0.248212</td>\n",
       "      <td>0.138132</td>\n",
       "      <td>0.898138</td>\n",
       "      <td>0.003932</td>\n",
       "    </tr>\n",
       "    <tr>\n",
       "      <th>7</th>\n",
       "      <td>0.542102</td>\n",
       "      <td>0.318730</td>\n",
       "      <td>0.243386</td>\n",
       "      <td>0.375645</td>\n",
       "      <td>0.619569</td>\n",
       "    </tr>\n",
       "    <tr>\n",
       "      <th>8</th>\n",
       "      <td>0.068357</td>\n",
       "      <td>0.727546</td>\n",
       "      <td>0.745848</td>\n",
       "      <td>0.769949</td>\n",
       "      <td>0.033502</td>\n",
       "    </tr>\n",
       "    <tr>\n",
       "      <th>9</th>\n",
       "      <td>0.798297</td>\n",
       "      <td>0.579364</td>\n",
       "      <td>0.772086</td>\n",
       "      <td>0.569083</td>\n",
       "      <td>0.859244</td>\n",
       "    </tr>\n",
       "  </tbody>\n",
       "</table>\n",
       "</div>"
      ],
      "text/plain": [
       "          A         B         C         D         E\n",
       "0  0.178689  0.515405  0.956313  0.785897  0.823991\n",
       "1  0.835134  0.897185  0.769351  0.298717  0.561883\n",
       "2  0.190426  0.414187  0.357027  0.982673  0.017059\n",
       "3  0.853988  0.313819  0.098383  0.309383  0.758227\n",
       "4  0.099931  0.559339  0.806097  0.161104  0.812525\n",
       "5  0.522162  0.780905  0.581297  0.697015  0.026441\n",
       "6  0.828861  0.248212  0.138132  0.898138  0.003932\n",
       "7  0.542102  0.318730  0.243386  0.375645  0.619569\n",
       "8  0.068357  0.727546  0.745848  0.769949  0.033502\n",
       "9  0.798297  0.579364  0.772086  0.569083  0.859244"
      ]
     },
     "execution_count": 16,
     "metadata": {},
     "output_type": "execute_result"
    }
   ],
   "source": [
    "\n",
    "df = pd.DataFrame(np.random.rand(10, 5), columns=['A', 'B', 'C', 'D', 'E'])\n",
    "df"
   ]
  },
  {
   "cell_type": "code",
   "execution_count": 17,
   "metadata": {},
   "outputs": [
    {
     "data": {
      "text/plain": [
       "<AxesSubplot:>"
      ]
     },
     "execution_count": 17,
     "metadata": {},
     "output_type": "execute_result"
    },
    {
     "data": {
      "image/png": "[encoded data removed]",
      "text/plain": [
       "<Figure size 432x288 with 1 Axes>"
      ]
     },
     "metadata": {
      "needs_background": "light"
     },
     "output_type": "display_data"
    }
   ],
   "source": [
    "df.boxplot()"
   ]
  },
  {
   "cell_type": "code",
   "execution_count": 18,
   "metadata": {},
   "outputs": [
    {
     "data": {
      "text/plain": [
       "6"
      ]
     },
     "execution_count": 18,
     "metadata": {},
     "output_type": "execute_result"
    }
   ],
   "source": [
    "len(df[df['A'] > 0.4])"
   ]
  },
  {
   "cell_type": "code",
   "execution_count": 19,
   "metadata": {},
   "outputs": [
    {
     "data": {
      "text/plain": [
       "(4, 5)"
      ]
     },
     "execution_count": 19,
     "metadata": {},
     "output_type": "execute_result"
    }
   ],
   "source": [
    "df = df[df['A'] < 0.4]\n",
    "df.shape"
   ]
  },
  {
   "cell_type": "code",
   "execution_count": 20,
   "metadata": {},
   "outputs": [
    {
     "data": {
      "text/html": [
       "<div>\n",
       "<style scoped>\n",
       "    .dataframe tbody tr th:only-of-type {\n",
       "        vertical-align: middle;\n",
       "    }\n",
       "\n",
       "    .dataframe tbody tr th {\n",
       "        vertical-align: top;\n",
       "    }\n",
       "\n",
       "    .dataframe thead th {\n",
       "        text-align: right;\n",
       "    }\n",
       "</style>\n",
       "<table border=\"1\" class=\"dataframe\">\n",
       "  <thead>\n",
       "    <tr style=\"text-align: right;\">\n",
       "      <th></th>\n",
       "      <th>A</th>\n",
       "      <th>B</th>\n",
       "      <th>C</th>\n",
       "      <th>D</th>\n",
       "      <th>E</th>\n",
       "    </tr>\n",
       "  </thead>\n",
       "  <tbody>\n",
       "    <tr>\n",
       "      <th>0</th>\n",
       "      <td>0.178689</td>\n",
       "      <td>0.515405</td>\n",
       "      <td>0.956313</td>\n",
       "      <td>0.785897</td>\n",
       "      <td>0.823991</td>\n",
       "    </tr>\n",
       "    <tr>\n",
       "      <th>2</th>\n",
       "      <td>0.190426</td>\n",
       "      <td>0.414187</td>\n",
       "      <td>0.357027</td>\n",
       "      <td>0.982673</td>\n",
       "      <td>0.017059</td>\n",
       "    </tr>\n",
       "    <tr>\n",
       "      <th>4</th>\n",
       "      <td>0.099931</td>\n",
       "      <td>0.559339</td>\n",
       "      <td>0.806097</td>\n",
       "      <td>0.161104</td>\n",
       "      <td>0.812525</td>\n",
       "    </tr>\n",
       "    <tr>\n",
       "      <th>8</th>\n",
       "      <td>0.068357</td>\n",
       "      <td>0.727546</td>\n",
       "      <td>0.745848</td>\n",
       "      <td>0.769949</td>\n",
       "      <td>0.033502</td>\n",
       "    </tr>\n",
       "  </tbody>\n",
       "</table>\n",
       "</div>"
      ],
      "text/plain": [
       "          A         B         C         D         E\n",
       "0  0.178689  0.515405  0.956313  0.785897  0.823991\n",
       "2  0.190426  0.414187  0.357027  0.982673  0.017059\n",
       "4  0.099931  0.559339  0.806097  0.161104  0.812525\n",
       "8  0.068357  0.727546  0.745848  0.769949  0.033502"
      ]
     },
     "execution_count": 20,
     "metadata": {},
     "output_type": "execute_result"
    }
   ],
   "source": [
    "df"
   ]
  },
  {
   "cell_type": "markdown",
   "metadata": {},
   "source": [
    "### 백분위 수\n",
    "\n",
    "- quantile을 이용하여 원하는 백분위수 값을 구할 수 있다."
   ]
  },
  {
   "cell_type": "code",
   "execution_count": 21,
   "metadata": {},
   "outputs": [
    {
     "data": {
      "text/html": [
       "<div>\n",
       "<style scoped>\n",
       "    .dataframe tbody tr th:only-of-type {\n",
       "        vertical-align: middle;\n",
       "    }\n",
       "\n",
       "    .dataframe tbody tr th {\n",
       "        vertical-align: top;\n",
       "    }\n",
       "\n",
       "    .dataframe thead th {\n",
       "        text-align: right;\n",
       "    }\n",
       "</style>\n",
       "<table border=\"1\" class=\"dataframe\">\n",
       "  <thead>\n",
       "    <tr style=\"text-align: right;\">\n",
       "      <th></th>\n",
       "      <th>A</th>\n",
       "      <th>B</th>\n",
       "      <th>C</th>\n",
       "      <th>D</th>\n",
       "      <th>E</th>\n",
       "    </tr>\n",
       "  </thead>\n",
       "  <tbody>\n",
       "    <tr>\n",
       "      <th>0</th>\n",
       "      <td>0.997324</td>\n",
       "      <td>0.805177</td>\n",
       "      <td>0.340077</td>\n",
       "      <td>0.659084</td>\n",
       "      <td>0.831604</td>\n",
       "    </tr>\n",
       "    <tr>\n",
       "      <th>1</th>\n",
       "      <td>0.534463</td>\n",
       "      <td>0.849852</td>\n",
       "      <td>0.935901</td>\n",
       "      <td>0.174387</td>\n",
       "      <td>0.206847</td>\n",
       "    </tr>\n",
       "    <tr>\n",
       "      <th>2</th>\n",
       "      <td>0.775658</td>\n",
       "      <td>0.016214</td>\n",
       "      <td>0.602045</td>\n",
       "      <td>0.982404</td>\n",
       "      <td>0.216010</td>\n",
       "    </tr>\n",
       "    <tr>\n",
       "      <th>3</th>\n",
       "      <td>0.379344</td>\n",
       "      <td>0.123747</td>\n",
       "      <td>0.638633</td>\n",
       "      <td>0.372541</td>\n",
       "      <td>0.534973</td>\n",
       "    </tr>\n",
       "    <tr>\n",
       "      <th>4</th>\n",
       "      <td>0.396148</td>\n",
       "      <td>0.526113</td>\n",
       "      <td>0.064985</td>\n",
       "      <td>0.676671</td>\n",
       "      <td>0.362906</td>\n",
       "    </tr>\n",
       "    <tr>\n",
       "      <th>...</th>\n",
       "      <td>...</td>\n",
       "      <td>...</td>\n",
       "      <td>...</td>\n",
       "      <td>...</td>\n",
       "      <td>...</td>\n",
       "    </tr>\n",
       "    <tr>\n",
       "      <th>995</th>\n",
       "      <td>0.817433</td>\n",
       "      <td>0.245309</td>\n",
       "      <td>0.509092</td>\n",
       "      <td>0.874476</td>\n",
       "      <td>0.837807</td>\n",
       "    </tr>\n",
       "    <tr>\n",
       "      <th>996</th>\n",
       "      <td>0.629631</td>\n",
       "      <td>0.842650</td>\n",
       "      <td>0.678048</td>\n",
       "      <td>0.005437</td>\n",
       "      <td>0.655818</td>\n",
       "    </tr>\n",
       "    <tr>\n",
       "      <th>997</th>\n",
       "      <td>0.127894</td>\n",
       "      <td>0.775661</td>\n",
       "      <td>0.402400</td>\n",
       "      <td>0.417792</td>\n",
       "      <td>0.050332</td>\n",
       "    </tr>\n",
       "    <tr>\n",
       "      <th>998</th>\n",
       "      <td>0.014254</td>\n",
       "      <td>0.123311</td>\n",
       "      <td>0.035548</td>\n",
       "      <td>0.024514</td>\n",
       "      <td>0.042418</td>\n",
       "    </tr>\n",
       "    <tr>\n",
       "      <th>999</th>\n",
       "      <td>0.031194</td>\n",
       "      <td>0.032032</td>\n",
       "      <td>0.428544</td>\n",
       "      <td>0.510835</td>\n",
       "      <td>0.048707</td>\n",
       "    </tr>\n",
       "  </tbody>\n",
       "</table>\n",
       "<p>1000 rows × 5 columns</p>\n",
       "</div>"
      ],
      "text/plain": [
       "            A         B         C         D         E\n",
       "0    0.997324  0.805177  0.340077  0.659084  0.831604\n",
       "1    0.534463  0.849852  0.935901  0.174387  0.206847\n",
       "2    0.775658  0.016214  0.602045  0.982404  0.216010\n",
       "3    0.379344  0.123747  0.638633  0.372541  0.534973\n",
       "4    0.396148  0.526113  0.064985  0.676671  0.362906\n",
       "..        ...       ...       ...       ...       ...\n",
       "995  0.817433  0.245309  0.509092  0.874476  0.837807\n",
       "996  0.629631  0.842650  0.678048  0.005437  0.655818\n",
       "997  0.127894  0.775661  0.402400  0.417792  0.050332\n",
       "998  0.014254  0.123311  0.035548  0.024514  0.042418\n",
       "999  0.031194  0.032032  0.428544  0.510835  0.048707\n",
       "\n",
       "[1000 rows x 5 columns]"
      ]
     },
     "execution_count": 21,
     "metadata": {},
     "output_type": "execute_result"
    }
   ],
   "source": [
    "df = pd.DataFrame(np.random.rand(1000, 5), columns=['A', 'B', 'C', 'D', 'E'])\n",
    "df"
   ]
  },
  {
   "cell_type": "code",
   "execution_count": 22,
   "metadata": {},
   "outputs": [
    {
     "data": {
      "text/plain": [
       "0.10857775518342477"
      ]
     },
     "execution_count": 22,
     "metadata": {},
     "output_type": "execute_result"
    }
   ],
   "source": [
    "# 하위 10%\n",
    "low = df['A'].quantile(0.1)\n",
    "low"
   ]
  },
  {
   "cell_type": "code",
   "execution_count": 23,
   "metadata": {},
   "outputs": [
    {
     "data": {
      "text/plain": [
       "0.8844850400290489"
      ]
     },
     "execution_count": 23,
     "metadata": {},
     "output_type": "execute_result"
    }
   ],
   "source": [
    "# 상위 10%\n",
    "high = df['A'].quantile(0.9)\n",
    "high"
   ]
  },
  {
   "cell_type": "code",
   "execution_count": 24,
   "metadata": {},
   "outputs": [
    {
     "data": {
      "text/plain": [
       "(900, 5)"
      ]
     },
     "execution_count": 24,
     "metadata": {},
     "output_type": "execute_result"
    }
   ],
   "source": [
    "df = df[df['A'] > low]\n",
    "df.shape"
   ]
  },
  {
   "cell_type": "code",
   "execution_count": 25,
   "metadata": {},
   "outputs": [
    {
     "data": {
      "text/plain": [
       "(800, 5)"
      ]
     },
     "execution_count": 25,
     "metadata": {},
     "output_type": "execute_result"
    }
   ],
   "source": [
    "df = df[df['A'] < high]\n",
    "df.shape\n"
   ]
  },
  {
   "cell_type": "markdown",
   "metadata": {},
   "source": [
    "#### BOXPLOT 구하기"
   ]
  },
  {
   "cell_type": "code",
   "execution_count": 26,
   "metadata": {},
   "outputs": [
    {
     "data": {
      "text/html": [
       "<div>\n",
       "<style scoped>\n",
       "    .dataframe tbody tr th:only-of-type {\n",
       "        vertical-align: middle;\n",
       "    }\n",
       "\n",
       "    .dataframe tbody tr th {\n",
       "        vertical-align: top;\n",
       "    }\n",
       "\n",
       "    .dataframe thead th {\n",
       "        text-align: right;\n",
       "    }\n",
       "</style>\n",
       "<table border=\"1\" class=\"dataframe\">\n",
       "  <thead>\n",
       "    <tr style=\"text-align: right;\">\n",
       "      <th></th>\n",
       "      <th>A</th>\n",
       "    </tr>\n",
       "  </thead>\n",
       "  <tbody>\n",
       "    <tr>\n",
       "      <th>0</th>\n",
       "      <td>1</td>\n",
       "    </tr>\n",
       "    <tr>\n",
       "      <th>1</th>\n",
       "      <td>2</td>\n",
       "    </tr>\n",
       "    <tr>\n",
       "      <th>2</th>\n",
       "      <td>3</td>\n",
       "    </tr>\n",
       "    <tr>\n",
       "      <th>3</th>\n",
       "      <td>4</td>\n",
       "    </tr>\n",
       "    <tr>\n",
       "      <th>4</th>\n",
       "      <td>5</td>\n",
       "    </tr>\n",
       "    <tr>\n",
       "      <th>5</th>\n",
       "      <td>5</td>\n",
       "    </tr>\n",
       "    <tr>\n",
       "      <th>6</th>\n",
       "      <td>5</td>\n",
       "    </tr>\n",
       "    <tr>\n",
       "      <th>7</th>\n",
       "      <td>5</td>\n",
       "    </tr>\n",
       "    <tr>\n",
       "      <th>8</th>\n",
       "      <td>5</td>\n",
       "    </tr>\n",
       "    <tr>\n",
       "      <th>9</th>\n",
       "      <td>5</td>\n",
       "    </tr>\n",
       "    <tr>\n",
       "      <th>10</th>\n",
       "      <td>6</td>\n",
       "    </tr>\n",
       "    <tr>\n",
       "      <th>11</th>\n",
       "      <td>7</td>\n",
       "    </tr>\n",
       "    <tr>\n",
       "      <th>12</th>\n",
       "      <td>8</td>\n",
       "    </tr>\n",
       "    <tr>\n",
       "      <th>13</th>\n",
       "      <td>9</td>\n",
       "    </tr>\n",
       "    <tr>\n",
       "      <th>14</th>\n",
       "      <td>10</td>\n",
       "    </tr>\n",
       "  </tbody>\n",
       "</table>\n",
       "</div>"
      ],
      "text/plain": [
       "     A\n",
       "0    1\n",
       "1    2\n",
       "2    3\n",
       "3    4\n",
       "4    5\n",
       "5    5\n",
       "6    5\n",
       "7    5\n",
       "8    5\n",
       "9    5\n",
       "10   6\n",
       "11   7\n",
       "12   8\n",
       "13   9\n",
       "14  10"
      ]
     },
     "execution_count": 26,
     "metadata": {},
     "output_type": "execute_result"
    }
   ],
   "source": [
    "df = pd.DataFrame([1, 2, 3, 4, 5,5,5,5,5,5, 6, 7, 8, 9, 10], columns=['A'])\n",
    "df"
   ]
  },
  {
   "cell_type": "code",
   "execution_count": 27,
   "metadata": {},
   "outputs": [
    {
     "data": {
      "text/plain": [
       "<AxesSubplot:>"
      ]
     },
     "execution_count": 27,
     "metadata": {},
     "output_type": "execute_result"
    },
    {
     "data": {
      "image/png": "[encoded data removed]",
      "text/plain": [
       "<Figure size 432x288 with 1 Axes>"
      ]
     },
     "metadata": {
      "needs_background": "light"
     },
     "output_type": "display_data"
    }
   ],
   "source": [
    "df.boxplot()"
   ]
  },
  {
   "cell_type": "code",
   "execution_count": 28,
   "metadata": {},
   "outputs": [
    {
     "name": "stdout",
     "output_type": "stream",
     "text": [
      "Q1 = A    4.5\n",
      "Name: 0.25, dtype: float64\n"
     ]
    }
   ],
   "source": [
    "Q1 = df.quantile(.25)\n",
    "print(\"Q1 =\",Q1)\n"
   ]
  },
  {
   "cell_type": "code",
   "execution_count": 29,
   "metadata": {},
   "outputs": [
    {
     "name": "stdout",
     "output_type": "stream",
     "text": [
      "Q1 = A    4.5\n",
      "Name: 0.25, dtype: float64\n",
      "Q2 = A    5.0\n",
      "Name: 0.5, dtype: float64\n",
      "Q3 = A    6.5\n",
      "Name: 0.75, dtype: float64\n",
      "IQR = A    2.0\n",
      "dtype: float64\n",
      "Q4 = A    10.0\n",
      "Name: 1, dtype: float64\n"
     ]
    }
   ],
   "source": [
    "print(\"Q1 =\",Q1)\n",
    "\n",
    "Q2 = df.quantile(.5)\n",
    "print(\"Q2 =\",Q2)\n",
    "\n",
    "\n",
    "Q3 = df.quantile(.75)\n",
    "print(\"Q3 =\",Q3)\n",
    "\n",
    "IQR = Q3 - Q1\n",
    "print(\"IQR =\",IQR)\n",
    "\n",
    "\n",
    "Q4 = df.quantile(1)\n",
    "print(\"Q4 =\",Q4)\n"
   ]
  },
  {
   "cell_type": "code",
   "execution_count": 30,
   "metadata": {},
   "outputs": [
    {
     "data": {
      "text/html": [
       "<div>\n",
       "<style scoped>\n",
       "    .dataframe tbody tr th:only-of-type {\n",
       "        vertical-align: middle;\n",
       "    }\n",
       "\n",
       "    .dataframe tbody tr th {\n",
       "        vertical-align: top;\n",
       "    }\n",
       "\n",
       "    .dataframe thead th {\n",
       "        text-align: right;\n",
       "    }\n",
       "</style>\n",
       "<table border=\"1\" class=\"dataframe\">\n",
       "  <thead>\n",
       "    <tr style=\"text-align: right;\">\n",
       "      <th></th>\n",
       "      <th>A</th>\n",
       "    </tr>\n",
       "  </thead>\n",
       "  <tbody>\n",
       "    <tr>\n",
       "      <th>count</th>\n",
       "      <td>15.000000</td>\n",
       "    </tr>\n",
       "    <tr>\n",
       "      <th>mean</th>\n",
       "      <td>5.333333</td>\n",
       "    </tr>\n",
       "    <tr>\n",
       "      <th>std</th>\n",
       "      <td>2.439750</td>\n",
       "    </tr>\n",
       "    <tr>\n",
       "      <th>min</th>\n",
       "      <td>1.000000</td>\n",
       "    </tr>\n",
       "    <tr>\n",
       "      <th>25%</th>\n",
       "      <td>4.500000</td>\n",
       "    </tr>\n",
       "    <tr>\n",
       "      <th>50%</th>\n",
       "      <td>5.000000</td>\n",
       "    </tr>\n",
       "    <tr>\n",
       "      <th>75%</th>\n",
       "      <td>6.500000</td>\n",
       "    </tr>\n",
       "    <tr>\n",
       "      <th>max</th>\n",
       "      <td>10.000000</td>\n",
       "    </tr>\n",
       "  </tbody>\n",
       "</table>\n",
       "</div>"
      ],
      "text/plain": [
       "               A\n",
       "count  15.000000\n",
       "mean    5.333333\n",
       "std     2.439750\n",
       "min     1.000000\n",
       "25%     4.500000\n",
       "50%     5.000000\n",
       "75%     6.500000\n",
       "max    10.000000"
      ]
     },
     "execution_count": 30,
     "metadata": {},
     "output_type": "execute_result"
    }
   ],
   "source": [
    "df.describe()"
   ]
  },
  {
   "cell_type": "code",
   "execution_count": 31,
   "metadata": {},
   "outputs": [
    {
     "data": {
      "text/plain": [
       "<AxesSubplot:>"
      ]
     },
     "execution_count": 31,
     "metadata": {},
     "output_type": "execute_result"
    },
    {
     "data": {
      "image/png": "[encoded data removed]",
      "text/plain": [
       "<Figure size 432x288 with 1 Axes>"
      ]
     },
     "metadata": {
      "needs_background": "light"
     },
     "output_type": "display_data"
    }
   ],
   "source": [
    "df = df[df['A'] > 1.5]\n",
    "df = df[df['A'] < 9.5]\n",
    "df.boxplot()"
   ]
  },
  {
   "cell_type": "code",
   "execution_count": 32,
   "metadata": {},
   "outputs": [
    {
     "data": {
      "text/plain": [
       "A    1.5\n",
       "dtype: float64"
      ]
     },
     "execution_count": 32,
     "metadata": {},
     "output_type": "execute_result"
    }
   ],
   "source": [
    "# outlier\n",
    "\n",
    "outlier_low = Q1 - (1.5 * IQR)\n",
    "outlier_low"
   ]
  },
  {
   "cell_type": "code",
   "execution_count": 33,
   "metadata": {},
   "outputs": [
    {
     "data": {
      "text/plain": [
       "A    9.5\n",
       "dtype: float64"
      ]
     },
     "execution_count": 33,
     "metadata": {},
     "output_type": "execute_result"
    }
   ],
   "source": [
    "outlier_high = Q3 + (1.5 * IQR)\n",
    "outlier_high"
   ]
  }
 ],
 "metadata": {
  "kernelspec": {
   "display_name": "bigdata",
   "language": "python",
   "name": "bigdata"
  },
  "language_info": {
   "codemirror_mode": {
    "name": "ipython",
    "version": 3
   },
   "file_extension": ".py",
   "mimetype": "text/x-python",
   "name": "python",
   "nbconvert_exporter": "python",
   "pygments_lexer": "ipython3",
   "version": "3.8.13"
  }
 },
 "nbformat": 4,
 "nbformat_minor": 4
}
