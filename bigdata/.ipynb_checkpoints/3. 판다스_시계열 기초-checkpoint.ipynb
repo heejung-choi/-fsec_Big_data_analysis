{
 "cells": [
  {
   "cell_type": "markdown",
   "id": "b418b65b",
   "metadata": {
    "_kg_hide-input": true,
    "papermill": {
     "duration": 0.035154,
     "end_time": "2021-09-17T23:33:33.505675",
     "exception": false,
     "start_time": "2021-09-17T23:33:33.470521",
     "status": "completed"
    },
    "tags": []
   },
   "source": [
    "## Setup"
   ]
  },
  {
   "cell_type": "code",
   "execution_count": null,
   "id": "df6c1129",
   "metadata": {
    "_kg_hide-input": true,
    "papermill": {
     "duration": 1.041512,
     "end_time": "2021-09-17T23:33:34.582955",
     "exception": false,
     "start_time": "2021-09-17T23:33:33.541443",
     "status": "completed"
    },
    "tags": []
   },
   "outputs": [],
   "source": [
    "import numpy as np\n",
    "import pandas as pd\n",
    "\n",
    "import matplotlib.pyplot as plt\n",
    "import seaborn as sns\n",
    "\n",
    "import warnings\n",
    "warnings.filterwarnings(\"ignore\")"
   ]
  },
  {
   "cell_type": "markdown",
   "id": "2de0d84b-cfb3-49c5-a1b4-2ac64cda86fb",
   "metadata": {},
   "source": [
    "# Pandas - Date & Time"
   ]
  },
  {
   "cell_type": "code",
   "execution_count": null,
   "id": "eea3ad8a-8c19-467d-857b-28cd9b8406c1",
   "metadata": {},
   "outputs": [],
   "source": [
    "# 주가 데이터 가져오기\n",
    "df = pd.read_csv(\"./all_stocks_2006-01-01_to_2018-01-01.csv\")\n",
    "df.head()"
   ]
  },
  {
   "cell_type": "code",
   "execution_count": null,
   "id": "31faaf31-64e0-4578-958c-edffe09aa952",
   "metadata": {},
   "outputs": [],
   "source": [
    "df"
   ]
  },
  {
   "cell_type": "code",
   "execution_count": null,
   "id": "1fff345a-5526-40e0-9a03-581eb6eae213",
   "metadata": {},
   "outputs": [],
   "source": [
    "# 종목별 종가\n",
    "df = pd.pivot(data=df, index='Date', columns='Name', values='Close')\n",
    "df.head()"
   ]
  },
  {
   "cell_type": "code",
   "execution_count": null,
   "id": "2c8a6c0a-7683-4fa9-8285-f990c3d7b11e",
   "metadata": {},
   "outputs": [],
   "source": [
    "# 애플, 아마존 선택\n",
    "df = df[['AAPL', 'AMZN']]\n",
    "df.head()"
   ]
  },
  {
   "cell_type": "code",
   "execution_count": null,
   "id": "05b7a790-ad4c-41db-a6fa-ed18db741e27",
   "metadata": {},
   "outputs": [],
   "source": [
    "# 인덱스 초기화\n",
    "df = df.reset_index()\n",
    "# 인덱스를 초기화 한 것에 대해 컬럼으로 들어오게 된다.\n",
    "#앞에서 다섯줄\n",
    "df.head()"
   ]
  },
  {
   "cell_type": "code",
   "execution_count": null,
   "id": "ee136a4f-2ddd-4a46-93cc-45b5c0c82d42",
   "metadata": {},
   "outputs": [],
   "source": [
    "# 뒷부분의 자료를 보고 싶다면 tail\n",
    "df.tail()"
   ]
  },
  {
   "cell_type": "code",
   "execution_count": null,
   "id": "60052ac1-7a8a-4cab-ab98-7c32e2cf1019",
   "metadata": {},
   "outputs": [],
   "source": [
    "# 자료형 확인\n",
    "df.info()"
   ]
  },
  {
   "cell_type": "code",
   "execution_count": null,
   "id": "aa4f023b-f582-4490-9b70-c6744229a1f2",
   "metadata": {},
   "outputs": [],
   "source": [
    "# 문자열 -> datetime 자료형\n",
    "df['Date'] = pd.to_datetime(df['Date'], format='%Y-%m-%d')\n",
    "df.info()"
   ]
  },
  {
   "cell_type": "code",
   "execution_count": null,
   "id": "1091eb93-353d-4733-8034-354b41016782",
   "metadata": {},
   "outputs": [],
   "source": [
    "# 날짜 인덱스 변환\n",
    "df = df.set_index('Date')\n",
    "df.head()"
   ]
  },
  {
   "cell_type": "code",
   "execution_count": null,
   "id": "78bd99dc-8b08-4ac0-955b-78d3bb26607d",
   "metadata": {},
   "outputs": [],
   "source": [
    "# pandas plot\n",
    "df.plot()"
   ]
  },
  {
   "cell_type": "markdown",
   "id": "f3e6cce1-8c9d-4948-b1f5-fdea50bf99d0",
   "metadata": {},
   "source": [
    "### Timestamp"
   ]
  },
  {
   "cell_type": "code",
   "execution_count": null,
   "id": "798c1ed8-ffd1-410a-9fe3-292dfbf38407",
   "metadata": {},
   "outputs": [],
   "source": [
    "# timestamp \n",
    "ts = pd.Timestamp(\"2022-03-25 07:23:59\")\n",
    "ts"
   ]
  },
  {
   "cell_type": "code",
   "execution_count": null,
   "id": "3b56a6eb-259e-47ef-a422-9e51c3eacc7c",
   "metadata": {},
   "outputs": [],
   "source": [
    "# timestamp 속성\n",
    "print(\"year:\", ts.year)#연도\n",
    "print(\"month:\", ts.month)#월\n",
    "print(\"quarter:\", ts.quarter)#분기\n",
    "print(\"day:\", ts.day)#일\n",
    "print(\"weekofyear:\", ts.weekofyear)# 1년 중 몇번째 주\n",
    "print(\"dayofyear:\", ts.dayofyear)# 1년 중 몇번째 날\n",
    "print(\"dayofweek:\", ts.dayofweek)#주의 몇번째 날\n",
    "print(\"weekday:\", ts.weekday())\n",
    "print(\"hour:\", ts.hour)\n",
    "print(\"minute:\", ts.minute)\n",
    "print(\"second:\", ts.second)"
   ]
  },
  {
   "cell_type": "markdown",
   "id": "5ca230f7-b6e7-4c3c-8121-23b84a0f0f58",
   "metadata": {},
   "source": [
    "### date range  \n",
    "https://pandas.pydata.org/pandas-docs/stable/user_guide/timeseries.html#timeseries-offset-aliases"
   ]
  },
  {
   "cell_type": "code",
   "execution_count": null,
   "id": "604488db-7842-4213-b79c-b687b28dd5ea",
   "metadata": {},
   "outputs": [],
   "source": [
    "date_ids = pd.date_range(start=\"2020-01-01\", end=\"2021-06-30\", freq=\"M\")\n",
    "date_ids"
   ]
  },
  {
   "cell_type": "code",
   "execution_count": null,
   "id": "249efd0e-9436-46bb-ad3e-db58136adb29",
   "metadata": {},
   "outputs": [],
   "source": [
    "#2주간격\n",
    "date_ids = pd.date_range(start=\"2020-01-01\", end=\"2021-06-30\", freq=\"2M\")\n",
    "date_ids"
   ]
  },
  {
   "cell_type": "code",
   "execution_count": null,
   "id": "d7f37b11-b0fd-4607-86b1-47adf51a579f",
   "metadata": {},
   "outputs": [],
   "source": [
    "date_ids[0]"
   ]
  },
  {
   "cell_type": "markdown",
   "id": "bd1cd9c0-f7ea-4060-91b8-6aad1fd7dcb4",
   "metadata": {},
   "source": [
    "### time delta"
   ]
  },
  {
   "cell_type": "code",
   "execution_count": null,
   "id": "44c3bb50-a4cf-4abe-82c9-ff2a4ab8be99",
   "metadata": {},
   "outputs": [],
   "source": [
    "#시간의 차이 5번째 일에서 0번째일을 빼자\n",
    "days = date_ids[5] - date_ids[0]\n",
    "days"
   ]
  },
  {
   "cell_type": "code",
   "execution_count": null,
   "id": "7e1abc22-a601-4b38-989b-e35edc1caae9",
   "metadata": {},
   "outputs": [],
   "source": [
    "#days의 날짜만 뽑자\n",
    "days.days"
   ]
  },
  {
   "cell_type": "code",
   "execution_count": null,
   "id": "fcbc2483-697d-4dbd-bfa4-a59a6280a9aa",
   "metadata": {},
   "outputs": [],
   "source": [
    "#days의 시간만 뽑자\n",
    "pd.Timedelta(days=1)"
   ]
  },
  {
   "cell_type": "markdown",
   "id": "4d007163-89c2-4b9c-a651-873f246c90b6",
   "metadata": {},
   "source": [
    "### (DateTimeIndex) Slicing"
   ]
  },
  {
   "cell_type": "code",
   "execution_count": null,
   "id": "e5ee32a7-a9de-44c9-8a0d-fd078be26688",
   "metadata": {},
   "outputs": [],
   "source": [
    "# 시간 기준으로 Slicing 할 수 있다.\n",
    "df.head()"
   ]
  },
  {
   "cell_type": "code",
   "execution_count": null,
   "id": "e1c300c2-4136-4080-8cd3-196bdd1349f0",
   "metadata": {},
   "outputs": [],
   "source": [
    "#해당 범위값만 추출하고 싶다고 할 때 쓸 수 있다.\n",
    "df['2006-03':'2006-05']"
   ]
  },
  {
   "cell_type": "code",
   "execution_count": null,
   "id": "7fa0181a-fc45-4ec7-9fd8-73b873a1be9c",
   "metadata": {},
   "outputs": [],
   "source": [
    "df['2006':'2007']"
   ]
  },
  {
   "cell_type": "markdown",
   "id": "fa13b6a8-3c79-4e67-b4a7-a0afd8ecd923",
   "metadata": {},
   "source": [
    "# 결측값 처리"
   ]
  },
  {
   "cell_type": "code",
   "execution_count": null,
   "id": "35c6d6fe-124d-40f1-b6b0-75d764965b1f",
   "metadata": {},
   "outputs": [],
   "source": [
    "# 결측값 생성\n",
    "apple = df[['AAPL']]\n",
    "\n",
    "np.random.seed(20)\n",
    "apple.iloc[np.random.randint(len(df), size=300), 0] = np.nan\n",
    "apple.isnull().sum()"
   ]
  },
  {
   "cell_type": "markdown",
   "id": "8940176e-af3c-460e-8d96-5e3c0e68b7d3",
   "metadata": {},
   "source": [
    "### mean / median"
   ]
  },
  {
   "cell_type": "code",
   "execution_count": null,
   "id": "967787e5-cc27-46ae-b276-32962a93f109",
   "metadata": {},
   "outputs": [],
   "source": [
    "apple_mean = apple.copy()\n",
    "#결측치를 채워주는 함수\n",
    "#나머지 날짜들의 평균값들을 이용해서 결측치를 채워준다.\n",
    "apple_mean['AAPL'] = apple_mean['AAPL'].fillna(apple_mean['AAPL'].mean())\n",
    "apple_mean.isnull().sum()"
   ]
  },
  {
   "cell_type": "code",
   "execution_count": null,
   "id": "31fa29bd-c9d9-47c2-9bc0-54ad56dce7ef",
   "metadata": {},
   "outputs": [],
   "source": [
    "apple_median = apple.copy()\n",
    "apple_median['AAPL'] = apple_median['AAPL'].fillna(apple_median['AAPL'].median())\n",
    "apple_median.isnull().sum()"
   ]
  },
  {
   "cell_type": "code",
   "execution_count": null,
   "id": "55a925ba-9717-493d-9c27-980c42c7a2f5",
   "metadata": {},
   "outputs": [],
   "source": [
    "fig, ax = plt.subplots(figsize=(12, 6))\n",
    "sns.kdeplot(data=apple, linewidth=5, ax=ax, label=\"original\")\n",
    "sns.kdeplot(data=apple_mean, linewidth=2, linestyle='--', ax=ax, label=\"mean\")\n",
    "sns.kdeplot(data=apple_median, linewidth=2, linestyle=':', ax=ax, label=\"median\")\n",
    "plt.legend()\n",
    "plt.show()"
   ]
  },
  {
   "cell_type": "markdown",
   "id": "ee866d42-a0cd-4d6b-9ab5-687c8d054fbc",
   "metadata": {},
   "source": [
    "### ffill / bfill"
   ]
  },
  {
   "cell_type": "code",
   "execution_count": null,
   "id": "6469508b-7c0a-42fd-907e-9c5a584953cb",
   "metadata": {},
   "outputs": [],
   "source": [
    "test = pd.Series([1, 2, 3, np.nan, 4, 5])\n",
    "test"
   ]
  },
  {
   "cell_type": "code",
   "execution_count": null,
   "id": "3b51af26-10da-40ee-b8b0-c5197518b0e9",
   "metadata": {},
   "outputs": [],
   "source": [
    "test.fillna(method='ffill')"
   ]
  },
  {
   "cell_type": "code",
   "execution_count": null,
   "id": "aa740505-8a34-4a56-9476-2ab587c941fe",
   "metadata": {},
   "outputs": [],
   "source": [
    "test.fillna(method='bfill')"
   ]
  },
  {
   "cell_type": "code",
   "execution_count": null,
   "id": "7b142dd2-c54e-44a5-80be-9c9858620b2b",
   "metadata": {},
   "outputs": [],
   "source": [
    "apple_ffill = apple.copy()\n",
    "apple_ffill['AAPL'] = apple_ffill['AAPL'].fillna(method='ffill')\n",
    "apple_ffill.isnull().sum()"
   ]
  },
  {
   "cell_type": "code",
   "execution_count": null,
   "id": "ab241d01-c1c9-4a85-af80-5d2c9d62c85d",
   "metadata": {},
   "outputs": [],
   "source": [
    "apple_bfill = apple.copy()\n",
    "apple_bfill['AAPL'] = apple_bfill['AAPL'].fillna(method='bfill')\n",
    "apple_bfill.isnull().sum()"
   ]
  },
  {
   "cell_type": "code",
   "execution_count": null,
   "id": "573490e9-950e-48d3-8dbb-403b16b26b34",
   "metadata": {},
   "outputs": [],
   "source": [
    "fig, ax = plt.subplots(figsize=(12, 6))\n",
    "sns.kdeplot(data=apple, linewidth=5, ax=ax, label=\"original\")\n",
    "sns.kdeplot(data=apple_ffill, linewidth=2, linestyle='--', ax=ax, label=\"ffill\")\n",
    "sns.kdeplot(data=apple_bfill, linewidth=2, linestyle=':', ax=ax, label=\"bfill\")\n",
    "plt.legend()\n",
    "plt.show()"
   ]
  },
  {
   "cell_type": "markdown",
   "id": "586d6f7b-5918-4619-be7c-acd27a86122b",
   "metadata": {},
   "source": [
    "### interpolate"
   ]
  },
  {
   "cell_type": "code",
   "execution_count": null,
   "id": "929947e1-c500-425f-9074-58185ae963b3",
   "metadata": {},
   "outputs": [],
   "source": [
    "# 1-5까지 중 4개를 결측으로 채워놓았다.\n",
    "test = pd.Series([1, np.nan, np.nan, np.nan, np.nan, 5])\n",
    "test"
   ]
  },
  {
   "cell_type": "code",
   "execution_count": null,
   "id": "dda0a475-7551-47ee-8821-71a14d0d7364",
   "metadata": {},
   "outputs": [],
   "source": [
    "test.interpolate(method='linear')\n",
    "# linear 선형추론"
   ]
  },
  {
   "cell_type": "code",
   "execution_count": null,
   "id": "933bbb5b-3a6f-40ce-8131-1461c6898ae4",
   "metadata": {},
   "outputs": [],
   "source": [
    "test.interpolate(method='nearest')"
   ]
  },
  {
   "cell_type": "code",
   "execution_count": null,
   "id": "f7711198-dc9e-453f-88a2-e2926398d338",
   "metadata": {},
   "outputs": [],
   "source": [
    "apple_linear = apple.copy()\n",
    "apple_linear['AAPL'] = apple_linear['AAPL'].interpolate(method='linear')\n",
    "apple_linear.isnull().sum()"
   ]
  },
  {
   "cell_type": "code",
   "execution_count": null,
   "id": "1ae34fc7-5a98-46db-bc51-87355fecb87b",
   "metadata": {},
   "outputs": [],
   "source": [
    "apple_nearest = apple.copy()\n",
    "apple_nearest['AAPL'] = apple_nearest['AAPL'].interpolate(method='nearest')\n",
    "apple_nearest.isnull().sum()"
   ]
  },
  {
   "cell_type": "code",
   "execution_count": null,
   "id": "01a51ba5-cc5c-485c-89d3-19ababf25137",
   "metadata": {},
   "outputs": [],
   "source": [
    "fig, ax = plt.subplots(figsize=(12, 6))\n",
    "sns.kdeplot(data=apple, linewidth=5, ax=ax, label=\"original\")\n",
    "sns.kdeplot(data=apple_linear, linewidth=2, linestyle='--', ax=ax, label=\"linear\")\n",
    "sns.kdeplot(data=apple_nearest, linewidth=2, linestyle=':', ax=ax, label=\"nearest\")\n",
    "plt.legend()\n",
    "plt.show()"
   ]
  },
  {
   "cell_type": "markdown",
   "id": "8d48c2d2-7d4a-47bd-88f2-d3358ac108b2",
   "metadata": {},
   "source": [
    "### ML 모델"
   ]
  },
  {
   "cell_type": "code",
   "execution_count": null,
   "id": "d3250b9e-c797-47c6-b830-f5bdb7306fc2",
   "metadata": {},
   "outputs": [],
   "source": [
    "from sklearn.impute import KNNImputer\n",
    "\n",
    "apple_knn = apple.copy()\n",
    "\n",
    "for k in [3, 5, 7]:\n",
    "    imp = KNNImputer(n_neighbors=k)\n",
    "    apple_knn[f\"k={k}\"] = imp.fit_transform(apple_knn[\"AAPL\"].values.reshape(-1,1))"
   ]
  },
  {
   "cell_type": "code",
   "execution_count": null,
   "id": "4063d5dd-e2bb-45fe-a598-01169c786f97",
   "metadata": {},
   "outputs": [],
   "source": [
    "fig, ax = plt.subplots(figsize=(12, 6))\n",
    "sns.kdeplot(data=apple, linewidth=5, ax=ax, label=\"original\")\n",
    "sns.kdeplot(data=apple_knn['k=3'], linewidth=2, linestyle='--', ax=ax, label=\"k=3\")\n",
    "sns.kdeplot(data=apple_knn['k=5'], linewidth=2, linestyle=':', ax=ax, label=\"k=5\")\n",
    "sns.kdeplot(data=apple_knn['k=7'], linewidth=2, linestyle='-.', ax=ax, label=\"k=7\")\n",
    "plt.legend()\n",
    "plt.show()"
   ]
  },
  {
   "cell_type": "markdown",
   "id": "5e3fe12a-20a3-47f6-a418-16693d2599cd",
   "metadata": {},
   "source": [
    "# lag"
   ]
  },
  {
   "cell_type": "code",
   "execution_count": null,
   "id": "8cdae8ec-fddb-451d-8ebe-ec22835a0ecc",
   "metadata": {},
   "outputs": [],
   "source": [
    "apple_linear['AAPL'].shift(1)\n",
    "# 직전시점의 데이터"
   ]
  },
  {
   "cell_type": "code",
   "execution_count": null,
   "id": "bd14b28f-b65d-4f34-a001-f9a6580116a8",
   "metadata": {},
   "outputs": [],
   "source": [
    "apple_linear['AAPL'].shift(-2)"
   ]
  },
  {
   "cell_type": "code",
   "execution_count": null,
   "id": "04c6ef5b-d64a-43f7-a856-44791efa01c3",
   "metadata": {},
   "outputs": [],
   "source": [
    "apple_lags = apple_linear.copy()\n",
    "apple_lags['lag_1'] = apple_lags['AAPL'].shift(1)\n",
    "apple_lags['lag_2'] = apple_lags['AAPL'].shift(2)\n",
    "apple_lags"
   ]
  },
  {
   "cell_type": "code",
   "execution_count": null,
   "id": "d098680a-ad8d-4e22-bfba-4ba665cade56",
   "metadata": {},
   "outputs": [],
   "source": [
    "apple_lags['diff_lag_1'] = apple_lags['AAPL'] - apple_lags['lag_1']\n",
    "apple_lags"
   ]
  },
  {
   "cell_type": "code",
   "execution_count": null,
   "id": "3464953b-8d12-494d-8e84-f234a7ce9d23",
   "metadata": {},
   "outputs": [],
   "source": [
    "apple_lags.plot(figsize=(12, 8), subplots=True)"
   ]
  },
  {
   "cell_type": "code",
   "execution_count": null,
   "id": "568340cd-095b-4dd0-bed7-303e462efd8b",
   "metadata": {},
   "outputs": [],
   "source": [
    "apple_lags['diff_lag_1'].plot()"
   ]
  },
  {
   "cell_type": "code",
   "execution_count": null,
   "id": "cf88137c-96e1-4046-9e44-54f3b2b7b74c",
   "metadata": {},
   "outputs": [],
   "source": [
    "# diff 함수\n",
    "\n",
    "apple_lags['AAPL'].diff(1).plot()"
   ]
  },
  {
   "cell_type": "code",
   "execution_count": null,
   "id": "6820cfc1-f35e-4eec-8f81-9091aaaa65fa",
   "metadata": {},
   "outputs": [],
   "source": [
    "# percent change\n",
    "apple_lags['AAPL'].pct_change().plot()"
   ]
  },
  {
   "cell_type": "markdown",
   "id": "b327d8dd-af21-4a19-b7f1-21e11183d85d",
   "metadata": {},
   "source": [
    "# Resampling"
   ]
  },
  {
   "cell_type": "markdown",
   "id": "65c249a8-0736-4e73-8b00-48c63a6ef022",
   "metadata": {},
   "source": [
    "### asfreq "
   ]
  },
  {
   "cell_type": "code",
   "execution_count": null,
   "id": "22e6809d-3ffb-482f-848b-b9249fad79b2",
   "metadata": {},
   "outputs": [],
   "source": [
    "apple_linear"
   ]
  },
  {
   "cell_type": "code",
   "execution_count": null,
   "id": "0f40aab8-2ae5-4308-9bf0-71ab1c52c9c7",
   "metadata": {},
   "outputs": [],
   "source": [
    "apple_linear.asfreq('D')"
   ]
  },
  {
   "cell_type": "code",
   "execution_count": null,
   "id": "88f51e30-bc96-4897-9842-ab69e307481d",
   "metadata": {},
   "outputs": [],
   "source": [
    "apple_linear.asfreq('10d')"
   ]
  },
  {
   "cell_type": "markdown",
   "id": "07052024-2307-47e8-94dd-bba5ca438109",
   "metadata": {},
   "source": [
    "### resample"
   ]
  },
  {
   "cell_type": "code",
   "execution_count": null,
   "id": "9de24c0d-e055-4610-862c-92211fdf6b0b",
   "metadata": {},
   "outputs": [],
   "source": [
    "apple_linear.resample('D')"
   ]
  },
  {
   "cell_type": "code",
   "execution_count": null,
   "id": "52978b68-7e2e-4da1-ab05-39c7156eab0a",
   "metadata": {},
   "outputs": [],
   "source": [
    "apple_linear.resample('D').mean()"
   ]
  },
  {
   "cell_type": "code",
   "execution_count": null,
   "id": "087cafd0-5958-4b12-80ca-cd1d31f2d987",
   "metadata": {},
   "outputs": [],
   "source": [
    "apple_linear.resample('10d').mean()"
   ]
  },
  {
   "cell_type": "code",
   "execution_count": null,
   "id": "83c4b896-8dc1-47a1-a27e-f429878ccc0c",
   "metadata": {},
   "outputs": [],
   "source": [
    "apple_linear.resample('10d').max()"
   ]
  },
  {
   "cell_type": "code",
   "execution_count": null,
   "id": "a048e041-b0ab-4fc4-952e-5e5f2cfe7e65",
   "metadata": {},
   "outputs": [],
   "source": [
    "apple_linear.resample('10d').first()"
   ]
  },
  {
   "cell_type": "code",
   "execution_count": null,
   "id": "f6048969-cf50-420c-8553-3d5950143e65",
   "metadata": {},
   "outputs": [],
   "source": [
    "apple_linear.resample('M').agg(['min', 'max', 'mean', 'std'])"
   ]
  },
  {
   "cell_type": "code",
   "execution_count": null,
   "id": "727ea372-f1f3-46d1-97d4-19e750a17f71",
   "metadata": {},
   "outputs": [],
   "source": [
    "# 평활화 (smoothing)\n",
    "monthly_apple = apple_linear.resample(\"M\")[\"AAPL\"].mean()\n",
    "quarterly_apple = apple_linear.resample(\"Q\")[\"AAPL\"].mean()\n",
    "yearly_apple = apple_linear.resample(\"Y\")[\"AAPL\"].mean()\n",
    "\n",
    "plt.figure(figsize=(14, 5))\n",
    "apple_linear['AAPL'].plot(label='original')\n",
    "monthly_apple.plot(label='monthly')\n",
    "quarterly_apple.plot(label='quarterly')\n",
    "yearly_apple.plot(label='yearly')\n",
    "plt.legend()"
   ]
  },
  {
   "cell_type": "markdown",
   "id": "1136e66e-7d49-4f6b-aa4a-155ff944a001",
   "metadata": {},
   "source": [
    "# div 비교"
   ]
  },
  {
   "cell_type": "code",
   "execution_count": null,
   "id": "0a8a737c-43b5-4c41-9eb6-d233803bc98b",
   "metadata": {},
   "outputs": [],
   "source": [
    "df.head()"
   ]
  },
  {
   "cell_type": "code",
   "execution_count": null,
   "id": "2e0dc1ca-b45f-4a77-b4f4-4d5af86a5aac",
   "metadata": {},
   "outputs": [],
   "source": [
    "df.plot(figsize=(15, 4))"
   ]
  },
  {
   "cell_type": "code",
   "execution_count": null,
   "id": "cb545168-6c86-4b25-bca2-856adda7e0f6",
   "metadata": {},
   "outputs": [],
   "source": [
    "df_div = df.div(df.iloc[0])\n",
    "df_div.head()"
   ]
  },
  {
   "cell_type": "code",
   "execution_count": null,
   "id": "bdcb8f07-6b8c-4be9-8d98-ef28581e15c4",
   "metadata": {},
   "outputs": [],
   "source": [
    "df_div.plot(figsize=(15, 4))"
   ]
  },
  {
   "cell_type": "markdown",
   "id": "8c58e248-2532-4226-8f01-0664acd4ecc8",
   "metadata": {},
   "source": [
    "# rolling window"
   ]
  },
  {
   "cell_type": "code",
   "execution_count": null,
   "id": "e9745b36-2f92-4b07-9472-096cf3cfe74a",
   "metadata": {},
   "outputs": [],
   "source": [
    "df.rolling(window=5)"
   ]
  },
  {
   "cell_type": "code",
   "execution_count": null,
   "id": "3beffe3a-9119-4f3d-9d34-d014164e54e6",
   "metadata": {},
   "outputs": [],
   "source": [
    "df.rolling(window=5).mean()"
   ]
  },
  {
   "cell_type": "code",
   "execution_count": null,
   "id": "e3caa39d-c1d9-4038-aaed-7edfafb5b51f",
   "metadata": {},
   "outputs": [],
   "source": [
    "moving_average_day5 = df.rolling(window=5).mean()\n",
    "moving_average_day120 = df.rolling(window=120).mean()\n",
    "\n",
    "plt.figure(figsize=(14, 5))\n",
    "apple_linear['AAPL'].plot(label='original')\n",
    "moving_average_day5['AAPL'].plot(label='ma_5d')\n",
    "moving_average_day120['AAPL'].plot(label='ma_120d')\n",
    "plt.legend()"
   ]
  },
  {
   "cell_type": "markdown",
   "id": "84c22d50-06cf-4bfd-8cea-befd920aa0e0",
   "metadata": {},
   "source": [
    "# expanding window"
   ]
  },
  {
   "cell_type": "code",
   "execution_count": null,
   "id": "9f60b4c0-8ca5-4784-9de7-7e50089850d7",
   "metadata": {},
   "outputs": [],
   "source": [
    "# 누적 합계 - expanding\n",
    "df[\"AAPL\"].expanding(min_periods=1).sum()  # min_periods : 초기 윈도우 크기 설정"
   ]
  },
  {
   "cell_type": "code",
   "execution_count": null,
   "id": "795e6cd8-072b-4627-b1e7-44aa0aa56585",
   "metadata": {},
   "outputs": [],
   "source": [
    "df[\"AAPL\"].cumsum()"
   ]
  },
  {
   "cell_type": "code",
   "execution_count": null,
   "id": "f9858f2c-0f8d-4c8c-98ea-36db6ad16a4b",
   "metadata": {},
   "outputs": [],
   "source": [
    "# 누적 최솟값\n",
    "df[\"AAPL\"].expanding(min_periods=1).min() "
   ]
  },
  {
   "cell_type": "code",
   "execution_count": null,
   "id": "ec3f0b75-ff46-42da-a7c3-d60a4294fc38",
   "metadata": {},
   "outputs": [],
   "source": [
    "df[\"AAPL\"].cummin()"
   ]
  },
  {
   "cell_type": "code",
   "execution_count": null,
   "id": "52d308a8-5f2c-4795-a954-0f7c5a7a3604",
   "metadata": {},
   "outputs": [],
   "source": [
    "# 누적 최댓값\n",
    "df[\"AAPL\"].expanding(min_periods=1).max() "
   ]
  },
  {
   "cell_type": "code",
   "execution_count": null,
   "id": "b1581b17-2c90-46cb-b8de-f7ce5cfad77e",
   "metadata": {},
   "outputs": [],
   "source": [
    "df[\"AAPL\"].cummax()"
   ]
  },
  {
   "cell_type": "code",
   "execution_count": null,
   "id": "890943ed-b397-4f30-b153-865cda231542",
   "metadata": {},
   "outputs": [],
   "source": [
    "# 시각화 \n",
    "plt.figure(figsize=(14, 5))\n",
    "df['AAPL'].plot(label='original')\n",
    "df[\"AAPL\"].cummax().plot(label='max')\n",
    "df[\"AAPL\"].cummin().plot(label='min')\n",
    "plt.legend()"
   ]
  },
  {
   "cell_type": "code",
   "execution_count": null,
   "id": "bd225d85-200b-421b-a6b0-056ea25c1945",
   "metadata": {},
   "outputs": [],
   "source": []
  },
  {
   "cell_type": "code",
   "execution_count": null,
   "id": "7b60d2c9-c076-4102-8c10-283b3253d376",
   "metadata": {},
   "outputs": [],
   "source": []
  }
 ],
 "metadata": {
  "kernelspec": {
   "display_name": "bigdata",
   "language": "python",
   "name": "bigdata"
  },
  "language_info": {
   "codemirror_mode": {
    "name": "ipython",
    "version": 3
   },
   "file_extension": ".py",
   "mimetype": "text/x-python",
   "name": "python",
   "nbconvert_exporter": "python",
   "pygments_lexer": "ipython3",
   "version": "3.8.13"
  },
  "papermill": {
   "default_parameters": {},
   "duration": 30.944713,
   "end_time": "2021-09-17T23:33:55.929445",
   "environment_variables": {},
   "exception": null,
   "input_path": "__notebook__.ipynb",
   "output_path": "__notebook__.ipynb",
   "parameters": {},
   "start_time": "2021-09-17T23:33:24.984732",
   "version": "2.3.3"
  }
 },
 "nbformat": 4,
 "nbformat_minor": 5
}
