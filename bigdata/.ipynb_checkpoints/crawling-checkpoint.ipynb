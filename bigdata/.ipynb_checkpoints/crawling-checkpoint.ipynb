{
 "cells": [
  {
   "cell_type": "markdown",
   "metadata": {},
   "source": [
    "# Library"
   ]
  },
  {
   "cell_type": "code",
   "execution_count": 5,
   "metadata": {},
   "outputs": [],
   "source": [
    "import pandas as pd\n",
    "import numpy as np\n",
    "\n",
    "import matplotlib.pyplot as plt\n",
    "import seaborn as sns\n",
    "\n",
    "from tqdm import tqdm \n",
    "import time \n",
    "import re\n",
    "\n",
    "import warnings\n",
    "warnings.filterwarnings(action='ignore')\n",
    "\n",
    "# 한글 폰트 인식 - Windows\n",
    "import matplotlib \n",
    "font_name = matplotlib.font_manager.FontProperties(fname=\"c:/Windows/Fonts/malgun.ttf\").get_name()\n",
    "matplotlib.rc('font', family=font_name)\n",
    "\n",
    "# 마이너스 부호 인식\n",
    "matplotlib.rc(\"axes\", unicode_minus = False)"
   ]
  },
  {
   "cell_type": "markdown",
   "metadata": {},
   "source": [
    "# 유투브 댓글 수집"
   ]
  },
  {
   "cell_type": "markdown",
   "metadata": {},
   "source": [
    "## 1. 웹드라이버 실행"
   ]
  },
  {
   "cell_type": "code",
   "execution_count": 6,
   "metadata": {
    "tags": []
   },
   "outputs": [],
   "source": [
    "from selenium import webdriver\n",
    "from bs4 import BeautifulSoup\n",
    "\n",
    "url = 'https://www.youtube.com/watch?v=XcczywUEJi0'\n",
    "\n",
    "driver = webdriver.Chrome(\"C:/bigdata/lecture/chromedriver.exe\")\n",
    "\n",
    "# 윈도우 크기 설정\n",
    "driver.set_window_size(800, 600)\n",
    "driver.implicitly_wait(5)\n",
    "driver.get(url)"
   ]
  },
  {
   "cell_type": "markdown",
   "metadata": {},
   "source": [
    "## 2. 스크롤 다운 "
   ]
  },
  {
   "cell_type": "code",
   "execution_count": 7,
   "metadata": {},
   "outputs": [
    {
     "name": "stdout",
     "output_type": "stream",
     "text": [
      "2906\n"
     ]
    }
   ],
   "source": [
    "current_page_height = driver.execute_script(\"return document.documentElement.scrollHeight\") \n",
    "print(current_page_height)"
   ]
  },
  {
   "cell_type": "code",
   "execution_count": 8,
   "metadata": {},
   "outputs": [],
   "source": [
    "# 20000까지만 스크롤하는 경우\n",
    "driver.execute_script(\"window.scrollTo(0, 50000);\") "
   ]
  },
  {
   "cell_type": "code",
   "execution_count": null,
   "metadata": {},
   "outputs": [],
   "source": [
    "# # 화면 끝까지 스크롤하는 경우\n",
    "\n",
    "# while True: \n",
    "#     driver.execute_script(\"window.scrollTo(0, document.documentElement.scrollHeight);\")     \n",
    "#     time.sleep(3) \n",
    "#     scrolled_page_height = driver.execute_script(\"return document.documentElement.scrollHeight\") \n",
    "    \n",
    "#     if scrolled_page_height == current_page_height: \n",
    "#         break\n",
    "#     current_page_height = scrolled_page_height"
   ]
  },
  {
   "cell_type": "markdown",
   "metadata": {},
   "source": [
    "## 3. HTML 소스 파싱 "
   ]
  },
  {
   "cell_type": "code",
   "execution_count": 9,
   "metadata": {},
   "outputs": [
    {
     "data": {
      "text/plain": [
       "'<html style=\"font-size: 10px;font-family: Roboto, Arial, sans-serif;\" lang=\"ko-KR\" system-icons=\"\" typography=\"\" typography-spacing=\"\" standardized-themed-scrollbar=\"\"><head><script data-original-src=\"/s/player/fae06c11/player_ias.vflset/ko_KR/endscreen.js\" nonce=\"uOjbP1a0zG+B1E0zzTveDg\" src=\"/s/player/fae06c11/player_ias.vflset/ko_KR/endscreen.js\" class=\"js-httpswwwyoutubecomsplayerfae06c11player_iasvflsetko_KRendscreenjs\"></script><script data-original-src=\"/s/player/fae06c11/player_ias.vflset/ko_KR/captions.js\" nonce=\"uOjbP1a0zG+B1E0zzTveDg\" src=\"/s/player/fae06c11/player_ias.vflset/ko_KR/captions.js\" class=\"js-httpswwwyoutubecomsplayerfae06c11player_iasvflsetko_KRcaptionsjs\"></script><script data-original-src=\"/s/player/fae06c11/player_ias.vflset/ko_KR/miniplayer.js\" nonce=\"uOjbP1a0zG+B1E0zzTveDg\" src=\"/s/player/fae06c11/player_ias.vflset/ko_KR/miniplayer.js\" class=\"js-httpswwwyoutubecomsplayerfae06c11player_iasvflsetko_KRminiplayerjs\"></script><script data-original-src=\"/s/player/'"
      ]
     },
     "execution_count": 9,
     "metadata": {},
     "output_type": "execute_result"
    }
   ],
   "source": [
    "html = driver.page_source\n",
    "html[:1000]"
   ]
  },
  {
   "cell_type": "code",
   "execution_count": 10,
   "metadata": {},
   "outputs": [],
   "source": [
    "soup = BeautifulSoup(html, 'html.parser')"
   ]
  },
  {
   "cell_type": "code",
   "execution_count": 12,
   "metadata": {},
   "outputs": [],
   "source": [
    "#author-text > span"
   ]
  },
  {
   "cell_type": "code",
   "execution_count": 11,
   "metadata": {},
   "outputs": [
    {
     "data": {
      "text/plain": [
       "20"
      ]
     },
     "execution_count": 11,
     "metadata": {},
     "output_type": "execute_result"
    }
   ],
   "source": [
    "reviews = soup.find_all(name='ytd-comment-thread-renderer', attrs={'class':'style-scope ytd-item-section-renderer'})\n",
    "len(reviews)"
   ]
  },
  {
   "cell_type": "code",
   "execution_count": 12,
   "metadata": {},
   "outputs": [
    {
     "data": {
      "text/plain": [
       "<ytd-comment-thread-renderer class=\"style-scope ytd-item-section-renderer\"><!--css-build:shady--><ytd-comment-renderer class=\"style-scope ytd-comment-thread-renderer\" comment-style=\"unknown\" id=\"comment\" style=\"--ytd-comment-paid-background-color: initial;\"><!--css-build:shady--><div class=\"style-scope ytd-comment-renderer\" id=\"paid-comment-images\">\n",
       "<dom-if class=\"style-scope ytd-comment-renderer\"><template is=\"dom-if\"></template></dom-if>\n",
       "<dom-if class=\"style-scope ytd-comment-renderer\"><template is=\"dom-if\"></template></dom-if>\n",
       "</div>\n",
       "<div class=\"style-scope ytd-comment-renderer\" hidden=\"\" id=\"linked-comment-badge\"></div>\n",
       "<div class=\"style-scope ytd-comment-renderer\" id=\"body\">\n",
       "<div class=\"style-scope ytd-comment-renderer\" id=\"author-thumbnail\">\n",
       "<a class=\"yt-simple-endpoint style-scope ytd-comment-renderer\" href=\"/channel/UCOJTLLgqo0KVbdaKVHxKabA\">\n",
       "<yt-img-shadow class=\"style-scope ytd-comment-renderer no-transition\" fit=\"\" height=\"40\" loaded=\"\" style=\"background-color: transparent;\" width=\"40\"><!--css-build:shady--><img alt=\"KB손해보험 다이렉트\" class=\"style-scope yt-img-shadow\" height=\"40\" id=\"img\" src=\"https://yt3.ggpht.com/ytc/AKedOLRsLtjcILT3twvAMF8sLoU1xZsuCzXhFYrhITaMoQ=s88-c-k-c0x00ffffff-no-rj\" width=\"40\"/></yt-img-shadow>\n",
       "</a>\n",
       "</div>\n",
       "<div class=\"style-scope ytd-comment-renderer\" id=\"main\">\n",
       "<div class=\"style-scope ytd-comment-renderer\" id=\"header\">\n",
       "<div class=\"style-scope ytd-comment-renderer\" id=\"pinned-comment-badge\"><ytd-pinned-comment-badge-renderer class=\"style-scope ytd-comment-renderer\"><!--css-build:shady--><yt-icon class=\"style-scope ytd-pinned-comment-badge-renderer\" size=\"12\"><svg class=\"style-scope yt-icon\" focusable=\"false\" preserveaspectratio=\"xMidYMid meet\" style=\"pointer-events: none; display: block; width: 100%; height: 100%;\" viewbox=\"0 0 12 12\"><g class=\"style-scope yt-icon\"><path class=\"style-scope yt-icon\" d=\"M8,2V1H3v1h1v3.8L3,7h2v2.5L5.5,10L6,9.5V7h2L7,5.8V2H8z M6,6H5V2h1V6z\"></path></g></svg><!--css-build:shady--></yt-icon>\n",
       "<yt-formatted-string class=\"style-scope ytd-pinned-comment-badge-renderer\" id=\"label\"><span class=\"style-scope yt-formatted-string\" dir=\"auto\">KB손해보험 다이렉트</span><span class=\"style-scope yt-formatted-string\" dir=\"auto\">님이 고정함</span></yt-formatted-string>\n",
       "</ytd-pinned-comment-badge-renderer></div>\n",
       "<div class=\"style-scope ytd-comment-renderer\" id=\"header-author\">\n",
       "<h3 class=\"style-scope ytd-comment-renderer\">\n",
       "<a class=\"yt-simple-endpoint style-scope ytd-comment-renderer\" hidden=\"\" href=\"/channel/UCOJTLLgqo0KVbdaKVHxKabA\" id=\"author-text\">\n",
       "<span class=\"channel-owner style-scope ytd-comment-renderer\">\n",
       "              KB손해보험 다이렉트\n",
       "            </span>\n",
       "</a>\n",
       "</h3>\n",
       "<span class=\"style-scope ytd-comment-renderer\" id=\"author-comment-badge\"><ytd-author-comment-badge-renderer class=\"style-scope ytd-comment-renderer\" creator=\"\" standardize-icon-size=\"\" style=\"--yt-basic-background-color:rgba(136,136,136,1); --yt-basic-foreground-title-color:rgba(255,255,255,1); --ytd-author-comment-badge-background-color:#888888; --ytd-author-comment-badge-name-color:#ffffff; --ytd-author-comment-badge-icon-color:#ffffff;\"><!--css-build:shady--><a class=\"yt-simple-endpoint style-scope ytd-author-comment-badge-renderer\" href=\"/channel/UCOJTLLgqo0KVbdaKVHxKabA\" id=\"name\">\n",
       "<ytd-channel-name class=\"style-scope ytd-author-comment-badge-renderer\" id=\"channel-name\"><!--css-build:shady--><div class=\"style-scope ytd-channel-name\" id=\"container\">\n",
       "<div class=\"style-scope ytd-channel-name\" id=\"text-container\">\n",
       "<yt-formatted-string class=\"style-scope ytd-channel-name\" ellipsis-truncate=\"\" id=\"text\" title=\"\">KB손해보험 다이렉트</yt-formatted-string>\n",
       "</div>\n",
       "<tp-yt-paper-tooltip class=\"style-scope ytd-channel-name\" fit-to-visible-bounds=\"\" role=\"tooltip\" tabindex=\"-1\"><!--css-build:shady--><div class=\"hidden style-scope tp-yt-paper-tooltip\" id=\"tooltip\" style-target=\"tooltip\">\n",
       "  \n",
       "    KB손해보험 다이렉트\n",
       "  \n",
       "</div>\n",
       "</tp-yt-paper-tooltip>\n",
       "</div>\n",
       "<ytd-badge-supported-renderer class=\"style-scope ytd-channel-name\" disable-upgrade=\"\" hidden=\"\">\n",
       "</ytd-badge-supported-renderer>\n",
       "</ytd-channel-name>\n",
       "</a>\n",
       "<yt-icon class=\"style-scope ytd-author-comment-badge-renderer\" hidden=\"\" id=\"icon\" size=\"12\"><!--css-build:shady--></yt-icon>\n",
       "</ytd-author-comment-badge-renderer></span>\n",
       "<span class=\"style-scope ytd-comment-renderer\" hidden=\"\" id=\"sponsor-comment-badge\"></span>\n",
       "<yt-formatted-string class=\"published-time-text above-comment style-scope ytd-comment-renderer\" has-link-only_=\"\"><a class=\"yt-simple-endpoint style-scope yt-formatted-string\" dir=\"auto\" href=\"/watch?v=XcczywUEJi0&amp;lc=Ugzh8OdcVoIS-DH-iZh4AaABAg\" spellcheck=\"false\">8개월 전(수정됨)</a></yt-formatted-string>\n",
       "<span class=\"style-scope ytd-comment-renderer\" id=\"author-reputation\"></span>\n",
       "<span class=\"style-scope ytd-comment-renderer\" hidden=\"\" id=\"sponsors-only-badge\"></span>\n",
       "<span class=\"style-scope ytd-comment-renderer\" hidden=\"\" id=\"moderation-reason-divider\">\n",
       "          •\n",
       "        </span>\n",
       "<span class=\"style-scope ytd-comment-renderer\" hidden=\"\" id=\"moderation-reason-text\">\n",
       "</span>\n",
       "</div>\n",
       "</div>\n",
       "<ytd-expander class=\"style-scope ytd-comment-renderer\" collapsed=\"\" id=\"expander\" max-number-of-lines=\"4\" should-use-number-of-lines=\"\" style=\"--ytd-expander-max-lines:4;\"><!--css-build:shady--><div class=\"style-scope ytd-expander\" id=\"content\">\n",
       "<yt-formatted-string class=\"style-scope ytd-comment-renderer\" disable-upgrade=\"\" hidden=\"\" id=\"voted-option\" slot=\"content\">\n",
       "</yt-formatted-string><yt-pdg-comment-chip-renderer class=\"style-scope ytd-comment-renderer\" hidden=\"\" id=\"paid-comment-chip\" slot=\"content\"><!--css-build:shady--><div class=\"style-scope yt-pdg-comment-chip-renderer\" id=\"comment-chip-container\"><yt-icon class=\"style-scope yt-pdg-comment-chip-renderer\"><!--css-build:shady--></yt-icon><span class=\"style-scope yt-pdg-comment-chip-renderer\" id=\"comment-chip-price\">\n",
       "</span></div></yt-pdg-comment-chip-renderer><yt-formatted-string class=\"style-scope ytd-comment-renderer\" id=\"content-text\" slot=\"content\" split-lines=\"\"><span class=\"style-scope yt-formatted-string\" dir=\"auto\">KBrave Girls와 함께 하는 만기알림 신청만 – 해 EVENT!</span><span class=\"style-scope yt-formatted-string\" dir=\"auto\">\n",
       "</span><span class=\"style-scope yt-formatted-string\" dir=\"auto\">\n",
       "</span><span class=\"style-scope yt-formatted-string\" dir=\"auto\">구하기가 하늘의 별따기라는 쁘걸\n",
       "</span><span class=\"style-scope yt-formatted-string\" dir=\"auto\">\n",
       "</span><span class=\"style-scope yt-formatted-string\" dir=\"auto\">포토카드와 브로마이드 득템 기회가 바로 지금, 여기!\n",
       "</span><span class=\"style-scope yt-formatted-string\" dir=\"auto\">\n",
       "</span><span class=\"style-scope yt-formatted-string\" dir=\"auto\"> </span><span class=\"style-scope yt-formatted-string\" dir=\"auto\">\n",
       "</span><span class=\"style-scope yt-formatted-string\" dir=\"auto\">지금 바로 아래 링크를 통해 KB다이렉트에서 자동차보험 만기알림 서비스를 신청해주세요!\n",
       "</span><span class=\"style-scope yt-formatted-string\" dir=\"auto\">\n",
       "</span><span class=\"style-scope yt-formatted-string\" dir=\"auto\">쁘걸 굳즈 추첨 증정 및 대상자 전원에게 해피콘 2천원을 증정해 드립니다!</span><span class=\"style-scope yt-formatted-string\" dir=\"auto\">\n",
       "</span><img alt=\"👉\" class=\"small-emoji emoji style-scope yt-formatted-string\" src=\"https://www.youtube.com/s/gaming/emoji/7ff574f2/emoji_u1f449.png\"/><span class=\"style-scope yt-formatted-string\" dir=\"auto\"> 지금 참여하기: </span><a class=\"yt-simple-endpoint style-scope yt-formatted-string\" dir=\"auto\" href=\"https://www.youtube.com/redirect?event=comments&amp;redir_token=QUFFLUhqazZjVHpHZ2xXeEprQ0xvN1VBOGFjZ09xN1lDd3xBQ3Jtc0trLTcyY0ctaUFacVN6bXRPS3daR3NZQ2VFYkRzU2lBMEptQi1uX3J4WDFtZ2hBN1dadVRTRmpTcmktMl9rZC1RYzBRUWZPd1BFSE1OQmNjOGdqby1UNFhhcl83R3RyUDExNk50Ylc0bUxGR18tRXVtbw&amp;q=https%3A%2F%2Fbit.ly%2F3jQl3Ej&amp;stzid=Ugzh8OdcVoIS-DH-iZh4AaABAg\" rel=\"nofollow\" spellcheck=\"false\" target=\"_blank\">https://bit.ly/3jQl3Ej</a><span class=\"style-scope yt-formatted-string\" dir=\"auto\">\n",
       "</span><span class=\"style-scope yt-formatted-string\" dir=\"auto\">\n",
       "</span><span class=\"style-scope yt-formatted-string\" dir=\"auto\">만기알림 서비스 신청 시\n",
       "</span><span class=\"style-scope yt-formatted-string\" dir=\"auto\">\n",
       "</span><span class=\"style-scope yt-formatted-string\" dir=\"auto\">&gt; 갱신이 다가오는 일자에 안내 해 드려요!\n",
       "</span><span class=\"style-scope yt-formatted-string\" dir=\"auto\">\n",
       "</span><span class=\"style-scope yt-formatted-string\" dir=\"auto\">&gt; 만기일 놓칠 일 없이, 미리미리 알림 해 드립니다~띠링 띠링~</span><span class=\"style-scope yt-formatted-string\" dir=\"auto\">\n",
       "</span><span class=\"style-scope yt-formatted-string\" dir=\"auto\"> </span><span class=\"style-scope yt-formatted-string\" dir=\"auto\">\n",
       "</span><img alt=\"✔\" class=\"small-emoji emoji style-scope yt-formatted-string\" src=\"https://www.youtube.com/s/gaming/emoji/7ff574f2/emoji_u2714.png\"/><span class=\"style-scope yt-formatted-string\" dir=\"auto\"> 참여 기간 : 8/17(화) ~ 9/30(목)\n",
       "</span><span class=\"style-scope yt-formatted-string\" dir=\"auto\">\n",
       "</span><img alt=\"✔\" class=\"small-emoji emoji style-scope yt-formatted-string\" src=\"https://www.youtube.com/s/gaming/emoji/7ff574f2/emoji_u2714.png\"/><span class=\"style-scope yt-formatted-string\" dir=\"auto\"> 참여 대상자 :본 이벤트페이지를 통해 자동차보험 만기알림 서비스 신청\n",
       "</span><span class=\"style-scope yt-formatted-string\" dir=\"auto\">\n",
       "</span><span class=\"style-scope yt-formatted-string\" dir=\"auto\">    (현재 KB손해보험의 자동차보험 가입자나 신차/중고차 구입 예정자는 이벤트 대상이 아닙니다.)\n",
       "</span><span class=\"style-scope yt-formatted-string\" dir=\"auto\">\n",
       "</span><img alt=\"✔\" class=\"small-emoji emoji style-scope yt-formatted-string\" src=\"https://www.youtube.com/s/gaming/emoji/7ff574f2/emoji_u2714.png\"/><span class=\"style-scope yt-formatted-string\" dir=\"auto\"> 참여시 경품\n",
       "</span><span class=\"style-scope yt-formatted-string\" dir=\"auto\">\n",
       "</span><span class=\"style-scope yt-formatted-string\" dir=\"auto\">- 브레이브걸스 포토카드(한정수량 추첨)\n",
       "</span><span class=\"style-scope yt-formatted-string\" dir=\"auto\">\n",
       "</span><span class=\"style-scope yt-formatted-string\" dir=\"auto\">- 브레이브걸스 브로마이드(한정수량 추첨)\n",
       "</span><span class=\"style-scope yt-formatted-string\" dir=\"auto\">\n",
       "</span><span class=\"style-scope yt-formatted-string\" dir=\"auto\">- 해피콘 2천원 대상자 전원증정</span><span class=\"style-scope yt-formatted-string\" dir=\"auto\">\n",
       "</span><span class=\"style-scope yt-formatted-string\" dir=\"auto\"> </span><span class=\"style-scope yt-formatted-string\" dir=\"auto\">\n",
       "</span><span class=\"style-scope yt-formatted-string\" dir=\"auto\">[이벤트 유의사항]\n",
       "</span><span class=\"style-scope yt-formatted-string\" dir=\"auto\">\n",
       "</span><span class=\"style-scope yt-formatted-string\" dir=\"auto\">- 참여 방법 및 경품 등에 관련한 상세 내용은 이벤트 페이지에서 확인하실 수 있습니다.\n",
       "</span><span class=\"style-scope yt-formatted-string\" dir=\"auto\">\n",
       "</span><span class=\"style-scope yt-formatted-string\" dir=\"auto\"> </span><span class=\"style-scope yt-formatted-string\" dir=\"auto\">\n",
       "</span><span class=\"style-scope yt-formatted-string\" dir=\"auto\">이 보험계약은 예금자보호법에따라, 본 보험회사에 있는 귀하의 모든 예금보호대상 금융상품의 해지환급금 또는 만기 시 보험금이나 사고 보험금에 기타 지급금을 합한 금액을 예금보험공사가 1인당 최고 5천만원까지 보호하며, 5천만원을 초과하는 나머지 금액은 보호되지 않습니다. 보험계약자가 기존에 체결했던 보험계약을 해지하고 다른 보험계약을 체결하면 보험 인수가 거절되거나 보험료가 인상되거나 보장내용이 달라질 수 있습니다. 면책 및 지급제한 사유 등으로 인해 보험금 지급이 제한될 수 있습니다. 보험계약 체결 전 상품설명서 및 약관을 읽어보시기 바랍니다. KB손해보험은 해당 상품에 대해 충분히 설명할 의무가 있으며, 가입자는 가입에 앞서 이에 대한 충분한 설명을 받으시기 바랍니다. 준법감시인 심의필 제2021-367호(2021.08.13~2022.08.12)</span></yt-formatted-string>\n",
       "</div>\n",
       "<tp-yt-paper-button animated=\"\" aria-disabled=\"false\" aria-expanded=\"true\" class=\"style-scope ytd-expander\" elevation=\"0\" hidden=\"\" id=\"less\" noink=\"\" role=\"button\" style-target=\"host\" tabindex=\"0\"><!--css-build:shady-->\n",
       "<span class=\"less-button style-scope ytd-comment-renderer\" slot=\"less-button\">간략히</span>\n",
       "</tp-yt-paper-button>\n",
       "<tp-yt-paper-button animated=\"\" aria-disabled=\"false\" aria-expanded=\"false\" class=\"style-scope ytd-expander\" elevation=\"0\" id=\"more\" noink=\"\" role=\"button\" style-target=\"host\" tabindex=\"0\"><!--css-build:shady-->\n",
       "<span class=\"more-button style-scope ytd-comment-renderer\" slot=\"more-button\">자세히 보기</span>\n",
       "</tp-yt-paper-button>\n",
       "</ytd-expander>\n",
       "<yt-formatted-string class=\"published-time-text below-comment style-scope ytd-comment-renderer\" has-link-only_=\"\" hidden=\"\"><a class=\"yt-simple-endpoint style-scope yt-formatted-string\" dir=\"auto\" href=\"/watch?v=XcczywUEJi0&amp;lc=Ugzh8OdcVoIS-DH-iZh4AaABAg\" spellcheck=\"false\">8개월 전(수정됨)</a></yt-formatted-string>\n",
       "<ytd-comment-action-buttons-renderer action-buttons-style=\"desktop-toolbar\" class=\"style-scope ytd-comment-renderer\" id=\"action-buttons\" system-icons=\"\"><!--css-build:shady--><div class=\"style-scope ytd-comment-action-buttons-renderer\" id=\"toolbar\">\n",
       "<div class=\"style-scope ytd-comment-action-buttons-renderer\" id=\"reply-button\">\n",
       "</div>\n",
       "<span aria-label=\"좋아요 3개\" class=\"style-scope ytd-comment-action-buttons-renderer\" hidden=\"\" id=\"vote-count-left\">\n",
       "    3\n",
       "  </span>\n",
       "<ytd-toggle-button-renderer button-renderer=\"true\" class=\"style-scope ytd-comment-action-buttons-renderer style-text size-default\" has-no-text=\"\" icon-size=\"16\" id=\"like-button\" is-icon-button=\"\" system-icons=\"\" use-keyboard-focused=\"\"><a class=\"yt-simple-endpoint style-scope ytd-toggle-button-renderer\" href=\"https://accounts.google.com/ServiceLogin?service=youtube&amp;uilel=3&amp;passive=true&amp;continue=https%3A%2F%2Fwww.youtube.com%2Fsignin%3Faction_handle_signin%3Dtrue%26app%3Ddesktop%26hl%3Dko%26next%3D%252Fwatch%253Fv%253DXcczywUEJi0&amp;hl=ko\" tabindex=\"-1\"><yt-icon-button class=\"style-scope ytd-toggle-button-renderer style-text size-default\" id=\"button\"><!--css-build:shady--><button aria-label=\"나와 사용자 3명이 이 댓글을 좋아함\" aria-pressed=\"false\" class=\"style-scope yt-icon-button\" id=\"button\"><yt-icon class=\"style-scope ytd-toggle-button-renderer\"><svg class=\"style-scope yt-icon\" focusable=\"false\" preserveaspectratio=\"xMidYMid meet\" style=\"pointer-events: none; display: block; width: 100%; height: 100%;\" viewbox=\"0 0 16 16\"><g class=\"style-scope yt-icon\"><path class=\"style-scope yt-icon\" d=\"M12.42,14A1.54,1.54,0,0,0,14,12.87l1-4.24C15.12,7.76,15,7,14,7H10l1.48-3.54A1.17,1.17,0,0,0,10.24,2a1.49,1.49,0,0,0-1.08.46L5,7H1v7ZM9.89,3.14A.48.48,0,0,1,10.24,3a.29.29,0,0,1,.23.09S9,6.61,9,6.61L8.46,8H14c0,.08-1,4.65-1,4.65a.58.58,0,0,1-.58.35H6V7.39ZM2,8H5v5H2Z\"></path></g></svg><!--css-build:shady--></yt-icon></button><yt-interaction class=\"circular style-scope yt-icon-button\" id=\"interaction\"><!--css-build:shady--><div class=\"stroke style-scope yt-interaction\"></div><div class=\"fill style-scope yt-interaction\"></div></yt-interaction></yt-icon-button></a></ytd-toggle-button-renderer>\n",
       "<span aria-label=\"좋아요 3개\" class=\"style-scope ytd-comment-action-buttons-renderer\" id=\"vote-count-middle\">\n",
       "    3\n",
       "  </span>\n",
       "<ytd-toggle-button-renderer button-renderer=\"true\" class=\"style-scope ytd-comment-action-buttons-renderer style-text size-default\" has-no-text=\"\" icon-size=\"16\" id=\"dislike-button\" is-icon-button=\"\" system-icons=\"\" use-keyboard-focused=\"\"><a class=\"yt-simple-endpoint style-scope ytd-toggle-button-renderer\" href=\"https://accounts.google.com/ServiceLogin?service=youtube&amp;uilel=3&amp;passive=true&amp;continue=https%3A%2F%2Fwww.youtube.com%2Fsignin%3Faction_handle_signin%3Dtrue%26app%3Ddesktop%26hl%3Dko%26next%3D%252Fwatch%253Fv%253DXcczywUEJi0&amp;hl=ko\" tabindex=\"-1\"><yt-icon-button class=\"style-scope ytd-toggle-button-renderer style-text size-default\" id=\"button\"><!--css-build:shady--><button aria-label=\"댓글 싫어요 표시\" aria-pressed=\"false\" class=\"style-scope yt-icon-button\" id=\"button\"><yt-icon class=\"style-scope ytd-toggle-button-renderer\"><svg class=\"style-scope yt-icon\" focusable=\"false\" preserveaspectratio=\"xMidYMid meet\" style=\"pointer-events: none; display: block; width: 100%; height: 100%;\" viewbox=\"0 0 16 16\"><g class=\"style-scope yt-icon\"><path class=\"style-scope yt-icon\" d=\"M3.54,2A1.55,1.55,0,0,0,2,3.13L1,7.37C.83,8.24,1,9,2,9H6L4.52,12.54A1.17,1.17,0,0,0,5.71,14a1.49,1.49,0,0,0,1.09-.46L11,9h4V2ZM6.07,12.86a.51.51,0,0,1-.36.14.28.28,0,0,1-.22-.09l0-.05L6.92,9.39,7.5,8H2a1.5,1.5,0,0,1,0-.41L3,3.35A.58.58,0,0,1,3.54,3H10V8.61ZM14,8H11l0-5h3Z\"></path></g></svg><!--css-build:shady--></yt-icon></button><yt-interaction class=\"circular style-scope yt-icon-button\" id=\"interaction\"><!--css-build:shady--><div class=\"stroke style-scope yt-interaction\"></div><div class=\"fill style-scope yt-interaction\"></div></yt-interaction></yt-icon-button></a></ytd-toggle-button-renderer>\n",
       "<div class=\"style-scope ytd-comment-action-buttons-renderer\" id=\"creator-heart\"></div>\n",
       "<div class=\"style-scope ytd-comment-action-buttons-renderer\" hidden=\"\" id=\"share-button\">\n",
       "</div>\n",
       "<div class=\"style-scope ytd-comment-action-buttons-renderer\" id=\"reply-button-end\">\n",
       "<ytd-button-renderer button-renderer=\"true\" class=\"style-scope ytd-comment-action-buttons-renderer style-text size-default\" is-paper-button=\"\" use-keyboard-focused=\"\"><a class=\"yt-simple-endpoint style-scope ytd-button-renderer\" href=\"https://accounts.google.com/ServiceLogin?service=youtube&amp;uilel=3&amp;passive=true&amp;continue=https%3A%2F%2Fwww.youtube.com%2Fsignin%3Faction_handle_signin%3Dtrue%26app%3Ddesktop%26hl%3Dko%26next%3D%252Fwatch%253Fv%253DXcczywUEJi0&amp;hl=ko\" tabindex=\"-1\"><tp-yt-paper-button animated=\"\" aria-disabled=\"false\" aria-label=\"답글\" class=\"style-scope ytd-button-renderer style-text size-default\" elevation=\"0\" id=\"button\" role=\"button\" style-target=\"host\" tabindex=\"0\"><!--css-build:shady--><yt-formatted-string class=\"style-scope ytd-button-renderer style-text size-default\" id=\"text\">답글</yt-formatted-string></tp-yt-paper-button></a></ytd-button-renderer></div>\n",
       "</div>\n",
       "<div class=\"style-scope ytd-comment-action-buttons-renderer\" id=\"reply-dialog\"></div>\n",
       "</ytd-comment-action-buttons-renderer>\n",
       "<div class=\"style-scope ytd-comment-renderer\" hidden=\"\" id=\"moderation-buttons\"></div>\n",
       "<ytd-button-renderer aria-expanded=\"false\" button-renderer=\"true\" class=\"style-scope ytd-comment-renderer\" id=\"view-threaded-replies\" noink=\"\" use-keyboard-focused=\"\"></ytd-button-renderer>\n",
       "<ytd-button-renderer aria-expanded=\"true\" button-renderer=\"true\" class=\"style-scope ytd-comment-renderer\" id=\"hide-threaded-replies\" noink=\"\" use-keyboard-focused=\"\"></ytd-button-renderer>\n",
       "</div>\n",
       "<div class=\"style-scope ytd-comment-renderer\" id=\"action-menu\"></div>\n",
       "</div>\n",
       "<div class=\"style-scope ytd-comment-renderer\" hidden=\"\" id=\"edit-dialog\"></div>\n",
       "</ytd-comment-renderer>\n",
       "<div class=\"style-scope ytd-comment-thread-renderer\" id=\"replies\"><ytd-comment-replies-renderer class=\"style-scope ytd-comment-thread-renderer\"><!--css-build:shady--><div class=\"style-scope ytd-comment-replies-renderer\" id=\"expander\">\n",
       "<div class=\"expander-header style-scope ytd-comment-replies-renderer\">\n",
       "<dom-if class=\"style-scope ytd-comment-replies-renderer\"><template is=\"dom-if\"></template></dom-if>\n",
       "<dom-if class=\"style-scope ytd-comment-replies-renderer\"><template is=\"dom-if\"></template></dom-if>\n",
       "<dom-if class=\"style-scope ytd-comment-replies-renderer\"><template is=\"dom-if\"></template></dom-if>\n",
       "<ytd-button-renderer aria-expanded=\"false\" button-renderer=\"true\" class=\"more-button style-scope ytd-comment-replies-renderer\" id=\"more-replies\" is-paper-button=\"\" is-paper-button-with-icon=\"\" noink=\"\" use-keyboard-focused=\"\"><a class=\"yt-simple-endpoint style-scope ytd-button-renderer\" tabindex=\"-1\"><tp-yt-paper-button animated=\"\" aria-disabled=\"false\" aria-label=\"답글 2개 보기\" class=\"style-scope ytd-button-renderer\" elevation=\"0\" id=\"button\" role=\"button\" style-target=\"host\" tabindex=\"0\"><!--css-build:shady--><yt-icon class=\"style-scope ytd-button-renderer\"><svg class=\"style-scope yt-icon\" focusable=\"false\" preserveaspectratio=\"xMidYMid meet\" style=\"pointer-events: none; display: block; width: 100%; height: 100%;\" viewbox=\"0 0 24 24\"><g class=\"style-scope yt-icon\"><path class=\"style-scope yt-icon\" d=\"M18,9l-6,6L6,9H18z\"></path></g></svg><!--css-build:shady--></yt-icon><yt-formatted-string class=\"style-scope ytd-button-renderer\" id=\"text\"><span class=\"style-scope yt-formatted-string\" dir=\"auto\">답글 </span><span class=\"style-scope yt-formatted-string\" dir=\"auto\">2</span><span class=\"style-scope yt-formatted-string\" dir=\"auto\">개 보기</span></yt-formatted-string></tp-yt-paper-button></a></ytd-button-renderer>\n",
       "<ytd-button-renderer aria-expanded=\"true\" button-renderer=\"true\" class=\"less-button style-scope ytd-comment-replies-renderer\" hidden=\"\" id=\"less-replies\" is-paper-button=\"\" is-paper-button-with-icon=\"\" noink=\"\" use-keyboard-focused=\"\"><a class=\"yt-simple-endpoint style-scope ytd-button-renderer\" tabindex=\"-1\"><tp-yt-paper-button animated=\"\" aria-disabled=\"false\" aria-label=\"답글 2개 숨기기\" class=\"style-scope ytd-button-renderer\" elevation=\"0\" id=\"button\" role=\"button\" style-target=\"host\" tabindex=\"0\"><!--css-build:shady--><yt-icon class=\"style-scope ytd-button-renderer\"><svg class=\"style-scope yt-icon\" focusable=\"false\" preserveaspectratio=\"xMidYMid meet\" style=\"pointer-events: none; display: block; width: 100%; height: 100%;\" viewbox=\"0 0 24 24\"><g class=\"style-scope yt-icon\"><path class=\"style-scope yt-icon\" d=\"M18,15H6l6-6L18,15z\"></path></g></svg><!--css-build:shady--></yt-icon><yt-formatted-string class=\"style-scope ytd-button-renderer\" id=\"text\">답글 2개 숨기기</yt-formatted-string></tp-yt-paper-button></a></ytd-button-renderer>\n",
       "</div>\n",
       "<div class=\"style-scope ytd-comment-replies-renderer\" hidden=\"\" id=\"expander-contents\">\n",
       "<div class=\"style-scope ytd-comment-replies-renderer\" id=\"contents\"><ytd-continuation-item-renderer class=\"style-scope ytd-comment-replies-renderer\"><!--css-build:shady--><div class=\"style-scope ytd-continuation-item-renderer\" id=\"ghost-cards\"></div>\n",
       "<tp-yt-paper-spinner aria-hidden=\"true\" class=\"style-scope ytd-continuation-item-renderer\" hidden=\"\" id=\"spinner\"><!--css-build:shady--><div class=\"active cooldown style-scope tp-yt-paper-spinner\" id=\"spinnerContainer\"><div class=\"spinner-layer layer-1 style-scope tp-yt-paper-spinner\"><div class=\"circle-clipper left style-scope tp-yt-paper-spinner\"><div class=\"circle style-scope tp-yt-paper-spinner\"></div></div><div class=\"circle-clipper right style-scope tp-yt-paper-spinner\"><div class=\"circle style-scope tp-yt-paper-spinner\"></div></div></div><div class=\"spinner-layer layer-2 style-scope tp-yt-paper-spinner\"><div class=\"circle-clipper left style-scope tp-yt-paper-spinner\"><div class=\"circle style-scope tp-yt-paper-spinner\"></div></div><div class=\"circle-clipper right style-scope tp-yt-paper-spinner\"><div class=\"circle style-scope tp-yt-paper-spinner\"></div></div></div><div class=\"spinner-layer layer-3 style-scope tp-yt-paper-spinner\"><div class=\"circle-clipper left style-scope tp-yt-paper-spinner\"><div class=\"circle style-scope tp-yt-paper-spinner\"></div></div><div class=\"circle-clipper right style-scope tp-yt-paper-spinner\"><div class=\"circle style-scope tp-yt-paper-spinner\"></div></div></div><div class=\"spinner-layer layer-4 style-scope tp-yt-paper-spinner\"><div class=\"circle-clipper left style-scope tp-yt-paper-spinner\"><div class=\"circle style-scope tp-yt-paper-spinner\"></div></div><div class=\"circle-clipper right style-scope tp-yt-paper-spinner\"><div class=\"circle style-scope tp-yt-paper-spinner\"></div></div></div></div></tp-yt-paper-spinner>\n",
       "<div class=\"style-scope ytd-continuation-item-renderer\" id=\"button\"></div>\n",
       "</ytd-continuation-item-renderer></div>\n",
       "<div class=\"cont-button style-scope ytd-comment-replies-renderer\" id=\"continuation\"></div>\n",
       "<yt-next-continuation class=\"cont-button style-scope ytd-comment-replies-renderer\" hidden=\"\" id=\"fake-continuation\" show-button=\"true\" show-icon=\"true\"><!--css-build:shady-->\n",
       "<dom-if class=\"style-scope yt-next-continuation\"><template is=\"dom-if\"></template></dom-if>\n",
       "<tp-yt-paper-button animated=\"\" aria-disabled=\"false\" class=\"style-scope yt-next-continuation\" elevation=\"0\" role=\"button\" style-target=\"host\" tabindex=\"0\"><!--css-build:shady-->\n",
       "<yt-icon class=\"style-scope yt-next-continuation\" icon=\"subdirectory_arrow_right\"><svg class=\"style-scope yt-icon\" focusable=\"false\" preserveaspectratio=\"xMidYMid meet\" style=\"pointer-events: none; display: block; width: 100%; height: 100%;\" viewbox=\"0 0 24 24\"><g class=\"style-scope yt-icon\"><path class=\"style-scope yt-icon\" d=\"M0 0h24v24H0V0z\" fill=\"none\"></path><path class=\"style-scope yt-icon\" d=\"M19 15l-6 6-1.42-1.42L15.17 16H4V4h2v10h9.17l-3.59-3.58L13 9l6 6z\"></path></g></svg><!--css-build:shady--></yt-icon>\n",
       "<yt-formatted-string class=\"style-scope yt-next-continuation\"></yt-formatted-string>\n",
       "</tp-yt-paper-button>\n",
       "<dom-if class=\"style-scope yt-next-continuation\"><template is=\"dom-if\"></template></dom-if>\n",
       "</yt-next-continuation>\n",
       "</div>\n",
       "</div>\n",
       "<div class=\"style-scope ytd-comment-replies-renderer\" id=\"teaser-replies\"></div>\n",
       "</ytd-comment-replies-renderer></div>\n",
       "</ytd-comment-thread-renderer>"
      ]
     },
     "execution_count": 12,
     "metadata": {},
     "output_type": "execute_result"
    }
   ],
   "source": [
    "reviews[0]"
   ]
  },
  {
   "cell_type": "markdown",
   "metadata": {},
   "source": [
    "### 사용자 이름"
   ]
  },
  {
   "cell_type": "code",
   "execution_count": 13,
   "metadata": {},
   "outputs": [
    {
     "data": {
      "text/plain": [
       "[<span class=\"style-scope ytd-comment-renderer\">\n",
       "               Login Game\n",
       "             </span>]"
      ]
     },
     "execution_count": 13,
     "metadata": {},
     "output_type": "execute_result"
    }
   ],
   "source": [
    "reviews[1].select(\"#author-text > span\")"
   ]
  },
  {
   "cell_type": "code",
   "execution_count": 14,
   "metadata": {},
   "outputs": [
    {
     "data": {
      "text/plain": [
       "'Login Game'"
      ]
     },
     "execution_count": 14,
     "metadata": {},
     "output_type": "execute_result"
    }
   ],
   "source": [
    "reviews[1].select(\"#author-text > span\")[0].text.strip()"
   ]
  },
  {
   "cell_type": "markdown",
   "metadata": {},
   "source": [
    "### 댓글 텍스트"
   ]
  },
  {
   "cell_type": "code",
   "execution_count": 15,
   "metadata": {},
   "outputs": [
    {
     "data": {
      "text/plain": [
       "'정답: 대중교통 할인특약\\n할인송이 진짜 귀에 쏙쏙 들어오고 멜로디가 너무 좋아요! \\n중독성도 있어서 자꾸 흥얼흥얼 거리게 되네요.\\nKB손해보험 화이팅!!'"
      ]
     },
     "execution_count": 15,
     "metadata": {},
     "output_type": "execute_result"
    }
   ],
   "source": [
    "#content-text\n",
    "reviews[1].select(\"#content-text\")[0].text"
   ]
  },
  {
   "cell_type": "code",
   "execution_count": 16,
   "metadata": {},
   "outputs": [
    {
     "data": {
      "text/plain": [
       "[<div class=\"style-scope ytd-expander\" id=\"content\">\n",
       " <yt-formatted-string class=\"style-scope ytd-comment-renderer\" disable-upgrade=\"\" hidden=\"\" id=\"voted-option\" slot=\"content\">\n",
       " </yt-formatted-string><yt-pdg-comment-chip-renderer class=\"style-scope ytd-comment-renderer\" hidden=\"\" id=\"paid-comment-chip\" slot=\"content\"><!--css-build:shady--><div class=\"style-scope yt-pdg-comment-chip-renderer\" id=\"comment-chip-container\"><yt-icon class=\"style-scope yt-pdg-comment-chip-renderer\"><!--css-build:shady--></yt-icon><span class=\"style-scope yt-pdg-comment-chip-renderer\" id=\"comment-chip-price\">\n",
       " </span></div></yt-pdg-comment-chip-renderer><yt-formatted-string class=\"style-scope ytd-comment-renderer\" id=\"content-text\" slot=\"content\" split-lines=\"\"><span class=\"style-scope yt-formatted-string\" dir=\"auto\">정답: 대중교통 할인특약</span><span class=\"style-scope yt-formatted-string\" dir=\"auto\">\n",
       " </span><span class=\"style-scope yt-formatted-string\" dir=\"auto\">할인송이 진짜 귀에 쏙쏙 들어오고 멜로디가 너무 좋아요! </span><span class=\"style-scope yt-formatted-string\" dir=\"auto\">\n",
       " </span><span class=\"style-scope yt-formatted-string\" dir=\"auto\">중독성도 있어서 자꾸 흥얼흥얼 거리게 되네요.</span><span class=\"style-scope yt-formatted-string\" dir=\"auto\">\n",
       " </span><span class=\"style-scope yt-formatted-string\" dir=\"auto\">KB손해보험 화이팅!!</span></yt-formatted-string>\n",
       " </div>]"
      ]
     },
     "execution_count": 16,
     "metadata": {},
     "output_type": "execute_result"
    }
   ],
   "source": [
    "reviews[1].find_all('div', attrs={'id':'content'})"
   ]
  },
  {
   "cell_type": "code",
   "execution_count": 17,
   "metadata": {},
   "outputs": [
    {
     "data": {
      "text/plain": [
       "'\\n\\n\\n정답: 대중교통 할인특약\\n할인송이 진짜 귀에 쏙쏙 들어오고 멜로디가 너무 좋아요! \\n중독성도 있어서 자꾸 흥얼흥얼 거리게 되네요.\\nKB손해보험 화이팅!!\\n'"
      ]
     },
     "execution_count": 17,
     "metadata": {},
     "output_type": "execute_result"
    }
   ],
   "source": [
    "reviews[1].find_all('div', attrs={'id':'content'})[0].text"
   ]
  },
  {
   "cell_type": "code",
   "execution_count": 18,
   "metadata": {},
   "outputs": [
    {
     "data": {
      "text/plain": [
       "'정답: 대중교통 할인특약\\n할인송이 진짜 귀에 쏙쏙 들어오고 멜로디가 너무 좋아요! \\n중독성도 있어서 자꾸 흥얼흥얼 거리게 되네요.\\nKB손해보험 화이팅!!'"
      ]
     },
     "execution_count": 18,
     "metadata": {},
     "output_type": "execute_result"
    }
   ],
   "source": [
    "reviews[1].find_all('div', attrs={'id':'content'})[0].text.lstrip().rstrip()"
   ]
  },
  {
   "cell_type": "code",
   "execution_count": 19,
   "metadata": {},
   "outputs": [
    {
     "data": {
      "text/plain": [
       "['정답: 대중교통 할인특약',\n",
       " '할인송이 진짜 귀에 쏙쏙 들어오고 멜로디가 너무 좋아요! ',\n",
       " '중독성도 있어서 자꾸 흥얼흥얼 거리게 되네요.',\n",
       " 'KB손해보험 화이팅!!']"
      ]
     },
     "execution_count": 19,
     "metadata": {},
     "output_type": "execute_result"
    }
   ],
   "source": [
    "reviews[1].find_all('div', attrs={'id':'content'})[0].text.lstrip().rstrip().split('\\n')"
   ]
  },
  {
   "cell_type": "code",
   "execution_count": 20,
   "metadata": {},
   "outputs": [
    {
     "data": {
      "text/plain": [
       "'정답: 대중교통 할인특약 할인송이 진짜 귀에 쏙쏙 들어오고 멜로디가 너무 좋아요!  중독성도 있어서 자꾸 흥얼흥얼 거리게 되네요. KB손해보험 화이팅!!'"
      ]
     },
     "execution_count": 20,
     "metadata": {},
     "output_type": "execute_result"
    }
   ],
   "source": [
    "reviews[1].find_all('div', attrs={'id':'content'})[0].text.lstrip().rstrip().replace('\\n', ' ')"
   ]
  },
  {
   "cell_type": "markdown",
   "metadata": {},
   "source": [
    "### 좋아요/싫어요"
   ]
  },
  {
   "cell_type": "code",
   "execution_count": 21,
   "metadata": {},
   "outputs": [
    {
     "data": {
      "text/plain": [
       "'4'"
      ]
     },
     "execution_count": 21,
     "metadata": {},
     "output_type": "execute_result"
    }
   ],
   "source": [
    "reviews[1].select(\"#vote-count-middle\")[0].text.strip()"
   ]
  },
  {
   "cell_type": "code",
   "execution_count": 22,
   "metadata": {},
   "outputs": [
    {
     "data": {
      "text/plain": [
       "[<span aria-label=\"좋아요 4개\" class=\"style-scope ytd-comment-action-buttons-renderer\" hidden=\"\" id=\"vote-count-left\">\n",
       "     4\n",
       "   </span>]"
      ]
     },
     "execution_count": 22,
     "metadata": {},
     "output_type": "execute_result"
    }
   ],
   "source": [
    "reviews[1].find_all('span', attrs={'id':'vote-count-left'})"
   ]
  },
  {
   "cell_type": "code",
   "execution_count": 23,
   "metadata": {},
   "outputs": [
    {
     "data": {
      "text/plain": [
       "'4'"
      ]
     },
     "execution_count": 23,
     "metadata": {},
     "output_type": "execute_result"
    }
   ],
   "source": [
    "reviews[1].find_all('span', attrs={'id':'vote-count-left'})[0].text.strip()"
   ]
  },
  {
   "cell_type": "markdown",
   "metadata": {},
   "source": [
    "### 날짜"
   ]
  },
  {
   "cell_type": "code",
   "execution_count": 24,
   "metadata": {},
   "outputs": [
    {
     "data": {
      "text/plain": [
       "'8개월 전'"
      ]
     },
     "execution_count": 24,
     "metadata": {},
     "output_type": "execute_result"
    }
   ],
   "source": [
    "reviews[1].select(\"#header-author > yt-formatted-string > a\")[0].text.strip()"
   ]
  },
  {
   "cell_type": "code",
   "execution_count": 25,
   "metadata": {},
   "outputs": [
    {
     "data": {
      "text/plain": [
       "[<a class=\"yt-simple-endpoint style-scope yt-formatted-string\" dir=\"auto\" href=\"/watch?v=XcczywUEJi0&amp;lc=UgwNZhloAzJ8fNqK0eB4AaABAg\" spellcheck=\"false\">8개월 전</a>,\n",
       " <a class=\"yt-simple-endpoint style-scope yt-formatted-string\" dir=\"auto\" href=\"/watch?v=XcczywUEJi0&amp;lc=UgwNZhloAzJ8fNqK0eB4AaABAg\" spellcheck=\"false\">8개월 전</a>]"
      ]
     },
     "execution_count": 25,
     "metadata": {},
     "output_type": "execute_result"
    }
   ],
   "source": [
    "reviews[1].find_all('a', attrs={'class':'yt-simple-endpoint style-scope yt-formatted-string'})"
   ]
  },
  {
   "cell_type": "code",
   "execution_count": 26,
   "metadata": {},
   "outputs": [
    {
     "data": {
      "text/plain": [
       "'8개월 전'"
      ]
     },
     "execution_count": 26,
     "metadata": {},
     "output_type": "execute_result"
    }
   ],
   "source": [
    "reviews[1].find_all('a', attrs={'class':'yt-simple-endpoint style-scope yt-formatted-string'})[0].text.strip()"
   ]
  },
  {
   "cell_type": "markdown",
   "metadata": {},
   "source": [
    "### 리뷰 정보(이름, 댓글, 좋아요, 날짜)를 추출하는 함수 정의"
   ]
  },
  {
   "cell_type": "code",
   "execution_count": 27,
   "metadata": {},
   "outputs": [],
   "source": [
    "def get_review(review):\n",
    "    name = review.select(\"#author-text > span\")[0].text.strip()\n",
    "    text = review.find_all('div', attrs={'id':'content'})[0].text.lstrip().rstrip().replace('\\n', ' ')\n",
    "    like = review.find_all('span', attrs={'id':'vote-count-left'})[0].text.strip()\n",
    "    date = review.find_all('a', attrs={'class':'yt-simple-endpoint style-scope yt-formatted-string'})[0].text.strip()\n",
    "    \n",
    "    return name, text, like, date"
   ]
  },
  {
   "cell_type": "code",
   "execution_count": 28,
   "metadata": {},
   "outputs": [
    {
     "name": "stdout",
     "output_type": "stream",
     "text": [
      "사용자: Luis Horna\n",
      "댓글: Great Marketing moveBrave Girls are an Entertaining Power House now️ They are indeed “Sold Out “ Queens They can do it all From Summer Queens to DJ’s and even sell ice to Eskimos\n",
      "좋아요: 0\n",
      "날짜: 9개월 전\n"
     ]
    }
   ],
   "source": [
    "name, text, like, date = get_review(reviews[2])\n",
    "print(f'사용자: {name}')\n",
    "print(f'댓글: {text}')\n",
    "print(f'좋아요: {like}')\n",
    "print(f'날짜: {date}')"
   ]
  },
  {
   "cell_type": "markdown",
   "metadata": {},
   "source": [
    "### 한 페이지의 모든 리뷰를 반복문으로 추출하는 함수 정의"
   ]
  },
  {
   "cell_type": "code",
   "execution_count": 29,
   "metadata": {},
   "outputs": [],
   "source": [
    "def get_page_reviews(reviews):\n",
    "\n",
    "    names, texts, likes, dates = [], [], [], []\n",
    "\n",
    "    for review in reviews:\n",
    "        try:\n",
    "            name, text, like, date = get_review(review)\n",
    "\n",
    "            names.append(name)\n",
    "            texts.append(text)\n",
    "            likes.append(like)\n",
    "            dates.append(date)\n",
    "\n",
    "        except:\n",
    "            pass    \n",
    "\n",
    "    return names, texts, likes, dates"
   ]
  },
  {
   "cell_type": "code",
   "execution_count": 30,
   "metadata": {},
   "outputs": [
    {
     "name": "stdout",
     "output_type": "stream",
     "text": [
      "20\n"
     ]
    }
   ],
   "source": [
    "names, texts, likes, dates = get_page_reviews(reviews)\n",
    "\n",
    "print(len(names))"
   ]
  },
  {
   "cell_type": "code",
   "execution_count": 31,
   "metadata": {},
   "outputs": [
    {
     "data": {
      "text/html": [
       "<div>\n",
       "<style scoped>\n",
       "    .dataframe tbody tr th:only-of-type {\n",
       "        vertical-align: middle;\n",
       "    }\n",
       "\n",
       "    .dataframe tbody tr th {\n",
       "        vertical-align: top;\n",
       "    }\n",
       "\n",
       "    .dataframe thead th {\n",
       "        text-align: right;\n",
       "    }\n",
       "</style>\n",
       "<table border=\"1\" class=\"dataframe\">\n",
       "  <thead>\n",
       "    <tr style=\"text-align: right;\">\n",
       "      <th></th>\n",
       "      <th>사용자</th>\n",
       "      <th>댓글</th>\n",
       "      <th>좋아요</th>\n",
       "      <th>날짜</th>\n",
       "    </tr>\n",
       "  </thead>\n",
       "  <tbody>\n",
       "    <tr>\n",
       "      <th>0</th>\n",
       "      <td>KB손해보험 다이렉트</td>\n",
       "      <td>KBrave Girls와 함께 하는 만기알림 신청만 – 해 EVENT!  구하기가 ...</td>\n",
       "      <td>3</td>\n",
       "      <td>8개월 전(수정됨)</td>\n",
       "    </tr>\n",
       "    <tr>\n",
       "      <th>1</th>\n",
       "      <td>Login Game</td>\n",
       "      <td>정답: 대중교통 할인특약 할인송이 진짜 귀에 쏙쏙 들어오고 멜로디가 너무 좋아요! ...</td>\n",
       "      <td>4</td>\n",
       "      <td>8개월 전</td>\n",
       "    </tr>\n",
       "    <tr>\n",
       "      <th>2</th>\n",
       "      <td>Luis Horna</td>\n",
       "      <td>Great Marketing moveBrave Girls are an Enterta...</td>\n",
       "      <td>0</td>\n",
       "      <td>9개월 전</td>\n",
       "    </tr>\n",
       "    <tr>\n",
       "      <th>3</th>\n",
       "      <td>야호</td>\n",
       "      <td>정답 : 대중교통 할인특약 노래 너무 신나고 좋네요ㅎㅎ 멜로디도 가사도 귀에 쏙쏙 ...</td>\n",
       "      <td>0</td>\n",
       "      <td>8개월 전</td>\n",
       "    </tr>\n",
       "    <tr>\n",
       "      <th>4</th>\n",
       "      <td>박선희</td>\n",
       "      <td>대중교통할인특약 좋아요~~ 중독성있게 자꾸 듣고 싶어요</td>\n",
       "      <td>0</td>\n",
       "      <td>8개월 전</td>\n",
       "    </tr>\n",
       "  </tbody>\n",
       "</table>\n",
       "</div>"
      ],
      "text/plain": [
       "           사용자                                                 댓글 좋아요  \\\n",
       "0  KB손해보험 다이렉트  KBrave Girls와 함께 하는 만기알림 신청만 – 해 EVENT!  구하기가 ...   3   \n",
       "1   Login Game  정답: 대중교통 할인특약 할인송이 진짜 귀에 쏙쏙 들어오고 멜로디가 너무 좋아요! ...   4   \n",
       "2   Luis Horna  Great Marketing moveBrave Girls are an Enterta...   0   \n",
       "3           야호  정답 : 대중교통 할인특약 노래 너무 신나고 좋네요ㅎㅎ 멜로디도 가사도 귀에 쏙쏙 ...   0   \n",
       "4          박선희                     대중교통할인특약 좋아요~~ 중독성있게 자꾸 듣고 싶어요   0   \n",
       "\n",
       "           날짜  \n",
       "0  8개월 전(수정됨)  \n",
       "1       8개월 전  \n",
       "2       9개월 전  \n",
       "3       8개월 전  \n",
       "4       8개월 전  "
      ]
     },
     "execution_count": 31,
     "metadata": {},
     "output_type": "execute_result"
    }
   ],
   "source": [
    "result = {\n",
    "    '사용자':names,\n",
    "    '댓글':texts,    \n",
    "    '좋아요':likes,    \n",
    "    '날짜':dates,    \n",
    "         }\n",
    "\n",
    "df = pd.DataFrame(result)\n",
    "df.head()"
   ]
  },
  {
   "cell_type": "code",
   "execution_count": 32,
   "metadata": {},
   "outputs": [],
   "source": [
    "df.to_csv('youtube_reviews.csv', index=False)"
   ]
  },
  {
   "cell_type": "code",
   "execution_count": 33,
   "metadata": {},
   "outputs": [],
   "source": [
    "driver.close()"
   ]
  }
 ],
 "metadata": {
  "kernelspec": {
   "display_name": "py36",
   "language": "python",
   "name": "bigdata36"
  },
  "language_info": {
   "codemirror_mode": {
    "name": "ipython",
    "version": 3
   },
   "file_extension": ".py",
   "mimetype": "text/x-python",
   "name": "python",
   "nbconvert_exporter": "python",
   "pygments_lexer": "ipython3",
   "version": "3.6.13"
  }
 },
 "nbformat": 4,
 "nbformat_minor": 4
}
