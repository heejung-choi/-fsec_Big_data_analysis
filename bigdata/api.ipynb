{
 "cells": [
  {
   "cell_type": "markdown",
   "metadata": {},
   "source": [
    "# Library"
   ]
  },
  {
   "cell_type": "code",
   "execution_count": 1,
   "metadata": {},
   "outputs": [],
   "source": [
    "import pandas as pd\n",
    "import numpy as np\n",
    "\n",
    "import matplotlib.pyplot as plt\n",
    "import seaborn as sns\n",
    "\n",
    "import warnings\n",
    "warnings.filterwarnings(action='ignore')\n",
    "\n",
    "# 한글 폰트 인식 - Windows\n",
    "import matplotlib \n",
    "font_name = matplotlib.font_manager.FontProperties(fname=\"c:/Windows/Fonts/malgun.ttf\").get_name()\n",
    "matplotlib.rc('font', family=font_name)\n",
    "\n",
    "# 마이너스 부호 인식\n",
    "matplotlib.rc(\"axes\", unicode_minus = False)"
   ]
  },
  {
   "cell_type": "markdown",
   "metadata": {},
   "source": [
    "# [오픈API를 통한 데이터 수집]"
   ]
  },
  {
   "cell_type": "markdown",
   "metadata": {},
   "source": [
    "## 금융통계손해보험정보\n",
    "\n",
    "https://www.data.go.kr/data/15061307/openapi.do"
   ]
  },
  {
   "cell_type": "markdown",
   "metadata": {},
   "source": [
    "### (1) 필요 라이브러리 불러오기"
   ]
  },
  {
   "cell_type": "code",
   "execution_count": 2,
   "metadata": {},
   "outputs": [],
   "source": [
    "# pip install bs4\n",
    "\n",
    "import requests\n",
    "from bs4 import BeautifulSoup"
   ]
  },
  {
   "cell_type": "markdown",
   "metadata": {},
   "source": [
    "### (2) open_api 요청 테스트"
   ]
  },
  {
   "cell_type": "code",
   "execution_count": 3,
   "metadata": {},
   "outputs": [],
   "source": [
    "# 본인의 ServiceKey 입력\n",
    "\n",
    "# ServiceKey = 'ZN0B7TMQ6ADGaVcUiE2QnB9GdE9e8FWZ%2Bj8tQ%2FRJ8k6XNjjT6lyLzF6W0056eoZyhdORyM3dfXcWZEMAtpODDQ%3D%3D'\n",
    "ServiceKey = 'g0OhTQflzDelAVixM%2Bm0EtPvJvzcv1ZYwO%2Bj9b%2Fi4bmToDzAyifU%2FHxjCAhbsRMcozdUhj7E9i%2Bc5S7l3JzP9w%3D%3D'"
   ]
  },
  {
   "cell_type": "code",
   "execution_count": 4,
   "metadata": {},
   "outputs": [],
   "source": [
    "# OPEN API 활용 가이드 > 요청메시지 명세 참고\n",
    "\n",
    "# 손해보험주요영업활동조회\n",
    "url = \"http://apis.data.go.kr/1160100/service/GetNonlInsuCompInfoService/getNonlInsuCompMajoBusiActi?\"\n",
    "\n",
    "api_url = url + \"serviceKey=\"+ ServiceKey "
   ]
  },
  {
   "cell_type": "code",
   "execution_count": 5,
   "metadata": {},
   "outputs": [
    {
     "data": {
      "text/plain": [
       "'http://apis.data.go.kr/1160100/service/GetNonlInsuCompInfoService/getNonlInsuCompMajoBusiActi?serviceKey=g0OhTQflzDelAVixM%2Bm0EtPvJvzcv1ZYwO%2Bj9b%2Fi4bmToDzAyifU%2FHxjCAhbsRMcozdUhj7E9i%2Bc5S7l3JzP9w%3D%3D'"
      ]
     },
     "execution_count": 5,
     "metadata": {},
     "output_type": "execute_result"
    }
   ],
   "source": [
    "api_url"
   ]
  },
  {
   "cell_type": "markdown",
   "metadata": {},
   "source": [
    "### (3) 가져온 XML 데이터 파싱"
   ]
  },
  {
   "cell_type": "code",
   "execution_count": 6,
   "metadata": {},
   "outputs": [],
   "source": [
    "req = requests.get(api_url)\n",
    "xml = req.text"
   ]
  },
  {
   "cell_type": "code",
   "execution_count": 7,
   "metadata": {},
   "outputs": [
    {
     "data": {
      "text/plain": [
       "'<?xml version=\"1.0\" encoding=\"UTF-8\" standalone=\"yes\"?>\\n<response>\\n    <header>\\n        <resultCode>00</resultCode>\\n        <resultMsg>NORMAL SERVICE.</resultMsg>\\n        <pageNo>1</pageNo>\\n        <numOfRows>10</numOfRows>\\n    </header>\\n    <body>\\n        <table>\\n            <title>손보_주요영업활동_보험종류별 경과손해율</title>\\n            <totalCount>20940</totalCount>\\n            <items>\\n                <item>\\n                    <basYm>201709</basYm>\\n                    <crno>1101110013328</crno>\\n                    <fncoCd>0010626</fncoCd>\\n                    <fncoNm>메리츠화재해상보험주식회사</fncoNm>\\n                    <isuKindElpsLosRatClsfAmt>76.97</isuKindElpsLosRatClsfAmt>\\n                    <isuKindElpsLosRatDcd>A</isuKindElpsLosRatDcd>\\n                    <isuKindElpsLosRatDcdNm>경과손해율_자동차</isuKindElpsLosRatDcdNm>\\n                </item>\\n                <item>\\n                    <basYm>202109</basYm>\\n                    <crno>1101110013328</crno>\\n                    <fncoCd>0010626</fncoCd>\\n                    <fncoNm>메리츠화재해상보험주식회사</fncoNm>\\n                    <isuKindElpsLosRatClsfAmt>75.77</isuKindElpsLosRatClsfAmt>\\n                    <isuKindElpsLosRatDcd>A</isuKindElpsLosRatDcd>\\n                    <isuKindElpsLosRatDcdNm>경과손해율_자동차</isuKindElpsLosRatDcdNm>\\n                </item>\\n                <item>\\n                    <basYm>201609</basYm>\\n                    <crno>1101110013328</crno>\\n                    <fncoCd>0010626</fncoCd>\\n                    <fncoNm>메리츠화재해상보험주식회사</fncoNm>\\n                    <isuKindElpsLosRatClsfAmt>83.09</isuKindElpsLosRatClsfAmt>\\n                    <isuKindElpsLosRatDcd>A</isuKindElpsLosRatDcd>\\n                    <isuKindElpsLosRatDcdNm>경과손해율_자동차</isuKindElpsLosRatDcdNm>\\n                </item>\\n                <item>\\n                    <basYm>201403</basYm>\\n                    <crno>1101110013328</crno>\\n                    <fncoCd>0010626</fncoCd>\\n                    <fncoNm>메리츠화재해상보험주식회사</fncoNm>\\n                    <isuKindElpsLosRatClsfAmt>91.3</isuKindElpsLosRatClsfAmt>\\n                    <isuKindElpsLosRatDcd>A</isuKindElpsLosRatDcd>\\n                    <isuKindElpsLosRatDcdNm>경과손해율_자동차</isuKindElpsLosRatDcdNm>\\n                </item>\\n                <item>\\n                    <basYm>202203</basYm>\\n                    <crno>1101110013328</crno>\\n                    <fncoCd>0010626</fncoCd>\\n                    <fncoNm>메리츠화재해상보험주식회사</fncoNm>\\n                    <isuKindElpsLosRatClsfAmt>73.07</isuKindElpsLosRatClsfAmt>\\n                    <isuKindElpsLosRatDcd>A</isuKindElpsLosRatDcd>\\n                    <isuKindElpsLosRatDcdNm>경과손해율_자동차</isuKindElpsLosRatDcdNm>\\n                </item>\\n                <item>\\n                    <basYm>201503</basYm>\\n                    <crno>1101110013328</crno>\\n                    <fncoCd>0010626</fncoCd>\\n                    <fncoNm>메리츠화재해상보험주식회사</fncoNm>\\n                    <isuKindElpsLosRatClsfAmt>90.89</isuKindElpsLosRatClsfAmt>\\n                    <isuKindElpsLosRatDcd>A</isuKindElpsLosRatDcd>\\n                    <isuKindElpsLosRatDcdNm>경과손해율_자동차</isuKindElpsLosRatDcdNm>\\n                </item>\\n                <item>\\n                    <basYm>201806</basYm>\\n                    <crno>1101110013328</crno>\\n                    <fncoCd>0010626</fncoCd>\\n                    <fncoNm>메리츠화재해상보험주식회사</fncoNm>\\n                    <isuKindElpsLosRatClsfAmt>77.41</isuKindElpsLosRatClsfAmt>\\n                    <isuKindElpsLosRatDcd>A</isuKindElpsLosRatDcd>\\n                    <isuKindElpsLosRatDcdNm>경과손해율_자동차</isuKindElpsLosRatDcdNm>\\n                </item>\\n                <item>\\n                    <basYm>201106</basYm>\\n                    <crno>1101110013328</crno>\\n                    <fncoCd>0010626</fncoCd>\\n                    <fncoNm>메리츠화재해상보험주식회사</fncoNm>\\n                    <isuKindElpsLosRatClsfAmt>81.78</isuKindElpsLosRatClsfAmt>\\n                    <isuKindElpsLosRatDcd>A</isuKindElpsLosRatDcd>\\n                    <isuKindElpsLosRatDcdNm>경과손해율_자동차</isuKindElpsLosRatDcdNm>\\n                </item>\\n                <item>\\n                    <basYm>201809</basYm>\\n                    <crno>1101110013328</crno>\\n                    <fncoCd>0010626</fncoCd>\\n                    <fncoNm>메리츠화재해상보험주식회사</fncoNm>\\n                    <isuKindElpsLosRatClsfAmt>79.69</isuKindElpsLosRatClsfAmt>\\n                    <isuKindElpsLosRatDcd>A</isuKindElpsLosRatDcd>\\n                    <isuKindElpsLosRatDcdNm>경과손해율_자동차</isuKindElpsLosRatDcdNm>\\n                </item>\\n                <item>\\n                    <basYm>201203</basYm>\\n                    <crno>1101110013328</crno>\\n                    <fncoCd>0010626</fncoCd>\\n                    <fncoNm>메리츠화재해상보험주식회사</fncoNm>\\n                    <isuKindElpsLosRatClsfAmt>83.94</isuKindElpsLosRatClsfAmt>\\n                    <isuKindElpsLosRatDcd>A</isuKindElpsLosRatDcd>\\n                    <isuKindElpsLosRatDcdNm>경과손해율_자동차</isuKindElpsLosRatDcdNm>\\n                </item>\\n            </items>\\n        </table>\\n    </body>\\n</response>\\n'"
      ]
     },
     "execution_count": 7,
     "metadata": {},
     "output_type": "execute_result"
    }
   ],
   "source": [
    "xml"
   ]
  },
  {
   "cell_type": "code",
   "execution_count": 8,
   "metadata": {},
   "outputs": [],
   "source": [
    "soup = BeautifulSoup(xml, 'html.parser')"
   ]
  },
  {
   "cell_type": "code",
   "execution_count": 9,
   "metadata": {},
   "outputs": [
    {
     "data": {
      "text/plain": [
       "<?xml version=\"1.0\" encoding=\"UTF-8\" standalone=\"yes\"?>\n",
       "<response>\n",
       "<header>\n",
       "<resultcode>00</resultcode>\n",
       "<resultmsg>NORMAL SERVICE.</resultmsg>\n",
       "<pageno>1</pageno>\n",
       "<numofrows>10</numofrows>\n",
       "</header>\n",
       "<body>\n",
       "<table>\n",
       "<title>손보_주요영업활동_보험종류별 경과손해율</title>\n",
       "<totalcount>20940</totalcount>\n",
       "<items>\n",
       "<item>\n",
       "<basym>201709</basym>\n",
       "<crno>1101110013328</crno>\n",
       "<fncocd>0010626</fncocd>\n",
       "<fnconm>메리츠화재해상보험주식회사</fnconm>\n",
       "<isukindelpslosratclsfamt>76.97</isukindelpslosratclsfamt>\n",
       "<isukindelpslosratdcd>A</isukindelpslosratdcd>\n",
       "<isukindelpslosratdcdnm>경과손해율_자동차</isukindelpslosratdcdnm>\n",
       "</item>\n",
       "<item>\n",
       "<basym>202109</basym>\n",
       "<crno>1101110013328</crno>\n",
       "<fncocd>0010626</fncocd>\n",
       "<fnconm>메리츠화재해상보험주식회사</fnconm>\n",
       "<isukindelpslosratclsfamt>75.77</isukindelpslosratclsfamt>\n",
       "<isukindelpslosratdcd>A</isukindelpslosratdcd>\n",
       "<isukindelpslosratdcdnm>경과손해율_자동차</isukindelpslosratdcdnm>\n",
       "</item>\n",
       "<item>\n",
       "<basym>201609</basym>\n",
       "<crno>1101110013328</crno>\n",
       "<fncocd>0010626</fncocd>\n",
       "<fnconm>메리츠화재해상보험주식회사</fnconm>\n",
       "<isukindelpslosratclsfamt>83.09</isukindelpslosratclsfamt>\n",
       "<isukindelpslosratdcd>A</isukindelpslosratdcd>\n",
       "<isukindelpslosratdcdnm>경과손해율_자동차</isukindelpslosratdcdnm>\n",
       "</item>\n",
       "<item>\n",
       "<basym>201403</basym>\n",
       "<crno>1101110013328</crno>\n",
       "<fncocd>0010626</fncocd>\n",
       "<fnconm>메리츠화재해상보험주식회사</fnconm>\n",
       "<isukindelpslosratclsfamt>91.3</isukindelpslosratclsfamt>\n",
       "<isukindelpslosratdcd>A</isukindelpslosratdcd>\n",
       "<isukindelpslosratdcdnm>경과손해율_자동차</isukindelpslosratdcdnm>\n",
       "</item>\n",
       "<item>\n",
       "<basym>202203</basym>\n",
       "<crno>1101110013328</crno>\n",
       "<fncocd>0010626</fncocd>\n",
       "<fnconm>메리츠화재해상보험주식회사</fnconm>\n",
       "<isukindelpslosratclsfamt>73.07</isukindelpslosratclsfamt>\n",
       "<isukindelpslosratdcd>A</isukindelpslosratdcd>\n",
       "<isukindelpslosratdcdnm>경과손해율_자동차</isukindelpslosratdcdnm>\n",
       "</item>\n",
       "<item>\n",
       "<basym>201503</basym>\n",
       "<crno>1101110013328</crno>\n",
       "<fncocd>0010626</fncocd>\n",
       "<fnconm>메리츠화재해상보험주식회사</fnconm>\n",
       "<isukindelpslosratclsfamt>90.89</isukindelpslosratclsfamt>\n",
       "<isukindelpslosratdcd>A</isukindelpslosratdcd>\n",
       "<isukindelpslosratdcdnm>경과손해율_자동차</isukindelpslosratdcdnm>\n",
       "</item>\n",
       "<item>\n",
       "<basym>201806</basym>\n",
       "<crno>1101110013328</crno>\n",
       "<fncocd>0010626</fncocd>\n",
       "<fnconm>메리츠화재해상보험주식회사</fnconm>\n",
       "<isukindelpslosratclsfamt>77.41</isukindelpslosratclsfamt>\n",
       "<isukindelpslosratdcd>A</isukindelpslosratdcd>\n",
       "<isukindelpslosratdcdnm>경과손해율_자동차</isukindelpslosratdcdnm>\n",
       "</item>\n",
       "<item>\n",
       "<basym>201106</basym>\n",
       "<crno>1101110013328</crno>\n",
       "<fncocd>0010626</fncocd>\n",
       "<fnconm>메리츠화재해상보험주식회사</fnconm>\n",
       "<isukindelpslosratclsfamt>81.78</isukindelpslosratclsfamt>\n",
       "<isukindelpslosratdcd>A</isukindelpslosratdcd>\n",
       "<isukindelpslosratdcdnm>경과손해율_자동차</isukindelpslosratdcdnm>\n",
       "</item>\n",
       "<item>\n",
       "<basym>201809</basym>\n",
       "<crno>1101110013328</crno>\n",
       "<fncocd>0010626</fncocd>\n",
       "<fnconm>메리츠화재해상보험주식회사</fnconm>\n",
       "<isukindelpslosratclsfamt>79.69</isukindelpslosratclsfamt>\n",
       "<isukindelpslosratdcd>A</isukindelpslosratdcd>\n",
       "<isukindelpslosratdcdnm>경과손해율_자동차</isukindelpslosratdcdnm>\n",
       "</item>\n",
       "<item>\n",
       "<basym>201203</basym>\n",
       "<crno>1101110013328</crno>\n",
       "<fncocd>0010626</fncocd>\n",
       "<fnconm>메리츠화재해상보험주식회사</fnconm>\n",
       "<isukindelpslosratclsfamt>83.94</isukindelpslosratclsfamt>\n",
       "<isukindelpslosratdcd>A</isukindelpslosratdcd>\n",
       "<isukindelpslosratdcdnm>경과손해율_자동차</isukindelpslosratdcdnm>\n",
       "</item>\n",
       "</items>\n",
       "</table>\n",
       "</body>\n",
       "</response>"
      ]
     },
     "execution_count": 9,
     "metadata": {},
     "output_type": "execute_result"
    }
   ],
   "source": [
    "soup"
   ]
  },
  {
   "cell_type": "code",
   "execution_count": 10,
   "metadata": {},
   "outputs": [
    {
     "data": {
      "text/plain": [
       "[<totalcount>20940</totalcount>]"
      ]
     },
     "execution_count": 10,
     "metadata": {},
     "output_type": "execute_result"
    }
   ],
   "source": [
    "# 전체 결과수 \n",
    "totalCount = soup.select('totalCount')\n",
    "totalCount"
   ]
  },
  {
   "cell_type": "code",
   "execution_count": 11,
   "metadata": {},
   "outputs": [
    {
     "data": {
      "text/plain": [
       "[<numofrows>10</numofrows>]"
      ]
     },
     "execution_count": 11,
     "metadata": {},
     "output_type": "execute_result"
    }
   ],
   "source": [
    "# 한 페이지 결과수 \n",
    "numOfRows = soup.select('numOfRows')\n",
    "numOfRows"
   ]
  },
  {
   "cell_type": "code",
   "execution_count": 12,
   "metadata": {},
   "outputs": [
    {
     "data": {
      "text/plain": [
       "[<basym>201709</basym>,\n",
       " <basym>202109</basym>,\n",
       " <basym>201609</basym>,\n",
       " <basym>201403</basym>,\n",
       " <basym>202203</basym>,\n",
       " <basym>201503</basym>,\n",
       " <basym>201806</basym>,\n",
       " <basym>201106</basym>,\n",
       " <basym>201809</basym>,\n",
       " <basym>201203</basym>]"
      ]
     },
     "execution_count": 12,
     "metadata": {},
     "output_type": "execute_result"
    }
   ],
   "source": [
    "# 기준년월\n",
    "basYm = soup.select('basYm')\n",
    "basYm"
   ]
  },
  {
   "cell_type": "code",
   "execution_count": 13,
   "metadata": {},
   "outputs": [
    {
     "data": {
      "text/plain": [
       "[<fncocd>0010626</fncocd>,\n",
       " <fncocd>0010626</fncocd>,\n",
       " <fncocd>0010626</fncocd>,\n",
       " <fncocd>0010626</fncocd>,\n",
       " <fncocd>0010626</fncocd>,\n",
       " <fncocd>0010626</fncocd>,\n",
       " <fncocd>0010626</fncocd>,\n",
       " <fncocd>0010626</fncocd>,\n",
       " <fncocd>0010626</fncocd>,\n",
       " <fncocd>0010626</fncocd>]"
      ]
     },
     "execution_count": 13,
     "metadata": {},
     "output_type": "execute_result"
    }
   ],
   "source": [
    "# 금융회사코드\n",
    "fncoCd = soup.select('fncoCd')\n",
    "fncoCd"
   ]
  },
  {
   "cell_type": "code",
   "execution_count": 14,
   "metadata": {},
   "outputs": [
    {
     "data": {
      "text/plain": [
       "[<fnconm>메리츠화재해상보험주식회사</fnconm>,\n",
       " <fnconm>메리츠화재해상보험주식회사</fnconm>,\n",
       " <fnconm>메리츠화재해상보험주식회사</fnconm>,\n",
       " <fnconm>메리츠화재해상보험주식회사</fnconm>,\n",
       " <fnconm>메리츠화재해상보험주식회사</fnconm>,\n",
       " <fnconm>메리츠화재해상보험주식회사</fnconm>,\n",
       " <fnconm>메리츠화재해상보험주식회사</fnconm>,\n",
       " <fnconm>메리츠화재해상보험주식회사</fnconm>,\n",
       " <fnconm>메리츠화재해상보험주식회사</fnconm>,\n",
       " <fnconm>메리츠화재해상보험주식회사</fnconm>]"
      ]
     },
     "execution_count": 14,
     "metadata": {},
     "output_type": "execute_result"
    }
   ],
   "source": [
    "# 금융회사명\n",
    "fncoNm = soup.select('fncoNm')\n",
    "fncoNm"
   ]
  },
  {
   "cell_type": "code",
   "execution_count": 15,
   "metadata": {},
   "outputs": [
    {
     "data": {
      "text/plain": [
       "[<isukindelpslosratclsfamt>76.97</isukindelpslosratclsfamt>,\n",
       " <isukindelpslosratclsfamt>75.77</isukindelpslosratclsfamt>,\n",
       " <isukindelpslosratclsfamt>83.09</isukindelpslosratclsfamt>,\n",
       " <isukindelpslosratclsfamt>91.3</isukindelpslosratclsfamt>,\n",
       " <isukindelpslosratclsfamt>73.07</isukindelpslosratclsfamt>,\n",
       " <isukindelpslosratclsfamt>90.89</isukindelpslosratclsfamt>,\n",
       " <isukindelpslosratclsfamt>77.41</isukindelpslosratclsfamt>,\n",
       " <isukindelpslosratclsfamt>81.78</isukindelpslosratclsfamt>,\n",
       " <isukindelpslosratclsfamt>79.69</isukindelpslosratclsfamt>,\n",
       " <isukindelpslosratclsfamt>83.94</isukindelpslosratclsfamt>]"
      ]
     },
     "execution_count": 15,
     "metadata": {},
     "output_type": "execute_result"
    }
   ],
   "source": [
    "# 보험종류경과손해율구분금액\n",
    "ClsfAmt = soup.select('isuKindElpsLosRatClsfAmt')\n",
    "ClsfAmt"
   ]
  },
  {
   "cell_type": "code",
   "execution_count": 16,
   "metadata": {},
   "outputs": [
    {
     "data": {
      "text/plain": [
       "[<isukindelpslosratdcd>A</isukindelpslosratdcd>,\n",
       " <isukindelpslosratdcd>A</isukindelpslosratdcd>,\n",
       " <isukindelpslosratdcd>A</isukindelpslosratdcd>,\n",
       " <isukindelpslosratdcd>A</isukindelpslosratdcd>,\n",
       " <isukindelpslosratdcd>A</isukindelpslosratdcd>,\n",
       " <isukindelpslosratdcd>A</isukindelpslosratdcd>,\n",
       " <isukindelpslosratdcd>A</isukindelpslosratdcd>,\n",
       " <isukindelpslosratdcd>A</isukindelpslosratdcd>,\n",
       " <isukindelpslosratdcd>A</isukindelpslosratdcd>,\n",
       " <isukindelpslosratdcd>A</isukindelpslosratdcd>]"
      ]
     },
     "execution_count": 16,
     "metadata": {},
     "output_type": "execute_result"
    }
   ],
   "source": [
    "# 보험종류경과손해율구분코드\n",
    "RatDcd = soup.select('isuKindElpsLosRatDcd')\n",
    "RatDcd"
   ]
  },
  {
   "cell_type": "code",
   "execution_count": 17,
   "metadata": {},
   "outputs": [
    {
     "data": {
      "text/plain": [
       "[<isukindelpslosratdcdnm>경과손해율_자동차</isukindelpslosratdcdnm>,\n",
       " <isukindelpslosratdcdnm>경과손해율_자동차</isukindelpslosratdcdnm>,\n",
       " <isukindelpslosratdcdnm>경과손해율_자동차</isukindelpslosratdcdnm>,\n",
       " <isukindelpslosratdcdnm>경과손해율_자동차</isukindelpslosratdcdnm>,\n",
       " <isukindelpslosratdcdnm>경과손해율_자동차</isukindelpslosratdcdnm>,\n",
       " <isukindelpslosratdcdnm>경과손해율_자동차</isukindelpslosratdcdnm>,\n",
       " <isukindelpslosratdcdnm>경과손해율_자동차</isukindelpslosratdcdnm>,\n",
       " <isukindelpslosratdcdnm>경과손해율_자동차</isukindelpslosratdcdnm>,\n",
       " <isukindelpslosratdcdnm>경과손해율_자동차</isukindelpslosratdcdnm>,\n",
       " <isukindelpslosratdcdnm>경과손해율_자동차</isukindelpslosratdcdnm>]"
      ]
     },
     "execution_count": 17,
     "metadata": {},
     "output_type": "execute_result"
    }
   ],
   "source": [
    "# 보험종류경과손해율구분코드명\n",
    "RatDcdNm = soup.select('isuKindElpsLosRatDcdNm')\n",
    "RatDcdNm"
   ]
  },
  {
   "cell_type": "code",
   "execution_count": 18,
   "metadata": {},
   "outputs": [
    {
     "data": {
      "text/plain": [
       "[<isukindelpslosratclsfamt>76.97</isukindelpslosratclsfamt>,\n",
       " <isukindelpslosratclsfamt>75.77</isukindelpslosratclsfamt>,\n",
       " <isukindelpslosratclsfamt>83.09</isukindelpslosratclsfamt>,\n",
       " <isukindelpslosratclsfamt>91.3</isukindelpslosratclsfamt>,\n",
       " <isukindelpslosratclsfamt>73.07</isukindelpslosratclsfamt>,\n",
       " <isukindelpslosratclsfamt>90.89</isukindelpslosratclsfamt>,\n",
       " <isukindelpslosratclsfamt>77.41</isukindelpslosratclsfamt>,\n",
       " <isukindelpslosratclsfamt>81.78</isukindelpslosratclsfamt>,\n",
       " <isukindelpslosratclsfamt>79.69</isukindelpslosratclsfamt>,\n",
       " <isukindelpslosratclsfamt>83.94</isukindelpslosratclsfamt>]"
      ]
     },
     "execution_count": 18,
     "metadata": {},
     "output_type": "execute_result"
    }
   ],
   "source": [
    "ClsfAmt"
   ]
  },
  {
   "cell_type": "code",
   "execution_count": 19,
   "metadata": {},
   "outputs": [
    {
     "data": {
      "text/plain": [
       "<isukindelpslosratclsfamt>76.97</isukindelpslosratclsfamt>"
      ]
     },
     "execution_count": 19,
     "metadata": {},
     "output_type": "execute_result"
    }
   ],
   "source": [
    "ClsfAmt[0]"
   ]
  },
  {
   "cell_type": "code",
   "execution_count": 20,
   "metadata": {},
   "outputs": [
    {
     "data": {
      "text/plain": [
       "'76.97'"
      ]
     },
     "execution_count": 20,
     "metadata": {},
     "output_type": "execute_result"
    }
   ],
   "source": [
    "ClsfAmt[0].text"
   ]
  },
  {
   "cell_type": "code",
   "execution_count": 21,
   "metadata": {},
   "outputs": [
    {
     "name": "stdout",
     "output_type": "stream",
     "text": [
      "76.97\n",
      "75.77\n",
      "83.09\n",
      "91.3\n",
      "73.07\n",
      "90.89\n",
      "77.41\n",
      "81.78\n",
      "79.69\n",
      "83.94\n"
     ]
    }
   ],
   "source": [
    "for n in ClsfAmt :\n",
    "    print(n.text)"
   ]
  },
  {
   "cell_type": "code",
   "execution_count": 22,
   "metadata": {},
   "outputs": [
    {
     "data": {
      "text/plain": [
       "['76.97',\n",
       " '75.77',\n",
       " '83.09',\n",
       " '91.3',\n",
       " '73.07',\n",
       " '90.89',\n",
       " '77.41',\n",
       " '81.78',\n",
       " '79.69',\n",
       " '83.94']"
      ]
     },
     "execution_count": 22,
     "metadata": {},
     "output_type": "execute_result"
    }
   ],
   "source": [
    "ClsfAmt_result = []\n",
    "\n",
    "for n in ClsfAmt :\n",
    "    ClsfAmt_result.append(n.text)\n",
    "    \n",
    "ClsfAmt_result"
   ]
  },
  {
   "cell_type": "markdown",
   "metadata": {},
   "source": [
    "### 데이터 정리하기"
   ]
  },
  {
   "cell_type": "code",
   "execution_count": 23,
   "metadata": {},
   "outputs": [
    {
     "data": {
      "text/plain": [
       "10"
      ]
     },
     "execution_count": 23,
     "metadata": {},
     "output_type": "execute_result"
    }
   ],
   "source": [
    "# 한 페이지 아이템 목록\n",
    "items = soup.select('item')\n",
    "len(items)"
   ]
  },
  {
   "cell_type": "code",
   "execution_count": 24,
   "metadata": {},
   "outputs": [
    {
     "data": {
      "text/plain": [
       "<item>\n",
       "<basym>201709</basym>\n",
       "<crno>1101110013328</crno>\n",
       "<fncocd>0010626</fncocd>\n",
       "<fnconm>메리츠화재해상보험주식회사</fnconm>\n",
       "<isukindelpslosratclsfamt>76.97</isukindelpslosratclsfamt>\n",
       "<isukindelpslosratdcd>A</isukindelpslosratdcd>\n",
       "<isukindelpslosratdcdnm>경과손해율_자동차</isukindelpslosratdcdnm>\n",
       "</item>"
      ]
     },
     "execution_count": 24,
     "metadata": {},
     "output_type": "execute_result"
    }
   ],
   "source": [
    "items[0]"
   ]
  },
  {
   "cell_type": "code",
   "execution_count": 25,
   "metadata": {},
   "outputs": [
    {
     "data": {
      "text/plain": [
       "'메리츠화재해상보험주식회사'"
      ]
     },
     "execution_count": 25,
     "metadata": {},
     "output_type": "execute_result"
    }
   ],
   "source": [
    "items[0].select('fnconm')[0].text"
   ]
  },
  {
   "cell_type": "code",
   "execution_count": 26,
   "metadata": {},
   "outputs": [],
   "source": [
    "basYm = []\n",
    "crno = []\n",
    "fncoCd = []\n",
    "fncoNm = []\n",
    "ClsfAmt = []\n",
    "RatDcd = []\n",
    "RatDcdNm = []\n",
    "\n",
    "for item in items:\n",
    "    basYm.append(item.select('basym')[0].text)\n",
    "    crno.append(item.select('crno')[0].text)    \n",
    "    fncoCd.append(item.select('fncocd')[0].text)\n",
    "    fncoNm.append(item.select('fnconm')[0].text)\n",
    "    ClsfAmt.append(item.select('isukindelpslosratclsfamt')[0].text)\n",
    "    RatDcd.append(item.select('isukindelpslosratdcd')[0].text)\n",
    "    RatDcdNm.append(item.select('isukindelpslosratdcdnm')[0].text)"
   ]
  },
  {
   "cell_type": "code",
   "execution_count": 27,
   "metadata": {},
   "outputs": [
    {
     "data": {
      "text/plain": [
       "10"
      ]
     },
     "execution_count": 27,
     "metadata": {},
     "output_type": "execute_result"
    }
   ],
   "source": [
    "len(ClsfAmt)"
   ]
  },
  {
   "cell_type": "code",
   "execution_count": 28,
   "metadata": {},
   "outputs": [
    {
     "data": {
      "text/plain": [
       "['76.97',\n",
       " '75.77',\n",
       " '83.09',\n",
       " '91.3',\n",
       " '73.07',\n",
       " '90.89',\n",
       " '77.41',\n",
       " '81.78',\n",
       " '79.69',\n",
       " '83.94']"
      ]
     },
     "execution_count": 28,
     "metadata": {},
     "output_type": "execute_result"
    }
   ],
   "source": [
    "ClsfAmt"
   ]
  },
  {
   "cell_type": "markdown",
   "metadata": {},
   "source": [
    "### 반복문을 활용해 한번에 API 요청 - 페이지별로 호출하여 결합\n",
    "총 20160개 아이템을 페이지당 100개씩 호출하면, 총 202페이지 필요 "
   ]
  },
  {
   "cell_type": "code",
   "execution_count": 29,
   "metadata": {},
   "outputs": [
    {
     "data": {
      "text/plain": [
       "210"
      ]
     },
     "execution_count": 29,
     "metadata": {},
     "output_type": "execute_result"
    }
   ],
   "source": [
    "int(totalCount[0].text) // 100 + 1"
   ]
  },
  {
   "cell_type": "code",
   "execution_count": 30,
   "metadata": {},
   "outputs": [
    {
     "data": {
      "text/plain": [
       "'http://apis.data.go.kr/1160100/service/GetNonlInsuCompInfoService/getNonlInsuCompMajoBusiActi?serviceKey=g0OhTQflzDelAVixM%2Bm0EtPvJvzcv1ZYwO%2Bj9b%2Fi4bmToDzAyifU%2FHxjCAhbsRMcozdUhj7E9i%2Bc5S7l3JzP9w%3D%3D&numOfRows=100&pageNo=1'"
      ]
     },
     "execution_count": 30,
     "metadata": {},
     "output_type": "execute_result"
    }
   ],
   "source": [
    "\"http://apis.data.go.kr/1160100/service/GetNonlInsuCompInfoService/getNonlInsuCompMajoBusiActi?serviceKey=\" + ServiceKey + \"&numOfRows=100&pageNo=\" + str(1)"
   ]
  },
  {
   "cell_type": "code",
   "execution_count": 31,
   "metadata": {},
   "outputs": [
    {
     "name": "stdout",
     "output_type": "stream",
     "text": [
      "10\n",
      "20\n",
      "30\n",
      "40\n",
      "50\n",
      "60\n",
      "70\n",
      "80\n",
      "90\n",
      "100\n",
      "110\n",
      "120\n",
      "130\n",
      "140\n",
      "150\n",
      "160\n",
      "170\n",
      "180\n",
      "190\n",
      "200\n"
     ]
    }
   ],
   "source": [
    "basYm = []\n",
    "crno = []\n",
    "fncoCd = []\n",
    "fncoNm = []\n",
    "ClsfAmt = []\n",
    "RatDcd = []\n",
    "RatDcdNm = []\n",
    "\n",
    "# 손해보험주요영업활동조회\n",
    "url = \"http://apis.data.go.kr/1160100/service/GetNonlInsuCompInfoService/getNonlInsuCompMajoBusiActi?\"\n",
    "\n",
    "api_url = url + \"serviceKey=\"+ ServiceKey + \"&numOfRows=\"+ str(100)\n",
    "\n",
    "for page in range(1, 203, 1):\n",
    "    if page % 10 == 0:\n",
    "        print(page)\n",
    "    \n",
    "    page_url = api_url + \"&pageNo=\" + str(page)\n",
    "    \n",
    "    req = requests.get(page_url)\n",
    "    xml = req.text\n",
    "    soup = BeautifulSoup(xml, 'html.parser')   \n",
    "    \n",
    "    # 한 페이지 아이템 목록\n",
    "    items = soup.select('item')\n",
    "    \n",
    "    for item in items:\n",
    "        basYm.append(item.select('basym')[0].text)\n",
    "        crno.append(item.select('crno')[0].text)    \n",
    "        fncoCd.append(item.select('fncocd')[0].text)\n",
    "        fncoNm.append(item.select('fnconm')[0].text)\n",
    "        ClsfAmt.append(item.select('isukindelpslosratclsfamt')[0].text)\n",
    "        RatDcd.append(item.select('isukindelpslosratdcd')[0].text)\n",
    "        RatDcdNm.append(item.select('isukindelpslosratdcdnm')[0].text)           "
   ]
  },
  {
   "cell_type": "code",
   "execution_count": 32,
   "metadata": {},
   "outputs": [
    {
     "data": {
      "text/plain": [
       "20200"
      ]
     },
     "execution_count": 32,
     "metadata": {},
     "output_type": "execute_result"
    }
   ],
   "source": [
    "len(fncoNm)"
   ]
  },
  {
   "cell_type": "code",
   "execution_count": 33,
   "metadata": {},
   "outputs": [
    {
     "data": {
      "text/html": [
       "<div>\n",
       "<style scoped>\n",
       "    .dataframe tbody tr th:only-of-type {\n",
       "        vertical-align: middle;\n",
       "    }\n",
       "\n",
       "    .dataframe tbody tr th {\n",
       "        vertical-align: top;\n",
       "    }\n",
       "\n",
       "    .dataframe thead th {\n",
       "        text-align: right;\n",
       "    }\n",
       "</style>\n",
       "<table border=\"1\" class=\"dataframe\">\n",
       "  <thead>\n",
       "    <tr style=\"text-align: right;\">\n",
       "      <th></th>\n",
       "      <th>basYm</th>\n",
       "      <th>crno</th>\n",
       "      <th>fncoCd</th>\n",
       "      <th>fncoNm</th>\n",
       "      <th>ClsfAmt</th>\n",
       "      <th>RatDcd</th>\n",
       "      <th>RatDcdNm</th>\n",
       "    </tr>\n",
       "  </thead>\n",
       "  <tbody>\n",
       "    <tr>\n",
       "      <th>0</th>\n",
       "      <td>201709</td>\n",
       "      <td>1101110013328</td>\n",
       "      <td>0010626</td>\n",
       "      <td>메리츠화재해상보험주식회사</td>\n",
       "      <td>76.97</td>\n",
       "      <td>A</td>\n",
       "      <td>경과손해율_자동차</td>\n",
       "    </tr>\n",
       "    <tr>\n",
       "      <th>1</th>\n",
       "      <td>202109</td>\n",
       "      <td>1101110013328</td>\n",
       "      <td>0010626</td>\n",
       "      <td>메리츠화재해상보험주식회사</td>\n",
       "      <td>75.77</td>\n",
       "      <td>A</td>\n",
       "      <td>경과손해율_자동차</td>\n",
       "    </tr>\n",
       "    <tr>\n",
       "      <th>2</th>\n",
       "      <td>201609</td>\n",
       "      <td>1101110013328</td>\n",
       "      <td>0010626</td>\n",
       "      <td>메리츠화재해상보험주식회사</td>\n",
       "      <td>83.09</td>\n",
       "      <td>A</td>\n",
       "      <td>경과손해율_자동차</td>\n",
       "    </tr>\n",
       "    <tr>\n",
       "      <th>3</th>\n",
       "      <td>201403</td>\n",
       "      <td>1101110013328</td>\n",
       "      <td>0010626</td>\n",
       "      <td>메리츠화재해상보험주식회사</td>\n",
       "      <td>91.3</td>\n",
       "      <td>A</td>\n",
       "      <td>경과손해율_자동차</td>\n",
       "    </tr>\n",
       "    <tr>\n",
       "      <th>4</th>\n",
       "      <td>202203</td>\n",
       "      <td>1101110013328</td>\n",
       "      <td>0010626</td>\n",
       "      <td>메리츠화재해상보험주식회사</td>\n",
       "      <td>73.07</td>\n",
       "      <td>A</td>\n",
       "      <td>경과손해율_자동차</td>\n",
       "    </tr>\n",
       "  </tbody>\n",
       "</table>\n",
       "</div>"
      ],
      "text/plain": [
       "    basYm           crno   fncoCd         fncoNm ClsfAmt RatDcd   RatDcdNm\n",
       "0  201709  1101110013328  0010626  메리츠화재해상보험주식회사   76.97      A  경과손해율_자동차\n",
       "1  202109  1101110013328  0010626  메리츠화재해상보험주식회사   75.77      A  경과손해율_자동차\n",
       "2  201609  1101110013328  0010626  메리츠화재해상보험주식회사   83.09      A  경과손해율_자동차\n",
       "3  201403  1101110013328  0010626  메리츠화재해상보험주식회사    91.3      A  경과손해율_자동차\n",
       "4  202203  1101110013328  0010626  메리츠화재해상보험주식회사   73.07      A  경과손해율_자동차"
      ]
     },
     "execution_count": 33,
     "metadata": {},
     "output_type": "execute_result"
    }
   ],
   "source": [
    "result = {\n",
    "    'basYm': basYm, \n",
    "    'crno': crno, \n",
    "    'fncoCd': fncoCd, \n",
    "    'fncoNm': fncoNm, \n",
    "    'ClsfAmt': ClsfAmt, \n",
    "    'RatDcd': RatDcd, \n",
    "    'RatDcdNm': RatDcdNm,     \n",
    "}\n",
    "\n",
    "data = pd.DataFrame(result)\n",
    "data.head()"
   ]
  },
  {
   "cell_type": "code",
   "execution_count": 34,
   "metadata": {},
   "outputs": [
    {
     "data": {
      "text/html": [
       "<div>\n",
       "<style scoped>\n",
       "    .dataframe tbody tr th:only-of-type {\n",
       "        vertical-align: middle;\n",
       "    }\n",
       "\n",
       "    .dataframe tbody tr th {\n",
       "        vertical-align: top;\n",
       "    }\n",
       "\n",
       "    .dataframe thead th {\n",
       "        text-align: right;\n",
       "    }\n",
       "</style>\n",
       "<table border=\"1\" class=\"dataframe\">\n",
       "  <thead>\n",
       "    <tr style=\"text-align: right;\">\n",
       "      <th></th>\n",
       "      <th>basYm</th>\n",
       "      <th>crno</th>\n",
       "      <th>fncoCd</th>\n",
       "      <th>fncoNm</th>\n",
       "      <th>ClsfAmt</th>\n",
       "      <th>RatDcd</th>\n",
       "      <th>RatDcdNm</th>\n",
       "    </tr>\n",
       "  </thead>\n",
       "  <tbody>\n",
       "    <tr>\n",
       "      <th>20195</th>\n",
       "      <td>201912</td>\n",
       "      <td>1101810046041</td>\n",
       "      <td>0011952</td>\n",
       "      <td>하노버재보험(주) 한국지점</td>\n",
       "      <td>68.45</td>\n",
       "      <td>B</td>\n",
       "      <td>경과손해율_일반</td>\n",
       "    </tr>\n",
       "    <tr>\n",
       "      <th>20196</th>\n",
       "      <td>201912</td>\n",
       "      <td>1101810046041</td>\n",
       "      <td>0011952</td>\n",
       "      <td>하노버재보험(주) 한국지점</td>\n",
       "      <td>78.17</td>\n",
       "      <td>C</td>\n",
       "      <td>경과손해율_장기</td>\n",
       "    </tr>\n",
       "    <tr>\n",
       "      <th>20197</th>\n",
       "      <td>201912</td>\n",
       "      <td>1101810046041</td>\n",
       "      <td>0011952</td>\n",
       "      <td>하노버재보험(주) 한국지점</td>\n",
       "      <td>70.19</td>\n",
       "      <td>D</td>\n",
       "      <td>경과손해율_합계</td>\n",
       "    </tr>\n",
       "    <tr>\n",
       "      <th>20198</th>\n",
       "      <td>201912</td>\n",
       "      <td>1101810046041</td>\n",
       "      <td>0011952</td>\n",
       "      <td>하노버재보험(주) 한국지점</td>\n",
       "      <td>0</td>\n",
       "      <td>E</td>\n",
       "      <td>순사업비율_자동차</td>\n",
       "    </tr>\n",
       "    <tr>\n",
       "      <th>20199</th>\n",
       "      <td>201912</td>\n",
       "      <td>1101810046041</td>\n",
       "      <td>0011952</td>\n",
       "      <td>하노버재보험(주) 한국지점</td>\n",
       "      <td>26.04</td>\n",
       "      <td>F</td>\n",
       "      <td>순사업비율_일반</td>\n",
       "    </tr>\n",
       "  </tbody>\n",
       "</table>\n",
       "</div>"
      ],
      "text/plain": [
       "        basYm           crno   fncoCd          fncoNm ClsfAmt RatDcd  \\\n",
       "20195  201912  1101810046041  0011952  하노버재보험(주) 한국지점   68.45      B   \n",
       "20196  201912  1101810046041  0011952  하노버재보험(주) 한국지점   78.17      C   \n",
       "20197  201912  1101810046041  0011952  하노버재보험(주) 한국지점   70.19      D   \n",
       "20198  201912  1101810046041  0011952  하노버재보험(주) 한국지점       0      E   \n",
       "20199  201912  1101810046041  0011952  하노버재보험(주) 한국지점   26.04      F   \n",
       "\n",
       "        RatDcdNm  \n",
       "20195   경과손해율_일반  \n",
       "20196   경과손해율_장기  \n",
       "20197   경과손해율_합계  \n",
       "20198  순사업비율_자동차  \n",
       "20199   순사업비율_일반  "
      ]
     },
     "execution_count": 34,
     "metadata": {},
     "output_type": "execute_result"
    }
   ],
   "source": [
    "data.tail()"
   ]
  },
  {
   "cell_type": "code",
   "execution_count": 35,
   "metadata": {},
   "outputs": [
    {
     "name": "stdout",
     "output_type": "stream",
     "text": [
      "<class 'pandas.core.frame.DataFrame'>\n",
      "RangeIndex: 20200 entries, 0 to 20199\n",
      "Data columns (total 7 columns):\n",
      " #   Column    Non-Null Count  Dtype \n",
      "---  ------    --------------  ----- \n",
      " 0   basYm     20200 non-null  object\n",
      " 1   crno      20200 non-null  object\n",
      " 2   fncoCd    20200 non-null  object\n",
      " 3   fncoNm    20200 non-null  object\n",
      " 4   ClsfAmt   20200 non-null  object\n",
      " 5   RatDcd    20200 non-null  object\n",
      " 6   RatDcdNm  20200 non-null  object\n",
      "dtypes: object(7)\n",
      "memory usage: 1.1+ MB\n"
     ]
    }
   ],
   "source": [
    "data.info()"
   ]
  },
  {
   "cell_type": "code",
   "execution_count": 36,
   "metadata": {},
   "outputs": [],
   "source": [
    "# 숫자로 변환\n",
    "data['ClsfAmt'] = data['ClsfAmt'].astype('float')"
   ]
  },
  {
   "cell_type": "code",
   "execution_count": 37,
   "metadata": {},
   "outputs": [
    {
     "data": {
      "text/plain": [
       "0         True\n",
       "1         True\n",
       "2         True\n",
       "3         True\n",
       "4         True\n",
       "         ...  \n",
       "20195    False\n",
       "20196    False\n",
       "20197    False\n",
       "20198    False\n",
       "20199    False\n",
       "Name: fncoNm, Length: 20200, dtype: bool"
      ]
     },
     "execution_count": 37,
     "metadata": {},
     "output_type": "execute_result"
    }
   ],
   "source": [
    "data['fncoNm'].str.contains(\"주식회사\")"
   ]
  },
  {
   "cell_type": "code",
   "execution_count": 38,
   "metadata": {},
   "outputs": [
    {
     "data": {
      "text/html": [
       "<div>\n",
       "<style scoped>\n",
       "    .dataframe tbody tr th:only-of-type {\n",
       "        vertical-align: middle;\n",
       "    }\n",
       "\n",
       "    .dataframe tbody tr th {\n",
       "        vertical-align: top;\n",
       "    }\n",
       "\n",
       "    .dataframe thead th {\n",
       "        text-align: right;\n",
       "    }\n",
       "</style>\n",
       "<table border=\"1\" class=\"dataframe\">\n",
       "  <thead>\n",
       "    <tr style=\"text-align: right;\">\n",
       "      <th></th>\n",
       "      <th>basYm</th>\n",
       "      <th>crno</th>\n",
       "      <th>fncoCd</th>\n",
       "      <th>fncoNm</th>\n",
       "      <th>ClsfAmt</th>\n",
       "      <th>RatDcd</th>\n",
       "      <th>RatDcdNm</th>\n",
       "    </tr>\n",
       "  </thead>\n",
       "  <tbody>\n",
       "    <tr>\n",
       "      <th>259</th>\n",
       "      <td>201709</td>\n",
       "      <td>1101110095285</td>\n",
       "      <td>0010636</td>\n",
       "      <td>DB손해보험주식회사</td>\n",
       "      <td>79.05</td>\n",
       "      <td>A</td>\n",
       "      <td>경과손해율_자동차</td>\n",
       "    </tr>\n",
       "    <tr>\n",
       "      <th>260</th>\n",
       "      <td>202109</td>\n",
       "      <td>1101110095285</td>\n",
       "      <td>0010636</td>\n",
       "      <td>DB손해보험주식회사</td>\n",
       "      <td>77.93</td>\n",
       "      <td>A</td>\n",
       "      <td>경과손해율_자동차</td>\n",
       "    </tr>\n",
       "    <tr>\n",
       "      <th>261</th>\n",
       "      <td>201609</td>\n",
       "      <td>1101110095285</td>\n",
       "      <td>0010636</td>\n",
       "      <td>DB손해보험주식회사</td>\n",
       "      <td>80.64</td>\n",
       "      <td>A</td>\n",
       "      <td>경과손해율_자동차</td>\n",
       "    </tr>\n",
       "    <tr>\n",
       "      <th>262</th>\n",
       "      <td>201403</td>\n",
       "      <td>1101110095285</td>\n",
       "      <td>0010636</td>\n",
       "      <td>DB손해보험주식회사</td>\n",
       "      <td>85.64</td>\n",
       "      <td>A</td>\n",
       "      <td>경과손해율_자동차</td>\n",
       "    </tr>\n",
       "    <tr>\n",
       "      <th>263</th>\n",
       "      <td>202203</td>\n",
       "      <td>1101110095285</td>\n",
       "      <td>0010636</td>\n",
       "      <td>DB손해보험주식회사</td>\n",
       "      <td>77.20</td>\n",
       "      <td>A</td>\n",
       "      <td>경과손해율_자동차</td>\n",
       "    </tr>\n",
       "    <tr>\n",
       "      <th>...</th>\n",
       "      <td>...</td>\n",
       "      <td>...</td>\n",
       "      <td>...</td>\n",
       "      <td>...</td>\n",
       "      <td>...</td>\n",
       "      <td>...</td>\n",
       "      <td>...</td>\n",
       "    </tr>\n",
       "    <tr>\n",
       "      <th>19961</th>\n",
       "      <td>201903</td>\n",
       "      <td>1101110095285</td>\n",
       "      <td>0010636</td>\n",
       "      <td>DB손해보험주식회사</td>\n",
       "      <td>21.16</td>\n",
       "      <td>H</td>\n",
       "      <td>순사업비율_합계</td>\n",
       "    </tr>\n",
       "    <tr>\n",
       "      <th>19962</th>\n",
       "      <td>201903</td>\n",
       "      <td>1101110095285</td>\n",
       "      <td>0010636</td>\n",
       "      <td>DB손해보험주식회사</td>\n",
       "      <td>102.32</td>\n",
       "      <td>I</td>\n",
       "      <td>합산비율_자동차</td>\n",
       "    </tr>\n",
       "    <tr>\n",
       "      <th>19963</th>\n",
       "      <td>201903</td>\n",
       "      <td>1101110095285</td>\n",
       "      <td>0010636</td>\n",
       "      <td>DB손해보험주식회사</td>\n",
       "      <td>104.44</td>\n",
       "      <td>J</td>\n",
       "      <td>합산비율_일반</td>\n",
       "    </tr>\n",
       "    <tr>\n",
       "      <th>19964</th>\n",
       "      <td>201903</td>\n",
       "      <td>1101110095285</td>\n",
       "      <td>0010636</td>\n",
       "      <td>DB손해보험주식회사</td>\n",
       "      <td>106.39</td>\n",
       "      <td>K</td>\n",
       "      <td>합산비율_장기</td>\n",
       "    </tr>\n",
       "    <tr>\n",
       "      <th>19965</th>\n",
       "      <td>201903</td>\n",
       "      <td>1101110095285</td>\n",
       "      <td>0010636</td>\n",
       "      <td>DB손해보험주식회사</td>\n",
       "      <td>105.27</td>\n",
       "      <td>L</td>\n",
       "      <td>합산비율_합계</td>\n",
       "    </tr>\n",
       "  </tbody>\n",
       "</table>\n",
       "<p>588 rows × 7 columns</p>\n",
       "</div>"
      ],
      "text/plain": [
       "        basYm           crno   fncoCd      fncoNm  ClsfAmt RatDcd   RatDcdNm\n",
       "259    201709  1101110095285  0010636  DB손해보험주식회사    79.05      A  경과손해율_자동차\n",
       "260    202109  1101110095285  0010636  DB손해보험주식회사    77.93      A  경과손해율_자동차\n",
       "261    201609  1101110095285  0010636  DB손해보험주식회사    80.64      A  경과손해율_자동차\n",
       "262    201403  1101110095285  0010636  DB손해보험주식회사    85.64      A  경과손해율_자동차\n",
       "263    202203  1101110095285  0010636  DB손해보험주식회사    77.20      A  경과손해율_자동차\n",
       "...       ...            ...      ...         ...      ...    ...        ...\n",
       "19961  201903  1101110095285  0010636  DB손해보험주식회사    21.16      H   순사업비율_합계\n",
       "19962  201903  1101110095285  0010636  DB손해보험주식회사   102.32      I   합산비율_자동차\n",
       "19963  201903  1101110095285  0010636  DB손해보험주식회사   104.44      J    합산비율_일반\n",
       "19964  201903  1101110095285  0010636  DB손해보험주식회사   106.39      K    합산비율_장기\n",
       "19965  201903  1101110095285  0010636  DB손해보험주식회사   105.27      L    합산비율_합계\n",
       "\n",
       "[588 rows x 7 columns]"
      ]
     },
     "execution_count": 38,
     "metadata": {},
     "output_type": "execute_result"
    }
   ],
   "source": [
    "data.loc[data['fncoNm'].str.contains(\"DB\"), :]"
   ]
  },
  {
   "cell_type": "code",
   "execution_count": 39,
   "metadata": {},
   "outputs": [],
   "source": [
    "# data.to_csv('파일이름.csv', index=False)"
   ]
  },
  {
   "cell_type": "markdown",
   "metadata": {},
   "source": [
    "# [실습] \n",
    "\"손해보험주요경영지표\" 데이터를 수집하여 정리합니다. "
   ]
  },
  {
   "cell_type": "code",
   "execution_count": null,
   "metadata": {},
   "outputs": [],
   "source": []
  },
  {
   "cell_type": "code",
   "execution_count": null,
   "metadata": {},
   "outputs": [],
   "source": []
  }
 ],
 "metadata": {
  "kernelspec": {
   "display_name": "bigdata",
   "language": "python",
   "name": "bigdata"
  },
  "language_info": {
   "codemirror_mode": {
    "name": "ipython",
    "version": 3
   },
   "file_extension": ".py",
   "mimetype": "text/x-python",
   "name": "python",
   "nbconvert_exporter": "python",
   "pygments_lexer": "ipython3",
   "version": "3.8.13"
  }
 },
 "nbformat": 4,
 "nbformat_minor": 4
}
