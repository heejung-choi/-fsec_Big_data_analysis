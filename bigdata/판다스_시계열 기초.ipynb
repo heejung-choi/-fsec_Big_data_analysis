{
 "cells": [
  {
   "cell_type": "markdown",
   "id": "b418b65b",
   "metadata": {
    "_kg_hide-input": true,
    "papermill": {
     "duration": 0.035154,
     "end_time": "2021-09-17T23:33:33.505675",
     "exception": false,
     "start_time": "2021-09-17T23:33:33.470521",
     "status": "completed"
    },
    "tags": []
   },
   "source": [
    "## Setup"
   ]
  },
  {
   "cell_type": "code",
   "execution_count": 1,
   "id": "df6c1129",
   "metadata": {
    "_kg_hide-input": true,
    "papermill": {
     "duration": 1.041512,
     "end_time": "2021-09-17T23:33:34.582955",
     "exception": false,
     "start_time": "2021-09-17T23:33:33.541443",
     "status": "completed"
    },
    "tags": []
   },
   "outputs": [],
   "source": [
    "import numpy as np\n",
    "import pandas as pd\n",
    "\n",
    "import matplotlib.pyplot as plt\n",
    "import seaborn as sns\n",
    "\n",
    "import warnings\n",
    "warnings.filterwarnings(\"ignore\")"
   ]
  },
  {
   "cell_type": "markdown",
   "id": "5c4f7d58-b7f7-4b92-af53-c1141fcee530",
   "metadata": {},
   "source": [
    "# Pandas - Date & Time"
   ]
  },
  {
   "cell_type": "code",
   "execution_count": 2,
   "id": "eea3ad8a-8c19-467d-857b-28cd9b8406c1",
   "metadata": {},
   "outputs": [
    {
     "data": {
      "text/html": [
       "<div>\n",
       "<style scoped>\n",
       "    .dataframe tbody tr th:only-of-type {\n",
       "        vertical-align: middle;\n",
       "    }\n",
       "\n",
       "    .dataframe tbody tr th {\n",
       "        vertical-align: top;\n",
       "    }\n",
       "\n",
       "    .dataframe thead th {\n",
       "        text-align: right;\n",
       "    }\n",
       "</style>\n",
       "<table border=\"1\" class=\"dataframe\">\n",
       "  <thead>\n",
       "    <tr style=\"text-align: right;\">\n",
       "      <th></th>\n",
       "      <th>Date</th>\n",
       "      <th>Open</th>\n",
       "      <th>High</th>\n",
       "      <th>Low</th>\n",
       "      <th>Close</th>\n",
       "      <th>Volume</th>\n",
       "      <th>Name</th>\n",
       "    </tr>\n",
       "  </thead>\n",
       "  <tbody>\n",
       "    <tr>\n",
       "      <th>0</th>\n",
       "      <td>2006-01-03</td>\n",
       "      <td>77.76</td>\n",
       "      <td>79.35</td>\n",
       "      <td>77.24</td>\n",
       "      <td>79.11</td>\n",
       "      <td>3117200</td>\n",
       "      <td>MMM</td>\n",
       "    </tr>\n",
       "    <tr>\n",
       "      <th>1</th>\n",
       "      <td>2006-01-04</td>\n",
       "      <td>79.49</td>\n",
       "      <td>79.49</td>\n",
       "      <td>78.25</td>\n",
       "      <td>78.71</td>\n",
       "      <td>2558000</td>\n",
       "      <td>MMM</td>\n",
       "    </tr>\n",
       "    <tr>\n",
       "      <th>2</th>\n",
       "      <td>2006-01-05</td>\n",
       "      <td>78.41</td>\n",
       "      <td>78.65</td>\n",
       "      <td>77.56</td>\n",
       "      <td>77.99</td>\n",
       "      <td>2529500</td>\n",
       "      <td>MMM</td>\n",
       "    </tr>\n",
       "    <tr>\n",
       "      <th>3</th>\n",
       "      <td>2006-01-06</td>\n",
       "      <td>78.64</td>\n",
       "      <td>78.90</td>\n",
       "      <td>77.64</td>\n",
       "      <td>78.63</td>\n",
       "      <td>2479500</td>\n",
       "      <td>MMM</td>\n",
       "    </tr>\n",
       "    <tr>\n",
       "      <th>4</th>\n",
       "      <td>2006-01-09</td>\n",
       "      <td>78.50</td>\n",
       "      <td>79.83</td>\n",
       "      <td>78.46</td>\n",
       "      <td>79.02</td>\n",
       "      <td>1845600</td>\n",
       "      <td>MMM</td>\n",
       "    </tr>\n",
       "  </tbody>\n",
       "</table>\n",
       "</div>"
      ],
      "text/plain": [
       "         Date   Open   High    Low  Close   Volume Name\n",
       "0  2006-01-03  77.76  79.35  77.24  79.11  3117200  MMM\n",
       "1  2006-01-04  79.49  79.49  78.25  78.71  2558000  MMM\n",
       "2  2006-01-05  78.41  78.65  77.56  77.99  2529500  MMM\n",
       "3  2006-01-06  78.64  78.90  77.64  78.63  2479500  MMM\n",
       "4  2006-01-09  78.50  79.83  78.46  79.02  1845600  MMM"
      ]
     },
     "execution_count": 2,
     "metadata": {},
     "output_type": "execute_result"
    }
   ],
   "source": [
    "# 주가 데이터 가져오기\n",
    "df = pd.read_csv(\"./data/all_stocks_2006-01-01_to_2018-01-01.csv\")\n",
    "df.head()"
   ]
  },
  {
   "cell_type": "code",
   "execution_count": 4,
   "id": "1fff345a-5526-40e0-9a03-581eb6eae213",
   "metadata": {},
   "outputs": [
    {
     "data": {
      "text/html": [
       "<div>\n",
       "<style scoped>\n",
       "    .dataframe tbody tr th:only-of-type {\n",
       "        vertical-align: middle;\n",
       "    }\n",
       "\n",
       "    .dataframe tbody tr th {\n",
       "        vertical-align: top;\n",
       "    }\n",
       "\n",
       "    .dataframe thead th {\n",
       "        text-align: right;\n",
       "    }\n",
       "</style>\n",
       "<table border=\"1\" class=\"dataframe\">\n",
       "  <thead>\n",
       "    <tr style=\"text-align: right;\">\n",
       "      <th>Name</th>\n",
       "      <th>AABA</th>\n",
       "      <th>AAPL</th>\n",
       "      <th>AMZN</th>\n",
       "      <th>AXP</th>\n",
       "      <th>BA</th>\n",
       "      <th>CAT</th>\n",
       "      <th>CSCO</th>\n",
       "      <th>CVX</th>\n",
       "      <th>DIS</th>\n",
       "      <th>GE</th>\n",
       "      <th>...</th>\n",
       "      <th>MSFT</th>\n",
       "      <th>NKE</th>\n",
       "      <th>PFE</th>\n",
       "      <th>PG</th>\n",
       "      <th>TRV</th>\n",
       "      <th>UNH</th>\n",
       "      <th>UTX</th>\n",
       "      <th>VZ</th>\n",
       "      <th>WMT</th>\n",
       "      <th>XOM</th>\n",
       "    </tr>\n",
       "    <tr>\n",
       "      <th>Date</th>\n",
       "      <th></th>\n",
       "      <th></th>\n",
       "      <th></th>\n",
       "      <th></th>\n",
       "      <th></th>\n",
       "      <th></th>\n",
       "      <th></th>\n",
       "      <th></th>\n",
       "      <th></th>\n",
       "      <th></th>\n",
       "      <th></th>\n",
       "      <th></th>\n",
       "      <th></th>\n",
       "      <th></th>\n",
       "      <th></th>\n",
       "      <th></th>\n",
       "      <th></th>\n",
       "      <th></th>\n",
       "      <th></th>\n",
       "      <th></th>\n",
       "      <th></th>\n",
       "    </tr>\n",
       "  </thead>\n",
       "  <tbody>\n",
       "    <tr>\n",
       "      <th>2006-01-03</th>\n",
       "      <td>40.91</td>\n",
       "      <td>10.68</td>\n",
       "      <td>47.58</td>\n",
       "      <td>52.58</td>\n",
       "      <td>70.44</td>\n",
       "      <td>57.80</td>\n",
       "      <td>17.45</td>\n",
       "      <td>59.08</td>\n",
       "      <td>24.40</td>\n",
       "      <td>35.37</td>\n",
       "      <td>...</td>\n",
       "      <td>26.84</td>\n",
       "      <td>10.74</td>\n",
       "      <td>23.78</td>\n",
       "      <td>58.78</td>\n",
       "      <td>45.99</td>\n",
       "      <td>61.73</td>\n",
       "      <td>56.53</td>\n",
       "      <td>30.38</td>\n",
       "      <td>46.23</td>\n",
       "      <td>58.47</td>\n",
       "    </tr>\n",
       "    <tr>\n",
       "      <th>2006-01-04</th>\n",
       "      <td>40.97</td>\n",
       "      <td>10.71</td>\n",
       "      <td>47.25</td>\n",
       "      <td>51.95</td>\n",
       "      <td>71.17</td>\n",
       "      <td>59.27</td>\n",
       "      <td>17.85</td>\n",
       "      <td>58.91</td>\n",
       "      <td>23.99</td>\n",
       "      <td>35.32</td>\n",
       "      <td>...</td>\n",
       "      <td>26.97</td>\n",
       "      <td>10.69</td>\n",
       "      <td>24.55</td>\n",
       "      <td>58.89</td>\n",
       "      <td>46.50</td>\n",
       "      <td>61.88</td>\n",
       "      <td>56.19</td>\n",
       "      <td>31.27</td>\n",
       "      <td>46.32</td>\n",
       "      <td>58.57</td>\n",
       "    </tr>\n",
       "    <tr>\n",
       "      <th>2006-01-05</th>\n",
       "      <td>41.53</td>\n",
       "      <td>10.63</td>\n",
       "      <td>47.65</td>\n",
       "      <td>52.50</td>\n",
       "      <td>70.33</td>\n",
       "      <td>59.27</td>\n",
       "      <td>18.35</td>\n",
       "      <td>58.19</td>\n",
       "      <td>24.41</td>\n",
       "      <td>35.23</td>\n",
       "      <td>...</td>\n",
       "      <td>26.99</td>\n",
       "      <td>10.76</td>\n",
       "      <td>24.58</td>\n",
       "      <td>58.70</td>\n",
       "      <td>46.95</td>\n",
       "      <td>61.69</td>\n",
       "      <td>55.98</td>\n",
       "      <td>31.63</td>\n",
       "      <td>45.69</td>\n",
       "      <td>58.28</td>\n",
       "    </tr>\n",
       "    <tr>\n",
       "      <th>2006-01-06</th>\n",
       "      <td>43.21</td>\n",
       "      <td>10.90</td>\n",
       "      <td>47.87</td>\n",
       "      <td>52.68</td>\n",
       "      <td>69.35</td>\n",
       "      <td>60.45</td>\n",
       "      <td>18.77</td>\n",
       "      <td>59.25</td>\n",
       "      <td>24.74</td>\n",
       "      <td>35.47</td>\n",
       "      <td>...</td>\n",
       "      <td>26.91</td>\n",
       "      <td>10.72</td>\n",
       "      <td>24.85</td>\n",
       "      <td>58.64</td>\n",
       "      <td>47.21</td>\n",
       "      <td>62.90</td>\n",
       "      <td>56.16</td>\n",
       "      <td>31.35</td>\n",
       "      <td>45.88</td>\n",
       "      <td>59.43</td>\n",
       "    </tr>\n",
       "    <tr>\n",
       "      <th>2006-01-09</th>\n",
       "      <td>43.42</td>\n",
       "      <td>10.86</td>\n",
       "      <td>47.08</td>\n",
       "      <td>53.99</td>\n",
       "      <td>68.77</td>\n",
       "      <td>61.55</td>\n",
       "      <td>19.06</td>\n",
       "      <td>58.95</td>\n",
       "      <td>25.00</td>\n",
       "      <td>35.38</td>\n",
       "      <td>...</td>\n",
       "      <td>26.86</td>\n",
       "      <td>10.88</td>\n",
       "      <td>24.85</td>\n",
       "      <td>59.08</td>\n",
       "      <td>47.23</td>\n",
       "      <td>61.40</td>\n",
       "      <td>56.80</td>\n",
       "      <td>31.48</td>\n",
       "      <td>45.71</td>\n",
       "      <td>59.40</td>\n",
       "    </tr>\n",
       "  </tbody>\n",
       "</table>\n",
       "<p>5 rows × 31 columns</p>\n",
       "</div>"
      ],
      "text/plain": [
       "Name         AABA   AAPL   AMZN    AXP     BA    CAT   CSCO    CVX    DIS  \\\n",
       "Date                                                                        \n",
       "2006-01-03  40.91  10.68  47.58  52.58  70.44  57.80  17.45  59.08  24.40   \n",
       "2006-01-04  40.97  10.71  47.25  51.95  71.17  59.27  17.85  58.91  23.99   \n",
       "2006-01-05  41.53  10.63  47.65  52.50  70.33  59.27  18.35  58.19  24.41   \n",
       "2006-01-06  43.21  10.90  47.87  52.68  69.35  60.45  18.77  59.25  24.74   \n",
       "2006-01-09  43.42  10.86  47.08  53.99  68.77  61.55  19.06  58.95  25.00   \n",
       "\n",
       "Name           GE  ...   MSFT    NKE    PFE     PG    TRV    UNH    UTX  \\\n",
       "Date               ...                                                    \n",
       "2006-01-03  35.37  ...  26.84  10.74  23.78  58.78  45.99  61.73  56.53   \n",
       "2006-01-04  35.32  ...  26.97  10.69  24.55  58.89  46.50  61.88  56.19   \n",
       "2006-01-05  35.23  ...  26.99  10.76  24.58  58.70  46.95  61.69  55.98   \n",
       "2006-01-06  35.47  ...  26.91  10.72  24.85  58.64  47.21  62.90  56.16   \n",
       "2006-01-09  35.38  ...  26.86  10.88  24.85  59.08  47.23  61.40  56.80   \n",
       "\n",
       "Name           VZ    WMT    XOM  \n",
       "Date                             \n",
       "2006-01-03  30.38  46.23  58.47  \n",
       "2006-01-04  31.27  46.32  58.57  \n",
       "2006-01-05  31.63  45.69  58.28  \n",
       "2006-01-06  31.35  45.88  59.43  \n",
       "2006-01-09  31.48  45.71  59.40  \n",
       "\n",
       "[5 rows x 31 columns]"
      ]
     },
     "execution_count": 4,
     "metadata": {},
     "output_type": "execute_result"
    }
   ],
   "source": [
    "# 종목별 종가\n",
    "df = pd.pivot(data=df, index='Date', columns='Name', values='Close')\n",
    "df.head()"
   ]
  },
  {
   "cell_type": "code",
   "execution_count": 6,
   "id": "2c8a6c0a-7683-4fa9-8285-f990c3d7b11e",
   "metadata": {},
   "outputs": [
    {
     "data": {
      "text/html": [
       "<div>\n",
       "<style scoped>\n",
       "    .dataframe tbody tr th:only-of-type {\n",
       "        vertical-align: middle;\n",
       "    }\n",
       "\n",
       "    .dataframe tbody tr th {\n",
       "        vertical-align: top;\n",
       "    }\n",
       "\n",
       "    .dataframe thead th {\n",
       "        text-align: right;\n",
       "    }\n",
       "</style>\n",
       "<table border=\"1\" class=\"dataframe\">\n",
       "  <thead>\n",
       "    <tr style=\"text-align: right;\">\n",
       "      <th>Name</th>\n",
       "      <th>AAPL</th>\n",
       "      <th>AMZN</th>\n",
       "    </tr>\n",
       "    <tr>\n",
       "      <th>Date</th>\n",
       "      <th></th>\n",
       "      <th></th>\n",
       "    </tr>\n",
       "  </thead>\n",
       "  <tbody>\n",
       "    <tr>\n",
       "      <th>2006-01-03</th>\n",
       "      <td>10.68</td>\n",
       "      <td>47.58</td>\n",
       "    </tr>\n",
       "    <tr>\n",
       "      <th>2006-01-04</th>\n",
       "      <td>10.71</td>\n",
       "      <td>47.25</td>\n",
       "    </tr>\n",
       "    <tr>\n",
       "      <th>2006-01-05</th>\n",
       "      <td>10.63</td>\n",
       "      <td>47.65</td>\n",
       "    </tr>\n",
       "    <tr>\n",
       "      <th>2006-01-06</th>\n",
       "      <td>10.90</td>\n",
       "      <td>47.87</td>\n",
       "    </tr>\n",
       "    <tr>\n",
       "      <th>2006-01-09</th>\n",
       "      <td>10.86</td>\n",
       "      <td>47.08</td>\n",
       "    </tr>\n",
       "  </tbody>\n",
       "</table>\n",
       "</div>"
      ],
      "text/plain": [
       "Name         AAPL   AMZN\n",
       "Date                    \n",
       "2006-01-03  10.68  47.58\n",
       "2006-01-04  10.71  47.25\n",
       "2006-01-05  10.63  47.65\n",
       "2006-01-06  10.90  47.87\n",
       "2006-01-09  10.86  47.08"
      ]
     },
     "execution_count": 6,
     "metadata": {},
     "output_type": "execute_result"
    }
   ],
   "source": [
    "# 애플, 아마존 선택\n",
    "df = df[['AAPL', 'AMZN']]\n",
    "df.head()"
   ]
  },
  {
   "cell_type": "code",
   "execution_count": 8,
   "id": "05b7a790-ad4c-41db-a6fa-ed18db741e27",
   "metadata": {},
   "outputs": [
    {
     "data": {
      "text/html": [
       "<div>\n",
       "<style scoped>\n",
       "    .dataframe tbody tr th:only-of-type {\n",
       "        vertical-align: middle;\n",
       "    }\n",
       "\n",
       "    .dataframe tbody tr th {\n",
       "        vertical-align: top;\n",
       "    }\n",
       "\n",
       "    .dataframe thead th {\n",
       "        text-align: right;\n",
       "    }\n",
       "</style>\n",
       "<table border=\"1\" class=\"dataframe\">\n",
       "  <thead>\n",
       "    <tr style=\"text-align: right;\">\n",
       "      <th>Name</th>\n",
       "      <th>Date</th>\n",
       "      <th>AAPL</th>\n",
       "      <th>AMZN</th>\n",
       "    </tr>\n",
       "  </thead>\n",
       "  <tbody>\n",
       "    <tr>\n",
       "      <th>0</th>\n",
       "      <td>2006-01-03</td>\n",
       "      <td>10.68</td>\n",
       "      <td>47.58</td>\n",
       "    </tr>\n",
       "    <tr>\n",
       "      <th>1</th>\n",
       "      <td>2006-01-04</td>\n",
       "      <td>10.71</td>\n",
       "      <td>47.25</td>\n",
       "    </tr>\n",
       "    <tr>\n",
       "      <th>2</th>\n",
       "      <td>2006-01-05</td>\n",
       "      <td>10.63</td>\n",
       "      <td>47.65</td>\n",
       "    </tr>\n",
       "    <tr>\n",
       "      <th>3</th>\n",
       "      <td>2006-01-06</td>\n",
       "      <td>10.90</td>\n",
       "      <td>47.87</td>\n",
       "    </tr>\n",
       "    <tr>\n",
       "      <th>4</th>\n",
       "      <td>2006-01-09</td>\n",
       "      <td>10.86</td>\n",
       "      <td>47.08</td>\n",
       "    </tr>\n",
       "  </tbody>\n",
       "</table>\n",
       "</div>"
      ],
      "text/plain": [
       "Name        Date   AAPL   AMZN\n",
       "0     2006-01-03  10.68  47.58\n",
       "1     2006-01-04  10.71  47.25\n",
       "2     2006-01-05  10.63  47.65\n",
       "3     2006-01-06  10.90  47.87\n",
       "4     2006-01-09  10.86  47.08"
      ]
     },
     "execution_count": 8,
     "metadata": {},
     "output_type": "execute_result"
    }
   ],
   "source": [
    "# 인덱스 초기화\n",
    "df = df.reset_index()\n",
    "df.head()"
   ]
  },
  {
   "cell_type": "code",
   "execution_count": 9,
   "id": "60052ac1-7a8a-4cab-ab98-7c32e2cf1019",
   "metadata": {},
   "outputs": [
    {
     "name": "stdout",
     "output_type": "stream",
     "text": [
      "<class 'pandas.core.frame.DataFrame'>\n",
      "RangeIndex: 3020 entries, 0 to 3019\n",
      "Data columns (total 3 columns):\n",
      " #   Column  Non-Null Count  Dtype  \n",
      "---  ------  --------------  -----  \n",
      " 0   Date    3020 non-null   object \n",
      " 1   AAPL    3019 non-null   float64\n",
      " 2   AMZN    3019 non-null   float64\n",
      "dtypes: float64(2), object(1)\n",
      "memory usage: 70.9+ KB\n"
     ]
    }
   ],
   "source": [
    "# 자료형 확인\n",
    "df.info()"
   ]
  },
  {
   "cell_type": "code",
   "execution_count": 11,
   "id": "aa4f023b-f582-4490-9b70-c6744229a1f2",
   "metadata": {},
   "outputs": [
    {
     "name": "stdout",
     "output_type": "stream",
     "text": [
      "<class 'pandas.core.frame.DataFrame'>\n",
      "RangeIndex: 3020 entries, 0 to 3019\n",
      "Data columns (total 3 columns):\n",
      " #   Column  Non-Null Count  Dtype         \n",
      "---  ------  --------------  -----         \n",
      " 0   Date    3020 non-null   datetime64[ns]\n",
      " 1   AAPL    3019 non-null   float64       \n",
      " 2   AMZN    3019 non-null   float64       \n",
      "dtypes: datetime64[ns](1), float64(2)\n",
      "memory usage: 70.9 KB\n"
     ]
    }
   ],
   "source": [
    "# 문자열 -> datetime 자료형\n",
    "df['Date'] = pd.to_datetime(df['Date'], format='%Y-%m-%d')\n",
    "df.info()"
   ]
  },
  {
   "cell_type": "code",
   "execution_count": 12,
   "id": "1091eb93-353d-4733-8034-354b41016782",
   "metadata": {},
   "outputs": [
    {
     "data": {
      "text/html": [
       "<div>\n",
       "<style scoped>\n",
       "    .dataframe tbody tr th:only-of-type {\n",
       "        vertical-align: middle;\n",
       "    }\n",
       "\n",
       "    .dataframe tbody tr th {\n",
       "        vertical-align: top;\n",
       "    }\n",
       "\n",
       "    .dataframe thead th {\n",
       "        text-align: right;\n",
       "    }\n",
       "</style>\n",
       "<table border=\"1\" class=\"dataframe\">\n",
       "  <thead>\n",
       "    <tr style=\"text-align: right;\">\n",
       "      <th>Name</th>\n",
       "      <th>AAPL</th>\n",
       "      <th>AMZN</th>\n",
       "    </tr>\n",
       "    <tr>\n",
       "      <th>Date</th>\n",
       "      <th></th>\n",
       "      <th></th>\n",
       "    </tr>\n",
       "  </thead>\n",
       "  <tbody>\n",
       "    <tr>\n",
       "      <th>2006-01-03</th>\n",
       "      <td>10.68</td>\n",
       "      <td>47.58</td>\n",
       "    </tr>\n",
       "    <tr>\n",
       "      <th>2006-01-04</th>\n",
       "      <td>10.71</td>\n",
       "      <td>47.25</td>\n",
       "    </tr>\n",
       "    <tr>\n",
       "      <th>2006-01-05</th>\n",
       "      <td>10.63</td>\n",
       "      <td>47.65</td>\n",
       "    </tr>\n",
       "    <tr>\n",
       "      <th>2006-01-06</th>\n",
       "      <td>10.90</td>\n",
       "      <td>47.87</td>\n",
       "    </tr>\n",
       "    <tr>\n",
       "      <th>2006-01-09</th>\n",
       "      <td>10.86</td>\n",
       "      <td>47.08</td>\n",
       "    </tr>\n",
       "  </tbody>\n",
       "</table>\n",
       "</div>"
      ],
      "text/plain": [
       "Name         AAPL   AMZN\n",
       "Date                    \n",
       "2006-01-03  10.68  47.58\n",
       "2006-01-04  10.71  47.25\n",
       "2006-01-05  10.63  47.65\n",
       "2006-01-06  10.90  47.87\n",
       "2006-01-09  10.86  47.08"
      ]
     },
     "execution_count": 12,
     "metadata": {},
     "output_type": "execute_result"
    }
   ],
   "source": [
    "# 날짜 인덱스 변환\n",
    "df = df.set_index('Date')\n",
    "df.head()"
   ]
  },
  {
   "cell_type": "code",
   "execution_count": 14,
   "id": "78bd99dc-8b08-4ac0-955b-78d3bb26607d",
   "metadata": {},
   "outputs": [
    {
     "data": {
      "text/plain": [
       "<AxesSubplot:xlabel='Date'>"
      ]
     },
     "execution_count": 14,
     "metadata": {},
     "output_type": "execute_result"
    },
    {
     "data": {
      "image/png": "[encoded data removed]",
      "text/plain": [
       "<Figure size 432x288 with 1 Axes>"
      ]
     },
     "metadata": {
      "needs_background": "light"
     },
     "output_type": "display_data"
    }
   ],
   "source": [
    "# pandas plot\n",
    "df.plot()"
   ]
  },
  {
   "cell_type": "markdown",
   "id": "f3e6cce1-8c9d-4948-b1f5-fdea50bf99d0",
   "metadata": {},
   "source": [
    "### Timestamp"
   ]
  },
  {
   "cell_type": "code",
   "execution_count": 18,
   "id": "798c1ed8-ffd1-410a-9fe3-292dfbf38407",
   "metadata": {},
   "outputs": [
    {
     "data": {
      "text/plain": [
       "Timestamp('2022-03-25 07:23:59')"
      ]
     },
     "execution_count": 18,
     "metadata": {},
     "output_type": "execute_result"
    }
   ],
   "source": [
    "# timestamp \n",
    "ts = pd.Timestamp(\"2022-03-25 07:23:59\")\n",
    "ts"
   ]
  },
  {
   "cell_type": "code",
   "execution_count": 22,
   "id": "3b56a6eb-259e-47ef-a422-9e51c3eacc7c",
   "metadata": {},
   "outputs": [
    {
     "name": "stdout",
     "output_type": "stream",
     "text": [
      "year: 2022\n",
      "month: 3\n",
      "quarter: 1\n",
      "day: 25\n",
      "weekofyear: 12\n",
      "dayofyear: 84\n",
      "dayofweek: 4\n",
      "weekday: 4\n",
      "hour: 7\n",
      "minute: 23\n",
      "second: 59\n"
     ]
    }
   ],
   "source": [
    "# timestamp 속성\n",
    "print(\"year:\", ts.year)\n",
    "print(\"month:\", ts.month)\n",
    "print(\"quarter:\", ts.quarter)\n",
    "print(\"day:\", ts.day)\n",
    "print(\"weekofyear:\", ts.weekofyear)\n",
    "print(\"dayofyear:\", ts.dayofyear)\n",
    "print(\"dayofweek:\", ts.dayofweek)\n",
    "print(\"weekday:\", ts.weekday())\n",
    "print(\"hour:\", ts.hour)\n",
    "print(\"minute:\", ts.minute)\n",
    "print(\"second:\", ts.second)"
   ]
  },
  {
   "cell_type": "markdown",
   "id": "5ca230f7-b6e7-4c3c-8121-23b84a0f0f58",
   "metadata": {},
   "source": [
    "### date range  \n",
    "https://pandas.pydata.org/pandas-docs/stable/user_guide/timeseries.html#timeseries-offset-aliases"
   ]
  },
  {
   "cell_type": "code",
   "execution_count": 23,
   "id": "604488db-7842-4213-b79c-b687b28dd5ea",
   "metadata": {},
   "outputs": [
    {
     "data": {
      "text/plain": [
       "DatetimeIndex(['2020-01-31', '2020-02-29', '2020-03-31', '2020-04-30',\n",
       "               '2020-05-31', '2020-06-30', '2020-07-31', '2020-08-31',\n",
       "               '2020-09-30', '2020-10-31', '2020-11-30', '2020-12-31',\n",
       "               '2021-01-31', '2021-02-28', '2021-03-31', '2021-04-30',\n",
       "               '2021-05-31', '2021-06-30'],\n",
       "              dtype='datetime64[ns]', freq='M')"
      ]
     },
     "execution_count": 23,
     "metadata": {},
     "output_type": "execute_result"
    }
   ],
   "source": [
    "date_ids = pd.date_range(start=\"2020-01-01\", end=\"2021-06-30\", freq=\"M\")\n",
    "date_ids"
   ]
  },
  {
   "cell_type": "code",
   "execution_count": 24,
   "id": "d7f37b11-b0fd-4607-86b1-47adf51a579f",
   "metadata": {},
   "outputs": [
    {
     "data": {
      "text/plain": [
       "Timestamp('2020-01-31 00:00:00', freq='M')"
      ]
     },
     "execution_count": 24,
     "metadata": {},
     "output_type": "execute_result"
    }
   ],
   "source": [
    "date_ids[0]"
   ]
  },
  {
   "cell_type": "markdown",
   "id": "bd1cd9c0-f7ea-4060-91b8-6aad1fd7dcb4",
   "metadata": {},
   "source": [
    "### time delta"
   ]
  },
  {
   "cell_type": "code",
   "execution_count": 26,
   "id": "44c3bb50-a4cf-4abe-82c9-ff2a4ab8be99",
   "metadata": {},
   "outputs": [
    {
     "data": {
      "text/plain": [
       "Timedelta('151 days 00:00:00')"
      ]
     },
     "execution_count": 26,
     "metadata": {},
     "output_type": "execute_result"
    }
   ],
   "source": [
    "days = date_ids[5] - date_ids[0]\n",
    "days"
   ]
  },
  {
   "cell_type": "code",
   "execution_count": 30,
   "id": "7e1abc22-a601-4b38-989b-e35edc1caae9",
   "metadata": {},
   "outputs": [
    {
     "data": {
      "text/plain": [
       "151"
      ]
     },
     "execution_count": 30,
     "metadata": {},
     "output_type": "execute_result"
    }
   ],
   "source": [
    "days.days"
   ]
  },
  {
   "cell_type": "code",
   "execution_count": 28,
   "id": "fcbc2483-697d-4dbd-bfa4-a59a6280a9aa",
   "metadata": {},
   "outputs": [
    {
     "data": {
      "text/plain": [
       "Timedelta('1 days 00:00:00')"
      ]
     },
     "execution_count": 28,
     "metadata": {},
     "output_type": "execute_result"
    }
   ],
   "source": [
    "pd.Timedelta(days=1)"
   ]
  },
  {
   "cell_type": "markdown",
   "id": "4d007163-89c2-4b9c-a651-873f246c90b6",
   "metadata": {},
   "source": [
    "### (DateTimeIndex) Slicing"
   ]
  },
  {
   "cell_type": "code",
   "execution_count": 31,
   "id": "e5ee32a7-a9de-44c9-8a0d-fd078be26688",
   "metadata": {},
   "outputs": [
    {
     "data": {
      "text/html": [
       "<div>\n",
       "<style scoped>\n",
       "    .dataframe tbody tr th:only-of-type {\n",
       "        vertical-align: middle;\n",
       "    }\n",
       "\n",
       "    .dataframe tbody tr th {\n",
       "        vertical-align: top;\n",
       "    }\n",
       "\n",
       "    .dataframe thead th {\n",
       "        text-align: right;\n",
       "    }\n",
       "</style>\n",
       "<table border=\"1\" class=\"dataframe\">\n",
       "  <thead>\n",
       "    <tr style=\"text-align: right;\">\n",
       "      <th>Name</th>\n",
       "      <th>AAPL</th>\n",
       "      <th>AMZN</th>\n",
       "    </tr>\n",
       "    <tr>\n",
       "      <th>Date</th>\n",
       "      <th></th>\n",
       "      <th></th>\n",
       "    </tr>\n",
       "  </thead>\n",
       "  <tbody>\n",
       "    <tr>\n",
       "      <th>2006-01-03</th>\n",
       "      <td>10.68</td>\n",
       "      <td>47.58</td>\n",
       "    </tr>\n",
       "    <tr>\n",
       "      <th>2006-01-04</th>\n",
       "      <td>10.71</td>\n",
       "      <td>47.25</td>\n",
       "    </tr>\n",
       "    <tr>\n",
       "      <th>2006-01-05</th>\n",
       "      <td>10.63</td>\n",
       "      <td>47.65</td>\n",
       "    </tr>\n",
       "    <tr>\n",
       "      <th>2006-01-06</th>\n",
       "      <td>10.90</td>\n",
       "      <td>47.87</td>\n",
       "    </tr>\n",
       "    <tr>\n",
       "      <th>2006-01-09</th>\n",
       "      <td>10.86</td>\n",
       "      <td>47.08</td>\n",
       "    </tr>\n",
       "  </tbody>\n",
       "</table>\n",
       "</div>"
      ],
      "text/plain": [
       "Name         AAPL   AMZN\n",
       "Date                    \n",
       "2006-01-03  10.68  47.58\n",
       "2006-01-04  10.71  47.25\n",
       "2006-01-05  10.63  47.65\n",
       "2006-01-06  10.90  47.87\n",
       "2006-01-09  10.86  47.08"
      ]
     },
     "execution_count": 31,
     "metadata": {},
     "output_type": "execute_result"
    }
   ],
   "source": [
    "df.head()"
   ]
  },
  {
   "cell_type": "code",
   "execution_count": 33,
   "id": "e1c300c2-4136-4080-8cd3-196bdd1349f0",
   "metadata": {},
   "outputs": [
    {
     "data": {
      "text/html": [
       "<div>\n",
       "<style scoped>\n",
       "    .dataframe tbody tr th:only-of-type {\n",
       "        vertical-align: middle;\n",
       "    }\n",
       "\n",
       "    .dataframe tbody tr th {\n",
       "        vertical-align: top;\n",
       "    }\n",
       "\n",
       "    .dataframe thead th {\n",
       "        text-align: right;\n",
       "    }\n",
       "</style>\n",
       "<table border=\"1\" class=\"dataframe\">\n",
       "  <thead>\n",
       "    <tr style=\"text-align: right;\">\n",
       "      <th>Name</th>\n",
       "      <th>AAPL</th>\n",
       "      <th>AMZN</th>\n",
       "    </tr>\n",
       "    <tr>\n",
       "      <th>Date</th>\n",
       "      <th></th>\n",
       "      <th></th>\n",
       "    </tr>\n",
       "  </thead>\n",
       "  <tbody>\n",
       "    <tr>\n",
       "      <th>2006-03-01</th>\n",
       "      <td>9.87</td>\n",
       "      <td>37.12</td>\n",
       "    </tr>\n",
       "    <tr>\n",
       "      <th>2006-03-02</th>\n",
       "      <td>9.94</td>\n",
       "      <td>36.88</td>\n",
       "    </tr>\n",
       "    <tr>\n",
       "      <th>2006-03-03</th>\n",
       "      <td>9.67</td>\n",
       "      <td>37.21</td>\n",
       "    </tr>\n",
       "    <tr>\n",
       "      <th>2006-03-06</th>\n",
       "      <td>9.35</td>\n",
       "      <td>36.86</td>\n",
       "    </tr>\n",
       "    <tr>\n",
       "      <th>2006-03-07</th>\n",
       "      <td>9.47</td>\n",
       "      <td>36.93</td>\n",
       "    </tr>\n",
       "    <tr>\n",
       "      <th>...</th>\n",
       "      <td>...</td>\n",
       "      <td>...</td>\n",
       "    </tr>\n",
       "    <tr>\n",
       "      <th>2006-05-24</th>\n",
       "      <td>9.05</td>\n",
       "      <td>35.19</td>\n",
       "    </tr>\n",
       "    <tr>\n",
       "      <th>2006-05-25</th>\n",
       "      <td>9.19</td>\n",
       "      <td>35.63</td>\n",
       "    </tr>\n",
       "    <tr>\n",
       "      <th>2006-05-26</th>\n",
       "      <td>9.08</td>\n",
       "      <td>36.07</td>\n",
       "    </tr>\n",
       "    <tr>\n",
       "      <th>2006-05-30</th>\n",
       "      <td>8.75</td>\n",
       "      <td>34.64</td>\n",
       "    </tr>\n",
       "    <tr>\n",
       "      <th>2006-05-31</th>\n",
       "      <td>8.54</td>\n",
       "      <td>34.61</td>\n",
       "    </tr>\n",
       "  </tbody>\n",
       "</table>\n",
       "<p>64 rows × 2 columns</p>\n",
       "</div>"
      ],
      "text/plain": [
       "Name        AAPL   AMZN\n",
       "Date                   \n",
       "2006-03-01  9.87  37.12\n",
       "2006-03-02  9.94  36.88\n",
       "2006-03-03  9.67  37.21\n",
       "2006-03-06  9.35  36.86\n",
       "2006-03-07  9.47  36.93\n",
       "...          ...    ...\n",
       "2006-05-24  9.05  35.19\n",
       "2006-05-25  9.19  35.63\n",
       "2006-05-26  9.08  36.07\n",
       "2006-05-30  8.75  34.64\n",
       "2006-05-31  8.54  34.61\n",
       "\n",
       "[64 rows x 2 columns]"
      ]
     },
     "execution_count": 33,
     "metadata": {},
     "output_type": "execute_result"
    }
   ],
   "source": [
    "df['2006-03':'2006-05']"
   ]
  },
  {
   "cell_type": "code",
   "execution_count": 34,
   "id": "7fa0181a-fc45-4ec7-9fd8-73b873a1be9c",
   "metadata": {},
   "outputs": [
    {
     "data": {
      "text/html": [
       "<div>\n",
       "<style scoped>\n",
       "    .dataframe tbody tr th:only-of-type {\n",
       "        vertical-align: middle;\n",
       "    }\n",
       "\n",
       "    .dataframe tbody tr th {\n",
       "        vertical-align: top;\n",
       "    }\n",
       "\n",
       "    .dataframe thead th {\n",
       "        text-align: right;\n",
       "    }\n",
       "</style>\n",
       "<table border=\"1\" class=\"dataframe\">\n",
       "  <thead>\n",
       "    <tr style=\"text-align: right;\">\n",
       "      <th>Name</th>\n",
       "      <th>AAPL</th>\n",
       "      <th>AMZN</th>\n",
       "    </tr>\n",
       "    <tr>\n",
       "      <th>Date</th>\n",
       "      <th></th>\n",
       "      <th></th>\n",
       "    </tr>\n",
       "  </thead>\n",
       "  <tbody>\n",
       "    <tr>\n",
       "      <th>2006-01-03</th>\n",
       "      <td>10.68</td>\n",
       "      <td>47.58</td>\n",
       "    </tr>\n",
       "    <tr>\n",
       "      <th>2006-01-04</th>\n",
       "      <td>10.71</td>\n",
       "      <td>47.25</td>\n",
       "    </tr>\n",
       "    <tr>\n",
       "      <th>2006-01-05</th>\n",
       "      <td>10.63</td>\n",
       "      <td>47.65</td>\n",
       "    </tr>\n",
       "    <tr>\n",
       "      <th>2006-01-06</th>\n",
       "      <td>10.90</td>\n",
       "      <td>47.87</td>\n",
       "    </tr>\n",
       "    <tr>\n",
       "      <th>2006-01-09</th>\n",
       "      <td>10.86</td>\n",
       "      <td>47.08</td>\n",
       "    </tr>\n",
       "    <tr>\n",
       "      <th>...</th>\n",
       "      <td>...</td>\n",
       "      <td>...</td>\n",
       "    </tr>\n",
       "    <tr>\n",
       "      <th>2007-12-24</th>\n",
       "      <td>28.40</td>\n",
       "      <td>91.01</td>\n",
       "    </tr>\n",
       "    <tr>\n",
       "      <th>2007-12-26</th>\n",
       "      <td>28.42</td>\n",
       "      <td>92.85</td>\n",
       "    </tr>\n",
       "    <tr>\n",
       "      <th>2007-12-27</th>\n",
       "      <td>28.37</td>\n",
       "      <td>94.25</td>\n",
       "    </tr>\n",
       "    <tr>\n",
       "      <th>2007-12-28</th>\n",
       "      <td>28.55</td>\n",
       "      <td>94.45</td>\n",
       "    </tr>\n",
       "    <tr>\n",
       "      <th>2007-12-31</th>\n",
       "      <td>28.30</td>\n",
       "      <td>92.64</td>\n",
       "    </tr>\n",
       "  </tbody>\n",
       "</table>\n",
       "<p>502 rows × 2 columns</p>\n",
       "</div>"
      ],
      "text/plain": [
       "Name         AAPL   AMZN\n",
       "Date                    \n",
       "2006-01-03  10.68  47.58\n",
       "2006-01-04  10.71  47.25\n",
       "2006-01-05  10.63  47.65\n",
       "2006-01-06  10.90  47.87\n",
       "2006-01-09  10.86  47.08\n",
       "...           ...    ...\n",
       "2007-12-24  28.40  91.01\n",
       "2007-12-26  28.42  92.85\n",
       "2007-12-27  28.37  94.25\n",
       "2007-12-28  28.55  94.45\n",
       "2007-12-31  28.30  92.64\n",
       "\n",
       "[502 rows x 2 columns]"
      ]
     },
     "execution_count": 34,
     "metadata": {},
     "output_type": "execute_result"
    }
   ],
   "source": [
    "df['2006':'2007']"
   ]
  },
  {
   "cell_type": "markdown",
   "id": "fa13b6a8-3c79-4e67-b4a7-a0afd8ecd923",
   "metadata": {},
   "source": [
    "# 결측값 처리"
   ]
  },
  {
   "cell_type": "code",
   "execution_count": 46,
   "id": "35c6d6fe-124d-40f1-b6b0-75d764965b1f",
   "metadata": {},
   "outputs": [
    {
     "data": {
      "text/plain": [
       "Name\n",
       "AAPL    289\n",
       "dtype: int64"
      ]
     },
     "execution_count": 46,
     "metadata": {},
     "output_type": "execute_result"
    }
   ],
   "source": [
    "# 결측값 생성\n",
    "apple = df[['AAPL']]\n",
    "\n",
    "np.random.seed(20)\n",
    "apple.iloc[np.random.randint(len(df), size=300), 0] = np.nan\n",
    "apple.isnull().sum()"
   ]
  },
  {
   "cell_type": "markdown",
   "id": "8940176e-af3c-460e-8d96-5e3c0e68b7d3",
   "metadata": {},
   "source": [
    "### mean / median"
   ]
  },
  {
   "cell_type": "code",
   "execution_count": 47,
   "id": "967787e5-cc27-46ae-b276-32962a93f109",
   "metadata": {},
   "outputs": [
    {
     "data": {
      "text/plain": [
       "Name\n",
       "AAPL    0\n",
       "dtype: int64"
      ]
     },
     "execution_count": 47,
     "metadata": {},
     "output_type": "execute_result"
    }
   ],
   "source": [
    "apple_mean = apple.copy()\n",
    "apple_mean['AAPL'] = apple_mean['AAPL'].fillna(apple_mean['AAPL'].mean())\n",
    "apple_mean.isnull().sum()"
   ]
  },
  {
   "cell_type": "code",
   "execution_count": 60,
   "id": "31fa29bd-c9d9-47c2-9bc0-54ad56dce7ef",
   "metadata": {},
   "outputs": [
    {
     "data": {
      "text/plain": [
       "Name\n",
       "AAPL    0\n",
       "dtype: int64"
      ]
     },
     "execution_count": 60,
     "metadata": {},
     "output_type": "execute_result"
    }
   ],
   "source": [
    "apple_median = apple.copy()\n",
    "apple_median['AAPL'] = apple_median['AAPL'].fillna(apple_median['AAPL'].median())\n",
    "apple_median.isnull().sum()"
   ]
  },
  {
   "cell_type": "code",
   "execution_count": 62,
   "id": "55a925ba-9717-493d-9c27-980c42c7a2f5",
   "metadata": {},
   "outputs": [
    {
     "data": {
      "image/png": "[encoded data removed]",
      "text/plain": [
       "<Figure size 864x432 with 1 Axes>"
      ]
     },
     "metadata": {
      "needs_background": "light"
     },
     "output_type": "display_data"
    }
   ],
   "source": [
    "fig, ax = plt.subplots(figsize=(12, 6))\n",
    "sns.kdeplot(data=apple, linewidth=5, ax=ax, label=\"original\")\n",
    "sns.kdeplot(data=apple_mean, linewidth=2, linestyle='--', ax=ax, label=\"mean\")\n",
    "sns.kdeplot(data=apple_median, linewidth=2, linestyle=':', ax=ax, label=\"median\")\n",
    "plt.legend()\n",
    "plt.show()"
   ]
  },
  {
   "cell_type": "markdown",
   "id": "ee866d42-a0cd-4d6b-9ab5-687c8d054fbc",
   "metadata": {},
   "source": [
    "### ffill / bfill"
   ]
  },
  {
   "cell_type": "code",
   "execution_count": 64,
   "id": "6469508b-7c0a-42fd-907e-9c5a584953cb",
   "metadata": {},
   "outputs": [
    {
     "data": {
      "text/plain": [
       "0    1.0\n",
       "1    2.0\n",
       "2    3.0\n",
       "3    NaN\n",
       "4    4.0\n",
       "5    5.0\n",
       "dtype: float64"
      ]
     },
     "execution_count": 64,
     "metadata": {},
     "output_type": "execute_result"
    }
   ],
   "source": [
    "test = pd.Series([1, 2, 3, np.nan, 4, 5])\n",
    "test"
   ]
  },
  {
   "cell_type": "code",
   "execution_count": 65,
   "id": "3b51af26-10da-40ee-b8b0-c5197518b0e9",
   "metadata": {},
   "outputs": [
    {
     "data": {
      "text/plain": [
       "0    1.0\n",
       "1    2.0\n",
       "2    3.0\n",
       "3    3.0\n",
       "4    4.0\n",
       "5    5.0\n",
       "dtype: float64"
      ]
     },
     "execution_count": 65,
     "metadata": {},
     "output_type": "execute_result"
    }
   ],
   "source": [
    "test.fillna(method='ffill')"
   ]
  },
  {
   "cell_type": "code",
   "execution_count": 66,
   "id": "aa740505-8a34-4a56-9476-2ab587c941fe",
   "metadata": {},
   "outputs": [
    {
     "data": {
      "text/plain": [
       "0    1.0\n",
       "1    2.0\n",
       "2    3.0\n",
       "3    4.0\n",
       "4    4.0\n",
       "5    5.0\n",
       "dtype: float64"
      ]
     },
     "execution_count": 66,
     "metadata": {},
     "output_type": "execute_result"
    }
   ],
   "source": [
    "test.fillna(method='bfill')"
   ]
  },
  {
   "cell_type": "code",
   "execution_count": 63,
   "id": "7b142dd2-c54e-44a5-80be-9c9858620b2b",
   "metadata": {},
   "outputs": [
    {
     "data": {
      "text/plain": [
       "Name\n",
       "AAPL    0\n",
       "dtype: int64"
      ]
     },
     "execution_count": 63,
     "metadata": {},
     "output_type": "execute_result"
    }
   ],
   "source": [
    "apple_ffill = apple.copy()\n",
    "apple_ffill['AAPL'] = apple_ffill['AAPL'].fillna(method='ffill')\n",
    "apple_ffill.isnull().sum()"
   ]
  },
  {
   "cell_type": "code",
   "execution_count": 69,
   "id": "ab241d01-c1c9-4a85-af80-5d2c9d62c85d",
   "metadata": {},
   "outputs": [
    {
     "data": {
      "text/plain": [
       "Name\n",
       "AAPL    0\n",
       "dtype: int64"
      ]
     },
     "execution_count": 69,
     "metadata": {},
     "output_type": "execute_result"
    }
   ],
   "source": [
    "apple_bfill = apple.copy()\n",
    "apple_bfill['AAPL'] = apple_bfill['AAPL'].fillna(method='bfill')\n",
    "apple_bfill.isnull().sum()"
   ]
  },
  {
   "cell_type": "code",
   "execution_count": 70,
   "id": "573490e9-950e-48d3-8dbb-403b16b26b34",
   "metadata": {},
   "outputs": [
    {
     "data": {
      "image/png": "[encoded data removed]",
      "text/plain": [
       "<Figure size 864x432 with 1 Axes>"
      ]
     },
     "metadata": {
      "needs_background": "light"
     },
     "output_type": "display_data"
    }
   ],
   "source": [
    "fig, ax = plt.subplots(figsize=(12, 6))\n",
    "sns.kdeplot(data=apple, linewidth=5, ax=ax, label=\"original\")\n",
    "sns.kdeplot(data=apple_ffill, linewidth=2, linestyle='--', ax=ax, label=\"ffill\")\n",
    "sns.kdeplot(data=apple_bfill, linewidth=2, linestyle=':', ax=ax, label=\"bfill\")\n",
    "plt.legend()\n",
    "plt.show()"
   ]
  },
  {
   "cell_type": "markdown",
   "id": "586d6f7b-5918-4619-be7c-acd27a86122b",
   "metadata": {},
   "source": [
    "### interpolate"
   ]
  },
  {
   "cell_type": "code",
   "execution_count": 71,
   "id": "929947e1-c500-425f-9074-58185ae963b3",
   "metadata": {},
   "outputs": [
    {
     "data": {
      "text/plain": [
       "0    1.0\n",
       "1    NaN\n",
       "2    NaN\n",
       "3    NaN\n",
       "4    NaN\n",
       "5    5.0\n",
       "dtype: float64"
      ]
     },
     "execution_count": 71,
     "metadata": {},
     "output_type": "execute_result"
    }
   ],
   "source": [
    "test = pd.Series([1, np.nan, np.nan, np.nan, np.nan, 5])\n",
    "test"
   ]
  },
  {
   "cell_type": "code",
   "execution_count": 72,
   "id": "dda0a475-7551-47ee-8821-71a14d0d7364",
   "metadata": {},
   "outputs": [
    {
     "data": {
      "text/plain": [
       "0    1.0\n",
       "1    1.8\n",
       "2    2.6\n",
       "3    3.4\n",
       "4    4.2\n",
       "5    5.0\n",
       "dtype: float64"
      ]
     },
     "execution_count": 72,
     "metadata": {},
     "output_type": "execute_result"
    }
   ],
   "source": [
    "test.interpolate(method='linear')"
   ]
  },
  {
   "cell_type": "code",
   "execution_count": 73,
   "id": "933bbb5b-3a6f-40ce-8131-1461c6898ae4",
   "metadata": {},
   "outputs": [
    {
     "data": {
      "text/plain": [
       "0    1.0\n",
       "1    1.0\n",
       "2    1.0\n",
       "3    5.0\n",
       "4    5.0\n",
       "5    5.0\n",
       "dtype: float64"
      ]
     },
     "execution_count": 73,
     "metadata": {},
     "output_type": "execute_result"
    }
   ],
   "source": [
    "test.interpolate(method='nearest')"
   ]
  },
  {
   "cell_type": "code",
   "execution_count": 74,
   "id": "f7711198-dc9e-453f-88a2-e2926398d338",
   "metadata": {},
   "outputs": [
    {
     "data": {
      "text/plain": [
       "Name\n",
       "AAPL    0\n",
       "dtype: int64"
      ]
     },
     "execution_count": 74,
     "metadata": {},
     "output_type": "execute_result"
    }
   ],
   "source": [
    "apple_linear = apple.copy()\n",
    "apple_linear['AAPL'] = apple_linear['AAPL'].interpolate(method='linear')\n",
    "apple_linear.isnull().sum()"
   ]
  },
  {
   "cell_type": "code",
   "execution_count": 75,
   "id": "1ae34fc7-5a98-46db-bc51-87355fecb87b",
   "metadata": {},
   "outputs": [
    {
     "data": {
      "text/plain": [
       "Name\n",
       "AAPL    0\n",
       "dtype: int64"
      ]
     },
     "execution_count": 75,
     "metadata": {},
     "output_type": "execute_result"
    }
   ],
   "source": [
    "apple_nearest = apple.copy()\n",
    "apple_nearest['AAPL'] = apple_nearest['AAPL'].interpolate(method='nearest')\n",
    "apple_nearest.isnull().sum()"
   ]
  },
  {
   "cell_type": "code",
   "execution_count": 76,
   "id": "01a51ba5-cc5c-485c-89d3-19ababf25137",
   "metadata": {},
   "outputs": [
    {
     "data": {
      "image/png": "[encoded data removed]",
      "text/plain": [
       "<Figure size 864x432 with 1 Axes>"
      ]
     },
     "metadata": {
      "needs_background": "light"
     },
     "output_type": "display_data"
    }
   ],
   "source": [
    "fig, ax = plt.subplots(figsize=(12, 6))\n",
    "sns.kdeplot(data=apple, linewidth=5, ax=ax, label=\"original\")\n",
    "sns.kdeplot(data=apple_linear, linewidth=2, linestyle='--', ax=ax, label=\"linear\")\n",
    "sns.kdeplot(data=apple_nearest, linewidth=2, linestyle=':', ax=ax, label=\"nearest\")\n",
    "plt.legend()\n",
    "plt.show()"
   ]
  },
  {
   "cell_type": "markdown",
   "id": "8d48c2d2-7d4a-47bd-88f2-d3358ac108b2",
   "metadata": {},
   "source": [
    "### ML 모델"
   ]
  },
  {
   "cell_type": "code",
   "execution_count": 89,
   "id": "d3250b9e-c797-47c6-b830-f5bdb7306fc2",
   "metadata": {},
   "outputs": [],
   "source": [
    "from sklearn.impute import KNNImputer\n",
    "\n",
    "apple_knn = apple.copy()\n",
    "\n",
    "for k in [3, 5, 7]:\n",
    "    imp = KNNImputer(n_neighbors=k)\n",
    "    apple_knn[f\"k={k}\"] = imp.fit_transform(apple_knn[\"AAPL\"].values.reshape(-1,1))"
   ]
  },
  {
   "cell_type": "code",
   "execution_count": 90,
   "id": "4063d5dd-e2bb-45fe-a598-01169c786f97",
   "metadata": {},
   "outputs": [
    {
     "data": {
      "image/png": "[encoded data removed]",
      "text/plain": [
       "<Figure size 864x432 with 1 Axes>"
      ]
     },
     "metadata": {
      "needs_background": "light"
     },
     "output_type": "display_data"
    }
   ],
   "source": [
    "fig, ax = plt.subplots(figsize=(12, 6))\n",
    "sns.kdeplot(data=apple, linewidth=5, ax=ax, label=\"original\")\n",
    "sns.kdeplot(data=apple_knn['k=3'], linewidth=2, linestyle='--', ax=ax, label=\"k=3\")\n",
    "sns.kdeplot(data=apple_knn['k=5'], linewidth=2, linestyle=':', ax=ax, label=\"k=5\")\n",
    "sns.kdeplot(data=apple_knn['k=7'], linewidth=2, linestyle='-.', ax=ax, label=\"k=7\")\n",
    "plt.legend()\n",
    "plt.show()"
   ]
  },
  {
   "cell_type": "markdown",
   "id": "5e3fe12a-20a3-47f6-a418-16693d2599cd",
   "metadata": {},
   "source": [
    "# lag"
   ]
  },
  {
   "cell_type": "code",
   "execution_count": 96,
   "id": "8cdae8ec-fddb-451d-8ebe-ec22835a0ecc",
   "metadata": {},
   "outputs": [
    {
     "data": {
      "text/plain": [
       "Date\n",
       "2006-01-03       NaN\n",
       "2006-01-04     10.68\n",
       "2006-01-05     10.71\n",
       "2006-01-06     10.63\n",
       "2006-01-09     10.90\n",
       "               ...  \n",
       "2017-12-22    174.68\n",
       "2017-12-26    175.01\n",
       "2017-12-27    170.57\n",
       "2017-12-28    170.60\n",
       "2017-12-29    171.08\n",
       "Name: AAPL, Length: 3020, dtype: float64"
      ]
     },
     "execution_count": 96,
     "metadata": {},
     "output_type": "execute_result"
    }
   ],
   "source": [
    "apple_linear['AAPL'].shift(1)"
   ]
  },
  {
   "cell_type": "code",
   "execution_count": 97,
   "id": "bd14b28f-b65d-4f34-a001-f9a6580116a8",
   "metadata": {},
   "outputs": [
    {
     "data": {
      "text/plain": [
       "Date\n",
       "2006-01-03     10.630\n",
       "2006-01-04     10.900\n",
       "2006-01-05     10.860\n",
       "2006-01-06     11.425\n",
       "2006-01-09     11.990\n",
       "               ...   \n",
       "2017-12-22    170.600\n",
       "2017-12-26    171.080\n",
       "2017-12-27    169.230\n",
       "2017-12-28        NaN\n",
       "2017-12-29        NaN\n",
       "Name: AAPL, Length: 3020, dtype: float64"
      ]
     },
     "execution_count": 97,
     "metadata": {},
     "output_type": "execute_result"
    }
   ],
   "source": [
    "apple_linear['AAPL'].shift(-2)"
   ]
  },
  {
   "cell_type": "code",
   "execution_count": 98,
   "id": "04c6ef5b-d64a-43f7-a856-44791efa01c3",
   "metadata": {},
   "outputs": [
    {
     "data": {
      "text/html": [
       "<div>\n",
       "<style scoped>\n",
       "    .dataframe tbody tr th:only-of-type {\n",
       "        vertical-align: middle;\n",
       "    }\n",
       "\n",
       "    .dataframe tbody tr th {\n",
       "        vertical-align: top;\n",
       "    }\n",
       "\n",
       "    .dataframe thead th {\n",
       "        text-align: right;\n",
       "    }\n",
       "</style>\n",
       "<table border=\"1\" class=\"dataframe\">\n",
       "  <thead>\n",
       "    <tr style=\"text-align: right;\">\n",
       "      <th>Name</th>\n",
       "      <th>AAPL</th>\n",
       "      <th>lag_1</th>\n",
       "      <th>lag_2</th>\n",
       "    </tr>\n",
       "    <tr>\n",
       "      <th>Date</th>\n",
       "      <th></th>\n",
       "      <th></th>\n",
       "      <th></th>\n",
       "    </tr>\n",
       "  </thead>\n",
       "  <tbody>\n",
       "    <tr>\n",
       "      <th>2006-01-03</th>\n",
       "      <td>10.68</td>\n",
       "      <td>NaN</td>\n",
       "      <td>NaN</td>\n",
       "    </tr>\n",
       "    <tr>\n",
       "      <th>2006-01-04</th>\n",
       "      <td>10.71</td>\n",
       "      <td>10.68</td>\n",
       "      <td>NaN</td>\n",
       "    </tr>\n",
       "    <tr>\n",
       "      <th>2006-01-05</th>\n",
       "      <td>10.63</td>\n",
       "      <td>10.71</td>\n",
       "      <td>10.68</td>\n",
       "    </tr>\n",
       "    <tr>\n",
       "      <th>2006-01-06</th>\n",
       "      <td>10.90</td>\n",
       "      <td>10.63</td>\n",
       "      <td>10.71</td>\n",
       "    </tr>\n",
       "    <tr>\n",
       "      <th>2006-01-09</th>\n",
       "      <td>10.86</td>\n",
       "      <td>10.90</td>\n",
       "      <td>10.63</td>\n",
       "    </tr>\n",
       "    <tr>\n",
       "      <th>...</th>\n",
       "      <td>...</td>\n",
       "      <td>...</td>\n",
       "      <td>...</td>\n",
       "    </tr>\n",
       "    <tr>\n",
       "      <th>2017-12-22</th>\n",
       "      <td>175.01</td>\n",
       "      <td>174.68</td>\n",
       "      <td>174.35</td>\n",
       "    </tr>\n",
       "    <tr>\n",
       "      <th>2017-12-26</th>\n",
       "      <td>170.57</td>\n",
       "      <td>175.01</td>\n",
       "      <td>174.68</td>\n",
       "    </tr>\n",
       "    <tr>\n",
       "      <th>2017-12-27</th>\n",
       "      <td>170.60</td>\n",
       "      <td>170.57</td>\n",
       "      <td>175.01</td>\n",
       "    </tr>\n",
       "    <tr>\n",
       "      <th>2017-12-28</th>\n",
       "      <td>171.08</td>\n",
       "      <td>170.60</td>\n",
       "      <td>170.57</td>\n",
       "    </tr>\n",
       "    <tr>\n",
       "      <th>2017-12-29</th>\n",
       "      <td>169.23</td>\n",
       "      <td>171.08</td>\n",
       "      <td>170.60</td>\n",
       "    </tr>\n",
       "  </tbody>\n",
       "</table>\n",
       "<p>3020 rows × 3 columns</p>\n",
       "</div>"
      ],
      "text/plain": [
       "Name          AAPL   lag_1   lag_2\n",
       "Date                              \n",
       "2006-01-03   10.68     NaN     NaN\n",
       "2006-01-04   10.71   10.68     NaN\n",
       "2006-01-05   10.63   10.71   10.68\n",
       "2006-01-06   10.90   10.63   10.71\n",
       "2006-01-09   10.86   10.90   10.63\n",
       "...            ...     ...     ...\n",
       "2017-12-22  175.01  174.68  174.35\n",
       "2017-12-26  170.57  175.01  174.68\n",
       "2017-12-27  170.60  170.57  175.01\n",
       "2017-12-28  171.08  170.60  170.57\n",
       "2017-12-29  169.23  171.08  170.60\n",
       "\n",
       "[3020 rows x 3 columns]"
      ]
     },
     "execution_count": 98,
     "metadata": {},
     "output_type": "execute_result"
    }
   ],
   "source": [
    "apple_lags = apple_linear.copy()\n",
    "apple_lags['lag_1'] = apple_lags['AAPL'].shift(1)\n",
    "apple_lags['lag_2'] = apple_lags['AAPL'].shift(2)\n",
    "apple_lags"
   ]
  },
  {
   "cell_type": "code",
   "execution_count": 99,
   "id": "d098680a-ad8d-4e22-bfba-4ba665cade56",
   "metadata": {},
   "outputs": [
    {
     "data": {
      "text/html": [
       "<div>\n",
       "<style scoped>\n",
       "    .dataframe tbody tr th:only-of-type {\n",
       "        vertical-align: middle;\n",
       "    }\n",
       "\n",
       "    .dataframe tbody tr th {\n",
       "        vertical-align: top;\n",
       "    }\n",
       "\n",
       "    .dataframe thead th {\n",
       "        text-align: right;\n",
       "    }\n",
       "</style>\n",
       "<table border=\"1\" class=\"dataframe\">\n",
       "  <thead>\n",
       "    <tr style=\"text-align: right;\">\n",
       "      <th>Name</th>\n",
       "      <th>AAPL</th>\n",
       "      <th>lag_1</th>\n",
       "      <th>lag_2</th>\n",
       "      <th>diff_lag_1</th>\n",
       "    </tr>\n",
       "    <tr>\n",
       "      <th>Date</th>\n",
       "      <th></th>\n",
       "      <th></th>\n",
       "      <th></th>\n",
       "      <th></th>\n",
       "    </tr>\n",
       "  </thead>\n",
       "  <tbody>\n",
       "    <tr>\n",
       "      <th>2006-01-03</th>\n",
       "      <td>10.68</td>\n",
       "      <td>NaN</td>\n",
       "      <td>NaN</td>\n",
       "      <td>NaN</td>\n",
       "    </tr>\n",
       "    <tr>\n",
       "      <th>2006-01-04</th>\n",
       "      <td>10.71</td>\n",
       "      <td>10.68</td>\n",
       "      <td>NaN</td>\n",
       "      <td>0.03</td>\n",
       "    </tr>\n",
       "    <tr>\n",
       "      <th>2006-01-05</th>\n",
       "      <td>10.63</td>\n",
       "      <td>10.71</td>\n",
       "      <td>10.68</td>\n",
       "      <td>-0.08</td>\n",
       "    </tr>\n",
       "    <tr>\n",
       "      <th>2006-01-06</th>\n",
       "      <td>10.90</td>\n",
       "      <td>10.63</td>\n",
       "      <td>10.71</td>\n",
       "      <td>0.27</td>\n",
       "    </tr>\n",
       "    <tr>\n",
       "      <th>2006-01-09</th>\n",
       "      <td>10.86</td>\n",
       "      <td>10.90</td>\n",
       "      <td>10.63</td>\n",
       "      <td>-0.04</td>\n",
       "    </tr>\n",
       "    <tr>\n",
       "      <th>...</th>\n",
       "      <td>...</td>\n",
       "      <td>...</td>\n",
       "      <td>...</td>\n",
       "      <td>...</td>\n",
       "    </tr>\n",
       "    <tr>\n",
       "      <th>2017-12-22</th>\n",
       "      <td>175.01</td>\n",
       "      <td>174.68</td>\n",
       "      <td>174.35</td>\n",
       "      <td>0.33</td>\n",
       "    </tr>\n",
       "    <tr>\n",
       "      <th>2017-12-26</th>\n",
       "      <td>170.57</td>\n",
       "      <td>175.01</td>\n",
       "      <td>174.68</td>\n",
       "      <td>-4.44</td>\n",
       "    </tr>\n",
       "    <tr>\n",
       "      <th>2017-12-27</th>\n",
       "      <td>170.60</td>\n",
       "      <td>170.57</td>\n",
       "      <td>175.01</td>\n",
       "      <td>0.03</td>\n",
       "    </tr>\n",
       "    <tr>\n",
       "      <th>2017-12-28</th>\n",
       "      <td>171.08</td>\n",
       "      <td>170.60</td>\n",
       "      <td>170.57</td>\n",
       "      <td>0.48</td>\n",
       "    </tr>\n",
       "    <tr>\n",
       "      <th>2017-12-29</th>\n",
       "      <td>169.23</td>\n",
       "      <td>171.08</td>\n",
       "      <td>170.60</td>\n",
       "      <td>-1.85</td>\n",
       "    </tr>\n",
       "  </tbody>\n",
       "</table>\n",
       "<p>3020 rows × 4 columns</p>\n",
       "</div>"
      ],
      "text/plain": [
       "Name          AAPL   lag_1   lag_2  diff_lag_1\n",
       "Date                                          \n",
       "2006-01-03   10.68     NaN     NaN         NaN\n",
       "2006-01-04   10.71   10.68     NaN        0.03\n",
       "2006-01-05   10.63   10.71   10.68       -0.08\n",
       "2006-01-06   10.90   10.63   10.71        0.27\n",
       "2006-01-09   10.86   10.90   10.63       -0.04\n",
       "...            ...     ...     ...         ...\n",
       "2017-12-22  175.01  174.68  174.35        0.33\n",
       "2017-12-26  170.57  175.01  174.68       -4.44\n",
       "2017-12-27  170.60  170.57  175.01        0.03\n",
       "2017-12-28  171.08  170.60  170.57        0.48\n",
       "2017-12-29  169.23  171.08  170.60       -1.85\n",
       "\n",
       "[3020 rows x 4 columns]"
      ]
     },
     "execution_count": 99,
     "metadata": {},
     "output_type": "execute_result"
    }
   ],
   "source": [
    "apple_lags['diff_lag_1'] = apple_lags['AAPL'] - apple_lags['lag_1']\n",
    "apple_lags"
   ]
  },
  {
   "cell_type": "code",
   "execution_count": 105,
   "id": "3464953b-8d12-494d-8e84-f234a7ce9d23",
   "metadata": {},
   "outputs": [
    {
     "data": {
      "text/plain": [
       "array([<AxesSubplot:xlabel='Date'>, <AxesSubplot:xlabel='Date'>,\n",
       "       <AxesSubplot:xlabel='Date'>, <AxesSubplot:xlabel='Date'>],\n",
       "      dtype=object)"
      ]
     },
     "execution_count": 105,
     "metadata": {},
     "output_type": "execute_result"
    },
    {
     "data": {
      "image/png": "[encoded data removed]",
      "text/plain": [
       "<Figure size 864x576 with 4 Axes>"
      ]
     },
     "metadata": {
      "needs_background": "light"
     },
     "output_type": "display_data"
    }
   ],
   "source": [
    "apple_lags.plot(figsize=(12, 8), subplots=True)"
   ]
  },
  {
   "cell_type": "code",
   "execution_count": 101,
   "id": "568340cd-095b-4dd0-bed7-303e462efd8b",
   "metadata": {},
   "outputs": [
    {
     "data": {
      "text/plain": [
       "<AxesSubplot:xlabel='Date'>"
      ]
     },
     "execution_count": 101,
     "metadata": {},
     "output_type": "execute_result"
    },
    {
     "data": {
      "image/png": "[encoded data removed]",
      "text/plain": [
       "<Figure size 432x288 with 1 Axes>"
      ]
     },
     "metadata": {
      "needs_background": "light"
     },
     "output_type": "display_data"
    }
   ],
   "source": [
    "apple_lags['diff_lag_1'].plot()"
   ]
  },
  {
   "cell_type": "code",
   "execution_count": 102,
   "id": "cf88137c-96e1-4046-9e44-54f3b2b7b74c",
   "metadata": {},
   "outputs": [
    {
     "data": {
      "text/plain": [
       "<AxesSubplot:xlabel='Date'>"
      ]
     },
     "execution_count": 102,
     "metadata": {},
     "output_type": "execute_result"
    },
    {
     "data": {
      "image/png": "[encoded data removed]",
      "text/plain": [
       "<Figure size 432x288 with 1 Axes>"
      ]
     },
     "metadata": {
      "needs_background": "light"
     },
     "output_type": "display_data"
    }
   ],
   "source": [
    "# diff 함수\n",
    "\n",
    "apple_lags['AAPL'].diff(1).plot()"
   ]
  },
  {
   "cell_type": "code",
   "execution_count": 104,
   "id": "6820cfc1-f35e-4eec-8f81-9091aaaa65fa",
   "metadata": {},
   "outputs": [
    {
     "data": {
      "text/plain": [
       "<AxesSubplot:xlabel='Date'>"
      ]
     },
     "execution_count": 104,
     "metadata": {},
     "output_type": "execute_result"
    },
    {
     "data": {
      "image/png": "[encoded data removed]",
      "text/plain": [
       "<Figure size 432x288 with 1 Axes>"
      ]
     },
     "metadata": {
      "needs_background": "light"
     },
     "output_type": "display_data"
    }
   ],
   "source": [
    "# percent change\n",
    "apple_lags['AAPL'].pct_change().plot()"
   ]
  },
  {
   "cell_type": "markdown",
   "id": "b327d8dd-af21-4a19-b7f1-21e11183d85d",
   "metadata": {},
   "source": [
    "# Resampling"
   ]
  },
  {
   "cell_type": "markdown",
   "id": "65c249a8-0736-4e73-8b00-48c63a6ef022",
   "metadata": {},
   "source": [
    "### asfreq "
   ]
  },
  {
   "cell_type": "code",
   "execution_count": 106,
   "id": "22e6809d-3ffb-482f-848b-b9249fad79b2",
   "metadata": {},
   "outputs": [
    {
     "data": {
      "text/html": [
       "<div>\n",
       "<style scoped>\n",
       "    .dataframe tbody tr th:only-of-type {\n",
       "        vertical-align: middle;\n",
       "    }\n",
       "\n",
       "    .dataframe tbody tr th {\n",
       "        vertical-align: top;\n",
       "    }\n",
       "\n",
       "    .dataframe thead th {\n",
       "        text-align: right;\n",
       "    }\n",
       "</style>\n",
       "<table border=\"1\" class=\"dataframe\">\n",
       "  <thead>\n",
       "    <tr style=\"text-align: right;\">\n",
       "      <th>Name</th>\n",
       "      <th>AAPL</th>\n",
       "    </tr>\n",
       "    <tr>\n",
       "      <th>Date</th>\n",
       "      <th></th>\n",
       "    </tr>\n",
       "  </thead>\n",
       "  <tbody>\n",
       "    <tr>\n",
       "      <th>2006-01-03</th>\n",
       "      <td>10.68</td>\n",
       "    </tr>\n",
       "    <tr>\n",
       "      <th>2006-01-04</th>\n",
       "      <td>10.71</td>\n",
       "    </tr>\n",
       "    <tr>\n",
       "      <th>2006-01-05</th>\n",
       "      <td>10.63</td>\n",
       "    </tr>\n",
       "    <tr>\n",
       "      <th>2006-01-06</th>\n",
       "      <td>10.90</td>\n",
       "    </tr>\n",
       "    <tr>\n",
       "      <th>2006-01-09</th>\n",
       "      <td>10.86</td>\n",
       "    </tr>\n",
       "    <tr>\n",
       "      <th>...</th>\n",
       "      <td>...</td>\n",
       "    </tr>\n",
       "    <tr>\n",
       "      <th>2017-12-22</th>\n",
       "      <td>175.01</td>\n",
       "    </tr>\n",
       "    <tr>\n",
       "      <th>2017-12-26</th>\n",
       "      <td>170.57</td>\n",
       "    </tr>\n",
       "    <tr>\n",
       "      <th>2017-12-27</th>\n",
       "      <td>170.60</td>\n",
       "    </tr>\n",
       "    <tr>\n",
       "      <th>2017-12-28</th>\n",
       "      <td>171.08</td>\n",
       "    </tr>\n",
       "    <tr>\n",
       "      <th>2017-12-29</th>\n",
       "      <td>169.23</td>\n",
       "    </tr>\n",
       "  </tbody>\n",
       "</table>\n",
       "<p>3020 rows × 1 columns</p>\n",
       "</div>"
      ],
      "text/plain": [
       "Name          AAPL\n",
       "Date              \n",
       "2006-01-03   10.68\n",
       "2006-01-04   10.71\n",
       "2006-01-05   10.63\n",
       "2006-01-06   10.90\n",
       "2006-01-09   10.86\n",
       "...            ...\n",
       "2017-12-22  175.01\n",
       "2017-12-26  170.57\n",
       "2017-12-27  170.60\n",
       "2017-12-28  171.08\n",
       "2017-12-29  169.23\n",
       "\n",
       "[3020 rows x 1 columns]"
      ]
     },
     "execution_count": 106,
     "metadata": {},
     "output_type": "execute_result"
    }
   ],
   "source": [
    "apple_linear"
   ]
  },
  {
   "cell_type": "code",
   "execution_count": 108,
   "id": "0f40aab8-2ae5-4308-9bf0-71ab1c52c9c7",
   "metadata": {},
   "outputs": [
    {
     "data": {
      "text/html": [
       "<div>\n",
       "<style scoped>\n",
       "    .dataframe tbody tr th:only-of-type {\n",
       "        vertical-align: middle;\n",
       "    }\n",
       "\n",
       "    .dataframe tbody tr th {\n",
       "        vertical-align: top;\n",
       "    }\n",
       "\n",
       "    .dataframe thead th {\n",
       "        text-align: right;\n",
       "    }\n",
       "</style>\n",
       "<table border=\"1\" class=\"dataframe\">\n",
       "  <thead>\n",
       "    <tr style=\"text-align: right;\">\n",
       "      <th>Name</th>\n",
       "      <th>AAPL</th>\n",
       "    </tr>\n",
       "    <tr>\n",
       "      <th>Date</th>\n",
       "      <th></th>\n",
       "    </tr>\n",
       "  </thead>\n",
       "  <tbody>\n",
       "    <tr>\n",
       "      <th>2006-01-03</th>\n",
       "      <td>10.68</td>\n",
       "    </tr>\n",
       "    <tr>\n",
       "      <th>2006-01-04</th>\n",
       "      <td>10.71</td>\n",
       "    </tr>\n",
       "    <tr>\n",
       "      <th>2006-01-05</th>\n",
       "      <td>10.63</td>\n",
       "    </tr>\n",
       "    <tr>\n",
       "      <th>2006-01-06</th>\n",
       "      <td>10.90</td>\n",
       "    </tr>\n",
       "    <tr>\n",
       "      <th>2006-01-07</th>\n",
       "      <td>NaN</td>\n",
       "    </tr>\n",
       "    <tr>\n",
       "      <th>...</th>\n",
       "      <td>...</td>\n",
       "    </tr>\n",
       "    <tr>\n",
       "      <th>2017-12-25</th>\n",
       "      <td>NaN</td>\n",
       "    </tr>\n",
       "    <tr>\n",
       "      <th>2017-12-26</th>\n",
       "      <td>170.57</td>\n",
       "    </tr>\n",
       "    <tr>\n",
       "      <th>2017-12-27</th>\n",
       "      <td>170.60</td>\n",
       "    </tr>\n",
       "    <tr>\n",
       "      <th>2017-12-28</th>\n",
       "      <td>171.08</td>\n",
       "    </tr>\n",
       "    <tr>\n",
       "      <th>2017-12-29</th>\n",
       "      <td>169.23</td>\n",
       "    </tr>\n",
       "  </tbody>\n",
       "</table>\n",
       "<p>4379 rows × 1 columns</p>\n",
       "</div>"
      ],
      "text/plain": [
       "Name          AAPL\n",
       "Date              \n",
       "2006-01-03   10.68\n",
       "2006-01-04   10.71\n",
       "2006-01-05   10.63\n",
       "2006-01-06   10.90\n",
       "2006-01-07     NaN\n",
       "...            ...\n",
       "2017-12-25     NaN\n",
       "2017-12-26  170.57\n",
       "2017-12-27  170.60\n",
       "2017-12-28  171.08\n",
       "2017-12-29  169.23\n",
       "\n",
       "[4379 rows x 1 columns]"
      ]
     },
     "execution_count": 108,
     "metadata": {},
     "output_type": "execute_result"
    }
   ],
   "source": [
    "apple_linear.asfreq('D')"
   ]
  },
  {
   "cell_type": "code",
   "execution_count": 120,
   "id": "88f51e30-bc96-4897-9842-ab69e307481d",
   "metadata": {},
   "outputs": [
    {
     "data": {
      "text/html": [
       "<div>\n",
       "<style scoped>\n",
       "    .dataframe tbody tr th:only-of-type {\n",
       "        vertical-align: middle;\n",
       "    }\n",
       "\n",
       "    .dataframe tbody tr th {\n",
       "        vertical-align: top;\n",
       "    }\n",
       "\n",
       "    .dataframe thead th {\n",
       "        text-align: right;\n",
       "    }\n",
       "</style>\n",
       "<table border=\"1\" class=\"dataframe\">\n",
       "  <thead>\n",
       "    <tr style=\"text-align: right;\">\n",
       "      <th>Name</th>\n",
       "      <th>AAPL</th>\n",
       "    </tr>\n",
       "    <tr>\n",
       "      <th>Date</th>\n",
       "      <th></th>\n",
       "    </tr>\n",
       "  </thead>\n",
       "  <tbody>\n",
       "    <tr>\n",
       "      <th>2006-01-03</th>\n",
       "      <td>10.68</td>\n",
       "    </tr>\n",
       "    <tr>\n",
       "      <th>2006-01-13</th>\n",
       "      <td>12.23</td>\n",
       "    </tr>\n",
       "    <tr>\n",
       "      <th>2006-01-23</th>\n",
       "      <td>11.10</td>\n",
       "    </tr>\n",
       "    <tr>\n",
       "      <th>2006-02-02</th>\n",
       "      <td>10.30</td>\n",
       "    </tr>\n",
       "    <tr>\n",
       "      <th>2006-02-12</th>\n",
       "      <td>NaN</td>\n",
       "    </tr>\n",
       "    <tr>\n",
       "      <th>...</th>\n",
       "      <td>...</td>\n",
       "    </tr>\n",
       "    <tr>\n",
       "      <th>2017-11-11</th>\n",
       "      <td>NaN</td>\n",
       "    </tr>\n",
       "    <tr>\n",
       "      <th>2017-11-21</th>\n",
       "      <td>173.14</td>\n",
       "    </tr>\n",
       "    <tr>\n",
       "      <th>2017-12-01</th>\n",
       "      <td>171.05</td>\n",
       "    </tr>\n",
       "    <tr>\n",
       "      <th>2017-12-11</th>\n",
       "      <td>172.67</td>\n",
       "    </tr>\n",
       "    <tr>\n",
       "      <th>2017-12-21</th>\n",
       "      <td>174.68</td>\n",
       "    </tr>\n",
       "  </tbody>\n",
       "</table>\n",
       "<p>438 rows × 1 columns</p>\n",
       "</div>"
      ],
      "text/plain": [
       "Name          AAPL\n",
       "Date              \n",
       "2006-01-03   10.68\n",
       "2006-01-13   12.23\n",
       "2006-01-23   11.10\n",
       "2006-02-02   10.30\n",
       "2006-02-12     NaN\n",
       "...            ...\n",
       "2017-11-11     NaN\n",
       "2017-11-21  173.14\n",
       "2017-12-01  171.05\n",
       "2017-12-11  172.67\n",
       "2017-12-21  174.68\n",
       "\n",
       "[438 rows x 1 columns]"
      ]
     },
     "execution_count": 120,
     "metadata": {},
     "output_type": "execute_result"
    }
   ],
   "source": [
    "apple_linear.asfreq('10d')"
   ]
  },
  {
   "cell_type": "markdown",
   "id": "07052024-2307-47e8-94dd-bba5ca438109",
   "metadata": {},
   "source": [
    "### resample"
   ]
  },
  {
   "cell_type": "code",
   "execution_count": null,
   "id": "9de24c0d-e055-4610-862c-92211fdf6b0b",
   "metadata": {},
   "outputs": [
    {
     "data": {
      "text/plain": [
       "<pandas.core.resample.DatetimeIndexResampler object at 0x7fcf0b4dac40>"
      ]
     },
     "execution_count": 110,
     "metadata": {},
     "output_type": "execute_result"
    }
   ],
   "source": [
    "apple_linear.resample('D')"
   ]
  },
  {
   "cell_type": "code",
   "execution_count": 111,
   "id": "52978b68-7e2e-4da1-ab05-39c7156eab0a",
   "metadata": {},
   "outputs": [
    {
     "data": {
      "text/html": [
       "<div>\n",
       "<style scoped>\n",
       "    .dataframe tbody tr th:only-of-type {\n",
       "        vertical-align: middle;\n",
       "    }\n",
       "\n",
       "    .dataframe tbody tr th {\n",
       "        vertical-align: top;\n",
       "    }\n",
       "\n",
       "    .dataframe thead th {\n",
       "        text-align: right;\n",
       "    }\n",
       "</style>\n",
       "<table border=\"1\" class=\"dataframe\">\n",
       "  <thead>\n",
       "    <tr style=\"text-align: right;\">\n",
       "      <th>Name</th>\n",
       "      <th>AAPL</th>\n",
       "    </tr>\n",
       "    <tr>\n",
       "      <th>Date</th>\n",
       "      <th></th>\n",
       "    </tr>\n",
       "  </thead>\n",
       "  <tbody>\n",
       "    <tr>\n",
       "      <th>2006-01-03</th>\n",
       "      <td>10.68</td>\n",
       "    </tr>\n",
       "    <tr>\n",
       "      <th>2006-01-04</th>\n",
       "      <td>10.71</td>\n",
       "    </tr>\n",
       "    <tr>\n",
       "      <th>2006-01-05</th>\n",
       "      <td>10.63</td>\n",
       "    </tr>\n",
       "    <tr>\n",
       "      <th>2006-01-06</th>\n",
       "      <td>10.90</td>\n",
       "    </tr>\n",
       "    <tr>\n",
       "      <th>2006-01-07</th>\n",
       "      <td>NaN</td>\n",
       "    </tr>\n",
       "    <tr>\n",
       "      <th>...</th>\n",
       "      <td>...</td>\n",
       "    </tr>\n",
       "    <tr>\n",
       "      <th>2017-12-25</th>\n",
       "      <td>NaN</td>\n",
       "    </tr>\n",
       "    <tr>\n",
       "      <th>2017-12-26</th>\n",
       "      <td>170.57</td>\n",
       "    </tr>\n",
       "    <tr>\n",
       "      <th>2017-12-27</th>\n",
       "      <td>170.60</td>\n",
       "    </tr>\n",
       "    <tr>\n",
       "      <th>2017-12-28</th>\n",
       "      <td>171.08</td>\n",
       "    </tr>\n",
       "    <tr>\n",
       "      <th>2017-12-29</th>\n",
       "      <td>169.23</td>\n",
       "    </tr>\n",
       "  </tbody>\n",
       "</table>\n",
       "<p>4379 rows × 1 columns</p>\n",
       "</div>"
      ],
      "text/plain": [
       "Name          AAPL\n",
       "Date              \n",
       "2006-01-03   10.68\n",
       "2006-01-04   10.71\n",
       "2006-01-05   10.63\n",
       "2006-01-06   10.90\n",
       "2006-01-07     NaN\n",
       "...            ...\n",
       "2017-12-25     NaN\n",
       "2017-12-26  170.57\n",
       "2017-12-27  170.60\n",
       "2017-12-28  171.08\n",
       "2017-12-29  169.23\n",
       "\n",
       "[4379 rows x 1 columns]"
      ]
     },
     "execution_count": 111,
     "metadata": {},
     "output_type": "execute_result"
    }
   ],
   "source": [
    "apple_linear.resample('D').mean()"
   ]
  },
  {
   "cell_type": "code",
   "execution_count": 121,
   "id": "087cafd0-5958-4b12-80ca-cd1d31f2d987",
   "metadata": {},
   "outputs": [
    {
     "data": {
      "text/html": [
       "<div>\n",
       "<style scoped>\n",
       "    .dataframe tbody tr th:only-of-type {\n",
       "        vertical-align: middle;\n",
       "    }\n",
       "\n",
       "    .dataframe tbody tr th {\n",
       "        vertical-align: top;\n",
       "    }\n",
       "\n",
       "    .dataframe thead th {\n",
       "        text-align: right;\n",
       "    }\n",
       "</style>\n",
       "<table border=\"1\" class=\"dataframe\">\n",
       "  <thead>\n",
       "    <tr style=\"text-align: right;\">\n",
       "      <th>Name</th>\n",
       "      <th>AAPL</th>\n",
       "    </tr>\n",
       "    <tr>\n",
       "      <th>Date</th>\n",
       "      <th></th>\n",
       "    </tr>\n",
       "  </thead>\n",
       "  <tbody>\n",
       "    <tr>\n",
       "      <th>2006-01-03</th>\n",
       "      <td>11.154375</td>\n",
       "    </tr>\n",
       "    <tr>\n",
       "      <th>2006-01-13</th>\n",
       "      <td>11.654000</td>\n",
       "    </tr>\n",
       "    <tr>\n",
       "      <th>2006-01-23</th>\n",
       "      <td>10.681250</td>\n",
       "    </tr>\n",
       "    <tr>\n",
       "      <th>2006-02-02</th>\n",
       "      <td>9.794286</td>\n",
       "    </tr>\n",
       "    <tr>\n",
       "      <th>2006-02-12</th>\n",
       "      <td>9.796667</td>\n",
       "    </tr>\n",
       "    <tr>\n",
       "      <th>...</th>\n",
       "      <td>...</td>\n",
       "    </tr>\n",
       "    <tr>\n",
       "      <th>2017-11-11</th>\n",
       "      <td>170.936667</td>\n",
       "    </tr>\n",
       "    <tr>\n",
       "      <th>2017-11-21</th>\n",
       "      <td>173.505714</td>\n",
       "    </tr>\n",
       "    <tr>\n",
       "      <th>2017-12-01</th>\n",
       "      <td>169.698333</td>\n",
       "    </tr>\n",
       "    <tr>\n",
       "      <th>2017-12-11</th>\n",
       "      <td>173.517500</td>\n",
       "    </tr>\n",
       "    <tr>\n",
       "      <th>2017-12-21</th>\n",
       "      <td>171.861667</td>\n",
       "    </tr>\n",
       "  </tbody>\n",
       "</table>\n",
       "<p>438 rows × 1 columns</p>\n",
       "</div>"
      ],
      "text/plain": [
       "Name              AAPL\n",
       "Date                  \n",
       "2006-01-03   11.154375\n",
       "2006-01-13   11.654000\n",
       "2006-01-23   10.681250\n",
       "2006-02-02    9.794286\n",
       "2006-02-12    9.796667\n",
       "...                ...\n",
       "2017-11-11  170.936667\n",
       "2017-11-21  173.505714\n",
       "2017-12-01  169.698333\n",
       "2017-12-11  173.517500\n",
       "2017-12-21  171.861667\n",
       "\n",
       "[438 rows x 1 columns]"
      ]
     },
     "execution_count": 121,
     "metadata": {},
     "output_type": "execute_result"
    }
   ],
   "source": [
    "apple_linear.resample('10d').mean()"
   ]
  },
  {
   "cell_type": "code",
   "execution_count": 123,
   "id": "83c4b896-8dc1-47a1-a27e-f429878ccc0c",
   "metadata": {},
   "outputs": [
    {
     "data": {
      "text/html": [
       "<div>\n",
       "<style scoped>\n",
       "    .dataframe tbody tr th:only-of-type {\n",
       "        vertical-align: middle;\n",
       "    }\n",
       "\n",
       "    .dataframe tbody tr th {\n",
       "        vertical-align: top;\n",
       "    }\n",
       "\n",
       "    .dataframe thead th {\n",
       "        text-align: right;\n",
       "    }\n",
       "</style>\n",
       "<table border=\"1\" class=\"dataframe\">\n",
       "  <thead>\n",
       "    <tr style=\"text-align: right;\">\n",
       "      <th>Name</th>\n",
       "      <th>AAPL</th>\n",
       "    </tr>\n",
       "    <tr>\n",
       "      <th>Date</th>\n",
       "      <th></th>\n",
       "    </tr>\n",
       "  </thead>\n",
       "  <tbody>\n",
       "    <tr>\n",
       "      <th>2006-01-03</th>\n",
       "      <td>12.04</td>\n",
       "    </tr>\n",
       "    <tr>\n",
       "      <th>2006-01-13</th>\n",
       "      <td>12.23</td>\n",
       "    </tr>\n",
       "    <tr>\n",
       "      <th>2006-01-23</th>\n",
       "      <td>11.10</td>\n",
       "    </tr>\n",
       "    <tr>\n",
       "      <th>2006-02-02</th>\n",
       "      <td>10.30</td>\n",
       "    </tr>\n",
       "    <tr>\n",
       "      <th>2006-02-12</th>\n",
       "      <td>10.08</td>\n",
       "    </tr>\n",
       "    <tr>\n",
       "      <th>...</th>\n",
       "      <td>...</td>\n",
       "    </tr>\n",
       "    <tr>\n",
       "      <th>2017-11-11</th>\n",
       "      <td>173.97</td>\n",
       "    </tr>\n",
       "    <tr>\n",
       "      <th>2017-11-21</th>\n",
       "      <td>174.97</td>\n",
       "    </tr>\n",
       "    <tr>\n",
       "      <th>2017-12-01</th>\n",
       "      <td>171.05</td>\n",
       "    </tr>\n",
       "    <tr>\n",
       "      <th>2017-12-11</th>\n",
       "      <td>176.42</td>\n",
       "    </tr>\n",
       "    <tr>\n",
       "      <th>2017-12-21</th>\n",
       "      <td>175.01</td>\n",
       "    </tr>\n",
       "  </tbody>\n",
       "</table>\n",
       "<p>438 rows × 1 columns</p>\n",
       "</div>"
      ],
      "text/plain": [
       "Name          AAPL\n",
       "Date              \n",
       "2006-01-03   12.04\n",
       "2006-01-13   12.23\n",
       "2006-01-23   11.10\n",
       "2006-02-02   10.30\n",
       "2006-02-12   10.08\n",
       "...            ...\n",
       "2017-11-11  173.97\n",
       "2017-11-21  174.97\n",
       "2017-12-01  171.05\n",
       "2017-12-11  176.42\n",
       "2017-12-21  175.01\n",
       "\n",
       "[438 rows x 1 columns]"
      ]
     },
     "execution_count": 123,
     "metadata": {},
     "output_type": "execute_result"
    }
   ],
   "source": [
    "apple_linear.resample('10d').max()"
   ]
  },
  {
   "cell_type": "code",
   "execution_count": 122,
   "id": "a048e041-b0ab-4fc4-952e-5e5f2cfe7e65",
   "metadata": {},
   "outputs": [
    {
     "data": {
      "text/html": [
       "<div>\n",
       "<style scoped>\n",
       "    .dataframe tbody tr th:only-of-type {\n",
       "        vertical-align: middle;\n",
       "    }\n",
       "\n",
       "    .dataframe tbody tr th {\n",
       "        vertical-align: top;\n",
       "    }\n",
       "\n",
       "    .dataframe thead th {\n",
       "        text-align: right;\n",
       "    }\n",
       "</style>\n",
       "<table border=\"1\" class=\"dataframe\">\n",
       "  <thead>\n",
       "    <tr style=\"text-align: right;\">\n",
       "      <th>Name</th>\n",
       "      <th>AAPL</th>\n",
       "    </tr>\n",
       "    <tr>\n",
       "      <th>Date</th>\n",
       "      <th></th>\n",
       "    </tr>\n",
       "  </thead>\n",
       "  <tbody>\n",
       "    <tr>\n",
       "      <th>2006-01-03</th>\n",
       "      <td>10.68</td>\n",
       "    </tr>\n",
       "    <tr>\n",
       "      <th>2006-01-13</th>\n",
       "      <td>12.23</td>\n",
       "    </tr>\n",
       "    <tr>\n",
       "      <th>2006-01-23</th>\n",
       "      <td>11.10</td>\n",
       "    </tr>\n",
       "    <tr>\n",
       "      <th>2006-02-02</th>\n",
       "      <td>10.30</td>\n",
       "    </tr>\n",
       "    <tr>\n",
       "      <th>2006-02-12</th>\n",
       "      <td>9.24</td>\n",
       "    </tr>\n",
       "    <tr>\n",
       "      <th>...</th>\n",
       "      <td>...</td>\n",
       "    </tr>\n",
       "    <tr>\n",
       "      <th>2017-11-11</th>\n",
       "      <td>173.97</td>\n",
       "    </tr>\n",
       "    <tr>\n",
       "      <th>2017-11-21</th>\n",
       "      <td>173.14</td>\n",
       "    </tr>\n",
       "    <tr>\n",
       "      <th>2017-12-01</th>\n",
       "      <td>171.05</td>\n",
       "    </tr>\n",
       "    <tr>\n",
       "      <th>2017-12-11</th>\n",
       "      <td>172.67</td>\n",
       "    </tr>\n",
       "    <tr>\n",
       "      <th>2017-12-21</th>\n",
       "      <td>174.68</td>\n",
       "    </tr>\n",
       "  </tbody>\n",
       "</table>\n",
       "<p>438 rows × 1 columns</p>\n",
       "</div>"
      ],
      "text/plain": [
       "Name          AAPL\n",
       "Date              \n",
       "2006-01-03   10.68\n",
       "2006-01-13   12.23\n",
       "2006-01-23   11.10\n",
       "2006-02-02   10.30\n",
       "2006-02-12    9.24\n",
       "...            ...\n",
       "2017-11-11  173.97\n",
       "2017-11-21  173.14\n",
       "2017-12-01  171.05\n",
       "2017-12-11  172.67\n",
       "2017-12-21  174.68\n",
       "\n",
       "[438 rows x 1 columns]"
      ]
     },
     "execution_count": 122,
     "metadata": {},
     "output_type": "execute_result"
    }
   ],
   "source": [
    "apple_linear.resample('10d').first()"
   ]
  },
  {
   "cell_type": "code",
   "execution_count": 124,
   "id": "f6048969-cf50-420c-8553-3d5950143e65",
   "metadata": {},
   "outputs": [
    {
     "data": {
      "text/html": [
       "<div>\n",
       "<style scoped>\n",
       "    .dataframe tbody tr th:only-of-type {\n",
       "        vertical-align: middle;\n",
       "    }\n",
       "\n",
       "    .dataframe tbody tr th {\n",
       "        vertical-align: top;\n",
       "    }\n",
       "\n",
       "    .dataframe thead tr th {\n",
       "        text-align: left;\n",
       "    }\n",
       "\n",
       "    .dataframe thead tr:last-of-type th {\n",
       "        text-align: right;\n",
       "    }\n",
       "</style>\n",
       "<table border=\"1\" class=\"dataframe\">\n",
       "  <thead>\n",
       "    <tr>\n",
       "      <th>Name</th>\n",
       "      <th colspan=\"4\" halign=\"left\">AAPL</th>\n",
       "    </tr>\n",
       "    <tr>\n",
       "      <th></th>\n",
       "      <th>min</th>\n",
       "      <th>max</th>\n",
       "      <th>mean</th>\n",
       "      <th>std</th>\n",
       "    </tr>\n",
       "    <tr>\n",
       "      <th>Date</th>\n",
       "      <th></th>\n",
       "      <th></th>\n",
       "      <th></th>\n",
       "      <th></th>\n",
       "    </tr>\n",
       "  </thead>\n",
       "  <tbody>\n",
       "    <tr>\n",
       "      <th>2006-01-31</th>\n",
       "      <td>10.29</td>\n",
       "      <td>12.23</td>\n",
       "      <td>11.109250</td>\n",
       "      <td>0.609560</td>\n",
       "    </tr>\n",
       "    <tr>\n",
       "      <th>2006-02-28</th>\n",
       "      <td>9.24</td>\n",
       "      <td>10.77</td>\n",
       "      <td>9.930526</td>\n",
       "      <td>0.377057</td>\n",
       "    </tr>\n",
       "    <tr>\n",
       "      <th>2006-03-31</th>\n",
       "      <td>8.39</td>\n",
       "      <td>9.94</td>\n",
       "      <td>9.130000</td>\n",
       "      <td>0.413958</td>\n",
       "    </tr>\n",
       "    <tr>\n",
       "      <th>2006-04-30</th>\n",
       "      <td>8.74</td>\n",
       "      <td>10.18</td>\n",
       "      <td>9.572105</td>\n",
       "      <td>0.352193</td>\n",
       "    </tr>\n",
       "    <tr>\n",
       "      <th>2006-05-31</th>\n",
       "      <td>8.54</td>\n",
       "      <td>10.27</td>\n",
       "      <td>9.543636</td>\n",
       "      <td>0.549680</td>\n",
       "    </tr>\n",
       "    <tr>\n",
       "      <th>...</th>\n",
       "      <td>...</td>\n",
       "      <td>...</td>\n",
       "      <td>...</td>\n",
       "      <td>...</td>\n",
       "    </tr>\n",
       "    <tr>\n",
       "      <th>2017-08-31</th>\n",
       "      <td>150.05</td>\n",
       "      <td>164.00</td>\n",
       "      <td>158.969783</td>\n",
       "      <td>3.080025</td>\n",
       "    </tr>\n",
       "    <tr>\n",
       "      <th>2017-09-30</th>\n",
       "      <td>150.55</td>\n",
       "      <td>164.05</td>\n",
       "      <td>157.608500</td>\n",
       "      <td>3.955141</td>\n",
       "    </tr>\n",
       "    <tr>\n",
       "      <th>2017-10-31</th>\n",
       "      <td>153.48</td>\n",
       "      <td>169.04</td>\n",
       "      <td>157.829318</td>\n",
       "      <td>3.963349</td>\n",
       "    </tr>\n",
       "    <tr>\n",
       "      <th>2017-11-30</th>\n",
       "      <td>166.89</td>\n",
       "      <td>176.24</td>\n",
       "      <td>172.624048</td>\n",
       "      <td>2.468988</td>\n",
       "    </tr>\n",
       "    <tr>\n",
       "      <th>2017-12-31</th>\n",
       "      <td>169.01</td>\n",
       "      <td>176.42</td>\n",
       "      <td>171.875000</td>\n",
       "      <td>2.281012</td>\n",
       "    </tr>\n",
       "  </tbody>\n",
       "</table>\n",
       "<p>144 rows × 4 columns</p>\n",
       "</div>"
      ],
      "text/plain": [
       "Name          AAPL                              \n",
       "               min     max        mean       std\n",
       "Date                                            \n",
       "2006-01-31   10.29   12.23   11.109250  0.609560\n",
       "2006-02-28    9.24   10.77    9.930526  0.377057\n",
       "2006-03-31    8.39    9.94    9.130000  0.413958\n",
       "2006-04-30    8.74   10.18    9.572105  0.352193\n",
       "2006-05-31    8.54   10.27    9.543636  0.549680\n",
       "...            ...     ...         ...       ...\n",
       "2017-08-31  150.05  164.00  158.969783  3.080025\n",
       "2017-09-30  150.55  164.05  157.608500  3.955141\n",
       "2017-10-31  153.48  169.04  157.829318  3.963349\n",
       "2017-11-30  166.89  176.24  172.624048  2.468988\n",
       "2017-12-31  169.01  176.42  171.875000  2.281012\n",
       "\n",
       "[144 rows x 4 columns]"
      ]
     },
     "execution_count": 124,
     "metadata": {},
     "output_type": "execute_result"
    }
   ],
   "source": [
    "apple_linear.resample('M').agg(['min', 'max', 'mean', 'std'])"
   ]
  },
  {
   "cell_type": "code",
   "execution_count": 127,
   "id": "727ea372-f1f3-46d1-97d4-19e750a17f71",
   "metadata": {},
   "outputs": [
    {
     "data": {
      "text/plain": [
       "<matplotlib.legend.Legend at 0x7fcf0b7a5a60>"
      ]
     },
     "execution_count": 127,
     "metadata": {},
     "output_type": "execute_result"
    },
    {
     "data": {
      "image/png": "[encoded data removed]",
      "text/plain": [
       "<Figure size 1008x360 with 1 Axes>"
      ]
     },
     "metadata": {
      "needs_background": "light"
     },
     "output_type": "display_data"
    }
   ],
   "source": [
    "# 평활화 (smoothing)\n",
    "monthly_apple = apple_linear.resample(\"M\")[\"AAPL\"].mean()\n",
    "quarterly_apple = apple_linear.resample(\"Q\")[\"AAPL\"].mean()\n",
    "yearly_apple = apple_linear.resample(\"Y\")[\"AAPL\"].mean()\n",
    "\n",
    "plt.figure(figsize=(14, 5))\n",
    "apple_linear['AAPL'].plot(label='original')\n",
    "monthly_apple.plot(label='monthly')\n",
    "quarterly_apple.plot(label='quarterly')\n",
    "yearly_apple.plot(label='yearly')\n",
    "plt.legend()"
   ]
  },
  {
   "cell_type": "markdown",
   "id": "1136e66e-7d49-4f6b-aa4a-155ff944a001",
   "metadata": {},
   "source": [
    "# div 비교"
   ]
  },
  {
   "cell_type": "code",
   "execution_count": 128,
   "id": "0a8a737c-43b5-4c41-9eb6-d233803bc98b",
   "metadata": {},
   "outputs": [
    {
     "data": {
      "text/html": [
       "<div>\n",
       "<style scoped>\n",
       "    .dataframe tbody tr th:only-of-type {\n",
       "        vertical-align: middle;\n",
       "    }\n",
       "\n",
       "    .dataframe tbody tr th {\n",
       "        vertical-align: top;\n",
       "    }\n",
       "\n",
       "    .dataframe thead th {\n",
       "        text-align: right;\n",
       "    }\n",
       "</style>\n",
       "<table border=\"1\" class=\"dataframe\">\n",
       "  <thead>\n",
       "    <tr style=\"text-align: right;\">\n",
       "      <th>Name</th>\n",
       "      <th>AAPL</th>\n",
       "      <th>AMZN</th>\n",
       "    </tr>\n",
       "    <tr>\n",
       "      <th>Date</th>\n",
       "      <th></th>\n",
       "      <th></th>\n",
       "    </tr>\n",
       "  </thead>\n",
       "  <tbody>\n",
       "    <tr>\n",
       "      <th>2006-01-03</th>\n",
       "      <td>10.68</td>\n",
       "      <td>47.58</td>\n",
       "    </tr>\n",
       "    <tr>\n",
       "      <th>2006-01-04</th>\n",
       "      <td>10.71</td>\n",
       "      <td>47.25</td>\n",
       "    </tr>\n",
       "    <tr>\n",
       "      <th>2006-01-05</th>\n",
       "      <td>10.63</td>\n",
       "      <td>47.65</td>\n",
       "    </tr>\n",
       "    <tr>\n",
       "      <th>2006-01-06</th>\n",
       "      <td>10.90</td>\n",
       "      <td>47.87</td>\n",
       "    </tr>\n",
       "    <tr>\n",
       "      <th>2006-01-09</th>\n",
       "      <td>10.86</td>\n",
       "      <td>47.08</td>\n",
       "    </tr>\n",
       "  </tbody>\n",
       "</table>\n",
       "</div>"
      ],
      "text/plain": [
       "Name         AAPL   AMZN\n",
       "Date                    \n",
       "2006-01-03  10.68  47.58\n",
       "2006-01-04  10.71  47.25\n",
       "2006-01-05  10.63  47.65\n",
       "2006-01-06  10.90  47.87\n",
       "2006-01-09  10.86  47.08"
      ]
     },
     "execution_count": 128,
     "metadata": {},
     "output_type": "execute_result"
    }
   ],
   "source": [
    "df.head()"
   ]
  },
  {
   "cell_type": "code",
   "execution_count": 134,
   "id": "2e0dc1ca-b45f-4a77-b4f4-4d5af86a5aac",
   "metadata": {},
   "outputs": [
    {
     "data": {
      "text/plain": [
       "<AxesSubplot:xlabel='Date'>"
      ]
     },
     "execution_count": 134,
     "metadata": {},
     "output_type": "execute_result"
    },
    {
     "data": {
      "image/png": "[encoded data removed]",
      "text/plain": [
       "<Figure size 1080x288 with 1 Axes>"
      ]
     },
     "metadata": {
      "needs_background": "light"
     },
     "output_type": "display_data"
    }
   ],
   "source": [
    "df.plot(figsize=(15, 4))"
   ]
  },
  {
   "cell_type": "code",
   "execution_count": 131,
   "id": "cb545168-6c86-4b25-bca2-856adda7e0f6",
   "metadata": {},
   "outputs": [
    {
     "data": {
      "text/html": [
       "<div>\n",
       "<style scoped>\n",
       "    .dataframe tbody tr th:only-of-type {\n",
       "        vertical-align: middle;\n",
       "    }\n",
       "\n",
       "    .dataframe tbody tr th {\n",
       "        vertical-align: top;\n",
       "    }\n",
       "\n",
       "    .dataframe thead th {\n",
       "        text-align: right;\n",
       "    }\n",
       "</style>\n",
       "<table border=\"1\" class=\"dataframe\">\n",
       "  <thead>\n",
       "    <tr style=\"text-align: right;\">\n",
       "      <th>Name</th>\n",
       "      <th>AAPL</th>\n",
       "      <th>AMZN</th>\n",
       "    </tr>\n",
       "    <tr>\n",
       "      <th>Date</th>\n",
       "      <th></th>\n",
       "      <th></th>\n",
       "    </tr>\n",
       "  </thead>\n",
       "  <tbody>\n",
       "    <tr>\n",
       "      <th>2006-01-03</th>\n",
       "      <td>1.000000</td>\n",
       "      <td>1.000000</td>\n",
       "    </tr>\n",
       "    <tr>\n",
       "      <th>2006-01-04</th>\n",
       "      <td>1.002809</td>\n",
       "      <td>0.993064</td>\n",
       "    </tr>\n",
       "    <tr>\n",
       "      <th>2006-01-05</th>\n",
       "      <td>0.995318</td>\n",
       "      <td>1.001471</td>\n",
       "    </tr>\n",
       "    <tr>\n",
       "      <th>2006-01-06</th>\n",
       "      <td>1.020599</td>\n",
       "      <td>1.006095</td>\n",
       "    </tr>\n",
       "    <tr>\n",
       "      <th>2006-01-09</th>\n",
       "      <td>1.016854</td>\n",
       "      <td>0.989491</td>\n",
       "    </tr>\n",
       "  </tbody>\n",
       "</table>\n",
       "</div>"
      ],
      "text/plain": [
       "Name            AAPL      AMZN\n",
       "Date                          \n",
       "2006-01-03  1.000000  1.000000\n",
       "2006-01-04  1.002809  0.993064\n",
       "2006-01-05  0.995318  1.001471\n",
       "2006-01-06  1.020599  1.006095\n",
       "2006-01-09  1.016854  0.989491"
      ]
     },
     "execution_count": 131,
     "metadata": {},
     "output_type": "execute_result"
    }
   ],
   "source": [
    "df_div = df.div(df.iloc[0])\n",
    "df_div.head()"
   ]
  },
  {
   "cell_type": "code",
   "execution_count": 133,
   "id": "bdcb8f07-6b8c-4be9-8d98-ef28581e15c4",
   "metadata": {},
   "outputs": [
    {
     "data": {
      "text/plain": [
       "<AxesSubplot:xlabel='Date'>"
      ]
     },
     "execution_count": 133,
     "metadata": {},
     "output_type": "execute_result"
    },
    {
     "data": {
      "image/png": "[encoded data removed]",
      "text/plain": [
       "<Figure size 1080x288 with 1 Axes>"
      ]
     },
     "metadata": {
      "needs_background": "light"
     },
     "output_type": "display_data"
    }
   ],
   "source": [
    "df_div.plot(figsize=(15, 4))"
   ]
  },
  {
   "cell_type": "markdown",
   "id": "8c58e248-2532-4226-8f01-0664acd4ecc8",
   "metadata": {},
   "source": [
    "# rolling window"
   ]
  },
  {
   "cell_type": "code",
   "execution_count": 135,
   "id": "e9745b36-2f92-4b07-9472-096cf3cfe74a",
   "metadata": {},
   "outputs": [
    {
     "data": {
      "text/plain": [
       "Rolling [window=5,center=False,axis=0,method=single]"
      ]
     },
     "execution_count": 135,
     "metadata": {},
     "output_type": "execute_result"
    }
   ],
   "source": [
    "df.rolling(window=5)"
   ]
  },
  {
   "cell_type": "code",
   "execution_count": 136,
   "id": "3beffe3a-9119-4f3d-9d34-d014164e54e6",
   "metadata": {},
   "outputs": [
    {
     "data": {
      "text/html": [
       "<div>\n",
       "<style scoped>\n",
       "    .dataframe tbody tr th:only-of-type {\n",
       "        vertical-align: middle;\n",
       "    }\n",
       "\n",
       "    .dataframe tbody tr th {\n",
       "        vertical-align: top;\n",
       "    }\n",
       "\n",
       "    .dataframe thead th {\n",
       "        text-align: right;\n",
       "    }\n",
       "</style>\n",
       "<table border=\"1\" class=\"dataframe\">\n",
       "  <thead>\n",
       "    <tr style=\"text-align: right;\">\n",
       "      <th>Name</th>\n",
       "      <th>AAPL</th>\n",
       "      <th>AMZN</th>\n",
       "    </tr>\n",
       "    <tr>\n",
       "      <th>Date</th>\n",
       "      <th></th>\n",
       "      <th></th>\n",
       "    </tr>\n",
       "  </thead>\n",
       "  <tbody>\n",
       "    <tr>\n",
       "      <th>2006-01-03</th>\n",
       "      <td>NaN</td>\n",
       "      <td>NaN</td>\n",
       "    </tr>\n",
       "    <tr>\n",
       "      <th>2006-01-04</th>\n",
       "      <td>NaN</td>\n",
       "      <td>NaN</td>\n",
       "    </tr>\n",
       "    <tr>\n",
       "      <th>2006-01-05</th>\n",
       "      <td>NaN</td>\n",
       "      <td>NaN</td>\n",
       "    </tr>\n",
       "    <tr>\n",
       "      <th>2006-01-06</th>\n",
       "      <td>NaN</td>\n",
       "      <td>NaN</td>\n",
       "    </tr>\n",
       "    <tr>\n",
       "      <th>2006-01-09</th>\n",
       "      <td>10.756</td>\n",
       "      <td>47.486</td>\n",
       "    </tr>\n",
       "    <tr>\n",
       "      <th>...</th>\n",
       "      <td>...</td>\n",
       "      <td>...</td>\n",
       "    </tr>\n",
       "    <tr>\n",
       "      <th>2017-12-22</th>\n",
       "      <td>175.066</td>\n",
       "      <td>1179.740</td>\n",
       "    </tr>\n",
       "    <tr>\n",
       "      <th>2017-12-26</th>\n",
       "      <td>173.896</td>\n",
       "      <td>1176.976</td>\n",
       "    </tr>\n",
       "    <tr>\n",
       "      <th>2017-12-27</th>\n",
       "      <td>173.108</td>\n",
       "      <td>1175.952</td>\n",
       "    </tr>\n",
       "    <tr>\n",
       "      <th>2017-12-28</th>\n",
       "      <td>172.454</td>\n",
       "      <td>1177.648</td>\n",
       "    </tr>\n",
       "    <tr>\n",
       "      <th>2017-12-29</th>\n",
       "      <td>171.298</td>\n",
       "      <td>1176.590</td>\n",
       "    </tr>\n",
       "  </tbody>\n",
       "</table>\n",
       "<p>3020 rows × 2 columns</p>\n",
       "</div>"
      ],
      "text/plain": [
       "Name           AAPL      AMZN\n",
       "Date                         \n",
       "2006-01-03      NaN       NaN\n",
       "2006-01-04      NaN       NaN\n",
       "2006-01-05      NaN       NaN\n",
       "2006-01-06      NaN       NaN\n",
       "2006-01-09   10.756    47.486\n",
       "...             ...       ...\n",
       "2017-12-22  175.066  1179.740\n",
       "2017-12-26  173.896  1176.976\n",
       "2017-12-27  173.108  1175.952\n",
       "2017-12-28  172.454  1177.648\n",
       "2017-12-29  171.298  1176.590\n",
       "\n",
       "[3020 rows x 2 columns]"
      ]
     },
     "execution_count": 136,
     "metadata": {},
     "output_type": "execute_result"
    }
   ],
   "source": [
    "df.rolling(window=5).mean()"
   ]
  },
  {
   "cell_type": "code",
   "execution_count": 138,
   "id": "e3caa39d-c1d9-4038-aaed-7edfafb5b51f",
   "metadata": {},
   "outputs": [
    {
     "data": {
      "text/plain": [
       "<matplotlib.legend.Legend at 0x7fcf0c08bbe0>"
      ]
     },
     "execution_count": 138,
     "metadata": {},
     "output_type": "execute_result"
    },
    {
     "data": {
      "image/png": "[encoded data removed]",
      "text/plain": [
       "<Figure size 1008x360 with 1 Axes>"
      ]
     },
     "metadata": {
      "needs_background": "light"
     },
     "output_type": "display_data"
    }
   ],
   "source": [
    "moving_average_day5 = df.rolling(window=5).mean()\n",
    "moving_average_day120 = df.rolling(window=120).mean()\n",
    "\n",
    "plt.figure(figsize=(14, 5))\n",
    "apple_linear['AAPL'].plot(label='original')\n",
    "moving_average_day5['AAPL'].plot(label='ma_5d')\n",
    "moving_average_day120['AAPL'].plot(label='ma_120d')\n",
    "plt.legend()"
   ]
  },
  {
   "cell_type": "markdown",
   "id": "84c22d50-06cf-4bfd-8cea-befd920aa0e0",
   "metadata": {},
   "source": [
    "# expanding window"
   ]
  },
  {
   "cell_type": "code",
   "execution_count": 140,
   "id": "9f60b4c0-8ca5-4784-9de7-7e50089850d7",
   "metadata": {},
   "outputs": [
    {
     "data": {
      "text/plain": [
       "Date\n",
       "2006-01-03        10.68\n",
       "2006-01-04        21.39\n",
       "2006-01-05        32.02\n",
       "2006-01-06        42.92\n",
       "2006-01-09        53.78\n",
       "                ...    \n",
       "2017-12-22    194535.79\n",
       "2017-12-26    194706.36\n",
       "2017-12-27    194876.96\n",
       "2017-12-28    195048.04\n",
       "2017-12-29    195217.27\n",
       "Name: AAPL, Length: 3020, dtype: float64"
      ]
     },
     "execution_count": 140,
     "metadata": {},
     "output_type": "execute_result"
    }
   ],
   "source": [
    "# 누적 합계 - expanding\n",
    "df[\"AAPL\"].expanding(min_periods=1).sum()  # min_periods : 초기 윈도우 크기 설정"
   ]
  },
  {
   "cell_type": "code",
   "execution_count": 141,
   "id": "795e6cd8-072b-4627-b1e7-44aa0aa56585",
   "metadata": {},
   "outputs": [
    {
     "data": {
      "text/plain": [
       "Date\n",
       "2006-01-03        10.68\n",
       "2006-01-04        21.39\n",
       "2006-01-05        32.02\n",
       "2006-01-06        42.92\n",
       "2006-01-09        53.78\n",
       "                ...    \n",
       "2017-12-22    194535.79\n",
       "2017-12-26    194706.36\n",
       "2017-12-27    194876.96\n",
       "2017-12-28    195048.04\n",
       "2017-12-29    195217.27\n",
       "Name: AAPL, Length: 3020, dtype: float64"
      ]
     },
     "execution_count": 141,
     "metadata": {},
     "output_type": "execute_result"
    }
   ],
   "source": [
    "df[\"AAPL\"].cumsum()"
   ]
  },
  {
   "cell_type": "code",
   "execution_count": 143,
   "id": "f9858f2c-0f8d-4c8c-98ea-36db6ad16a4b",
   "metadata": {},
   "outputs": [
    {
     "data": {
      "text/plain": [
       "Date\n",
       "2006-01-03    10.68\n",
       "2006-01-04    10.68\n",
       "2006-01-05    10.63\n",
       "2006-01-06    10.63\n",
       "2006-01-09    10.63\n",
       "              ...  \n",
       "2017-12-22     7.24\n",
       "2017-12-26     7.24\n",
       "2017-12-27     7.24\n",
       "2017-12-28     7.24\n",
       "2017-12-29     7.24\n",
       "Name: AAPL, Length: 3020, dtype: float64"
      ]
     },
     "execution_count": 143,
     "metadata": {},
     "output_type": "execute_result"
    }
   ],
   "source": [
    "# 누적 최솟값\n",
    "df[\"AAPL\"].expanding(min_periods=1).min() "
   ]
  },
  {
   "cell_type": "code",
   "execution_count": 144,
   "id": "ec3f0b75-ff46-42da-a7c3-d60a4294fc38",
   "metadata": {},
   "outputs": [
    {
     "data": {
      "text/plain": [
       "Date\n",
       "2006-01-03    10.68\n",
       "2006-01-04    10.68\n",
       "2006-01-05    10.63\n",
       "2006-01-06    10.63\n",
       "2006-01-09    10.63\n",
       "              ...  \n",
       "2017-12-22     7.24\n",
       "2017-12-26     7.24\n",
       "2017-12-27     7.24\n",
       "2017-12-28     7.24\n",
       "2017-12-29     7.24\n",
       "Name: AAPL, Length: 3020, dtype: float64"
      ]
     },
     "execution_count": 144,
     "metadata": {},
     "output_type": "execute_result"
    }
   ],
   "source": [
    "df[\"AAPL\"].cummin()"
   ]
  },
  {
   "cell_type": "code",
   "execution_count": 145,
   "id": "52d308a8-5f2c-4795-a954-0f7c5a7a3604",
   "metadata": {},
   "outputs": [
    {
     "data": {
      "text/plain": [
       "Date\n",
       "2006-01-03     10.68\n",
       "2006-01-04     10.71\n",
       "2006-01-05     10.71\n",
       "2006-01-06     10.90\n",
       "2006-01-09     10.90\n",
       "               ...  \n",
       "2017-12-22    176.42\n",
       "2017-12-26    176.42\n",
       "2017-12-27    176.42\n",
       "2017-12-28    176.42\n",
       "2017-12-29    176.42\n",
       "Name: AAPL, Length: 3020, dtype: float64"
      ]
     },
     "execution_count": 145,
     "metadata": {},
     "output_type": "execute_result"
    }
   ],
   "source": [
    "# 누적 최댓값\n",
    "df[\"AAPL\"].expanding(min_periods=1).max() "
   ]
  },
  {
   "cell_type": "code",
   "execution_count": 146,
   "id": "b1581b17-2c90-46cb-b8de-f7ce5cfad77e",
   "metadata": {},
   "outputs": [
    {
     "data": {
      "text/plain": [
       "Date\n",
       "2006-01-03     10.68\n",
       "2006-01-04     10.71\n",
       "2006-01-05     10.71\n",
       "2006-01-06     10.90\n",
       "2006-01-09     10.90\n",
       "               ...  \n",
       "2017-12-22    176.42\n",
       "2017-12-26    176.42\n",
       "2017-12-27    176.42\n",
       "2017-12-28    176.42\n",
       "2017-12-29    176.42\n",
       "Name: AAPL, Length: 3020, dtype: float64"
      ]
     },
     "execution_count": 146,
     "metadata": {},
     "output_type": "execute_result"
    }
   ],
   "source": [
    "df[\"AAPL\"].cummax()"
   ]
  },
  {
   "cell_type": "code",
   "execution_count": null,
   "id": "890943ed-b397-4f30-b153-865cda231542",
   "metadata": {},
   "outputs": [
    {
     "data": {
      "text/plain": [
       "<matplotlib.legend.Legend at 0x7fcf0c31b8e0>"
      ]
     },
     "execution_count": 147,
     "metadata": {},
     "output_type": "execute_result"
    },
    {
     "data": {
      "image/png": "[encoded data removed]",
      "text/plain": [
       "<Figure size 1008x360 with 1 Axes>"
      ]
     },
     "metadata": {
      "needs_background": "light"
     },
     "output_type": "display_data"
    }
   ],
   "source": [
    "# 시각화 \n",
    "plt.figure(figsize=(14, 5))\n",
    "df['AAPL'].plot(label='original')\n",
    "df[\"AAPL\"].cummax().plot(label='max')\n",
    "df[\"AAPL\"].cummin().plot(label='min')\n",
    "plt.legend()"
   ]
  },
  {
   "cell_type": "code",
   "execution_count": null,
   "id": "bd225d85-200b-421b-a6b0-056ea25c1945",
   "metadata": {},
   "outputs": [],
   "source": []
  },
  {
   "cell_type": "code",
   "execution_count": null,
   "id": "7b60d2c9-c076-4102-8c10-283b3253d376",
   "metadata": {},
   "outputs": [],
   "source": []
  }
 ],
 "metadata": {
  "kernelspec": {
   "display_name": "bigdata",
   "language": "python",
   "name": "bigdata"
  },
  "language_info": {
   "codemirror_mode": {
    "name": "ipython",
    "version": 3
   },
   "file_extension": ".py",
   "mimetype": "text/x-python",
   "name": "python",
   "nbconvert_exporter": "python",
   "pygments_lexer": "ipython3",
   "version": "3.8.13"
  },
  "papermill": {
   "default_parameters": {},
   "duration": 30.944713,
   "end_time": "2021-09-17T23:33:55.929445",
   "environment_variables": {},
   "exception": null,
   "input_path": "__notebook__.ipynb",
   "output_path": "__notebook__.ipynb",
   "parameters": {},
   "start_time": "2021-09-17T23:33:24.984732",
   "version": "2.3.3"
  }
 },
 "nbformat": 4,
 "nbformat_minor": 5
}
