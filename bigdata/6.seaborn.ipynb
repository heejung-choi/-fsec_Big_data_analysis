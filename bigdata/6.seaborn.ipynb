{
 "cells": [
  {
   "cell_type": "markdown",
   "id": "9a96ff63-20e5-48ae-8f0b-e6a0a7eaa1ce",
   "metadata": {},
   "source": [
    "# <center>멤버십 고객 탈회 예측</center>"
   ]
  },
  {
   "cell_type": "code",
   "execution_count": null,
   "id": "1f504d96-a46e-4081-be85-6777a9e57b00",
   "metadata": {},
   "outputs": [],
   "source": [
    "컬럼 | 설명 | 컬럼 | 설명\n",
    "---|---|---|---\n",
    "id | 멤버십 번호 | MEMBERSHIP_TERM_YEARS | 멤버십 기간\n",
    "ANNUAL_FEES | 연간 회비 | MEMBER_MARITAL_STATUS | 기혼 여부, M(기혼), S(미혼)\n",
    "MEMBER_GENDER | 성별, M(남),F(여) | MEMBER_ANNUAL_INCOME | 연봉(연간 수입)\n",
    "MEMBER_OCCUPATION_CD | 직업 | MEMBERSHIP_PACKAGE | 멤버십 유형\n",
    "MEMBER_AGE_AT_ISSUE | 나이 | ADDITIONAL_MEMBERS | 가족 회원\n",
    "PAYMENT_MODE | 지불 방식 | AGENT_CODE | 직원 코드 \n",
    "START_DATE (YYYYMMDD) | 시작 날짜 | END_DATE  (YYYYMMDD) | 종료 날짜 \n",
    "MEMBERSHIP_STATUS | 0(유지), 1(탈회) | "
   ]
  },
  {
   "cell_type": "markdown",
   "id": "6e2ef506-6922-4659-ac3b-1fbdb2969d22",
   "metadata": {},
   "source": [
    "# Library"
   ]
  },
  {
   "cell_type": "code",
   "execution_count": 1,
   "id": "f2553679-6f25-4900-8172-87b132480a2c",
   "metadata": {},
   "outputs": [],
   "source": [
    "import pandas as pd\n",
    "import numpy as np\n",
    "\n",
    "import matplotlib.pyplot as plt\n",
    "import seaborn as sns\n",
    "\n",
    "import warnings\n",
    "warnings.filterwarnings(action='ignore')"
   ]
  },
  {
   "cell_type": "code",
   "execution_count": 2,
   "id": "73ab9fa3-01f9-4375-b32f-cec803921063",
   "metadata": {},
   "outputs": [
    {
     "data": {
      "text/plain": [
       "'1.4.4'"
      ]
     },
     "execution_count": 2,
     "metadata": {},
     "output_type": "execute_result"
    }
   ],
   "source": [
    "pd.__version__"
   ]
  },
  {
   "cell_type": "markdown",
   "id": "9d2f084a-e17f-4877-a3d4-8d9f06a5d4a8",
   "metadata": {},
   "source": [
    "# Load Dataset"
   ]
  },
  {
   "cell_type": "code",
   "execution_count": 3,
   "id": "ca0b72bd-d9ec-4fef-bc01-ef33d9741ee6",
   "metadata": {},
   "outputs": [],
   "source": [
    "df = pd.read_csv('membership.csv')"
   ]
  },
  {
   "cell_type": "code",
   "execution_count": 4,
   "id": "77452a14-2b14-4451-9be5-7787b3911e10",
   "metadata": {},
   "outputs": [
    {
     "data": {
      "text/html": [
       "<div>\n",
       "<style scoped>\n",
       "    .dataframe tbody tr th:only-of-type {\n",
       "        vertical-align: middle;\n",
       "    }\n",
       "\n",
       "    .dataframe tbody tr th {\n",
       "        vertical-align: top;\n",
       "    }\n",
       "\n",
       "    .dataframe thead th {\n",
       "        text-align: right;\n",
       "    }\n",
       "</style>\n",
       "<table border=\"1\" class=\"dataframe\">\n",
       "  <thead>\n",
       "    <tr style=\"text-align: right;\">\n",
       "      <th></th>\n",
       "      <th>id</th>\n",
       "      <th>MEMBERSHIP_TERM_YEARS</th>\n",
       "      <th>ANNUAL_FEES</th>\n",
       "      <th>MEMBER_MARITAL_STATUS</th>\n",
       "      <th>MEMBER_GENDER</th>\n",
       "      <th>MEMBER_ANNUAL_INCOME</th>\n",
       "      <th>MEMBER_OCCUPATION_CD</th>\n",
       "      <th>MEMBERSHIP_PACKAGE</th>\n",
       "      <th>MEMBER_AGE_AT_ISSUE</th>\n",
       "      <th>ADDITIONAL_MEMBERS</th>\n",
       "      <th>PAYMENT_MODE</th>\n",
       "      <th>AGENT_CODE</th>\n",
       "      <th>MEMBERSHIP_STATUS</th>\n",
       "      <th>START_DATE</th>\n",
       "      <th>END_DATE</th>\n",
       "    </tr>\n",
       "  </thead>\n",
       "  <tbody>\n",
       "    <tr>\n",
       "      <th>0</th>\n",
       "      <td>0</td>\n",
       "      <td>22</td>\n",
       "      <td>100000.00</td>\n",
       "      <td>M</td>\n",
       "      <td>M</td>\n",
       "      <td>450000.0</td>\n",
       "      <td>1.0</td>\n",
       "      <td>TYPE-B</td>\n",
       "      <td>27</td>\n",
       "      <td>1</td>\n",
       "      <td>ANNUAL</td>\n",
       "      <td>666099</td>\n",
       "      <td>0</td>\n",
       "      <td>20091029</td>\n",
       "      <td>NaN</td>\n",
       "    </tr>\n",
       "    <tr>\n",
       "      <th>1</th>\n",
       "      <td>1</td>\n",
       "      <td>88</td>\n",
       "      <td>149029.58</td>\n",
       "      <td>NaN</td>\n",
       "      <td>M</td>\n",
       "      <td>NaN</td>\n",
       "      <td>6.0</td>\n",
       "      <td>TYPE-A</td>\n",
       "      <td>75</td>\n",
       "      <td>0</td>\n",
       "      <td>ANNUAL</td>\n",
       "      <td>132000</td>\n",
       "      <td>0</td>\n",
       "      <td>20131014</td>\n",
       "      <td>NaN</td>\n",
       "    </tr>\n",
       "    <tr>\n",
       "      <th>2</th>\n",
       "      <td>2</td>\n",
       "      <td>93</td>\n",
       "      <td>102999.94</td>\n",
       "      <td>NaN</td>\n",
       "      <td>M</td>\n",
       "      <td>600000.0</td>\n",
       "      <td>1.0</td>\n",
       "      <td>TYPE-A</td>\n",
       "      <td>49</td>\n",
       "      <td>0</td>\n",
       "      <td>ANNUAL</td>\n",
       "      <td>1407177</td>\n",
       "      <td>0</td>\n",
       "      <td>20130531</td>\n",
       "      <td>NaN</td>\n",
       "    </tr>\n",
       "    <tr>\n",
       "      <th>3</th>\n",
       "      <td>3</td>\n",
       "      <td>17</td>\n",
       "      <td>147576.48</td>\n",
       "      <td>M</td>\n",
       "      <td>F</td>\n",
       "      <td>450000.0</td>\n",
       "      <td>1.0</td>\n",
       "      <td>TYPE-A</td>\n",
       "      <td>47</td>\n",
       "      <td>3</td>\n",
       "      <td>MONTHLY</td>\n",
       "      <td>343344</td>\n",
       "      <td>0</td>\n",
       "      <td>20130331</td>\n",
       "      <td>NaN</td>\n",
       "    </tr>\n",
       "    <tr>\n",
       "      <th>4</th>\n",
       "      <td>4</td>\n",
       "      <td>39</td>\n",
       "      <td>100000.00</td>\n",
       "      <td>M</td>\n",
       "      <td>M</td>\n",
       "      <td>600000.0</td>\n",
       "      <td>1.0</td>\n",
       "      <td>TYPE-B</td>\n",
       "      <td>36</td>\n",
       "      <td>3</td>\n",
       "      <td>ANNUAL</td>\n",
       "      <td>119199</td>\n",
       "      <td>0</td>\n",
       "      <td>20080313</td>\n",
       "      <td>NaN</td>\n",
       "    </tr>\n",
       "  </tbody>\n",
       "</table>\n",
       "</div>"
      ],
      "text/plain": [
       "   id  MEMBERSHIP_TERM_YEARS  ANNUAL_FEES MEMBER_MARITAL_STATUS MEMBER_GENDER  \\\n",
       "0   0                     22    100000.00                     M             M   \n",
       "1   1                     88    149029.58                   NaN             M   \n",
       "2   2                     93    102999.94                   NaN             M   \n",
       "3   3                     17    147576.48                     M             F   \n",
       "4   4                     39    100000.00                     M             M   \n",
       "\n",
       "   MEMBER_ANNUAL_INCOME  MEMBER_OCCUPATION_CD MEMBERSHIP_PACKAGE  \\\n",
       "0              450000.0                   1.0             TYPE-B   \n",
       "1                   NaN                   6.0             TYPE-A   \n",
       "2              600000.0                   1.0             TYPE-A   \n",
       "3              450000.0                   1.0             TYPE-A   \n",
       "4              600000.0                   1.0             TYPE-B   \n",
       "\n",
       "   MEMBER_AGE_AT_ISSUE  ADDITIONAL_MEMBERS PAYMENT_MODE AGENT_CODE  \\\n",
       "0                   27                   1       ANNUAL     666099   \n",
       "1                   75                   0       ANNUAL     132000   \n",
       "2                   49                   0       ANNUAL    1407177   \n",
       "3                   47                   3      MONTHLY     343344   \n",
       "4                   36                   3       ANNUAL     119199   \n",
       "\n",
       "   MEMBERSHIP_STATUS  START_DATE  END_DATE  \n",
       "0                  0    20091029       NaN  \n",
       "1                  0    20131014       NaN  \n",
       "2                  0    20130531       NaN  \n",
       "3                  0    20130331       NaN  \n",
       "4                  0    20080313       NaN  "
      ]
     },
     "execution_count": 4,
     "metadata": {},
     "output_type": "execute_result"
    }
   ],
   "source": [
    "df.head()"
   ]
  },
  {
   "cell_type": "code",
   "execution_count": 5,
   "id": "71f36e73-5be5-4a0c-93f5-1fbf18b8cee1",
   "metadata": {},
   "outputs": [
    {
     "name": "stdout",
     "output_type": "stream",
     "text": [
      "<class 'pandas.core.frame.DataFrame'>\n",
      "RangeIndex: 8807 entries, 0 to 8806\n",
      "Data columns (total 15 columns):\n",
      " #   Column                 Non-Null Count  Dtype  \n",
      "---  ------                 --------------  -----  \n",
      " 0   id                     8807 non-null   int64  \n",
      " 1   MEMBERSHIP_TERM_YEARS  8807 non-null   int64  \n",
      " 2   ANNUAL_FEES            8807 non-null   float64\n",
      " 3   MEMBER_MARITAL_STATUS  6597 non-null   object \n",
      " 4   MEMBER_GENDER          8305 non-null   object \n",
      " 5   MEMBER_ANNUAL_INCOME   7338 non-null   float64\n",
      " 6   MEMBER_OCCUPATION_CD   8773 non-null   float64\n",
      " 7   MEMBERSHIP_PACKAGE     8807 non-null   object \n",
      " 8   MEMBER_AGE_AT_ISSUE    8807 non-null   int64  \n",
      " 9   ADDITIONAL_MEMBERS     8807 non-null   int64  \n",
      " 10  PAYMENT_MODE           8807 non-null   object \n",
      " 11  AGENT_CODE             8807 non-null   object \n",
      " 12  MEMBERSHIP_STATUS      8807 non-null   int64  \n",
      " 13  START_DATE             8807 non-null   int64  \n",
      " 14  END_DATE               2671 non-null   float64\n",
      "dtypes: float64(4), int64(6), object(5)\n",
      "memory usage: 1.0+ MB\n"
     ]
    }
   ],
   "source": [
    "df.info()\n",
    "# 전체 데이터 중 누락되지 않은 데이터 Non-Null Count\n",
    "# 8807이 아닌 것은 누락된 결측치가 있는 것 이다."
   ]
  },
  {
   "cell_type": "code",
   "execution_count": 6,
   "id": "86c0af02-c328-405b-a3d9-5ea2aa8854ec",
   "metadata": {},
   "outputs": [
    {
     "data": {
      "text/html": [
       "<div>\n",
       "<style scoped>\n",
       "    .dataframe tbody tr th:only-of-type {\n",
       "        vertical-align: middle;\n",
       "    }\n",
       "\n",
       "    .dataframe tbody tr th {\n",
       "        vertical-align: top;\n",
       "    }\n",
       "\n",
       "    .dataframe thead th {\n",
       "        text-align: right;\n",
       "    }\n",
       "</style>\n",
       "<table border=\"1\" class=\"dataframe\">\n",
       "  <thead>\n",
       "    <tr style=\"text-align: right;\">\n",
       "      <th></th>\n",
       "      <th>id</th>\n",
       "      <th>MEMBERSHIP_TERM_YEARS</th>\n",
       "      <th>ANNUAL_FEES</th>\n",
       "      <th>MEMBER_ANNUAL_INCOME</th>\n",
       "      <th>MEMBER_OCCUPATION_CD</th>\n",
       "      <th>MEMBER_AGE_AT_ISSUE</th>\n",
       "      <th>ADDITIONAL_MEMBERS</th>\n",
       "      <th>MEMBERSHIP_STATUS</th>\n",
       "      <th>START_DATE</th>\n",
       "      <th>END_DATE</th>\n",
       "    </tr>\n",
       "  </thead>\n",
       "  <tbody>\n",
       "    <tr>\n",
       "      <th>count</th>\n",
       "      <td>8807.000000</td>\n",
       "      <td>8807.000000</td>\n",
       "      <td>8.807000e+03</td>\n",
       "      <td>7.338000e+03</td>\n",
       "      <td>8773.000000</td>\n",
       "      <td>8807.000000</td>\n",
       "      <td>8807.000000</td>\n",
       "      <td>8807.000000</td>\n",
       "      <td>8.807000e+03</td>\n",
       "      <td>2.671000e+03</td>\n",
       "    </tr>\n",
       "    <tr>\n",
       "      <th>mean</th>\n",
       "      <td>4403.000000</td>\n",
       "      <td>29.518451</td>\n",
       "      <td>1.806998e+05</td>\n",
       "      <td>1.375036e+06</td>\n",
       "      <td>1.711159</td>\n",
       "      <td>46.766322</td>\n",
       "      <td>1.412967</td>\n",
       "      <td>0.303281</td>\n",
       "      <td>2.010835e+07</td>\n",
       "      <td>2.011390e+07</td>\n",
       "    </tr>\n",
       "    <tr>\n",
       "      <th>std</th>\n",
       "      <td>2542.506244</td>\n",
       "      <td>22.584187</td>\n",
       "      <td>2.854986e+05</td>\n",
       "      <td>1.499773e+07</td>\n",
       "      <td>1.449801</td>\n",
       "      <td>13.909048</td>\n",
       "      <td>1.146395</td>\n",
       "      <td>0.459702</td>\n",
       "      <td>1.727042e+04</td>\n",
       "      <td>1.395780e+04</td>\n",
       "    </tr>\n",
       "    <tr>\n",
       "      <th>min</th>\n",
       "      <td>0.000000</td>\n",
       "      <td>9.000000</td>\n",
       "      <td>0.000000e+00</td>\n",
       "      <td>9.996000e+03</td>\n",
       "      <td>1.000000</td>\n",
       "      <td>0.000000</td>\n",
       "      <td>0.000000</td>\n",
       "      <td>0.000000</td>\n",
       "      <td>2.006091e+07</td>\n",
       "      <td>2.007083e+07</td>\n",
       "    </tr>\n",
       "    <tr>\n",
       "      <th>25%</th>\n",
       "      <td>2201.500000</td>\n",
       "      <td>12.000000</td>\n",
       "      <td>1.000000e+05</td>\n",
       "      <td>3.999960e+05</td>\n",
       "      <td>1.000000</td>\n",
       "      <td>37.000000</td>\n",
       "      <td>0.000000</td>\n",
       "      <td>0.000000</td>\n",
       "      <td>2.009123e+07</td>\n",
       "      <td>2.010121e+07</td>\n",
       "    </tr>\n",
       "    <tr>\n",
       "      <th>50%</th>\n",
       "      <td>4403.000000</td>\n",
       "      <td>19.000000</td>\n",
       "      <td>1.191941e+05</td>\n",
       "      <td>5.499960e+05</td>\n",
       "      <td>1.000000</td>\n",
       "      <td>46.000000</td>\n",
       "      <td>1.000000</td>\n",
       "      <td>0.000000</td>\n",
       "      <td>2.011011e+07</td>\n",
       "      <td>2.011121e+07</td>\n",
       "    </tr>\n",
       "    <tr>\n",
       "      <th>75%</th>\n",
       "      <td>6604.500000</td>\n",
       "      <td>37.000000</td>\n",
       "      <td>1.909890e+05</td>\n",
       "      <td>9.999960e+05</td>\n",
       "      <td>2.000000</td>\n",
       "      <td>57.000000</td>\n",
       "      <td>2.000000</td>\n",
       "      <td>1.000000</td>\n",
       "      <td>2.012123e+07</td>\n",
       "      <td>2.013020e+07</td>\n",
       "    </tr>\n",
       "    <tr>\n",
       "      <th>max</th>\n",
       "      <td>8806.000000</td>\n",
       "      <td>102.000000</td>\n",
       "      <td>1.010000e+07</td>\n",
       "      <td>1.000000e+09</td>\n",
       "      <td>6.000000</td>\n",
       "      <td>92.000000</td>\n",
       "      <td>3.000000</td>\n",
       "      <td>1.000000</td>\n",
       "      <td>2.013113e+07</td>\n",
       "      <td>2.013112e+07</td>\n",
       "    </tr>\n",
       "  </tbody>\n",
       "</table>\n",
       "</div>"
      ],
      "text/plain": [
       "                id  MEMBERSHIP_TERM_YEARS   ANNUAL_FEES  MEMBER_ANNUAL_INCOME  \\\n",
       "count  8807.000000            8807.000000  8.807000e+03          7.338000e+03   \n",
       "mean   4403.000000              29.518451  1.806998e+05          1.375036e+06   \n",
       "std    2542.506244              22.584187  2.854986e+05          1.499773e+07   \n",
       "min       0.000000               9.000000  0.000000e+00          9.996000e+03   \n",
       "25%    2201.500000              12.000000  1.000000e+05          3.999960e+05   \n",
       "50%    4403.000000              19.000000  1.191941e+05          5.499960e+05   \n",
       "75%    6604.500000              37.000000  1.909890e+05          9.999960e+05   \n",
       "max    8806.000000             102.000000  1.010000e+07          1.000000e+09   \n",
       "\n",
       "       MEMBER_OCCUPATION_CD  MEMBER_AGE_AT_ISSUE  ADDITIONAL_MEMBERS  \\\n",
       "count           8773.000000          8807.000000         8807.000000   \n",
       "mean               1.711159            46.766322            1.412967   \n",
       "std                1.449801            13.909048            1.146395   \n",
       "min                1.000000             0.000000            0.000000   \n",
       "25%                1.000000            37.000000            0.000000   \n",
       "50%                1.000000            46.000000            1.000000   \n",
       "75%                2.000000            57.000000            2.000000   \n",
       "max                6.000000            92.000000            3.000000   \n",
       "\n",
       "       MEMBERSHIP_STATUS    START_DATE      END_DATE  \n",
       "count        8807.000000  8.807000e+03  2.671000e+03  \n",
       "mean            0.303281  2.010835e+07  2.011390e+07  \n",
       "std             0.459702  1.727042e+04  1.395780e+04  \n",
       "min             0.000000  2.006091e+07  2.007083e+07  \n",
       "25%             0.000000  2.009123e+07  2.010121e+07  \n",
       "50%             0.000000  2.011011e+07  2.011121e+07  \n",
       "75%             1.000000  2.012123e+07  2.013020e+07  \n",
       "max             1.000000  2.013113e+07  2.013112e+07  "
      ]
     },
     "execution_count": 6,
     "metadata": {},
     "output_type": "execute_result"
    }
   ],
   "source": [
    "# 통계 요약\n",
    "df.describe()"
   ]
  },
  {
   "cell_type": "markdown",
   "id": "060c5ccd-4c23-430d-aad3-2d94a877e051",
   "metadata": {},
   "source": [
    "## Pandas 시각화"
   ]
  },
  {
   "cell_type": "code",
   "execution_count": null,
   "id": "f91392c6-ad13-49f9-91f8-fb2fb731b69e",
   "metadata": {},
   "outputs": [],
   "source": [
    "# 시각화는 개별 변수들을 이해하는 것이 목적"
   ]
  },
  {
   "cell_type": "code",
   "execution_count": 8,
   "id": "4842deba-530f-4832-9a77-66a4f2a7b061",
   "metadata": {},
   "outputs": [
    {
     "data": {
      "text/plain": [
       "0    6136\n",
       "1    2671\n",
       "Name: MEMBERSHIP_STATUS, dtype: int64"
      ]
     },
     "execution_count": 8,
     "metadata": {},
     "output_type": "execute_result"
    }
   ],
   "source": [
    "df['MEMBERSHIP_STATUS'].value_counts()\n",
    "# 유지 0\n",
    "# 탈퇴 1\n",
    "# 이것을 통해 목표변수를 찾는다."
   ]
  },
  {
   "cell_type": "code",
   "execution_count": 9,
   "id": "f31bea83-1bd6-4ebf-a061-5010cee20e66",
   "metadata": {},
   "outputs": [
    {
     "data": {
      "text/plain": [
       "<AxesSubplot:>"
      ]
     },
     "execution_count": 9,
     "metadata": {},
     "output_type": "execute_result"
    },
    {
     "data": {
      "image/png": "[encoded data removed]",
      "text/plain": [
       "<Figure size 640x480 with 1 Axes>"
      ]
     },
     "metadata": {},
     "output_type": "display_data"
    }
   ],
   "source": [
    "df['MEMBERSHIP_STATUS'].value_counts().plot(kind='barh')\n",
    "# 판다스의 자료구조이기 때문에 바로 plot을 걸 수 있다."
   ]
  },
  {
   "cell_type": "code",
   "execution_count": 10,
   "id": "3f2839e1-37fa-4cf3-999a-bd76cec41776",
   "metadata": {},
   "outputs": [
    {
     "data": {
      "text/plain": [
       "<AxesSubplot:ylabel='Frequency'>"
      ]
     },
     "execution_count": 10,
     "metadata": {},
     "output_type": "execute_result"
    },
    {
     "data": {
      "image/png": "[encoded data removed]",
      "text/plain": [
       "<Figure size 640x480 with 1 Axes>"
      ]
     },
     "metadata": {},
     "output_type": "display_data"
    }
   ],
   "source": [
    "df['MEMBERSHIP_TERM_YEARS'].plot(kind='hist')\n",
    "# 분포적인 특성 -> 20대에 치우쳐져 있음.. 이럴 때에는 정규분포로 바꿔주는 작업을 해줘야 한다."
   ]
  },
  {
   "cell_type": "code",
   "execution_count": 13,
   "id": "c56a90e9-2308-48a8-a241-114b6bc58920",
   "metadata": {},
   "outputs": [
    {
     "data": {
      "text/plain": [
       "<AxesSubplot:>"
      ]
     },
     "execution_count": 13,
     "metadata": {},
     "output_type": "execute_result"
    },
    {
     "data": {
      "image/png": "[encoded data removed]",
      "text/plain": [
       "<Figure size 432x288 with 1 Axes>"
      ]
     },
     "metadata": {
      "needs_background": "light"
     },
     "output_type": "display_data"
    }
   ],
   "source": [
    "df['MEMBERSHIP_TERM_YEARS'].plot(kind='box')\n",
    "# 봉우리가 하나이면 상자그림을 그리기가 괜찮은데, 봉우리가 2개 이상일 때 상자그림을 그리면 정보를 확인하기가 어려울 수 있다.(데이터의 피크치가 두개 이상인 것)"
   ]
  },
  {
   "cell_type": "code",
   "execution_count": 14,
   "id": "7245441d-8ed2-40de-af6a-0cc1c02a4818",
   "metadata": {},
   "outputs": [
    {
     "data": {
      "text/plain": [
       "<AxesSubplot:ylabel='Density'>"
      ]
     },
     "execution_count": 14,
     "metadata": {},
     "output_type": "execute_result"
    },
    {
     "data": {
      "image/png": "[encoded data removed]",
      "text/plain": [
       "<Figure size 432x288 with 1 Axes>"
      ]
     },
     "metadata": {
      "needs_background": "light"
     },
     "output_type": "display_data"
    }
   ],
   "source": [
    "df['MEMBERSHIP_TERM_YEARS'].plot(kind='kde')"
   ]
  },
  {
   "cell_type": "code",
   "execution_count": 11,
   "id": "edfb75c0-8eb5-4925-815c-53a84abb6857",
   "metadata": {},
   "outputs": [
    {
     "data": {
      "text/plain": [
       "array([[<AxesSubplot:title={'center':'id'}>,\n",
       "        <AxesSubplot:title={'center':'MEMBERSHIP_TERM_YEARS'}>,\n",
       "        <AxesSubplot:title={'center':'ANNUAL_FEES'}>],\n",
       "       [<AxesSubplot:title={'center':'MEMBER_ANNUAL_INCOME'}>,\n",
       "        <AxesSubplot:title={'center':'MEMBER_OCCUPATION_CD'}>,\n",
       "        <AxesSubplot:title={'center':'MEMBER_AGE_AT_ISSUE'}>],\n",
       "       [<AxesSubplot:title={'center':'ADDITIONAL_MEMBERS'}>,\n",
       "        <AxesSubplot:title={'center':'MEMBERSHIP_STATUS'}>,\n",
       "        <AxesSubplot:title={'center':'START_DATE'}>],\n",
       "       [<AxesSubplot:title={'center':'END_DATE'}>, <AxesSubplot:>,\n",
       "        <AxesSubplot:>]], dtype=object)"
      ]
     },
     "execution_count": 11,
     "metadata": {},
     "output_type": "execute_result"
    },
    {
     "data": {
      "image/png": "[encoded data removed]",
      "text/plain": [
       "<Figure size 2000x2000 with 12 Axes>"
      ]
     },
     "metadata": {},
     "output_type": "display_data"
    }
   ],
   "source": [
    "# hist 모든 히스토 그램 그려줌\n",
    "df.hist(figsize=(20, 20))"
   ]
  },
  {
   "cell_type": "markdown",
   "id": "57423a3a-01f2-4a1d-872a-b50ff1e6baf0",
   "metadata": {},
   "source": [
    "# 여러 개의 그래프를 동시에 표시 - subplot 사용법"
   ]
  },
  {
   "cell_type": "code",
   "execution_count": 16,
   "id": "d33a764a-1bcf-4916-a6a3-95757858e4ff",
   "metadata": {},
   "outputs": [
    {
     "data": {
      "image/png": "[encoded data removed]",
      "text/plain": [
       "<Figure size 1080x288 with 2 Axes>"
      ]
     },
     "metadata": {
      "needs_background": "light"
     },
     "output_type": "display_data"
    }
   ],
   "source": [
    "# MATLAB 스타일\n",
    "\n",
    "plt.figure(figsize=(15, 4))\n",
    "\n",
    "plt.subplot(1, 2, 1)      # 세로 개수, 가로 개수, 차트 순서\n",
    "df['MEMBERSHIP_TERM_YEARS'].plot(kind='box')\n",
    "\n",
    "plt.subplot(1, 2, 2)\n",
    "df['MEMBERSHIP_TERM_YEARS'].plot(kind='hist')\n",
    "\n",
    "plt.show()"
   ]
  },
  {
   "cell_type": "code",
   "execution_count": 17,
   "id": "6f6c5b2d-fe72-47f6-a3de-4bd778fe97f9",
   "metadata": {},
   "outputs": [
    {
     "data": {
      "image/png": "[encoded data removed]",
      "text/plain": [
       "<Figure size 576x288 with 6 Axes>"
      ]
     },
     "metadata": {
      "needs_background": "light"
     },
     "output_type": "display_data"
    }
   ],
   "source": [
    "# 객체지향 스타일\n",
    "\n",
    "fig, axes = plt.subplots(3, 2, figsize=(8, 4)) \n",
    "\n",
    "df['MEMBERSHIP_TERM_YEARS'].plot(kind='box', ax=axes[0, 0])\n",
    "df['MEMBERSHIP_TERM_YEARS'].plot(kind='hist', ax=axes[0, 1])\n",
    "\n",
    "plt.show()"
   ]
  },
  {
   "cell_type": "markdown",
   "id": "603760c9-6a90-4c40-9ebd-23703c6c6351",
   "metadata": {},
   "source": [
    "# Seaborn 시각화"
   ]
  },
  {
   "cell_type": "markdown",
   "id": "36a3943d-685c-4287-9382-c75c2c42668a",
   "metadata": {},
   "source": [
    "## 범주형 변수의 수량을 시각화"
   ]
  },
  {
   "cell_type": "code",
   "execution_count": 18,
   "id": "98257b33-952b-4e4d-982d-9e0f649d763a",
   "metadata": {},
   "outputs": [],
   "source": [
    "# 범주는 수량을 시각화 하는 것 \n",
    "categorical_cols = ['MEMBER_MARITAL_STATUS', 'MEMBER_GENDER', \n",
    "                    'MEMBERSHIP_PACKAGE', 'MEMBER_OCCUPATION_CD', \n",
    "                    'PAYMENT_MODE', 'AGENT_CODE', 'MEMBERSHIP_STATUS',\n",
    "                   ]"
   ]
  },
  {
   "cell_type": "markdown",
   "id": "e40051d2-4c29-49ed-834f-449d2464890b",
   "metadata": {},
   "source": [
    "### Count Plot  "
   ]
  },
  {
   "cell_type": "code",
   "execution_count": 19,
   "id": "ba77901f-fdf7-44a2-aae3-c4bfb7828678",
   "metadata": {},
   "outputs": [
    {
     "data": {
      "text/plain": [
       "array([0, 1], dtype=int64)"
      ]
     },
     "execution_count": 19,
     "metadata": {},
     "output_type": "execute_result"
    }
   ],
   "source": [
    "df['MEMBERSHIP_STATUS'].unique()"
   ]
  },
  {
   "cell_type": "code",
   "execution_count": 20,
   "id": "c0d9eae0-d5ec-4a4e-be76-0c439ce9008e",
   "metadata": {},
   "outputs": [
    {
     "data": {
      "text/plain": [
       "2"
      ]
     },
     "execution_count": 20,
     "metadata": {},
     "output_type": "execute_result"
    }
   ],
   "source": [
    "df['MEMBERSHIP_STATUS'].nunique()"
   ]
  },
  {
   "cell_type": "code",
   "execution_count": 21,
   "id": "3772978c-ff1d-4d07-94de-7af9e60ad6ab",
   "metadata": {},
   "outputs": [
    {
     "data": {
      "text/plain": [
       "0    6136\n",
       "1    2671\n",
       "Name: MEMBERSHIP_STATUS, dtype: int64"
      ]
     },
     "execution_count": 21,
     "metadata": {},
     "output_type": "execute_result"
    }
   ],
   "source": [
    "df['MEMBERSHIP_STATUS'].value_counts()"
   ]
  },
  {
   "cell_type": "code",
   "execution_count": 12,
   "id": "1de933d0-4057-46dc-9ed4-18cb192b1806",
   "metadata": {},
   "outputs": [
    {
     "data": {
      "image/png": "[encoded data removed]",
      "text/plain": [
       "<Figure size 640x480 with 1 Axes>"
      ]
     },
     "metadata": {},
     "output_type": "display_data"
    }
   ],
   "source": [
    "sns.countplot(x='MEMBERSHIP_STATUS', data=df);"
   ]
  },
  {
   "cell_type": "code",
   "execution_count": 23,
   "id": "541f31f1-727e-4cd3-bcc6-1386ccfea9e5",
   "metadata": {},
   "outputs": [
    {
     "data": {
      "image/png": "[encoded data removed]",
      "text/plain": [
       "<Figure size 432x288 with 1 Axes>"
      ]
     },
     "metadata": {
      "needs_background": "light"
     },
     "output_type": "display_data"
    }
   ],
   "source": [
    "# hue='MEMBER_MARITAL_STATUS' 회원들의 결혼 유무 / hue - 색상값\n",
    "sns.countplot(x='MEMBERSHIP_STATUS', hue='MEMBER_MARITAL_STATUS', data=df);"
   ]
  },
  {
   "cell_type": "code",
   "execution_count": 24,
   "id": "f1caa748-aec3-4e86-842c-499830d7e383",
   "metadata": {},
   "outputs": [
    {
     "data": {
      "image/png": "[encoded data removed]",
      "text/plain": [
       "<Figure size 432x288 with 1 Axes>"
      ]
     },
     "metadata": {
      "needs_background": "light"
     },
     "output_type": "display_data"
    }
   ],
   "source": [
    "sns.countplot(y='MEMBER_MARITAL_STATUS', hue='MEMBERSHIP_STATUS', data=df);"
   ]
  },
  {
   "cell_type": "markdown",
   "id": "db64862b-69e9-4bcd-89d3-3096ac676b01",
   "metadata": {},
   "source": [
    "## Quiz  \n",
    "다른 범주형 변수를 찾아서, countplot으로 데이터의 수량을 시각화합니다. "
   ]
  },
  {
   "cell_type": "code",
   "execution_count": null,
   "id": "f96c72cd-21e5-4bd4-90f8-4e7b1ca44f0b",
   "metadata": {},
   "outputs": [],
   "source": []
  },
  {
   "cell_type": "code",
   "execution_count": null,
   "id": "76c23492-a118-42e5-9f67-7c6effaa4728",
   "metadata": {},
   "outputs": [],
   "source": []
  },
  {
   "cell_type": "code",
   "execution_count": null,
   "id": "689925c0-9bba-49e8-bed1-bbbad581f5af",
   "metadata": {},
   "outputs": [],
   "source": []
  },
  {
   "cell_type": "markdown",
   "id": "cb71344c-4f51-4c61-8af4-12fdca25357b",
   "metadata": {},
   "source": [
    "## 연속형 변수의 분포를 시각화"
   ]
  },
  {
   "cell_type": "code",
   "execution_count": 25,
   "id": "cdec9d7d-eaa9-4050-a662-294121949064",
   "metadata": {},
   "outputs": [],
   "source": [
    "numeric_cols = ['MEMBERSHIP_TERM_YEARS','ANNUAL_FEES','MEMBER_ANNUAL_INCOME',\n",
    "                'MEMBER_AGE_AT_ISSUE','ADDITIONAL_MEMBERS',\n",
    "                'START_DATE (YYYYMMDD)','END_DATE  (YYYYMMDD)']"
   ]
  },
  {
   "cell_type": "markdown",
   "id": "1a607e16-fee6-446d-8921-52e2d24b8bd5",
   "metadata": {},
   "source": [
    "### Distribution Plot"
   ]
  },
  {
   "cell_type": "code",
   "execution_count": 26,
   "id": "0b2f1120-a959-4d84-86d5-1ec7490e70db",
   "metadata": {},
   "outputs": [
    {
     "data": {
      "image/png": "[encoded data removed]",
      "text/plain": [
       "<Figure size 360x360 with 1 Axes>"
      ]
     },
     "metadata": {
      "needs_background": "light"
     },
     "output_type": "display_data"
    }
   ],
   "source": [
    "sns.displot(x='MEMBER_AGE_AT_ISSUE', data=df);"
   ]
  },
  {
   "cell_type": "code",
   "execution_count": 27,
   "id": "9364560a-8219-496e-970c-622125ab1060",
   "metadata": {},
   "outputs": [
    {
     "data": {
      "image/png": "[encoded data removed]",
      "text/plain": [
       "<Figure size 360x360 with 1 Axes>"
      ]
     },
     "metadata": {
      "needs_background": "light"
     },
     "output_type": "display_data"
    }
   ],
   "source": [
    "sns.displot(x='MEMBER_AGE_AT_ISSUE', data=df, bins=10);"
   ]
  },
  {
   "cell_type": "code",
   "execution_count": 28,
   "id": "81fcb7c4-c70a-42d2-b5e2-308698e703d0",
   "metadata": {},
   "outputs": [
    {
     "data": {
      "image/png": "[encoded data removed]",
      "text/plain": [
       "<Figure size 360x360 with 1 Axes>"
      ]
     },
     "metadata": {
      "needs_background": "light"
     },
     "output_type": "display_data"
    }
   ],
   "source": [
    "sns.displot(x='MEMBER_AGE_AT_ISSUE', kind='kde', data=df);"
   ]
  },
  {
   "cell_type": "code",
   "execution_count": 29,
   "id": "2ae5f24c-066b-4740-9fb8-acfa71e6165f",
   "metadata": {},
   "outputs": [
    {
     "data": {
      "image/png": "[encoded data removed]",
      "text/plain": [
       "<Figure size 360x360 with 1 Axes>"
      ]
     },
     "metadata": {
      "needs_background": "light"
     },
     "output_type": "display_data"
    }
   ],
   "source": [
    "sns.displot(x='MEMBER_AGE_AT_ISSUE', kind='kde', data=df, bw_adjust=0.3);"
   ]
  },
  {
   "cell_type": "code",
   "execution_count": 34,
   "id": "bb28e52f-8bf8-4475-a45d-e340b589b716",
   "metadata": {},
   "outputs": [
    {
     "data": {
      "image/png": "[encoded data removed]",
      "text/plain": [
       "<Figure size 476.375x360 with 1 Axes>"
      ]
     },
     "metadata": {
      "needs_background": "light"
     },
     "output_type": "display_data"
    }
   ],
   "source": [
    "sns.displot(x='MEMBER_AGE_AT_ISSUE', hue='MEMBERSHIP_STATUS', data=df, bins=10, multiple='stack');\n",
    "# 전체 고객을 유지고객과 해약고객으로 나누어서 표현하려고 했더니 잘 보이지 않아서 multiple 조건을 넣어주었다."
   ]
  },
  {
   "cell_type": "code",
   "execution_count": 35,
   "id": "cc5dd95f-17d7-46b5-96df-76c026f72e7b",
   "metadata": {},
   "outputs": [
    {
     "data": {
      "image/png": "[encoded data removed]",
      "text/plain": [
       "<Figure size 476.375x360 with 1 Axes>"
      ]
     },
     "metadata": {
      "needs_background": "light"
     },
     "output_type": "display_data"
    }
   ],
   "source": [
    "sns.displot(x='MEMBER_AGE_AT_ISSUE', hue='MEMBERSHIP_STATUS', kind='kde', data=df);"
   ]
  },
  {
   "cell_type": "code",
   "execution_count": 36,
   "id": "c0a7339f-114b-424a-932a-c0806cb38c46",
   "metadata": {},
   "outputs": [
    {
     "data": {
      "image/png": "[encoded data removed]",
      "text/plain": [
       "<Figure size 836.375x720 with 4 Axes>"
      ]
     },
     "metadata": {
      "needs_background": "light"
     },
     "output_type": "display_data"
    }
   ],
   "source": [
    "sns.displot(row='MEMBER_GENDER', col='MEMBERSHIP_PACKAGE', x='START_DATE', hue='MEMBERSHIP_STATUS', kind='hist', data=df);\n",
    "# 여러개의 그룹으로 나누어서 분석하는 것을 각각 시각화 하는 것이 있고, 나누어서 분석하는 부분을 도와주는 기능이 seabon에서는 존재한다."
   ]
  },
  {
   "cell_type": "markdown",
   "id": "e72a1a95-efc0-4c2e-a8a4-9cc40c2c3c86",
   "metadata": {},
   "source": [
    "## Box Plot"
   ]
  },
  {
   "cell_type": "code",
   "execution_count": 38,
   "id": "e44f3303-5b46-45aa-8f9d-a0dbf7f3438f",
   "metadata": {},
   "outputs": [
    {
     "data": {
      "image/png": "[encoded data removed]",
      "text/plain": [
       "<Figure size 432x288 with 1 Axes>"
      ]
     },
     "metadata": {
      "needs_background": "light"
     },
     "output_type": "display_data"
    }
   ],
   "source": [
    "sns.boxplot(x='MEMBERSHIP_TERM_YEARS', data=df, palette='Accent');"
   ]
  },
  {
   "cell_type": "code",
   "execution_count": 39,
   "id": "3d7d87b8-2ef1-4903-955b-c472463bfb76",
   "metadata": {},
   "outputs": [
    {
     "data": {
      "image/png": "[encoded data removed]",
      "text/plain": [
       "<Figure size 432x288 with 1 Axes>"
      ]
     },
     "metadata": {
      "needs_background": "light"
     },
     "output_type": "display_data"
    }
   ],
   "source": [
    "sns.boxplot(x='MEMBERSHIP_STATUS', y='MEMBERSHIP_TERM_YEARS', data=df, palette=\"PRGn\");"
   ]
  },
  {
   "cell_type": "code",
   "execution_count": 40,
   "id": "0de748fd-2aa6-4fc9-9a69-8128882dcbb5",
   "metadata": {},
   "outputs": [
    {
     "data": {
      "image/png": "[encoded data removed]",
      "text/plain": [
       "<Figure size 432x288 with 1 Axes>"
      ]
     },
     "metadata": {
      "needs_background": "light"
     },
     "output_type": "display_data"
    }
   ],
   "source": [
    "sns.boxplot(x='MEMBERSHIP_STATUS', y='MEMBERSHIP_TERM_YEARS', hue=\"MEMBERSHIP_STATUS\", data=df, palette=\"PRGn\")\n",
    "\n",
    "plt.legend(loc=\"upper right\")\n",
    "plt.show()"
   ]
  },
  {
   "cell_type": "markdown",
   "id": "64842d67-6409-4f3d-89e2-3872f7237f2e",
   "metadata": {},
   "source": [
    "## Violin Plot"
   ]
  },
  {
   "cell_type": "code",
   "execution_count": 41,
   "id": "d1d9d9f2-04f2-4a94-b2ea-af283e23741b",
   "metadata": {},
   "outputs": [
    {
     "data": {
      "image/png": "[encoded data removed]",
      "text/plain": [
       "<Figure size 432x288 with 1 Axes>"
      ]
     },
     "metadata": {
      "needs_background": "light"
     },
     "output_type": "display_data"
    }
   ],
   "source": [
    "sns.violinplot(x='PAYMENT_MODE', y='ANNUAL_FEES', hue=\"MEMBERSHIP_STATUS\", data=df, palette=\"PRGn\")\n",
    "plt.legend(loc=\"upper right\")\n",
    "plt.show()"
   ]
  },
  {
   "cell_type": "markdown",
   "id": "b70ff973-f440-4ca8-aeb4-7bd0521a0592",
   "metadata": {},
   "source": [
    "## Strip Plot"
   ]
  },
  {
   "cell_type": "code",
   "execution_count": 42,
   "id": "fe8f8b15-0046-4d29-a6f4-d4b7d4d106af",
   "metadata": {},
   "outputs": [
    {
     "data": {
      "image/png": "[encoded data removed]",
      "text/plain": [
       "<Figure size 432x288 with 1 Axes>"
      ]
     },
     "metadata": {
      "needs_background": "light"
     },
     "output_type": "display_data"
    }
   ],
   "source": [
    "sns.stripplot(x='MEMBER_GENDER', y='ANNUAL_FEES', hue=\"MEMBERSHIP_STATUS\", data=df, palette=\"PRGn\")\n",
    "plt.legend(loc=\"upper right\")\n",
    "plt.show()"
   ]
  },
  {
   "cell_type": "markdown",
   "id": "4440f837-b872-4314-ac16-432825c3def8",
   "metadata": {},
   "source": [
    "## Bar Plot"
   ]
  },
  {
   "cell_type": "code",
   "execution_count": 43,
   "id": "7e454996-0797-4ed7-83e4-26238d61bff3",
   "metadata": {},
   "outputs": [
    {
     "data": {
      "image/png": "[encoded data removed]",
      "text/plain": [
       "<Figure size 432x288 with 1 Axes>"
      ]
     },
     "metadata": {
      "needs_background": "light"
     },
     "output_type": "display_data"
    }
   ],
   "source": [
    "sns.barplot(x='MEMBER_OCCUPATION_CD', y='MEMBERSHIP_TERM_YEARS', data=df);"
   ]
  },
  {
   "cell_type": "code",
   "execution_count": 44,
   "id": "df8c9cfc-e791-408e-b911-e3b50b0fb75d",
   "metadata": {},
   "outputs": [
    {
     "data": {
      "text/plain": [
       "Float64Index([6.0, 2.0, 1.0, 4.0, 5.0, 3.0], dtype='float64', name='MEMBER_OCCUPATION_CD')"
      ]
     },
     "execution_count": 44,
     "metadata": {},
     "output_type": "execute_result"
    }
   ],
   "source": [
    "# 데이터 정렬\n",
    "\n",
    "sorted_index = df.loc[:, ['MEMBER_OCCUPATION_CD', 'MEMBERSHIP_TERM_YEARS']].groupby('MEMBER_OCCUPATION_CD').mean().sort_values(by='MEMBERSHIP_TERM_YEARS', ascending=False).index\n",
    "sorted_index"
   ]
  },
  {
   "cell_type": "code",
   "execution_count": 45,
   "id": "465fe507-fbc6-47a1-b0eb-927973174820",
   "metadata": {},
   "outputs": [
    {
     "data": {
      "image/png": "[encoded data removed]",
      "text/plain": [
       "<Figure size 432x288 with 1 Axes>"
      ]
     },
     "metadata": {
      "needs_background": "light"
     },
     "output_type": "display_data"
    }
   ],
   "source": [
    "sns.barplot(x='MEMBER_OCCUPATION_CD', y='MEMBERSHIP_TERM_YEARS', data=df, order=sorted_index);"
   ]
  },
  {
   "cell_type": "code",
   "execution_count": 46,
   "id": "4bc9a5c4-034f-4af5-9580-5cbb831fdb69",
   "metadata": {},
   "outputs": [
    {
     "data": {
      "image/png": "[encoded data removed]",
      "text/plain": [
       "<Figure size 432x288 with 1 Axes>"
      ]
     },
     "metadata": {
      "needs_background": "light"
     },
     "output_type": "display_data"
    }
   ],
   "source": [
    "sns.barplot(x='MEMBER_OCCUPATION_CD', y='MEMBERSHIP_TERM_YEARS', hue='MEMBERSHIP_STATUS', data=df);"
   ]
  },
  {
   "cell_type": "markdown",
   "id": "4136dcfc-bfaa-444a-b880-a0bbf4522f96",
   "metadata": {},
   "source": [
    "## Scatter Plot"
   ]
  },
  {
   "cell_type": "code",
   "execution_count": 47,
   "id": "69179434-3582-47d2-9961-e8b71252463c",
   "metadata": {},
   "outputs": [
    {
     "data": {
      "image/png": "[encoded data removed]",
      "text/plain": [
       "<Figure size 432x288 with 1 Axes>"
      ]
     },
     "metadata": {
      "needs_background": "light"
     },
     "output_type": "display_data"
    }
   ],
   "source": [
    "sns.scatterplot(x='MEMBERSHIP_TERM_YEARS', y='ANNUAL_FEES', data=df)\n",
    "plt.show()"
   ]
  },
  {
   "cell_type": "markdown",
   "id": "21a5e3b4-acf1-40b4-94dc-5358cb78b02a",
   "metadata": {},
   "source": [
    "## LM Plot"
   ]
  },
  {
   "cell_type": "code",
   "execution_count": 48,
   "id": "6d941e7b-d837-4b53-89cb-847aed93df3e",
   "metadata": {},
   "outputs": [
    {
     "data": {
      "image/png": "[encoded data removed]",
      "text/plain": [
       "<Figure size 360x360 with 1 Axes>"
      ]
     },
     "metadata": {
      "needs_background": "light"
     },
     "output_type": "display_data"
    }
   ],
   "source": [
    "sns.lmplot(x='MEMBER_ANNUAL_INCOME', y='ANNUAL_FEES', data=df)\n",
    "plt.show()"
   ]
  },
  {
   "cell_type": "markdown",
   "id": "e062ba4e-e203-41d2-a458-0708112deb78",
   "metadata": {},
   "source": [
    "## KDE Plot"
   ]
  },
  {
   "cell_type": "code",
   "execution_count": 51,
   "id": "655a943c-d85c-4328-a4a5-c16fdfd89a03",
   "metadata": {},
   "outputs": [
    {
     "data": {
      "image/png": "[encoded data removed]",
      "text/plain": [
       "<Figure size 432x288 with 1 Axes>"
      ]
     },
     "metadata": {
      "needs_background": "light"
     },
     "output_type": "display_data"
    }
   ],
   "source": [
    "sns.kdeplot(x='MEMBERSHIP_TERM_YEARS', y='ANNUAL_FEES', data=df.sample(2000));"
   ]
  },
  {
   "cell_type": "markdown",
   "id": "9a2d8e87-987b-4b4b-825c-046588e01321",
   "metadata": {},
   "source": [
    "## Joint Plot"
   ]
  },
  {
   "cell_type": "code",
   "execution_count": 52,
   "id": "0d656094-fbe5-44bd-9348-388ad14612ff",
   "metadata": {},
   "outputs": [
    {
     "data": {
      "text/plain": [
       "<seaborn.axisgrid.JointGrid at 0x1e7a49260b8>"
      ]
     },
     "execution_count": 52,
     "metadata": {},
     "output_type": "execute_result"
    },
    {
     "data": {
      "image/png": "[encoded data removed]",
      "text/plain": [
       "<Figure size 432x432 with 3 Axes>"
      ]
     },
     "metadata": {
      "needs_background": "light"
     },
     "output_type": "display_data"
    }
   ],
   "source": [
    "sns.jointplot(x='MEMBERSHIP_TERM_YEARS', y='ANNUAL_FEES', data=df.sample(2000))"
   ]
  },
  {
   "cell_type": "markdown",
   "id": "4e77b51b-389b-4dfd-aea7-7063baf50619",
   "metadata": {},
   "source": [
    "# 데이터 전처리2 \n",
    " \n",
    "- 필터링, 정제, 변환"
   ]
  },
  {
   "cell_type": "markdown",
   "id": "48fe65c9-5347-496b-bfd3-21c87bc1d0d9",
   "metadata": {},
   "source": [
    "### 행 필터 (불린 인덱싱)"
   ]
  },
  {
   "cell_type": "code",
   "execution_count": 53,
   "id": "8a356905-2b9d-4511-803b-793e2c6cf2e7",
   "metadata": {},
   "outputs": [
    {
     "data": {
      "text/plain": [
       "0        True\n",
       "1        True\n",
       "2        True\n",
       "3       False\n",
       "4        True\n",
       "        ...  \n",
       "8802    False\n",
       "8803     True\n",
       "8804     True\n",
       "8805     True\n",
       "8806     True\n",
       "Name: MEMBER_GENDER, Length: 8807, dtype: bool"
      ]
     },
     "execution_count": 53,
     "metadata": {},
     "output_type": "execute_result"
    }
   ],
   "source": [
    "df['MEMBER_GENDER'] == \"M\""
   ]
  },
  {
   "cell_type": "code",
   "execution_count": 54,
   "id": "d68e80f3-c3ed-4cc1-a2c0-cf8aef50dfae",
   "metadata": {},
   "outputs": [
    {
     "data": {
      "text/html": [
       "<div>\n",
       "<style scoped>\n",
       "    .dataframe tbody tr th:only-of-type {\n",
       "        vertical-align: middle;\n",
       "    }\n",
       "\n",
       "    .dataframe tbody tr th {\n",
       "        vertical-align: top;\n",
       "    }\n",
       "\n",
       "    .dataframe thead th {\n",
       "        text-align: right;\n",
       "    }\n",
       "</style>\n",
       "<table border=\"1\" class=\"dataframe\">\n",
       "  <thead>\n",
       "    <tr style=\"text-align: right;\">\n",
       "      <th></th>\n",
       "      <th>id</th>\n",
       "      <th>MEMBERSHIP_TERM_YEARS</th>\n",
       "      <th>ANNUAL_FEES</th>\n",
       "      <th>MEMBER_MARITAL_STATUS</th>\n",
       "      <th>MEMBER_GENDER</th>\n",
       "      <th>MEMBER_ANNUAL_INCOME</th>\n",
       "      <th>MEMBER_OCCUPATION_CD</th>\n",
       "      <th>MEMBERSHIP_PACKAGE</th>\n",
       "      <th>MEMBER_AGE_AT_ISSUE</th>\n",
       "      <th>ADDITIONAL_MEMBERS</th>\n",
       "      <th>PAYMENT_MODE</th>\n",
       "      <th>AGENT_CODE</th>\n",
       "      <th>MEMBERSHIP_STATUS</th>\n",
       "      <th>START_DATE</th>\n",
       "      <th>END_DATE</th>\n",
       "    </tr>\n",
       "  </thead>\n",
       "  <tbody>\n",
       "    <tr>\n",
       "      <th>3</th>\n",
       "      <td>3</td>\n",
       "      <td>17</td>\n",
       "      <td>147576.48</td>\n",
       "      <td>M</td>\n",
       "      <td>F</td>\n",
       "      <td>450000.0</td>\n",
       "      <td>1.0</td>\n",
       "      <td>TYPE-A</td>\n",
       "      <td>47</td>\n",
       "      <td>3</td>\n",
       "      <td>MONTHLY</td>\n",
       "      <td>343344</td>\n",
       "      <td>0</td>\n",
       "      <td>20130331</td>\n",
       "      <td>NaN</td>\n",
       "    </tr>\n",
       "    <tr>\n",
       "      <th>5</th>\n",
       "      <td>5</td>\n",
       "      <td>27</td>\n",
       "      <td>100001.00</td>\n",
       "      <td>NaN</td>\n",
       "      <td>NaN</td>\n",
       "      <td>NaN</td>\n",
       "      <td>1.0</td>\n",
       "      <td>TYPE-B</td>\n",
       "      <td>59</td>\n",
       "      <td>0</td>\n",
       "      <td>ANNUAL</td>\n",
       "      <td>802744</td>\n",
       "      <td>1</td>\n",
       "      <td>20100106</td>\n",
       "      <td>20110307.0</td>\n",
       "    </tr>\n",
       "    <tr>\n",
       "      <th>11</th>\n",
       "      <td>11</td>\n",
       "      <td>17</td>\n",
       "      <td>100000.06</td>\n",
       "      <td>M</td>\n",
       "      <td>F</td>\n",
       "      <td>499992.0</td>\n",
       "      <td>1.0</td>\n",
       "      <td>TYPE-A</td>\n",
       "      <td>43</td>\n",
       "      <td>3</td>\n",
       "      <td>ANNUAL</td>\n",
       "      <td>1268822</td>\n",
       "      <td>0</td>\n",
       "      <td>20130530</td>\n",
       "      <td>NaN</td>\n",
       "    </tr>\n",
       "    <tr>\n",
       "      <th>15</th>\n",
       "      <td>15</td>\n",
       "      <td>36</td>\n",
       "      <td>100000.00</td>\n",
       "      <td>S</td>\n",
       "      <td>F</td>\n",
       "      <td>300000.0</td>\n",
       "      <td>1.0</td>\n",
       "      <td>TYPE-B</td>\n",
       "      <td>58</td>\n",
       "      <td>0</td>\n",
       "      <td>ANNUAL</td>\n",
       "      <td>900622</td>\n",
       "      <td>0</td>\n",
       "      <td>20100831</td>\n",
       "      <td>NaN</td>\n",
       "    </tr>\n",
       "    <tr>\n",
       "      <th>19</th>\n",
       "      <td>19</td>\n",
       "      <td>21</td>\n",
       "      <td>101000.00</td>\n",
       "      <td>W</td>\n",
       "      <td>F</td>\n",
       "      <td>368004.0</td>\n",
       "      <td>1.0</td>\n",
       "      <td>TYPE-B</td>\n",
       "      <td>74</td>\n",
       "      <td>0</td>\n",
       "      <td>ANNUAL</td>\n",
       "      <td>936822</td>\n",
       "      <td>0</td>\n",
       "      <td>20100615</td>\n",
       "      <td>NaN</td>\n",
       "    </tr>\n",
       "    <tr>\n",
       "      <th>...</th>\n",
       "      <td>...</td>\n",
       "      <td>...</td>\n",
       "      <td>...</td>\n",
       "      <td>...</td>\n",
       "      <td>...</td>\n",
       "      <td>...</td>\n",
       "      <td>...</td>\n",
       "      <td>...</td>\n",
       "      <td>...</td>\n",
       "      <td>...</td>\n",
       "      <td>...</td>\n",
       "      <td>...</td>\n",
       "      <td>...</td>\n",
       "      <td>...</td>\n",
       "      <td>...</td>\n",
       "    </tr>\n",
       "    <tr>\n",
       "      <th>8786</th>\n",
       "      <td>8786</td>\n",
       "      <td>22</td>\n",
       "      <td>120000.96</td>\n",
       "      <td>M</td>\n",
       "      <td>F</td>\n",
       "      <td>249996.0</td>\n",
       "      <td>1.0</td>\n",
       "      <td>TYPE-B</td>\n",
       "      <td>37</td>\n",
       "      <td>3</td>\n",
       "      <td>MONTHLY</td>\n",
       "      <td>809422</td>\n",
       "      <td>0</td>\n",
       "      <td>20091123</td>\n",
       "      <td>NaN</td>\n",
       "    </tr>\n",
       "    <tr>\n",
       "      <th>8793</th>\n",
       "      <td>8793</td>\n",
       "      <td>9</td>\n",
       "      <td>120000.96</td>\n",
       "      <td>M</td>\n",
       "      <td>F</td>\n",
       "      <td>249996.0</td>\n",
       "      <td>1.0</td>\n",
       "      <td>TYPE-B</td>\n",
       "      <td>25</td>\n",
       "      <td>3</td>\n",
       "      <td>MONTHLY</td>\n",
       "      <td>259355</td>\n",
       "      <td>0</td>\n",
       "      <td>20090313</td>\n",
       "      <td>NaN</td>\n",
       "    </tr>\n",
       "    <tr>\n",
       "      <th>8797</th>\n",
       "      <td>8797</td>\n",
       "      <td>22</td>\n",
       "      <td>119999.88</td>\n",
       "      <td>M</td>\n",
       "      <td>F</td>\n",
       "      <td>380004.0</td>\n",
       "      <td>5.0</td>\n",
       "      <td>TYPE-B</td>\n",
       "      <td>46</td>\n",
       "      <td>3</td>\n",
       "      <td>MONTHLY</td>\n",
       "      <td>639666</td>\n",
       "      <td>1</td>\n",
       "      <td>20090331</td>\n",
       "      <td>20090727.0</td>\n",
       "    </tr>\n",
       "    <tr>\n",
       "      <th>8800</th>\n",
       "      <td>8800</td>\n",
       "      <td>31</td>\n",
       "      <td>120000.96</td>\n",
       "      <td>W</td>\n",
       "      <td>F</td>\n",
       "      <td>300000.0</td>\n",
       "      <td>1.0</td>\n",
       "      <td>TYPE-B</td>\n",
       "      <td>59</td>\n",
       "      <td>0</td>\n",
       "      <td>MONTHLY</td>\n",
       "      <td>183611</td>\n",
       "      <td>1</td>\n",
       "      <td>20100304</td>\n",
       "      <td>20100703.0</td>\n",
       "    </tr>\n",
       "    <tr>\n",
       "      <th>8802</th>\n",
       "      <td>8802</td>\n",
       "      <td>17</td>\n",
       "      <td>100000.00</td>\n",
       "      <td>NaN</td>\n",
       "      <td>NaN</td>\n",
       "      <td>NaN</td>\n",
       "      <td>1.0</td>\n",
       "      <td>TYPE-B</td>\n",
       "      <td>53</td>\n",
       "      <td>0</td>\n",
       "      <td>ANNUAL</td>\n",
       "      <td>744188</td>\n",
       "      <td>0</td>\n",
       "      <td>20100115</td>\n",
       "      <td>NaN</td>\n",
       "    </tr>\n",
       "  </tbody>\n",
       "</table>\n",
       "<p>2558 rows × 15 columns</p>\n",
       "</div>"
      ],
      "text/plain": [
       "        id  MEMBERSHIP_TERM_YEARS  ANNUAL_FEES MEMBER_MARITAL_STATUS  \\\n",
       "3        3                     17    147576.48                     M   \n",
       "5        5                     27    100001.00                   NaN   \n",
       "11      11                     17    100000.06                     M   \n",
       "15      15                     36    100000.00                     S   \n",
       "19      19                     21    101000.00                     W   \n",
       "...    ...                    ...          ...                   ...   \n",
       "8786  8786                     22    120000.96                     M   \n",
       "8793  8793                      9    120000.96                     M   \n",
       "8797  8797                     22    119999.88                     M   \n",
       "8800  8800                     31    120000.96                     W   \n",
       "8802  8802                     17    100000.00                   NaN   \n",
       "\n",
       "     MEMBER_GENDER  MEMBER_ANNUAL_INCOME  MEMBER_OCCUPATION_CD  \\\n",
       "3                F              450000.0                   1.0   \n",
       "5              NaN                   NaN                   1.0   \n",
       "11               F              499992.0                   1.0   \n",
       "15               F              300000.0                   1.0   \n",
       "19               F              368004.0                   1.0   \n",
       "...            ...                   ...                   ...   \n",
       "8786             F              249996.0                   1.0   \n",
       "8793             F              249996.0                   1.0   \n",
       "8797             F              380004.0                   5.0   \n",
       "8800             F              300000.0                   1.0   \n",
       "8802           NaN                   NaN                   1.0   \n",
       "\n",
       "     MEMBERSHIP_PACKAGE  MEMBER_AGE_AT_ISSUE  ADDITIONAL_MEMBERS PAYMENT_MODE  \\\n",
       "3                TYPE-A                   47                   3      MONTHLY   \n",
       "5                TYPE-B                   59                   0       ANNUAL   \n",
       "11               TYPE-A                   43                   3       ANNUAL   \n",
       "15               TYPE-B                   58                   0       ANNUAL   \n",
       "19               TYPE-B                   74                   0       ANNUAL   \n",
       "...                 ...                  ...                 ...          ...   \n",
       "8786             TYPE-B                   37                   3      MONTHLY   \n",
       "8793             TYPE-B                   25                   3      MONTHLY   \n",
       "8797             TYPE-B                   46                   3      MONTHLY   \n",
       "8800             TYPE-B                   59                   0      MONTHLY   \n",
       "8802             TYPE-B                   53                   0       ANNUAL   \n",
       "\n",
       "     AGENT_CODE  MEMBERSHIP_STATUS  START_DATE    END_DATE  \n",
       "3        343344                  0    20130331         NaN  \n",
       "5        802744                  1    20100106  20110307.0  \n",
       "11      1268822                  0    20130530         NaN  \n",
       "15       900622                  0    20100831         NaN  \n",
       "19       936822                  0    20100615         NaN  \n",
       "...         ...                ...         ...         ...  \n",
       "8786     809422                  0    20091123         NaN  \n",
       "8793     259355                  0    20090313         NaN  \n",
       "8797     639666                  1    20090331  20090727.0  \n",
       "8800     183611                  1    20100304  20100703.0  \n",
       "8802     744188                  0    20100115         NaN  \n",
       "\n",
       "[2558 rows x 15 columns]"
      ]
     },
     "execution_count": 54,
     "metadata": {},
     "output_type": "execute_result"
    }
   ],
   "source": [
    "df.loc[ df['MEMBER_GENDER'] != \"M\"  ,  : ]"
   ]
  },
  {
   "cell_type": "code",
   "execution_count": 55,
   "id": "8d30564d-e800-4923-a5e8-f6c13b096eb1",
   "metadata": {},
   "outputs": [
    {
     "data": {
      "text/html": [
       "<div>\n",
       "<style scoped>\n",
       "    .dataframe tbody tr th:only-of-type {\n",
       "        vertical-align: middle;\n",
       "    }\n",
       "\n",
       "    .dataframe tbody tr th {\n",
       "        vertical-align: top;\n",
       "    }\n",
       "\n",
       "    .dataframe thead th {\n",
       "        text-align: right;\n",
       "    }\n",
       "</style>\n",
       "<table border=\"1\" class=\"dataframe\">\n",
       "  <thead>\n",
       "    <tr style=\"text-align: right;\">\n",
       "      <th></th>\n",
       "      <th>id</th>\n",
       "      <th>MEMBERSHIP_TERM_YEARS</th>\n",
       "      <th>ANNUAL_FEES</th>\n",
       "      <th>MEMBER_MARITAL_STATUS</th>\n",
       "      <th>MEMBER_GENDER</th>\n",
       "      <th>MEMBER_ANNUAL_INCOME</th>\n",
       "      <th>MEMBER_OCCUPATION_CD</th>\n",
       "      <th>MEMBERSHIP_PACKAGE</th>\n",
       "      <th>MEMBER_AGE_AT_ISSUE</th>\n",
       "      <th>ADDITIONAL_MEMBERS</th>\n",
       "      <th>PAYMENT_MODE</th>\n",
       "      <th>AGENT_CODE</th>\n",
       "      <th>MEMBERSHIP_STATUS</th>\n",
       "      <th>START_DATE</th>\n",
       "      <th>END_DATE</th>\n",
       "    </tr>\n",
       "  </thead>\n",
       "  <tbody>\n",
       "    <tr>\n",
       "      <th>1</th>\n",
       "      <td>1</td>\n",
       "      <td>88</td>\n",
       "      <td>149029.58</td>\n",
       "      <td>NaN</td>\n",
       "      <td>M</td>\n",
       "      <td>NaN</td>\n",
       "      <td>6.0</td>\n",
       "      <td>TYPE-A</td>\n",
       "      <td>75</td>\n",
       "      <td>0</td>\n",
       "      <td>ANNUAL</td>\n",
       "      <td>132000</td>\n",
       "      <td>0</td>\n",
       "      <td>20131014</td>\n",
       "      <td>NaN</td>\n",
       "    </tr>\n",
       "    <tr>\n",
       "      <th>5</th>\n",
       "      <td>5</td>\n",
       "      <td>27</td>\n",
       "      <td>100001.00</td>\n",
       "      <td>NaN</td>\n",
       "      <td>NaN</td>\n",
       "      <td>NaN</td>\n",
       "      <td>1.0</td>\n",
       "      <td>TYPE-B</td>\n",
       "      <td>59</td>\n",
       "      <td>0</td>\n",
       "      <td>ANNUAL</td>\n",
       "      <td>802744</td>\n",
       "      <td>1</td>\n",
       "      <td>20100106</td>\n",
       "      <td>20110307.0</td>\n",
       "    </tr>\n",
       "    <tr>\n",
       "      <th>10</th>\n",
       "      <td>10</td>\n",
       "      <td>97</td>\n",
       "      <td>100513.44</td>\n",
       "      <td>NaN</td>\n",
       "      <td>M</td>\n",
       "      <td>NaN</td>\n",
       "      <td>6.0</td>\n",
       "      <td>TYPE-A</td>\n",
       "      <td>60</td>\n",
       "      <td>0</td>\n",
       "      <td>QUARTERLY</td>\n",
       "      <td>1132833</td>\n",
       "      <td>0</td>\n",
       "      <td>20110328</td>\n",
       "      <td>NaN</td>\n",
       "    </tr>\n",
       "    <tr>\n",
       "      <th>12</th>\n",
       "      <td>12</td>\n",
       "      <td>21</td>\n",
       "      <td>120000.96</td>\n",
       "      <td>M</td>\n",
       "      <td>M</td>\n",
       "      <td>300000.0</td>\n",
       "      <td>1.0</td>\n",
       "      <td>TYPE-B</td>\n",
       "      <td>64</td>\n",
       "      <td>2</td>\n",
       "      <td>MONTHLY</td>\n",
       "      <td>639944</td>\n",
       "      <td>1</td>\n",
       "      <td>20090720</td>\n",
       "      <td>20110216.0</td>\n",
       "    </tr>\n",
       "    <tr>\n",
       "      <th>13</th>\n",
       "      <td>13</td>\n",
       "      <td>12</td>\n",
       "      <td>200000.00</td>\n",
       "      <td>NaN</td>\n",
       "      <td>M</td>\n",
       "      <td>NaN</td>\n",
       "      <td>1.0</td>\n",
       "      <td>TYPE-B</td>\n",
       "      <td>59</td>\n",
       "      <td>0</td>\n",
       "      <td>ANNUAL</td>\n",
       "      <td>91799</td>\n",
       "      <td>0</td>\n",
       "      <td>20101029</td>\n",
       "      <td>NaN</td>\n",
       "    </tr>\n",
       "    <tr>\n",
       "      <th>...</th>\n",
       "      <td>...</td>\n",
       "      <td>...</td>\n",
       "      <td>...</td>\n",
       "      <td>...</td>\n",
       "      <td>...</td>\n",
       "      <td>...</td>\n",
       "      <td>...</td>\n",
       "      <td>...</td>\n",
       "      <td>...</td>\n",
       "      <td>...</td>\n",
       "      <td>...</td>\n",
       "      <td>...</td>\n",
       "      <td>...</td>\n",
       "      <td>...</td>\n",
       "      <td>...</td>\n",
       "    </tr>\n",
       "    <tr>\n",
       "      <th>8796</th>\n",
       "      <td>8796</td>\n",
       "      <td>32</td>\n",
       "      <td>200000.00</td>\n",
       "      <td>M</td>\n",
       "      <td>M</td>\n",
       "      <td>249996.0</td>\n",
       "      <td>1.0</td>\n",
       "      <td>TYPE-B</td>\n",
       "      <td>63</td>\n",
       "      <td>3</td>\n",
       "      <td>SEMI-ANNUAL</td>\n",
       "      <td>1101755</td>\n",
       "      <td>1</td>\n",
       "      <td>20100809</td>\n",
       "      <td>20110408.0</td>\n",
       "    </tr>\n",
       "    <tr>\n",
       "      <th>8799</th>\n",
       "      <td>8799</td>\n",
       "      <td>32</td>\n",
       "      <td>200000.00</td>\n",
       "      <td>M</td>\n",
       "      <td>M</td>\n",
       "      <td>1249992.0</td>\n",
       "      <td>1.0</td>\n",
       "      <td>TYPE-A</td>\n",
       "      <td>59</td>\n",
       "      <td>1</td>\n",
       "      <td>ANNUAL</td>\n",
       "      <td>1330944</td>\n",
       "      <td>0</td>\n",
       "      <td>20121218</td>\n",
       "      <td>NaN</td>\n",
       "    </tr>\n",
       "    <tr>\n",
       "      <th>8800</th>\n",
       "      <td>8800</td>\n",
       "      <td>31</td>\n",
       "      <td>120000.96</td>\n",
       "      <td>W</td>\n",
       "      <td>F</td>\n",
       "      <td>300000.0</td>\n",
       "      <td>1.0</td>\n",
       "      <td>TYPE-B</td>\n",
       "      <td>59</td>\n",
       "      <td>0</td>\n",
       "      <td>MONTHLY</td>\n",
       "      <td>183611</td>\n",
       "      <td>1</td>\n",
       "      <td>20100304</td>\n",
       "      <td>20100703.0</td>\n",
       "    </tr>\n",
       "    <tr>\n",
       "      <th>8802</th>\n",
       "      <td>8802</td>\n",
       "      <td>17</td>\n",
       "      <td>100000.00</td>\n",
       "      <td>NaN</td>\n",
       "      <td>NaN</td>\n",
       "      <td>NaN</td>\n",
       "      <td>1.0</td>\n",
       "      <td>TYPE-B</td>\n",
       "      <td>53</td>\n",
       "      <td>0</td>\n",
       "      <td>ANNUAL</td>\n",
       "      <td>744188</td>\n",
       "      <td>0</td>\n",
       "      <td>20100115</td>\n",
       "      <td>NaN</td>\n",
       "    </tr>\n",
       "    <tr>\n",
       "      <th>8804</th>\n",
       "      <td>8804</td>\n",
       "      <td>54</td>\n",
       "      <td>600001.16</td>\n",
       "      <td>M</td>\n",
       "      <td>M</td>\n",
       "      <td>2250000.0</td>\n",
       "      <td>2.0</td>\n",
       "      <td>TYPE-A</td>\n",
       "      <td>51</td>\n",
       "      <td>3</td>\n",
       "      <td>ANNUAL</td>\n",
       "      <td>1347855</td>\n",
       "      <td>0</td>\n",
       "      <td>20130331</td>\n",
       "      <td>NaN</td>\n",
       "    </tr>\n",
       "  </tbody>\n",
       "</table>\n",
       "<p>3388 rows × 15 columns</p>\n",
       "</div>"
      ],
      "text/plain": [
       "        id  MEMBERSHIP_TERM_YEARS  ANNUAL_FEES MEMBER_MARITAL_STATUS  \\\n",
       "1        1                     88    149029.58                   NaN   \n",
       "5        5                     27    100001.00                   NaN   \n",
       "10      10                     97    100513.44                   NaN   \n",
       "12      12                     21    120000.96                     M   \n",
       "13      13                     12    200000.00                   NaN   \n",
       "...    ...                    ...          ...                   ...   \n",
       "8796  8796                     32    200000.00                     M   \n",
       "8799  8799                     32    200000.00                     M   \n",
       "8800  8800                     31    120000.96                     W   \n",
       "8802  8802                     17    100000.00                   NaN   \n",
       "8804  8804                     54    600001.16                     M   \n",
       "\n",
       "     MEMBER_GENDER  MEMBER_ANNUAL_INCOME  MEMBER_OCCUPATION_CD  \\\n",
       "1                M                   NaN                   6.0   \n",
       "5              NaN                   NaN                   1.0   \n",
       "10               M                   NaN                   6.0   \n",
       "12               M              300000.0                   1.0   \n",
       "13               M                   NaN                   1.0   \n",
       "...            ...                   ...                   ...   \n",
       "8796             M              249996.0                   1.0   \n",
       "8799             M             1249992.0                   1.0   \n",
       "8800             F              300000.0                   1.0   \n",
       "8802           NaN                   NaN                   1.0   \n",
       "8804             M             2250000.0                   2.0   \n",
       "\n",
       "     MEMBERSHIP_PACKAGE  MEMBER_AGE_AT_ISSUE  ADDITIONAL_MEMBERS PAYMENT_MODE  \\\n",
       "1                TYPE-A                   75                   0       ANNUAL   \n",
       "5                TYPE-B                   59                   0       ANNUAL   \n",
       "10               TYPE-A                   60                   0    QUARTERLY   \n",
       "12               TYPE-B                   64                   2      MONTHLY   \n",
       "13               TYPE-B                   59                   0       ANNUAL   \n",
       "...                 ...                  ...                 ...          ...   \n",
       "8796             TYPE-B                   63                   3  SEMI-ANNUAL   \n",
       "8799             TYPE-A                   59                   1       ANNUAL   \n",
       "8800             TYPE-B                   59                   0      MONTHLY   \n",
       "8802             TYPE-B                   53                   0       ANNUAL   \n",
       "8804             TYPE-A                   51                   3       ANNUAL   \n",
       "\n",
       "     AGENT_CODE  MEMBERSHIP_STATUS  START_DATE    END_DATE  \n",
       "1        132000                  0    20131014         NaN  \n",
       "5        802744                  1    20100106  20110307.0  \n",
       "10      1132833                  0    20110328         NaN  \n",
       "12       639944                  1    20090720  20110216.0  \n",
       "13        91799                  0    20101029         NaN  \n",
       "...         ...                ...         ...         ...  \n",
       "8796    1101755                  1    20100809  20110408.0  \n",
       "8799    1330944                  0    20121218         NaN  \n",
       "8800     183611                  1    20100304  20100703.0  \n",
       "8802     744188                  0    20100115         NaN  \n",
       "8804    1347855                  0    20130331         NaN  \n",
       "\n",
       "[3388 rows x 15 columns]"
      ]
     },
     "execution_count": 55,
     "metadata": {},
     "output_type": "execute_result"
    }
   ],
   "source": [
    "df.loc[df[\"MEMBER_AGE_AT_ISSUE\"] > 50, :]"
   ]
  },
  {
   "cell_type": "code",
   "execution_count": 56,
   "id": "3737f9f2-624e-4406-a826-d6148135b4b3",
   "metadata": {},
   "outputs": [
    {
     "data": {
      "text/plain": [
       "0       False\n",
       "1        True\n",
       "2       False\n",
       "3       False\n",
       "4       False\n",
       "        ...  \n",
       "8802    False\n",
       "8803    False\n",
       "8804     True\n",
       "8805    False\n",
       "8806    False\n",
       "Length: 8807, dtype: bool"
      ]
     },
     "execution_count": 56,
     "metadata": {},
     "output_type": "execute_result"
    }
   ],
   "source": [
    "# AND 연산\n",
    "(df['MEMBER_GENDER'] == \"M\") & (df[\"MEMBER_AGE_AT_ISSUE\"] > 50) "
   ]
  },
  {
   "cell_type": "code",
   "execution_count": 57,
   "id": "f4ea9005-a640-4884-a3a3-f9abd372ea15",
   "metadata": {},
   "outputs": [
    {
     "data": {
      "text/plain": [
       "0        True\n",
       "1        True\n",
       "2        True\n",
       "3       False\n",
       "4        True\n",
       "        ...  \n",
       "8802     True\n",
       "8803     True\n",
       "8804     True\n",
       "8805     True\n",
       "8806     True\n",
       "Length: 8807, dtype: bool"
      ]
     },
     "execution_count": 57,
     "metadata": {},
     "output_type": "execute_result"
    }
   ],
   "source": [
    "# OR 연산\n",
    "(df['MEMBER_GENDER'] == \"M\") | (df[\"MEMBER_AGE_AT_ISSUE\"] > 50) "
   ]
  },
  {
   "cell_type": "code",
   "execution_count": 58,
   "id": "72345c7b-0aa5-43a8-a99c-3e73a7d90aa1",
   "metadata": {},
   "outputs": [
    {
     "data": {
      "text/html": [
       "<div>\n",
       "<style scoped>\n",
       "    .dataframe tbody tr th:only-of-type {\n",
       "        vertical-align: middle;\n",
       "    }\n",
       "\n",
       "    .dataframe tbody tr th {\n",
       "        vertical-align: top;\n",
       "    }\n",
       "\n",
       "    .dataframe thead th {\n",
       "        text-align: right;\n",
       "    }\n",
       "</style>\n",
       "<table border=\"1\" class=\"dataframe\">\n",
       "  <thead>\n",
       "    <tr style=\"text-align: right;\">\n",
       "      <th></th>\n",
       "      <th>id</th>\n",
       "      <th>MEMBERSHIP_TERM_YEARS</th>\n",
       "      <th>ANNUAL_FEES</th>\n",
       "      <th>MEMBER_MARITAL_STATUS</th>\n",
       "      <th>MEMBER_GENDER</th>\n",
       "      <th>MEMBER_ANNUAL_INCOME</th>\n",
       "      <th>MEMBER_OCCUPATION_CD</th>\n",
       "      <th>MEMBERSHIP_PACKAGE</th>\n",
       "      <th>MEMBER_AGE_AT_ISSUE</th>\n",
       "      <th>ADDITIONAL_MEMBERS</th>\n",
       "      <th>PAYMENT_MODE</th>\n",
       "      <th>AGENT_CODE</th>\n",
       "      <th>MEMBERSHIP_STATUS</th>\n",
       "      <th>START_DATE</th>\n",
       "      <th>END_DATE</th>\n",
       "    </tr>\n",
       "  </thead>\n",
       "  <tbody>\n",
       "    <tr>\n",
       "      <th>0</th>\n",
       "      <td>0</td>\n",
       "      <td>22</td>\n",
       "      <td>100000.00</td>\n",
       "      <td>M</td>\n",
       "      <td>M</td>\n",
       "      <td>450000.0</td>\n",
       "      <td>1.0</td>\n",
       "      <td>TYPE-B</td>\n",
       "      <td>27</td>\n",
       "      <td>1</td>\n",
       "      <td>ANNUAL</td>\n",
       "      <td>666099</td>\n",
       "      <td>0</td>\n",
       "      <td>20091029</td>\n",
       "      <td>NaN</td>\n",
       "    </tr>\n",
       "    <tr>\n",
       "      <th>1</th>\n",
       "      <td>1</td>\n",
       "      <td>88</td>\n",
       "      <td>149029.58</td>\n",
       "      <td>NaN</td>\n",
       "      <td>M</td>\n",
       "      <td>NaN</td>\n",
       "      <td>6.0</td>\n",
       "      <td>TYPE-A</td>\n",
       "      <td>75</td>\n",
       "      <td>0</td>\n",
       "      <td>ANNUAL</td>\n",
       "      <td>132000</td>\n",
       "      <td>0</td>\n",
       "      <td>20131014</td>\n",
       "      <td>NaN</td>\n",
       "    </tr>\n",
       "    <tr>\n",
       "      <th>2</th>\n",
       "      <td>2</td>\n",
       "      <td>93</td>\n",
       "      <td>102999.94</td>\n",
       "      <td>NaN</td>\n",
       "      <td>M</td>\n",
       "      <td>600000.0</td>\n",
       "      <td>1.0</td>\n",
       "      <td>TYPE-A</td>\n",
       "      <td>49</td>\n",
       "      <td>0</td>\n",
       "      <td>ANNUAL</td>\n",
       "      <td>1407177</td>\n",
       "      <td>0</td>\n",
       "      <td>20130531</td>\n",
       "      <td>NaN</td>\n",
       "    </tr>\n",
       "    <tr>\n",
       "      <th>4</th>\n",
       "      <td>4</td>\n",
       "      <td>39</td>\n",
       "      <td>100000.00</td>\n",
       "      <td>M</td>\n",
       "      <td>M</td>\n",
       "      <td>600000.0</td>\n",
       "      <td>1.0</td>\n",
       "      <td>TYPE-B</td>\n",
       "      <td>36</td>\n",
       "      <td>3</td>\n",
       "      <td>ANNUAL</td>\n",
       "      <td>119199</td>\n",
       "      <td>0</td>\n",
       "      <td>20080313</td>\n",
       "      <td>NaN</td>\n",
       "    </tr>\n",
       "    <tr>\n",
       "      <th>5</th>\n",
       "      <td>5</td>\n",
       "      <td>27</td>\n",
       "      <td>100001.00</td>\n",
       "      <td>NaN</td>\n",
       "      <td>NaN</td>\n",
       "      <td>NaN</td>\n",
       "      <td>1.0</td>\n",
       "      <td>TYPE-B</td>\n",
       "      <td>59</td>\n",
       "      <td>0</td>\n",
       "      <td>ANNUAL</td>\n",
       "      <td>802744</td>\n",
       "      <td>1</td>\n",
       "      <td>20100106</td>\n",
       "      <td>20110307.0</td>\n",
       "    </tr>\n",
       "    <tr>\n",
       "      <th>...</th>\n",
       "      <td>...</td>\n",
       "      <td>...</td>\n",
       "      <td>...</td>\n",
       "      <td>...</td>\n",
       "      <td>...</td>\n",
       "      <td>...</td>\n",
       "      <td>...</td>\n",
       "      <td>...</td>\n",
       "      <td>...</td>\n",
       "      <td>...</td>\n",
       "      <td>...</td>\n",
       "      <td>...</td>\n",
       "      <td>...</td>\n",
       "      <td>...</td>\n",
       "      <td>...</td>\n",
       "    </tr>\n",
       "    <tr>\n",
       "      <th>8802</th>\n",
       "      <td>8802</td>\n",
       "      <td>17</td>\n",
       "      <td>100000.00</td>\n",
       "      <td>NaN</td>\n",
       "      <td>NaN</td>\n",
       "      <td>NaN</td>\n",
       "      <td>1.0</td>\n",
       "      <td>TYPE-B</td>\n",
       "      <td>53</td>\n",
       "      <td>0</td>\n",
       "      <td>ANNUAL</td>\n",
       "      <td>744188</td>\n",
       "      <td>0</td>\n",
       "      <td>20100115</td>\n",
       "      <td>NaN</td>\n",
       "    </tr>\n",
       "    <tr>\n",
       "      <th>8803</th>\n",
       "      <td>8803</td>\n",
       "      <td>49</td>\n",
       "      <td>100000.00</td>\n",
       "      <td>M</td>\n",
       "      <td>M</td>\n",
       "      <td>399996.0</td>\n",
       "      <td>1.0</td>\n",
       "      <td>TYPE-B</td>\n",
       "      <td>46</td>\n",
       "      <td>1</td>\n",
       "      <td>ANNUAL</td>\n",
       "      <td>841477</td>\n",
       "      <td>0</td>\n",
       "      <td>20100208</td>\n",
       "      <td>NaN</td>\n",
       "    </tr>\n",
       "    <tr>\n",
       "      <th>8804</th>\n",
       "      <td>8804</td>\n",
       "      <td>54</td>\n",
       "      <td>600001.16</td>\n",
       "      <td>M</td>\n",
       "      <td>M</td>\n",
       "      <td>2250000.0</td>\n",
       "      <td>2.0</td>\n",
       "      <td>TYPE-A</td>\n",
       "      <td>51</td>\n",
       "      <td>3</td>\n",
       "      <td>ANNUAL</td>\n",
       "      <td>1347855</td>\n",
       "      <td>0</td>\n",
       "      <td>20130331</td>\n",
       "      <td>NaN</td>\n",
       "    </tr>\n",
       "    <tr>\n",
       "      <th>8805</th>\n",
       "      <td>8805</td>\n",
       "      <td>27</td>\n",
       "      <td>100000.00</td>\n",
       "      <td>M</td>\n",
       "      <td>M</td>\n",
       "      <td>600000.0</td>\n",
       "      <td>1.0</td>\n",
       "      <td>TYPE-B</td>\n",
       "      <td>27</td>\n",
       "      <td>2</td>\n",
       "      <td>ANNUAL</td>\n",
       "      <td>798833</td>\n",
       "      <td>0</td>\n",
       "      <td>20100127</td>\n",
       "      <td>NaN</td>\n",
       "    </tr>\n",
       "    <tr>\n",
       "      <th>8806</th>\n",
       "      <td>8806</td>\n",
       "      <td>12</td>\n",
       "      <td>100000.80</td>\n",
       "      <td>M</td>\n",
       "      <td>M</td>\n",
       "      <td>2000004.0</td>\n",
       "      <td>1.0</td>\n",
       "      <td>TYPE-B</td>\n",
       "      <td>41</td>\n",
       "      <td>1</td>\n",
       "      <td>MONTHLY</td>\n",
       "      <td>664844</td>\n",
       "      <td>0</td>\n",
       "      <td>20100827</td>\n",
       "      <td>NaN</td>\n",
       "    </tr>\n",
       "  </tbody>\n",
       "</table>\n",
       "<p>7362 rows × 15 columns</p>\n",
       "</div>"
      ],
      "text/plain": [
       "        id  MEMBERSHIP_TERM_YEARS  ANNUAL_FEES MEMBER_MARITAL_STATUS  \\\n",
       "0        0                     22    100000.00                     M   \n",
       "1        1                     88    149029.58                   NaN   \n",
       "2        2                     93    102999.94                   NaN   \n",
       "4        4                     39    100000.00                     M   \n",
       "5        5                     27    100001.00                   NaN   \n",
       "...    ...                    ...          ...                   ...   \n",
       "8802  8802                     17    100000.00                   NaN   \n",
       "8803  8803                     49    100000.00                     M   \n",
       "8804  8804                     54    600001.16                     M   \n",
       "8805  8805                     27    100000.00                     M   \n",
       "8806  8806                     12    100000.80                     M   \n",
       "\n",
       "     MEMBER_GENDER  MEMBER_ANNUAL_INCOME  MEMBER_OCCUPATION_CD  \\\n",
       "0                M              450000.0                   1.0   \n",
       "1                M                   NaN                   6.0   \n",
       "2                M              600000.0                   1.0   \n",
       "4                M              600000.0                   1.0   \n",
       "5              NaN                   NaN                   1.0   \n",
       "...            ...                   ...                   ...   \n",
       "8802           NaN                   NaN                   1.0   \n",
       "8803             M              399996.0                   1.0   \n",
       "8804             M             2250000.0                   2.0   \n",
       "8805             M              600000.0                   1.0   \n",
       "8806             M             2000004.0                   1.0   \n",
       "\n",
       "     MEMBERSHIP_PACKAGE  MEMBER_AGE_AT_ISSUE  ADDITIONAL_MEMBERS PAYMENT_MODE  \\\n",
       "0                TYPE-B                   27                   1       ANNUAL   \n",
       "1                TYPE-A                   75                   0       ANNUAL   \n",
       "2                TYPE-A                   49                   0       ANNUAL   \n",
       "4                TYPE-B                   36                   3       ANNUAL   \n",
       "5                TYPE-B                   59                   0       ANNUAL   \n",
       "...                 ...                  ...                 ...          ...   \n",
       "8802             TYPE-B                   53                   0       ANNUAL   \n",
       "8803             TYPE-B                   46                   1       ANNUAL   \n",
       "8804             TYPE-A                   51                   3       ANNUAL   \n",
       "8805             TYPE-B                   27                   2       ANNUAL   \n",
       "8806             TYPE-B                   41                   1      MONTHLY   \n",
       "\n",
       "     AGENT_CODE  MEMBERSHIP_STATUS  START_DATE    END_DATE  \n",
       "0        666099                  0    20091029         NaN  \n",
       "1        132000                  0    20131014         NaN  \n",
       "2       1407177                  0    20130531         NaN  \n",
       "4        119199                  0    20080313         NaN  \n",
       "5        802744                  1    20100106  20110307.0  \n",
       "...         ...                ...         ...         ...  \n",
       "8802     744188                  0    20100115         NaN  \n",
       "8803     841477                  0    20100208         NaN  \n",
       "8804    1347855                  0    20130331         NaN  \n",
       "8805     798833                  0    20100127         NaN  \n",
       "8806     664844                  0    20100827         NaN  \n",
       "\n",
       "[7362 rows x 15 columns]"
      ]
     },
     "execution_count": 58,
     "metadata": {},
     "output_type": "execute_result"
    }
   ],
   "source": [
    "df.loc[(df['MEMBER_GENDER'] == \"M\") | (df[\"MEMBER_AGE_AT_ISSUE\"] > 50) , :]"
   ]
  },
  {
   "cell_type": "markdown",
   "id": "1e5056b4-448c-4f1d-8fe1-47a1697f6011",
   "metadata": {},
   "source": [
    "## Quiz  \n",
    "데이터프레임에서, 20대 기혼인 고객 데이터를 추출합니다.  \n",
    "reset_index 명령을 사용하여 행 인덱스를 초기화하고, 새로운 데이터프레임의 크기(행, 열)를 출력합니다.  "
   ]
  },
  {
   "cell_type": "code",
   "execution_count": 59,
   "id": "db489872-a5b4-4245-a955-d1f23873ec91",
   "metadata": {},
   "outputs": [
    {
     "data": {
      "text/html": [
       "<div>\n",
       "<style scoped>\n",
       "    .dataframe tbody tr th:only-of-type {\n",
       "        vertical-align: middle;\n",
       "    }\n",
       "\n",
       "    .dataframe tbody tr th {\n",
       "        vertical-align: top;\n",
       "    }\n",
       "\n",
       "    .dataframe thead th {\n",
       "        text-align: right;\n",
       "    }\n",
       "</style>\n",
       "<table border=\"1\" class=\"dataframe\">\n",
       "  <thead>\n",
       "    <tr style=\"text-align: right;\">\n",
       "      <th></th>\n",
       "      <th>id</th>\n",
       "      <th>MEMBERSHIP_TERM_YEARS</th>\n",
       "      <th>ANNUAL_FEES</th>\n",
       "      <th>MEMBER_MARITAL_STATUS</th>\n",
       "      <th>MEMBER_GENDER</th>\n",
       "      <th>MEMBER_ANNUAL_INCOME</th>\n",
       "      <th>MEMBER_OCCUPATION_CD</th>\n",
       "      <th>MEMBERSHIP_PACKAGE</th>\n",
       "      <th>MEMBER_AGE_AT_ISSUE</th>\n",
       "      <th>ADDITIONAL_MEMBERS</th>\n",
       "      <th>PAYMENT_MODE</th>\n",
       "      <th>AGENT_CODE</th>\n",
       "      <th>MEMBERSHIP_STATUS</th>\n",
       "      <th>START_DATE</th>\n",
       "      <th>END_DATE</th>\n",
       "    </tr>\n",
       "  </thead>\n",
       "  <tbody>\n",
       "    <tr>\n",
       "      <th>0</th>\n",
       "      <td>0</td>\n",
       "      <td>22</td>\n",
       "      <td>100000.00</td>\n",
       "      <td>M</td>\n",
       "      <td>M</td>\n",
       "      <td>450000.0</td>\n",
       "      <td>1.0</td>\n",
       "      <td>TYPE-B</td>\n",
       "      <td>27</td>\n",
       "      <td>1</td>\n",
       "      <td>ANNUAL</td>\n",
       "      <td>666099</td>\n",
       "      <td>0</td>\n",
       "      <td>20091029</td>\n",
       "      <td>NaN</td>\n",
       "    </tr>\n",
       "    <tr>\n",
       "      <th>1</th>\n",
       "      <td>1</td>\n",
       "      <td>88</td>\n",
       "      <td>149029.58</td>\n",
       "      <td>NaN</td>\n",
       "      <td>M</td>\n",
       "      <td>NaN</td>\n",
       "      <td>6.0</td>\n",
       "      <td>TYPE-A</td>\n",
       "      <td>75</td>\n",
       "      <td>0</td>\n",
       "      <td>ANNUAL</td>\n",
       "      <td>132000</td>\n",
       "      <td>0</td>\n",
       "      <td>20131014</td>\n",
       "      <td>NaN</td>\n",
       "    </tr>\n",
       "    <tr>\n",
       "      <th>2</th>\n",
       "      <td>2</td>\n",
       "      <td>93</td>\n",
       "      <td>102999.94</td>\n",
       "      <td>NaN</td>\n",
       "      <td>M</td>\n",
       "      <td>600000.0</td>\n",
       "      <td>1.0</td>\n",
       "      <td>TYPE-A</td>\n",
       "      <td>49</td>\n",
       "      <td>0</td>\n",
       "      <td>ANNUAL</td>\n",
       "      <td>1407177</td>\n",
       "      <td>0</td>\n",
       "      <td>20130531</td>\n",
       "      <td>NaN</td>\n",
       "    </tr>\n",
       "  </tbody>\n",
       "</table>\n",
       "</div>"
      ],
      "text/plain": [
       "   id  MEMBERSHIP_TERM_YEARS  ANNUAL_FEES MEMBER_MARITAL_STATUS MEMBER_GENDER  \\\n",
       "0   0                     22    100000.00                     M             M   \n",
       "1   1                     88    149029.58                   NaN             M   \n",
       "2   2                     93    102999.94                   NaN             M   \n",
       "\n",
       "   MEMBER_ANNUAL_INCOME  MEMBER_OCCUPATION_CD MEMBERSHIP_PACKAGE  \\\n",
       "0              450000.0                   1.0             TYPE-B   \n",
       "1                   NaN                   6.0             TYPE-A   \n",
       "2              600000.0                   1.0             TYPE-A   \n",
       "\n",
       "   MEMBER_AGE_AT_ISSUE  ADDITIONAL_MEMBERS PAYMENT_MODE AGENT_CODE  \\\n",
       "0                   27                   1       ANNUAL     666099   \n",
       "1                   75                   0       ANNUAL     132000   \n",
       "2                   49                   0       ANNUAL    1407177   \n",
       "\n",
       "   MEMBERSHIP_STATUS  START_DATE  END_DATE  \n",
       "0                  0    20091029       NaN  \n",
       "1                  0    20131014       NaN  \n",
       "2                  0    20130531       NaN  "
      ]
     },
     "execution_count": 59,
     "metadata": {},
     "output_type": "execute_result"
    }
   ],
   "source": [
    "df.head(3)"
   ]
  },
  {
   "cell_type": "code",
   "execution_count": null,
   "id": "265ae80d-0c2f-4b28-aa72-c80781b22ab6",
   "metadata": {},
   "outputs": [],
   "source": []
  },
  {
   "cell_type": "markdown",
   "id": "64cc4197-0fad-4572-b273-8d8a698f72d7",
   "metadata": {},
   "source": [
    "### 결측값 제거"
   ]
  },
  {
   "cell_type": "code",
   "execution_count": 60,
   "id": "5841025a-eb1d-482d-a5e1-e590b0a53e78",
   "metadata": {},
   "outputs": [
    {
     "data": {
      "text/plain": [
       "id                          0\n",
       "MEMBERSHIP_TERM_YEARS       0\n",
       "ANNUAL_FEES                 0\n",
       "MEMBER_MARITAL_STATUS    2210\n",
       "MEMBER_GENDER             502\n",
       "MEMBER_ANNUAL_INCOME     1469\n",
       "MEMBER_OCCUPATION_CD       34\n",
       "MEMBERSHIP_PACKAGE          0\n",
       "MEMBER_AGE_AT_ISSUE         0\n",
       "ADDITIONAL_MEMBERS          0\n",
       "PAYMENT_MODE                0\n",
       "AGENT_CODE                  0\n",
       "MEMBERSHIP_STATUS           0\n",
       "START_DATE                  0\n",
       "END_DATE                 6136\n",
       "dtype: int64"
      ]
     },
     "execution_count": 60,
     "metadata": {},
     "output_type": "execute_result"
    }
   ],
   "source": [
    "df.isnull().sum()"
   ]
  },
  {
   "cell_type": "code",
   "execution_count": 61,
   "id": "c2c7e5d4-11c5-4394-87d4-29586c5cd1a0",
   "metadata": {},
   "outputs": [
    {
     "data": {
      "text/html": [
       "<div>\n",
       "<style scoped>\n",
       "    .dataframe tbody tr th:only-of-type {\n",
       "        vertical-align: middle;\n",
       "    }\n",
       "\n",
       "    .dataframe tbody tr th {\n",
       "        vertical-align: top;\n",
       "    }\n",
       "\n",
       "    .dataframe thead th {\n",
       "        text-align: right;\n",
       "    }\n",
       "</style>\n",
       "<table border=\"1\" class=\"dataframe\">\n",
       "  <thead>\n",
       "    <tr style=\"text-align: right;\">\n",
       "      <th></th>\n",
       "      <th>id</th>\n",
       "      <th>MEMBERSHIP_TERM_YEARS</th>\n",
       "      <th>ANNUAL_FEES</th>\n",
       "      <th>MEMBER_MARITAL_STATUS</th>\n",
       "      <th>MEMBER_GENDER</th>\n",
       "      <th>MEMBER_ANNUAL_INCOME</th>\n",
       "      <th>MEMBER_OCCUPATION_CD</th>\n",
       "      <th>MEMBERSHIP_PACKAGE</th>\n",
       "      <th>MEMBER_AGE_AT_ISSUE</th>\n",
       "      <th>ADDITIONAL_MEMBERS</th>\n",
       "      <th>PAYMENT_MODE</th>\n",
       "      <th>AGENT_CODE</th>\n",
       "      <th>MEMBERSHIP_STATUS</th>\n",
       "      <th>START_DATE</th>\n",
       "      <th>END_DATE</th>\n",
       "    </tr>\n",
       "  </thead>\n",
       "  <tbody>\n",
       "    <tr>\n",
       "      <th>9</th>\n",
       "      <td>9</td>\n",
       "      <td>12</td>\n",
       "      <td>300002.40</td>\n",
       "      <td>M</td>\n",
       "      <td>M</td>\n",
       "      <td>349992.0</td>\n",
       "      <td>1.0</td>\n",
       "      <td>TYPE-B</td>\n",
       "      <td>46</td>\n",
       "      <td>2</td>\n",
       "      <td>MONTHLY</td>\n",
       "      <td>1360477</td>\n",
       "      <td>1</td>\n",
       "      <td>20121130</td>\n",
       "      <td>20130329.0</td>\n",
       "    </tr>\n",
       "    <tr>\n",
       "      <th>12</th>\n",
       "      <td>12</td>\n",
       "      <td>21</td>\n",
       "      <td>120000.96</td>\n",
       "      <td>M</td>\n",
       "      <td>M</td>\n",
       "      <td>300000.0</td>\n",
       "      <td>1.0</td>\n",
       "      <td>TYPE-B</td>\n",
       "      <td>64</td>\n",
       "      <td>2</td>\n",
       "      <td>MONTHLY</td>\n",
       "      <td>639944</td>\n",
       "      <td>1</td>\n",
       "      <td>20090720</td>\n",
       "      <td>20110216.0</td>\n",
       "    </tr>\n",
       "    <tr>\n",
       "      <th>24</th>\n",
       "      <td>24</td>\n",
       "      <td>29</td>\n",
       "      <td>100000.00</td>\n",
       "      <td>W</td>\n",
       "      <td>F</td>\n",
       "      <td>300000.0</td>\n",
       "      <td>1.0</td>\n",
       "      <td>TYPE-B</td>\n",
       "      <td>56</td>\n",
       "      <td>0</td>\n",
       "      <td>ANNUAL</td>\n",
       "      <td>225288</td>\n",
       "      <td>1</td>\n",
       "      <td>20080623</td>\n",
       "      <td>20100822.0</td>\n",
       "    </tr>\n",
       "    <tr>\n",
       "      <th>29</th>\n",
       "      <td>29</td>\n",
       "      <td>12</td>\n",
       "      <td>100000.00</td>\n",
       "      <td>M</td>\n",
       "      <td>M</td>\n",
       "      <td>249996.0</td>\n",
       "      <td>1.0</td>\n",
       "      <td>TYPE-B</td>\n",
       "      <td>46</td>\n",
       "      <td>1</td>\n",
       "      <td>SEMI-ANNUAL</td>\n",
       "      <td>66088</td>\n",
       "      <td>1</td>\n",
       "      <td>20080603</td>\n",
       "      <td>20100201.0</td>\n",
       "    </tr>\n",
       "    <tr>\n",
       "      <th>30</th>\n",
       "      <td>30</td>\n",
       "      <td>53</td>\n",
       "      <td>120000.96</td>\n",
       "      <td>S</td>\n",
       "      <td>M</td>\n",
       "      <td>274992.0</td>\n",
       "      <td>1.0</td>\n",
       "      <td>TYPE-B</td>\n",
       "      <td>29</td>\n",
       "      <td>0</td>\n",
       "      <td>MONTHLY</td>\n",
       "      <td>549577</td>\n",
       "      <td>1</td>\n",
       "      <td>20081229</td>\n",
       "      <td>20090428.0</td>\n",
       "    </tr>\n",
       "    <tr>\n",
       "      <th>...</th>\n",
       "      <td>...</td>\n",
       "      <td>...</td>\n",
       "      <td>...</td>\n",
       "      <td>...</td>\n",
       "      <td>...</td>\n",
       "      <td>...</td>\n",
       "      <td>...</td>\n",
       "      <td>...</td>\n",
       "      <td>...</td>\n",
       "      <td>...</td>\n",
       "      <td>...</td>\n",
       "      <td>...</td>\n",
       "      <td>...</td>\n",
       "      <td>...</td>\n",
       "      <td>...</td>\n",
       "    </tr>\n",
       "    <tr>\n",
       "      <th>8790</th>\n",
       "      <td>8790</td>\n",
       "      <td>9</td>\n",
       "      <td>100000.00</td>\n",
       "      <td>M</td>\n",
       "      <td>M</td>\n",
       "      <td>399996.0</td>\n",
       "      <td>1.0</td>\n",
       "      <td>TYPE-B</td>\n",
       "      <td>28</td>\n",
       "      <td>2</td>\n",
       "      <td>ANNUAL</td>\n",
       "      <td>589355</td>\n",
       "      <td>1</td>\n",
       "      <td>20090112</td>\n",
       "      <td>20100311.0</td>\n",
       "    </tr>\n",
       "    <tr>\n",
       "      <th>8796</th>\n",
       "      <td>8796</td>\n",
       "      <td>32</td>\n",
       "      <td>200000.00</td>\n",
       "      <td>M</td>\n",
       "      <td>M</td>\n",
       "      <td>249996.0</td>\n",
       "      <td>1.0</td>\n",
       "      <td>TYPE-B</td>\n",
       "      <td>63</td>\n",
       "      <td>3</td>\n",
       "      <td>SEMI-ANNUAL</td>\n",
       "      <td>1101755</td>\n",
       "      <td>1</td>\n",
       "      <td>20100809</td>\n",
       "      <td>20110408.0</td>\n",
       "    </tr>\n",
       "    <tr>\n",
       "      <th>8797</th>\n",
       "      <td>8797</td>\n",
       "      <td>22</td>\n",
       "      <td>119999.88</td>\n",
       "      <td>M</td>\n",
       "      <td>F</td>\n",
       "      <td>380004.0</td>\n",
       "      <td>5.0</td>\n",
       "      <td>TYPE-B</td>\n",
       "      <td>46</td>\n",
       "      <td>3</td>\n",
       "      <td>MONTHLY</td>\n",
       "      <td>639666</td>\n",
       "      <td>1</td>\n",
       "      <td>20090331</td>\n",
       "      <td>20090727.0</td>\n",
       "    </tr>\n",
       "    <tr>\n",
       "      <th>8800</th>\n",
       "      <td>8800</td>\n",
       "      <td>31</td>\n",
       "      <td>120000.96</td>\n",
       "      <td>W</td>\n",
       "      <td>F</td>\n",
       "      <td>300000.0</td>\n",
       "      <td>1.0</td>\n",
       "      <td>TYPE-B</td>\n",
       "      <td>59</td>\n",
       "      <td>0</td>\n",
       "      <td>MONTHLY</td>\n",
       "      <td>183611</td>\n",
       "      <td>1</td>\n",
       "      <td>20100304</td>\n",
       "      <td>20100703.0</td>\n",
       "    </tr>\n",
       "    <tr>\n",
       "      <th>8801</th>\n",
       "      <td>8801</td>\n",
       "      <td>12</td>\n",
       "      <td>100000.00</td>\n",
       "      <td>M</td>\n",
       "      <td>M</td>\n",
       "      <td>300000.0</td>\n",
       "      <td>2.0</td>\n",
       "      <td>TYPE-B</td>\n",
       "      <td>37</td>\n",
       "      <td>2</td>\n",
       "      <td>ANNUAL</td>\n",
       "      <td>1296622</td>\n",
       "      <td>1</td>\n",
       "      <td>20120806</td>\n",
       "      <td>20130926.0</td>\n",
       "    </tr>\n",
       "  </tbody>\n",
       "</table>\n",
       "<p>1986 rows × 15 columns</p>\n",
       "</div>"
      ],
      "text/plain": [
       "        id  MEMBERSHIP_TERM_YEARS  ANNUAL_FEES MEMBER_MARITAL_STATUS  \\\n",
       "9        9                     12    300002.40                     M   \n",
       "12      12                     21    120000.96                     M   \n",
       "24      24                     29    100000.00                     W   \n",
       "29      29                     12    100000.00                     M   \n",
       "30      30                     53    120000.96                     S   \n",
       "...    ...                    ...          ...                   ...   \n",
       "8790  8790                      9    100000.00                     M   \n",
       "8796  8796                     32    200000.00                     M   \n",
       "8797  8797                     22    119999.88                     M   \n",
       "8800  8800                     31    120000.96                     W   \n",
       "8801  8801                     12    100000.00                     M   \n",
       "\n",
       "     MEMBER_GENDER  MEMBER_ANNUAL_INCOME  MEMBER_OCCUPATION_CD  \\\n",
       "9                M              349992.0                   1.0   \n",
       "12               M              300000.0                   1.0   \n",
       "24               F              300000.0                   1.0   \n",
       "29               M              249996.0                   1.0   \n",
       "30               M              274992.0                   1.0   \n",
       "...            ...                   ...                   ...   \n",
       "8790             M              399996.0                   1.0   \n",
       "8796             M              249996.0                   1.0   \n",
       "8797             F              380004.0                   5.0   \n",
       "8800             F              300000.0                   1.0   \n",
       "8801             M              300000.0                   2.0   \n",
       "\n",
       "     MEMBERSHIP_PACKAGE  MEMBER_AGE_AT_ISSUE  ADDITIONAL_MEMBERS PAYMENT_MODE  \\\n",
       "9                TYPE-B                   46                   2      MONTHLY   \n",
       "12               TYPE-B                   64                   2      MONTHLY   \n",
       "24               TYPE-B                   56                   0       ANNUAL   \n",
       "29               TYPE-B                   46                   1  SEMI-ANNUAL   \n",
       "30               TYPE-B                   29                   0      MONTHLY   \n",
       "...                 ...                  ...                 ...          ...   \n",
       "8790             TYPE-B                   28                   2       ANNUAL   \n",
       "8796             TYPE-B                   63                   3  SEMI-ANNUAL   \n",
       "8797             TYPE-B                   46                   3      MONTHLY   \n",
       "8800             TYPE-B                   59                   0      MONTHLY   \n",
       "8801             TYPE-B                   37                   2       ANNUAL   \n",
       "\n",
       "     AGENT_CODE  MEMBERSHIP_STATUS  START_DATE    END_DATE  \n",
       "9       1360477                  1    20121130  20130329.0  \n",
       "12       639944                  1    20090720  20110216.0  \n",
       "24       225288                  1    20080623  20100822.0  \n",
       "29        66088                  1    20080603  20100201.0  \n",
       "30       549577                  1    20081229  20090428.0  \n",
       "...         ...                ...         ...         ...  \n",
       "8790     589355                  1    20090112  20100311.0  \n",
       "8796    1101755                  1    20100809  20110408.0  \n",
       "8797     639666                  1    20090331  20090727.0  \n",
       "8800     183611                  1    20100304  20100703.0  \n",
       "8801    1296622                  1    20120806  20130926.0  \n",
       "\n",
       "[1986 rows x 15 columns]"
      ]
     },
     "execution_count": 61,
     "metadata": {},
     "output_type": "execute_result"
    }
   ],
   "source": [
    "df.dropna()"
   ]
  },
  {
   "cell_type": "code",
   "execution_count": 62,
   "id": "6c4a1236-a55e-4568-8a24-26c4516b8fea",
   "metadata": {},
   "outputs": [
    {
     "data": {
      "text/plain": [
       "0       M\n",
       "1       M\n",
       "2       M\n",
       "3       F\n",
       "4       M\n",
       "       ..\n",
       "8801    M\n",
       "8803    M\n",
       "8804    M\n",
       "8805    M\n",
       "8806    M\n",
       "Name: MEMBER_GENDER, Length: 8305, dtype: object"
      ]
     },
     "execution_count": 62,
     "metadata": {},
     "output_type": "execute_result"
    }
   ],
   "source": [
    "df['MEMBER_GENDER'].dropna()"
   ]
  },
  {
   "cell_type": "code",
   "execution_count": 63,
   "id": "f42c6bd4-bd15-4d12-8578-05e8ba71e2c4",
   "metadata": {},
   "outputs": [
    {
     "data": {
      "text/plain": [
       "(8305,)"
      ]
     },
     "execution_count": 63,
     "metadata": {},
     "output_type": "execute_result"
    }
   ],
   "source": [
    "df['MEMBER_GENDER'].dropna().shape"
   ]
  },
  {
   "cell_type": "code",
   "execution_count": 64,
   "id": "b20f767a-35ca-4949-be98-f13825fa2b0c",
   "metadata": {},
   "outputs": [
    {
     "data": {
      "text/plain": [
       "(8807,)"
      ]
     },
     "execution_count": 64,
     "metadata": {},
     "output_type": "execute_result"
    }
   ],
   "source": [
    "df['MEMBER_GENDER'].shape"
   ]
  },
  {
   "cell_type": "markdown",
   "id": "117c6b84-b4ed-48b4-aba7-8b7ba4b5bc9a",
   "metadata": {},
   "source": [
    "### 결측값 대체"
   ]
  },
  {
   "cell_type": "code",
   "execution_count": 65,
   "id": "4f83d598-f5c6-4baf-b98e-4185154ba1a5",
   "metadata": {},
   "outputs": [
    {
     "data": {
      "text/plain": [
       "M    6751\n",
       "F    2056\n",
       "Name: MEMBER_GENDER, dtype: int64"
      ]
     },
     "execution_count": 65,
     "metadata": {},
     "output_type": "execute_result"
    }
   ],
   "source": [
    "df_new = df.copy()\n",
    "df_new.loc[df_new[\"MEMBER_GENDER\"].isnull(), \"MEMBER_GENDER\"] = df_new[\"MEMBER_GENDER\"].mode()[0]\n",
    "df_new[\"MEMBER_GENDER\"].value_counts()"
   ]
  },
  {
   "cell_type": "code",
   "execution_count": 66,
   "id": "d06203dd-a8cb-4abf-9e63-f8416a623c9f",
   "metadata": {},
   "outputs": [
    {
     "data": {
      "text/plain": [
       "NaN           1469\n",
       "399996.0       518\n",
       "999996.0       512\n",
       "300000.0       489\n",
       "600000.0       458\n",
       "              ... \n",
       "4407264.0        1\n",
       "308220.0         1\n",
       "236004.0         1\n",
       "259992.0         1\n",
       "15078144.0       1\n",
       "Name: MEMBER_ANNUAL_INCOME, Length: 720, dtype: int64"
      ]
     },
     "execution_count": 66,
     "metadata": {},
     "output_type": "execute_result"
    }
   ],
   "source": [
    "df_new[\"MEMBER_ANNUAL_INCOME\"].value_counts(dropna=False)"
   ]
  },
  {
   "cell_type": "code",
   "execution_count": 67,
   "id": "26c474b3-2a05-4507-836c-6c91f0c27c14",
   "metadata": {},
   "outputs": [
    {
     "data": {
      "text/plain": [
       "1375036.0850367947"
      ]
     },
     "execution_count": 67,
     "metadata": {},
     "output_type": "execute_result"
    }
   ],
   "source": [
    "df_new[\"MEMBER_ANNUAL_INCOME\"].mean()"
   ]
  },
  {
   "cell_type": "code",
   "execution_count": 68,
   "id": "a7664277-28c4-4f72-bdeb-a09894123546",
   "metadata": {},
   "outputs": [
    {
     "data": {
      "text/plain": [
       "0"
      ]
     },
     "execution_count": 68,
     "metadata": {},
     "output_type": "execute_result"
    }
   ],
   "source": [
    "df_new[\"MEMBER_ANNUAL_INCOME\"] = df_new[\"MEMBER_ANNUAL_INCOME\"].fillna(df_new[\"MEMBER_ANNUAL_INCOME\"].mean())\n",
    "df_new[\"MEMBER_ANNUAL_INCOME\"].isnull().sum()"
   ]
  },
  {
   "cell_type": "markdown",
   "id": "d9371d51-6c21-41e6-bc5f-9488501d40d9",
   "metadata": {},
   "source": [
    "## Quiz  \n",
    "df_new 데이터프레임에서, 결측치가 있는 컬럼을 찾아서 적절한 방식으로 처리합니다. END_DATE 변수는 멤버십 종료일을 나타내고, 현재 가입 유지 중인 경우 결측치로 표현됩니다. 현재 시점의 기준일은 2013년 12월 31일로 계산합니다. "
   ]
  },
  {
   "cell_type": "code",
   "execution_count": 69,
   "id": "9486e15c-9ccb-4f06-8f40-323f3c2e9a64",
   "metadata": {},
   "outputs": [
    {
     "data": {
      "text/plain": [
       "id                          0\n",
       "MEMBERSHIP_TERM_YEARS       0\n",
       "ANNUAL_FEES                 0\n",
       "MEMBER_MARITAL_STATUS    2210\n",
       "MEMBER_GENDER               0\n",
       "MEMBER_ANNUAL_INCOME        0\n",
       "MEMBER_OCCUPATION_CD       34\n",
       "MEMBERSHIP_PACKAGE          0\n",
       "MEMBER_AGE_AT_ISSUE         0\n",
       "ADDITIONAL_MEMBERS          0\n",
       "PAYMENT_MODE                0\n",
       "AGENT_CODE                  0\n",
       "MEMBERSHIP_STATUS           0\n",
       "START_DATE                  0\n",
       "END_DATE                 6136\n",
       "dtype: int64"
      ]
     },
     "execution_count": 69,
     "metadata": {},
     "output_type": "execute_result"
    }
   ],
   "source": [
    "df_new.isnull().sum()"
   ]
  },
  {
   "cell_type": "code",
   "execution_count": null,
   "id": "ae81e293-4baf-4e2f-a9d0-23dfe4a97385",
   "metadata": {},
   "outputs": [],
   "source": []
  },
  {
   "cell_type": "code",
   "execution_count": null,
   "id": "11672b44-66ba-4b41-ac02-565841046057",
   "metadata": {},
   "outputs": [],
   "source": []
  },
  {
   "cell_type": "code",
   "execution_count": null,
   "id": "373c915e-260f-43e2-befc-7849f3b8029f",
   "metadata": {},
   "outputs": [],
   "source": []
  },
  {
   "cell_type": "markdown",
   "id": "909c71ea-4820-47e8-b060-a220411dda13",
   "metadata": {},
   "source": [
    "### 이상치 처리"
   ]
  },
  {
   "cell_type": "code",
   "execution_count": 70,
   "id": "2693f728-39a2-4616-bac7-38b9a1ddf256",
   "metadata": {},
   "outputs": [
    {
     "data": {
      "image/png": "[encoded data removed]",
      "text/plain": [
       "<Figure size 432x288 with 1 Axes>"
      ]
     },
     "metadata": {
      "needs_background": "light"
     },
     "output_type": "display_data"
    }
   ],
   "source": [
    "sns.boxplot(x='MEMBERSHIP_TERM_YEARS', data=df, palette='Accent');"
   ]
  },
  {
   "cell_type": "code",
   "execution_count": 71,
   "id": "ebf03337-d989-4c57-b4ab-c18e0ffb1b29",
   "metadata": {},
   "outputs": [
    {
     "data": {
      "text/html": [
       "<div>\n",
       "<style scoped>\n",
       "    .dataframe tbody tr th:only-of-type {\n",
       "        vertical-align: middle;\n",
       "    }\n",
       "\n",
       "    .dataframe tbody tr th {\n",
       "        vertical-align: top;\n",
       "    }\n",
       "\n",
       "    .dataframe thead th {\n",
       "        text-align: right;\n",
       "    }\n",
       "</style>\n",
       "<table border=\"1\" class=\"dataframe\">\n",
       "  <thead>\n",
       "    <tr style=\"text-align: right;\">\n",
       "      <th></th>\n",
       "      <th>id</th>\n",
       "      <th>MEMBERSHIP_TERM_YEARS</th>\n",
       "      <th>ANNUAL_FEES</th>\n",
       "      <th>MEMBER_MARITAL_STATUS</th>\n",
       "      <th>MEMBER_GENDER</th>\n",
       "      <th>MEMBER_ANNUAL_INCOME</th>\n",
       "      <th>MEMBER_OCCUPATION_CD</th>\n",
       "      <th>MEMBERSHIP_PACKAGE</th>\n",
       "      <th>MEMBER_AGE_AT_ISSUE</th>\n",
       "      <th>ADDITIONAL_MEMBERS</th>\n",
       "      <th>PAYMENT_MODE</th>\n",
       "      <th>AGENT_CODE</th>\n",
       "      <th>MEMBERSHIP_STATUS</th>\n",
       "      <th>START_DATE</th>\n",
       "      <th>END_DATE</th>\n",
       "    </tr>\n",
       "  </thead>\n",
       "  <tbody>\n",
       "    <tr>\n",
       "      <th>0</th>\n",
       "      <td>0</td>\n",
       "      <td>22</td>\n",
       "      <td>100000.00</td>\n",
       "      <td>M</td>\n",
       "      <td>M</td>\n",
       "      <td>450000.0</td>\n",
       "      <td>1.0</td>\n",
       "      <td>TYPE-B</td>\n",
       "      <td>27</td>\n",
       "      <td>1</td>\n",
       "      <td>ANNUAL</td>\n",
       "      <td>666099</td>\n",
       "      <td>0</td>\n",
       "      <td>20091029</td>\n",
       "      <td>NaN</td>\n",
       "    </tr>\n",
       "    <tr>\n",
       "      <th>3</th>\n",
       "      <td>3</td>\n",
       "      <td>17</td>\n",
       "      <td>147576.48</td>\n",
       "      <td>M</td>\n",
       "      <td>F</td>\n",
       "      <td>450000.0</td>\n",
       "      <td>1.0</td>\n",
       "      <td>TYPE-A</td>\n",
       "      <td>47</td>\n",
       "      <td>3</td>\n",
       "      <td>MONTHLY</td>\n",
       "      <td>343344</td>\n",
       "      <td>0</td>\n",
       "      <td>20130331</td>\n",
       "      <td>NaN</td>\n",
       "    </tr>\n",
       "    <tr>\n",
       "      <th>4</th>\n",
       "      <td>4</td>\n",
       "      <td>39</td>\n",
       "      <td>100000.00</td>\n",
       "      <td>M</td>\n",
       "      <td>M</td>\n",
       "      <td>600000.0</td>\n",
       "      <td>1.0</td>\n",
       "      <td>TYPE-B</td>\n",
       "      <td>36</td>\n",
       "      <td>3</td>\n",
       "      <td>ANNUAL</td>\n",
       "      <td>119199</td>\n",
       "      <td>0</td>\n",
       "      <td>20080313</td>\n",
       "      <td>NaN</td>\n",
       "    </tr>\n",
       "    <tr>\n",
       "      <th>5</th>\n",
       "      <td>5</td>\n",
       "      <td>27</td>\n",
       "      <td>100001.00</td>\n",
       "      <td>NaN</td>\n",
       "      <td>NaN</td>\n",
       "      <td>NaN</td>\n",
       "      <td>1.0</td>\n",
       "      <td>TYPE-B</td>\n",
       "      <td>59</td>\n",
       "      <td>0</td>\n",
       "      <td>ANNUAL</td>\n",
       "      <td>802744</td>\n",
       "      <td>1</td>\n",
       "      <td>20100106</td>\n",
       "      <td>20110307.0</td>\n",
       "    </tr>\n",
       "    <tr>\n",
       "      <th>6</th>\n",
       "      <td>6</td>\n",
       "      <td>17</td>\n",
       "      <td>103016.16</td>\n",
       "      <td>S</td>\n",
       "      <td>M</td>\n",
       "      <td>999996.0</td>\n",
       "      <td>2.0</td>\n",
       "      <td>TYPE-A</td>\n",
       "      <td>35</td>\n",
       "      <td>0</td>\n",
       "      <td>MONTHLY</td>\n",
       "      <td>348099</td>\n",
       "      <td>0</td>\n",
       "      <td>20130930</td>\n",
       "      <td>NaN</td>\n",
       "    </tr>\n",
       "    <tr>\n",
       "      <th>...</th>\n",
       "      <td>...</td>\n",
       "      <td>...</td>\n",
       "      <td>...</td>\n",
       "      <td>...</td>\n",
       "      <td>...</td>\n",
       "      <td>...</td>\n",
       "      <td>...</td>\n",
       "      <td>...</td>\n",
       "      <td>...</td>\n",
       "      <td>...</td>\n",
       "      <td>...</td>\n",
       "      <td>...</td>\n",
       "      <td>...</td>\n",
       "      <td>...</td>\n",
       "      <td>...</td>\n",
       "    </tr>\n",
       "    <tr>\n",
       "      <th>8802</th>\n",
       "      <td>8802</td>\n",
       "      <td>17</td>\n",
       "      <td>100000.00</td>\n",
       "      <td>NaN</td>\n",
       "      <td>NaN</td>\n",
       "      <td>NaN</td>\n",
       "      <td>1.0</td>\n",
       "      <td>TYPE-B</td>\n",
       "      <td>53</td>\n",
       "      <td>0</td>\n",
       "      <td>ANNUAL</td>\n",
       "      <td>744188</td>\n",
       "      <td>0</td>\n",
       "      <td>20100115</td>\n",
       "      <td>NaN</td>\n",
       "    </tr>\n",
       "    <tr>\n",
       "      <th>8803</th>\n",
       "      <td>8803</td>\n",
       "      <td>49</td>\n",
       "      <td>100000.00</td>\n",
       "      <td>M</td>\n",
       "      <td>M</td>\n",
       "      <td>399996.0</td>\n",
       "      <td>1.0</td>\n",
       "      <td>TYPE-B</td>\n",
       "      <td>46</td>\n",
       "      <td>1</td>\n",
       "      <td>ANNUAL</td>\n",
       "      <td>841477</td>\n",
       "      <td>0</td>\n",
       "      <td>20100208</td>\n",
       "      <td>NaN</td>\n",
       "    </tr>\n",
       "    <tr>\n",
       "      <th>8804</th>\n",
       "      <td>8804</td>\n",
       "      <td>54</td>\n",
       "      <td>600001.16</td>\n",
       "      <td>M</td>\n",
       "      <td>M</td>\n",
       "      <td>2250000.0</td>\n",
       "      <td>2.0</td>\n",
       "      <td>TYPE-A</td>\n",
       "      <td>51</td>\n",
       "      <td>3</td>\n",
       "      <td>ANNUAL</td>\n",
       "      <td>1347855</td>\n",
       "      <td>0</td>\n",
       "      <td>20130331</td>\n",
       "      <td>NaN</td>\n",
       "    </tr>\n",
       "    <tr>\n",
       "      <th>8805</th>\n",
       "      <td>8805</td>\n",
       "      <td>27</td>\n",
       "      <td>100000.00</td>\n",
       "      <td>M</td>\n",
       "      <td>M</td>\n",
       "      <td>600000.0</td>\n",
       "      <td>1.0</td>\n",
       "      <td>TYPE-B</td>\n",
       "      <td>27</td>\n",
       "      <td>2</td>\n",
       "      <td>ANNUAL</td>\n",
       "      <td>798833</td>\n",
       "      <td>0</td>\n",
       "      <td>20100127</td>\n",
       "      <td>NaN</td>\n",
       "    </tr>\n",
       "    <tr>\n",
       "      <th>8806</th>\n",
       "      <td>8806</td>\n",
       "      <td>12</td>\n",
       "      <td>100000.80</td>\n",
       "      <td>M</td>\n",
       "      <td>M</td>\n",
       "      <td>2000004.0</td>\n",
       "      <td>1.0</td>\n",
       "      <td>TYPE-B</td>\n",
       "      <td>41</td>\n",
       "      <td>1</td>\n",
       "      <td>MONTHLY</td>\n",
       "      <td>664844</td>\n",
       "      <td>0</td>\n",
       "      <td>20100827</td>\n",
       "      <td>NaN</td>\n",
       "    </tr>\n",
       "  </tbody>\n",
       "</table>\n",
       "<p>8286 rows × 15 columns</p>\n",
       "</div>"
      ],
      "text/plain": [
       "        id  MEMBERSHIP_TERM_YEARS  ANNUAL_FEES MEMBER_MARITAL_STATUS  \\\n",
       "0        0                     22    100000.00                     M   \n",
       "3        3                     17    147576.48                     M   \n",
       "4        4                     39    100000.00                     M   \n",
       "5        5                     27    100001.00                   NaN   \n",
       "6        6                     17    103016.16                     S   \n",
       "...    ...                    ...          ...                   ...   \n",
       "8802  8802                     17    100000.00                   NaN   \n",
       "8803  8803                     49    100000.00                     M   \n",
       "8804  8804                     54    600001.16                     M   \n",
       "8805  8805                     27    100000.00                     M   \n",
       "8806  8806                     12    100000.80                     M   \n",
       "\n",
       "     MEMBER_GENDER  MEMBER_ANNUAL_INCOME  MEMBER_OCCUPATION_CD  \\\n",
       "0                M              450000.0                   1.0   \n",
       "3                F              450000.0                   1.0   \n",
       "4                M              600000.0                   1.0   \n",
       "5              NaN                   NaN                   1.0   \n",
       "6                M              999996.0                   2.0   \n",
       "...            ...                   ...                   ...   \n",
       "8802           NaN                   NaN                   1.0   \n",
       "8803             M              399996.0                   1.0   \n",
       "8804             M             2250000.0                   2.0   \n",
       "8805             M              600000.0                   1.0   \n",
       "8806             M             2000004.0                   1.0   \n",
       "\n",
       "     MEMBERSHIP_PACKAGE  MEMBER_AGE_AT_ISSUE  ADDITIONAL_MEMBERS PAYMENT_MODE  \\\n",
       "0                TYPE-B                   27                   1       ANNUAL   \n",
       "3                TYPE-A                   47                   3      MONTHLY   \n",
       "4                TYPE-B                   36                   3       ANNUAL   \n",
       "5                TYPE-B                   59                   0       ANNUAL   \n",
       "6                TYPE-A                   35                   0      MONTHLY   \n",
       "...                 ...                  ...                 ...          ...   \n",
       "8802             TYPE-B                   53                   0       ANNUAL   \n",
       "8803             TYPE-B                   46                   1       ANNUAL   \n",
       "8804             TYPE-A                   51                   3       ANNUAL   \n",
       "8805             TYPE-B                   27                   2       ANNUAL   \n",
       "8806             TYPE-B                   41                   1      MONTHLY   \n",
       "\n",
       "     AGENT_CODE  MEMBERSHIP_STATUS  START_DATE    END_DATE  \n",
       "0        666099                  0    20091029         NaN  \n",
       "3        343344                  0    20130331         NaN  \n",
       "4        119199                  0    20080313         NaN  \n",
       "5        802744                  1    20100106  20110307.0  \n",
       "6        348099                  0    20130930         NaN  \n",
       "...         ...                ...         ...         ...  \n",
       "8802     744188                  0    20100115         NaN  \n",
       "8803     841477                  0    20100208         NaN  \n",
       "8804    1347855                  0    20130331         NaN  \n",
       "8805     798833                  0    20100127         NaN  \n",
       "8806     664844                  0    20100827         NaN  \n",
       "\n",
       "[8286 rows x 15 columns]"
      ]
     },
     "execution_count": 71,
     "metadata": {},
     "output_type": "execute_result"
    }
   ],
   "source": [
    "# 80년 이상인 데이터를 삭제\n",
    "df.loc[df['MEMBERSHIP_TERM_YEARS'] < 80, :]"
   ]
  },
  {
   "cell_type": "code",
   "execution_count": null,
   "id": "00967097-94c9-4416-b53e-ba62acfe6158",
   "metadata": {},
   "outputs": [],
   "source": [
    "# 80년 이상에 대해서는 최대값을 80으로 고정\n",
    "# df.loc[df['MEMBERSHIP_TERM_YEARS'] > 80, 'MEMBERSHIP_TERM_YEARS'] = 80"
   ]
  },
  {
   "cell_type": "markdown",
   "id": "bb2ae385-592c-4519-86ff-f5781fb2d656",
   "metadata": {},
   "source": [
    "### 함수 매핑"
   ]
  },
  {
   "cell_type": "code",
   "execution_count": 72,
   "id": "6b2a659b-7a3a-4e1b-9e95-25477973adf7",
   "metadata": {},
   "outputs": [
    {
     "data": {
      "text/plain": [
       "M      5455\n",
       "NaN    2210\n",
       "S       977\n",
       "W       128\n",
       "D        37\n",
       "Name: MEMBER_MARITAL_STATUS, dtype: int64"
      ]
     },
     "execution_count": 72,
     "metadata": {},
     "output_type": "execute_result"
    }
   ],
   "source": [
    "df_new['MEMBER_MARITAL_STATUS'].value_counts(dropna=False)"
   ]
  },
  {
   "cell_type": "code",
   "execution_count": 73,
   "id": "610788a0-ce88-4559-9b43-d17188728b5a",
   "metadata": {},
   "outputs": [
    {
     "data": {
      "text/plain": [
       "0.0    5455\n",
       "NaN    2210\n",
       "1.0     977\n",
       "2.0     128\n",
       "3.0      37\n",
       "Name: MEMBER_MARITAL_STATUS, dtype: int64"
      ]
     },
     "execution_count": 73,
     "metadata": {},
     "output_type": "execute_result"
    }
   ],
   "source": [
    "df_new['MEMBER_MARITAL_STATUS'] = df_new['MEMBER_MARITAL_STATUS'].map({'M':0, 'S':1, 'W':2, 'D':3})\n",
    "df_new['MEMBER_MARITAL_STATUS'].value_counts(dropna=False)"
   ]
  },
  {
   "cell_type": "code",
   "execution_count": 74,
   "id": "661b46f0-4f12-4f7a-9ae0-0caa381513b1",
   "metadata": {},
   "outputs": [
    {
     "data": {
      "text/plain": [
       "0       1\n",
       "1       0\n",
       "2       0\n",
       "3       0\n",
       "4       1\n",
       "       ..\n",
       "8802    1\n",
       "8803    1\n",
       "8804    0\n",
       "8805    1\n",
       "8806    1\n",
       "Name: MEMBERSHIP_PACKAGE, Length: 8807, dtype: int64"
      ]
     },
     "execution_count": 74,
     "metadata": {},
     "output_type": "execute_result"
    }
   ],
   "source": [
    "package_encoding = {'TYPE-A':0, 'TYPE-B':1}\n",
    "\n",
    "# map\n",
    "df_new['MEMBERSHIP_PACKAGE'].map(package_encoding)"
   ]
  },
  {
   "cell_type": "code",
   "execution_count": 75,
   "id": "9e7afb22-4660-4e5c-a36e-72609ab1da97",
   "metadata": {},
   "outputs": [
    {
     "data": {
      "text/plain": [
       "0       1\n",
       "1       0\n",
       "2       0\n",
       "3       0\n",
       "4       1\n",
       "       ..\n",
       "8802    1\n",
       "8803    1\n",
       "8804    0\n",
       "8805    1\n",
       "8806    1\n",
       "Name: MEMBERSHIP_PACKAGE, Length: 8807, dtype: int64"
      ]
     },
     "execution_count": 75,
     "metadata": {},
     "output_type": "execute_result"
    }
   ],
   "source": [
    "# apply - lambda\n",
    "df_new['MEMBERSHIP_PACKAGE'].apply(lambda x: package_encoding[x])"
   ]
  },
  {
   "cell_type": "code",
   "execution_count": 76,
   "id": "9f8c8f99-6460-48f7-86b2-7624a37d0042",
   "metadata": {},
   "outputs": [
    {
     "data": {
      "text/plain": [
       "array([1, 0, 0, ..., 0, 1, 1])"
      ]
     },
     "execution_count": 76,
     "metadata": {},
     "output_type": "execute_result"
    }
   ],
   "source": [
    "# np.where 연산\n",
    "\n",
    "np.where(df_new['MEMBERSHIP_PACKAGE']=='TYPE-A', 0, 1)"
   ]
  },
  {
   "cell_type": "markdown",
   "id": "8c5f269d-0fd5-4b4e-847e-627a56e17b06",
   "metadata": {},
   "source": [
    "## Quiz  \n",
    "MEMBER_AGE_AT_ISSUE 열의 나이를 비식별화 합니다. (20대, 30대, 40대, ...)"
   ]
  },
  {
   "cell_type": "code",
   "execution_count": 77,
   "id": "ec5ffcc6-d4f2-42b5-9644-85f7efa7d32e",
   "metadata": {},
   "outputs": [
    {
     "data": {
      "text/plain": [
       "<AxesSubplot:>"
      ]
     },
     "execution_count": 77,
     "metadata": {},
     "output_type": "execute_result"
    },
    {
     "data": {
      "image/png": "[encoded data removed]",
      "text/plain": [
       "<Figure size 432x288 with 1 Axes>"
      ]
     },
     "metadata": {
      "needs_background": "light"
     },
     "output_type": "display_data"
    }
   ],
   "source": [
    "# 히스토그램 \n",
    "df_new['MEMBER_AGE_AT_ISSUE'].hist()"
   ]
  },
  {
   "cell_type": "code",
   "execution_count": null,
   "id": "49083310-3ff8-418f-a30d-ebd4b780134b",
   "metadata": {},
   "outputs": [],
   "source": []
  },
  {
   "cell_type": "code",
   "execution_count": null,
   "id": "77878ba6-15ac-43bd-8641-f5e3cda51488",
   "metadata": {},
   "outputs": [],
   "source": []
  }
 ],
 "metadata": {
  "kernelspec": {
   "display_name": "bigdata",
   "language": "python",
   "name": "bigdata"
  },
  "language_info": {
   "codemirror_mode": {
    "name": "ipython",
    "version": 3
   },
   "file_extension": ".py",
   "mimetype": "text/x-python",
   "name": "python",
   "nbconvert_exporter": "python",
   "pygments_lexer": "ipython3",
   "version": "3.8.13"
  }
 },
 "nbformat": 4,
 "nbformat_minor": 5
}
