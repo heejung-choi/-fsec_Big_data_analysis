{
 "cells": [
  {
   "cell_type": "markdown",
   "id": "316cd07b-b116-4c71-9d06-15754574b676",
   "metadata": {},
   "source": [
    "# Selenium 라이브러리"
   ]
  },
  {
   "cell_type": "code",
   "execution_count": 1,
   "id": "bbecae46-19e5-490b-9964-58a3bb1049be",
   "metadata": {},
   "outputs": [],
   "source": [
    "from selenium import webdriver"
   ]
  },
  {
   "cell_type": "code",
   "execution_count": 3,
   "id": "d5128167-c7e9-4213-b2a7-e5c5bffc52a3",
   "metadata": {},
   "outputs": [],
   "source": [
    "# 드라이버 실행\n",
    "# 셀레늄이 실행한 페이지는 조작하면 안된다. 개발자 도구 확인이 필요할 경우 별도의 창을 열어서 확인하자.\n",
    "driver = webdriver.Chrome(\"chromedriver\")\n",
    "# 웹이 구동되는데 시간이 필요하기 때문에 중간중간에 시간을 부여하는 것이다.\n",
    "driver.implicitly_wait(5)\n",
    "driver.get(\"https://www.daum.net/\")"
   ]
  },
  {
   "cell_type": "code",
   "execution_count": 6,
   "id": "5b62ab39-109f-4c97-b5ae-56c7f4daf47a",
   "metadata": {},
   "outputs": [],
   "source": [
    "# 드라이버 닫기\n",
    "driver.close()"
   ]
  },
  {
   "cell_type": "code",
   "execution_count": 6,
   "id": "ad546dfa-cb71-4d4e-952c-98900110723b",
   "metadata": {},
   "outputs": [],
   "source": [
    "# # 크롬 옵션\n",
    "# chrome_options = webdriver.ChromeOptions()\n",
    "# chrome_options.add_argument('--headless') # web 안 띄우고\n",
    "# chrome_options.add_argument('--no-sandbox')  # box 안 뒤우고\n",
    "# chrome_options.add_argument('--disable-dev-shm-usage') # shared memory 안 쓰고"
   ]
  },
  {
   "cell_type": "code",
   "execution_count": 7,
   "id": "regional-dominant",
   "metadata": {},
   "outputs": [],
   "source": [
    "# # 드라이버 실행\n",
    "# driver = webdriver.Chrome(\"chromedriver\", options=chrome_options)\n",
    "# driver.implicitly_wait(5)\n",
    "# driver.get(\"https://www.daum.net/\")"
   ]
  },
  {
   "cell_type": "code",
   "execution_count": 7,
   "id": "0cee492c-d8e9-4663-9190-1d74ac192be0",
   "metadata": {},
   "outputs": [],
   "source": [
    "# # 드라이버 닫기\n",
    "# driver.close()"
   ]
  },
  {
   "cell_type": "markdown",
   "id": "c7a61f36-37f1-45b8-bec1-f038bed8d3af",
   "metadata": {},
   "source": [
    "## 스크린샷"
   ]
  },
  {
   "cell_type": "code",
   "execution_count": 23,
   "id": "627ac283-75f9-45d3-b4ad-2ba3b4c1a689",
   "metadata": {},
   "outputs": [
    {
     "data": {
      "text/plain": [
       "True"
      ]
     },
     "execution_count": 23,
     "metadata": {},
     "output_type": "execute_result"
    }
   ],
   "source": [
    "# Daum 사이트 접속\n",
    "driver = webdriver.Chrome(\"chromedriver\")\n",
    "driver.implicitly_wait(5)\n",
    "driver.get(\"https://www.daum.net/\")\n",
    "driver.implicitly_wait(5)\n",
    "\n",
    "# # 스크린샷을 파일로 저장\n",
    "driver.get_screenshot_as_file('daum.png')"
   ]
  },
  {
   "cell_type": "markdown",
   "id": "46a6584c-96c3-4ee7-95c8-5fe36fc7504a",
   "metadata": {},
   "source": [
    "## 요소 선택"
   ]
  },
  {
   "cell_type": "code",
   "execution_count": 9,
   "id": "bb21a273-3185-4246-bf45-c3d674f274b6",
   "metadata": {},
   "outputs": [],
   "source": [
    "from selenium.webdriver.common.by import By"
   ]
  },
  {
   "cell_type": "markdown",
   "id": "faf60363-3b65-43d5-b505-3c6761131476",
   "metadata": {},
   "source": [
    "#### (1) 태그 이름"
   ]
  },
  {
   "cell_type": "code",
   "execution_count": 10,
   "id": "42f571c1-3b12-49e8-9fce-b14889c647a7",
   "metadata": {},
   "outputs": [
    {
     "data": {
      "text/plain": [
       "<selenium.webdriver.remote.webelement.WebElement (session=\"e123adc801750c5341414de00c15643f\", element=\"070766ab-a02a-4bd1-9d2d-8d342f46c406\")>"
      ]
     },
     "execution_count": 10,
     "metadata": {},
     "output_type": "execute_result"
    }
   ],
   "source": [
    "tag = driver.find_element(By.TAG_NAME, 'a')\n",
    "tag"
   ]
  },
  {
   "cell_type": "code",
   "execution_count": 11,
   "id": "90c758ec-7f71-45c1-a930-b6822d6556e3",
   "metadata": {},
   "outputs": [
    {
     "data": {
      "text/plain": [
       "'a'"
      ]
     },
     "execution_count": 11,
     "metadata": {},
     "output_type": "execute_result"
    }
   ],
   "source": [
    "tag.tag_name"
   ]
  },
  {
   "cell_type": "code",
   "execution_count": 12,
   "id": "99f8f682-d687-4af6-9f48-cc831f81911e",
   "metadata": {},
   "outputs": [
    {
     "data": {
      "text/plain": [
       "''"
      ]
     },
     "execution_count": 12,
     "metadata": {},
     "output_type": "execute_result"
    }
   ],
   "source": [
    "tag.text"
   ]
  },
  {
   "cell_type": "code",
   "execution_count": 13,
   "id": "159c7022-a6bd-439e-b170-d88c0045be53",
   "metadata": {},
   "outputs": [
    {
     "data": {
      "text/plain": [
       "566"
      ]
     },
     "execution_count": 13,
     "metadata": {},
     "output_type": "execute_result"
    }
   ],
   "source": [
    "tags = d\n",
    "\n",
    "iver.find_elements(By.TAG_NAME, 'a')\n",
    "len(tags)"
   ]
  },
  {
   "cell_type": "code",
   "execution_count": 21,
   "id": "2c46842e-0f34-4196-880b-5041736ecbea",
   "metadata": {},
   "outputs": [
    {
     "name": "stdout",
     "output_type": "stream",
     "text": [
      "윤태영 전속계약\n",
      "타운하우스분양\n",
      "\n",
      "\n",
      "\n",
      "\n",
      "\n",
      "다음을 시작페이지로\n",
      "카페\n",
      "메일\n",
      "뉴스\n",
      "지도\n",
      "증권\n",
      "쇼핑\n",
      "카카오TV\n",
      "웹툰\n",
      "캘린더\n",
      "브런치\n",
      "사전\n",
      "게임\n",
      "같이가치\n",
      "더보기 ⋁\n",
      "\n",
      "\n",
      "\n",
      "\n",
      "\n",
      "\n",
      "\n",
      "\n"
     ]
    }
   ],
   "source": [
    "for t in tags[20:50]:\n",
    "    print(t.text)"
   ]
  },
  {
   "cell_type": "markdown",
   "id": "18102a63-9ae6-46d1-8442-447300a9ec8d",
   "metadata": {},
   "source": [
    "#### (2) CSS selector"
   ]
  },
  {
   "cell_type": "code",
   "execution_count": 15,
   "id": "2ec8b651-b50a-4985-a6c1-46dde907c261",
   "metadata": {},
   "outputs": [],
   "source": [
    "#inner_login > a.link_login.link_kakaoid"
   ]
  },
  {
   "cell_type": "code",
   "execution_count": 37,
   "id": "04c8e7d4-ffd6-47f0-bd15-cc1831378ac3",
   "metadata": {},
   "outputs": [
    {
     "name": "stdout",
     "output_type": "stream",
     "text": [
      "<selenium.webdriver.remote.webelement.WebElement (session=\"4afba2c0e34619c1c32dc4b94313a4fa\", element=\"04246f0b-939b-46f1-ae9c-d06242b40ddd\")>\n"
     ]
    }
   ],
   "source": [
    "# 로그인 버튼 찾기\n",
    "login = driver.find_element(By.CSS_SELECTOR, 'a.link_login.link_kakaoid')\n",
    "print(login)"
   ]
  },
  {
   "cell_type": "code",
   "execution_count": 29,
   "id": "c908b227-28bc-421f-9016-2a61ed9b64c7",
   "metadata": {},
   "outputs": [
    {
     "name": "stdout",
     "output_type": "stream",
     "text": [
      "카카오계정으로 로그인\n"
     ]
    }
   ],
   "source": [
    "print(login.text)"
   ]
  },
  {
   "cell_type": "code",
   "execution_count": null,
   "id": "0a3337b4-3413-4cae-9aa7-ff9b32fb2626",
   "metadata": {},
   "outputs": [],
   "source": [
    "login.click()"
   ]
  },
  {
   "cell_type": "code",
   "execution_count": 32,
   "id": "e1efd552-83d1-4f4b-8438-9f561d91cc83",
   "metadata": {},
   "outputs": [],
   "source": [
    "# QR코드 이동\n",
    "#qr = driver.find_element(By.CSS_SELECTOR, '#move_to_qr')\n",
    "#qr.click()"
   ]
  },
  {
   "cell_type": "code",
   "execution_count": 33,
   "id": "f651400e-8a0d-446f-9bbd-ccfb1cf91253",
   "metadata": {},
   "outputs": [],
   "source": [
    "# 뒤로 가기 (이전 페이지로 이동)\n",
    "driver.back()"
   ]
  },
  {
   "cell_type": "code",
   "execution_count": 39,
   "id": "ee1abff7-9efd-44b0-8a00-d36697a6ddd9",
   "metadata": {},
   "outputs": [],
   "source": [
    "# 카카오메일 아이디 입력\n",
    "kakao_id = driver.find_element(By.CSS_SELECTOR, '#id_email_2')\n",
    "kakao_id.send_keys('spring@gmail.com')"
   ]
  },
  {
   "cell_type": "markdown",
   "id": "de4dd640-4399-4a6f-855c-453a94279d1e",
   "metadata": {},
   "source": [
    "## [실습 1]"
   ]
  },
  {
   "cell_type": "markdown",
   "id": "d1634f6c-346c-4367-8c82-24d795cc2881",
   "metadata": {},
   "source": [
    "비밀번호 칸에 입력하고, 로그인 버튼을 찾아서 클릭하기"
   ]
  },
  {
   "cell_type": "code",
   "execution_count": 30,
   "id": "b547f5f7-9e5b-451a-ad9e-9a0dc754e9dc",
   "metadata": {},
   "outputs": [],
   "source": []
  },
  {
   "cell_type": "code",
   "execution_count": 31,
   "id": "80d2e237-61a0-4fa9-aec7-d76f55c095ed",
   "metadata": {},
   "outputs": [],
   "source": []
  },
  {
   "cell_type": "markdown",
   "id": "fa0d8da4-6539-4eff-8262-a3f17e499e95",
   "metadata": {},
   "source": [
    "#### (3) X Path selector"
   ]
  },
  {
   "cell_type": "code",
   "execution_count": 32,
   "id": "c140ae5f-2d56-4f5e-b292-dcff87f2a997",
   "metadata": {},
   "outputs": [],
   "source": [
    "# 뒤로 가기 (이전 페이지로 이동)\n",
    "driver.back()"
   ]
  },
  {
   "cell_type": "code",
   "execution_count": 33,
   "id": "bb2d65ff-7f71-4a94-bd70-2fe74c8e1c57",
   "metadata": {},
   "outputs": [],
   "source": [
    "# 뉴스 메뉴 찾기\n",
    "news = driver.find_element(By.XPATH, '//*[@id=\"daumHead\"]/div[2]/div/div[1]/ul/li[3]/a')"
   ]
  },
  {
   "cell_type": "code",
   "execution_count": 34,
   "id": "ab05a862-e327-4390-b7c6-0c39e133ba03",
   "metadata": {},
   "outputs": [
    {
     "name": "stdout",
     "output_type": "stream",
     "text": [
      "뉴스\n"
     ]
    }
   ],
   "source": [
    "print(news.text)"
   ]
  },
  {
   "cell_type": "code",
   "execution_count": 35,
   "id": "c9104868-1063-4e90-9e4c-fc86531b7b64",
   "metadata": {},
   "outputs": [
    {
     "name": "stdout",
     "output_type": "stream",
     "text": [
      "https://news.daum.net/\n"
     ]
    }
   ],
   "source": [
    "print(news.get_attribute(\"href\"))"
   ]
  },
  {
   "cell_type": "markdown",
   "id": "854a0162-9a8a-4eb3-9cf1-f71e6d1237fb",
   "metadata": {},
   "source": [
    "#### (4) ID"
   ]
  },
  {
   "cell_type": "code",
   "execution_count": 40,
   "id": "4569cf09-4f30-4953-96b6-bf40917f275d",
   "metadata": {},
   "outputs": [],
   "source": [
    "inner_login = driver.find_element(By.ID, 'inner_login')"
   ]
  },
  {
   "cell_type": "code",
   "execution_count": 41,
   "id": "be33546c-7b86-4750-9e37-327d4d786147",
   "metadata": {},
   "outputs": [
    {
     "name": "stdout",
     "output_type": "stream",
     "text": [
      "이제 카카오계정으로 Daum을 이용해 주세요\n",
      "카카오계정으로 로그인\n",
      "Daum 아이디로 로그인\n",
      "회원가입\n"
     ]
    }
   ],
   "source": [
    "print(inner_login.text)"
   ]
  },
  {
   "cell_type": "markdown",
   "id": "9afb509e-f4da-49f5-90fe-56c1a6eb03af",
   "metadata": {},
   "source": [
    "## 요소 제어"
   ]
  },
  {
   "cell_type": "markdown",
   "id": "fbbab280-667b-42af-97c1-d2af1f973bfa",
   "metadata": {},
   "source": [
    "#### (1) 검색창 찾기"
   ]
  },
  {
   "cell_type": "code",
   "execution_count": null,
   "id": "cf9260ea-f346-43ac-b755-a32c68c1ee81",
   "metadata": {},
   "outputs": [],
   "source": [
    "#q"
   ]
  },
  {
   "cell_type": "code",
   "execution_count": 49,
   "id": "12e446cb-4366-451b-8f0f-030c7763af88",
   "metadata": {},
   "outputs": [],
   "source": [
    "search_area = driver.find_element(By.ID, 'q')"
   ]
  },
  {
   "cell_type": "code",
   "execution_count": null,
   "id": "95f1e0ff-c0a6-4e97-9996-21a0bdb9cf74",
   "metadata": {},
   "outputs": [],
   "source": [
    "#daumSearch > fieldset > div > div"
   ]
  },
  {
   "cell_type": "code",
   "execution_count": 43,
   "id": "da4751d9-69b0-4fc5-a603-a28718ba7f29",
   "metadata": {},
   "outputs": [
    {
     "data": {
      "text/plain": [
       "''"
      ]
     },
     "execution_count": 43,
     "metadata": {},
     "output_type": "execute_result"
    }
   ],
   "source": [
    "search_area.text"
   ]
  },
  {
   "cell_type": "markdown",
   "id": "2cb7b5b3-db75-4f2b-8e11-5fd8184dd0ae",
   "metadata": {},
   "source": [
    "#### (2) 검색어 입력"
   ]
  },
  {
   "cell_type": "code",
   "execution_count": 50,
   "id": "66f22b0b-2ccf-474f-b8af-b4ab3e8e9d9e",
   "metadata": {},
   "outputs": [
    {
     "data": {
      "text/plain": [
       "<selenium.webdriver.remote.webelement.WebElement (session=\"4afba2c0e34619c1c32dc4b94313a4fa\", element=\"c5d852e3-5ca6-4796-817b-d50a30e4565f\")>"
      ]
     },
     "execution_count": 50,
     "metadata": {},
     "output_type": "execute_result"
    }
   ],
   "source": [
    "search_area"
   ]
  },
  {
   "cell_type": "code",
   "execution_count": 51,
   "id": "6907b557-484a-4e34-8120-a6dec0b04e90",
   "metadata": {},
   "outputs": [],
   "source": [
    "search_kw = \"삼성전자\"\n",
    "search_area.send_keys(search_kw)\n",
    "driver.implicitly_wait(5)"
   ]
  },
  {
   "cell_type": "code",
   "execution_count": 52,
   "id": "6a5c8490-d191-4096-bc1d-3a4ab94b2b0d",
   "metadata": {},
   "outputs": [],
   "source": [
    "from selenium.webdriver.common.keys import Keys\n",
    "search_area.send_keys(Keys.RETURN)"
   ]
  },
  {
   "cell_type": "markdown",
   "id": "9850d061-ae04-4d65-8cda-aa7ca954a854",
   "metadata": {},
   "source": [
    "#### (3) 키보드 버튼 클릭"
   ]
  },
  {
   "cell_type": "code",
   "execution_count": null,
   "id": "efe65cf8-6ac3-46c5-88dc-dbe60f4e7749",
   "metadata": {},
   "outputs": [],
   "source": [
    "#VKIBtn"
   ]
  },
  {
   "cell_type": "code",
   "execution_count": 52,
   "id": "ff797c1c-c9b7-4e91-96d4-d9139b022eed",
   "metadata": {},
   "outputs": [],
   "source": [
    "keyboard_button = driver.find_element(By.CSS_SELECTOR, '#VKIBtn')"
   ]
  },
  {
   "cell_type": "code",
   "execution_count": 54,
   "id": "ebf2a351-0548-4d35-b3bf-ecb6ca5e3788",
   "metadata": {},
   "outputs": [],
   "source": [
    "keyboard_button.click()\n",
    "driver.implicitly_wait(5)"
   ]
  },
  {
   "cell_type": "markdown",
   "id": "5c13fe58-6e8d-4196-94cf-92360c344f91",
   "metadata": {},
   "source": [
    "#### (4) 검색 결과 페이지 읽어오기"
   ]
  },
  {
   "cell_type": "code",
   "execution_count": 9,
   "id": "01297457-108a-46f2-8416-b3ec163cc47d",
   "metadata": {},
   "outputs": [
    {
     "data": {
      "text/plain": [
       "'<html xmlns=\"http://www.w3.org/1999/xhtml\" lang=\"ko\" class=\"win chrome\"><head profile=\"http://a9.com/-/spec/opensearch/1.1/\">\\n<meta http-equiv=\"content-Type\" content=\"text/html;charset=utf-8\">\\n<meta h'"
      ]
     },
     "execution_count": 9,
     "metadata": {},
     "output_type": "execute_result"
    }
   ],
   "source": [
    "html = driver.page_source\n",
    "html[:200]"
   ]
  },
  {
   "cell_type": "code",
   "execution_count": 10,
   "id": "134f21b2-a55a-4fd7-8910-7c5cd25bae00",
   "metadata": {},
   "outputs": [],
   "source": [
    "from bs4 import BeautifulSoup\n",
    "soup = BeautifulSoup(html)"
   ]
  },
  {
   "cell_type": "code",
   "execution_count": 11,
   "id": "5cf9048e-2c3a-472c-8555-ade145608db3",
   "metadata": {},
   "outputs": [
    {
     "data": {
      "text/plain": [
       "61000"
      ]
     },
     "execution_count": 11,
     "metadata": {},
     "output_type": "execute_result"
    }
   ],
   "source": [
    "# 삼성전자 주가\n",
    "int(soup.select('div.wrap_tit > div > span.num_stock')[0].text.replace(\",\", \"\"))"
   ]
  },
  {
   "cell_type": "code",
   "execution_count": null,
   "id": "6e900e36-2ada-40d7-bbf2-ca054b0c5189",
   "metadata": {},
   "outputs": [],
   "source": []
  },
  {
   "cell_type": "markdown",
   "id": "179480bb-01b8-4f2d-9e3e-140c71ac8b2e",
   "metadata": {},
   "source": [
    "## [실습 2] "
   ]
  },
  {
   "cell_type": "markdown",
   "id": "456f7e2f-ebb2-4be4-a304-767a0cfc0de7",
   "metadata": {},
   "source": [
    "삼성전자에 대한 증권정보 가져와서 정리하기"
   ]
  },
  {
   "cell_type": "code",
   "execution_count": null,
   "id": "decbcf41-27cc-43ff-b662-2bdee3ab01f4",
   "metadata": {},
   "outputs": [],
   "source": []
  },
  {
   "cell_type": "code",
   "execution_count": null,
   "id": "79448e82-e232-405d-835e-a3da8db782ec",
   "metadata": {},
   "outputs": [],
   "source": []
  },
  {
   "cell_type": "code",
   "execution_count": null,
   "id": "ed7e9280-34e3-4d2e-ba02-abd099b77fb6",
   "metadata": {},
   "outputs": [],
   "source": []
  }
 ],
 "metadata": {
  "kernelspec": {
   "display_name": "bigdata",
   "language": "python",
   "name": "bigdata"
  },
  "language_info": {
   "codemirror_mode": {
    "name": "ipython",
    "version": 3
   },
   "file_extension": ".py",
   "mimetype": "text/x-python",
   "name": "python",
   "nbconvert_exporter": "python",
   "pygments_lexer": "ipython3",
   "version": "3.8.13"
  }
 },
 "nbformat": 4,
 "nbformat_minor": 5
}
